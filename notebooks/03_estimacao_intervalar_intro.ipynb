{
 "cells": [
  {
   "cell_type": "markdown",
   "metadata": {
    "id": "rZph6tXo37Dq"
   },
   "source": [
    "# Intervalos de Confiança\n",
    "\n",
    "Suponha que estejamos interessados em estudar um parâmetro populacional $\\theta$. Podemos estimar $\\theta$ usando informação de uma amostra aleatória simples. Chamamos o único número que representa o valor mais plausível do parâmetro (baseado nos dados amostrais) de uma estimativa pontual de $\\theta$. Contudo, sabemos que o valor estimado na maior parte das vezes não será exatamente igual ao valor real. Então, seria interessante encontrar um intervalo de confiança que forneça um intervalo de valores plausíveis para o parâmetro baseado nos dados amostrais. Aqui, estudamos a construção de intervalos de confiança para dois parâmetros populacionais importantes, a média $\\mu$ e a proporção $p$. A subárea da Inferência Estatística que lida com esse tipo de problema é conhecida como **Estimação de Intervalos de Confiança**."
   ]
  },
  {
   "cell_type": "markdown",
   "metadata": {
    "id": "UEM76SZ6Fnbl"
   },
   "source": [
    "## Estimativa (pontual)\n",
    "\n",
    "> Uma **estimativa pontual** de um parâmetro desconhecido $\\theta$ é um valor obtido a partir de uma amostra (por meio de uma estatística). Esse é um valor aproximado do parâmetro.\n",
    "\n",
    "* **Exemplo 1 -** Foi feita uma pesquisa junto a uma amostra de tamanho $n = 500$ de uma comunidade acadêmica acerca da criação de um bandejão. Cada entrevistado deveria dar uma de duas respostas possíveis, SIM (i.e., a favor da criação) ou NÃO (não favorável à criação). Deseja-se estimar a *proporção* de pessoas da comunidade como um todo (i.e., da população) que são favoráveis à criação do bandejão. Se 300 pessoas dizem sim, então uma estimativa pontual para a proporção populacional $p$ é o valor da proporção amostral computado naquela amostra: $\\hat{p} =\\frac{300}{500}$ = 60\\%.\n",
    "\n",
    "* **Exemplo 2 -**\n",
    "Em uma amostra grande de medições independentes da altura de índivíduos do sexo feminino daquela comunidade acadêmica, foram computados os valores $\\bar{x} = 161$ cm e $s = 5$ cm. Sendo assim, $\\bar{x} = 161$ é um estimativa pontual do valor (desconhecido) da média de altura na população. \n",
    "\n",
    "Nos exemplos dados, 60\\% e 161 cm são denominadas **estimativas pontuais** para os parâmetros populacionais *proporção favorável ao bandejão* e *altura média da mulheres*, respectivamente. **Repare, outras amostras poderiam levar a valores diferentes dessas estimativas pontuais.** \n",
    "\n",
    "> Em geral, há uma diferença (para mais ou para menos) entre estimativas pontuais computadas conforme os exemplos acima e o valor do parâmetro correspondente. Conhecer apenas o valor da estimativa pontual não permite julgar qual a *magnitude do erro* cometido. **O adequado seria determinar uma faixa de valores dentro da qual o parâmetro poderia ser encontrado com grande probabilidade.**"
   ]
  },
  {
   "cell_type": "markdown",
   "metadata": {
    "id": "WQ4NRmeqVgCs"
   },
   "source": [
    "## Intervalo de Confiança\n",
    "\n",
    "Uma abordagem mais apropriada é construir um *intervalo de confiança* centrado na estimativa pontual computada e dentro do qual espera-se (com algum nível de confiança) encontrar o valor do parâmetro populacional. Por exemplo, no caso do parâmetro relativo à altura, uma informação mais útil seria poder afirmar que *a altura média das mulheres da comunidade acadêmica está entre 1,56cm e 1,67cm, com 95% de confiança*.\n",
    "\n",
    "> Um **intervalo de confiança** (ou **estimativa intervalar**) para um parâmetro populacional $\\theta$ corresponde a um par de números que define um intervalo dentro do qual acredita-se encontrar o parâmetro $\\theta$. \n",
    "\n",
    "No caso em que o estimador é $\\hat{p}$, temos que o intervalo de confiança para $p$ é da forma:\n",
    "$$\n",
    "\\left[\\hat{p}-E, \\hat{p}+E\\right]\n",
    "$$\n",
    "No caso em que o estimador é $\\bar{X}$, temos que o intervalo de confiança para $\\mu$ é da forma:\n",
    "$$\n",
    "\\left[\\bar{x}-E, \\bar{x}+E\\right]\n",
    "$$\n",
    "\n",
    "O valor $E$, que corresponde à metade do comprimento do intervalo, é denominado **erro amostral** ou **margem de erro**. Em geral, dada uma amostra da população, construir um intervalo de confiança para um dado parâmetro populacional $\\theta$ corresponde a determinar $E$.\n",
    "\n",
    "Um intervalo de confiança está sempre associado a um **nível de confiança** (*confidence level*). O valor do nível de confiança corresponde ao quão confiável é a informação de que o parâmetro populacional de interesse se encontre dentro do intervalo computado. \n",
    "\n",
    "> O nível de confiança é a probabilidade de que o procedimento de construção de intervalos de confiança produza um intervalo que contenha o verdadeiro valor do parâmetro populacional.\n",
    "\n",
    "Em geral, o valor do nível de confiança usado em um estudo estatístico é definido pelo projetista antes de iniciar o estudo.\n",
    "\n",
    "Como exemplo, considere que o nível de confiança definido para um experimento foi de 95%. Uma possível interpretação desse valor é a seguinte: se fosse possível construir 100 intervalos de confiança para um determinado parâmetro populacional $\\theta$ (por meio de 100 amostras diferentes), então aproximadamente 95% desses intervalos conteriam o valor de $\\theta$."
   ]
  }
 ],
 "metadata": {
  "colab": {
   "authorship_tag": "ABX9TyPynIfU/GG3quP3217MacBa",
   "collapsed_sections": [
    "95IJipNcKGi0",
    "SltNV4E_C1R_",
    "u9Qh_DkZ62rV",
    "k7P7j0167oO5",
    "PsN27GB9fcUW",
    "wWJK2q6EELXC",
    "G9RvCIWuQyXg",
    "ccT0JdOyHTXk",
    "nRqg66q0t_pf",
    "9e39hyfTuIlG",
    "OxxeKIonuQYF",
    "YgrpVkUlyUFL",
    "qDecT08JEtpy",
    "wXVcOxojyST-",
    "7xS3BcKGzkQG",
    "yP8jhXPMgYtv",
    "tK7vTaLfgeud"
   ],
   "name": "ie02-ic-intro.ipynb",
   "provenance": [
    {
     "file_id": "1TCcZou8JCtCbVL9zf8Hsadmfc2sn1DGu",
     "timestamp": 1628866274551
    }
   ]
  },
  "kernelspec": {
   "display_name": "gcc1625",
   "language": "python",
   "name": "python3"
  },
  "language_info": {
   "codemirror_mode": {
    "name": "ipython",
    "version": 3
   },
   "file_extension": ".py",
   "mimetype": "text/x-python",
   "name": "python",
   "nbconvert_exporter": "python",
   "pygments_lexer": "ipython3",
   "version": "3.12.0"
  }
 },
 "nbformat": 4,
 "nbformat_minor": 0
}
