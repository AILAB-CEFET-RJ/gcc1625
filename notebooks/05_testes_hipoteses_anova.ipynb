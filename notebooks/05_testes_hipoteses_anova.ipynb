{
  "cells": [
    {
      "cell_type": "markdown",
      "metadata": {},
      "source": [
        "# Introdução"
      ]
    },
    {
      "cell_type": "markdown",
      "metadata": {
        "id": "0Qrn-VkRcilU"
      },
      "source": [
        "Já estudamos os testes de hipótese envolvendo duas médias. Nesses testes, verificamos se a diferença entre as duas médias amostrais é significante. Por outro lado, o teste ANOVA é usado para comparar **múltiplas** (três ou mais) médias, e verificar se a diferença entre múltiplas médias amostrais é significante. O teste ANOVA generaliza o teste $t$ para os casos em que há mais do que dois grupos.\n",
        "\n",
        "> O teste ANOVA (Analysis of Variance, ou Análise de Variância) é um procedimento estatístico utilizado para comparar as médias de três ou mais grupos independentes, com o objetivo de determinar se há evidência estatística de que pelo menos uma das médias populacionais difere das demais.\n",
        "\n",
        "\n",
        "O teste ANOVA pode ser usado em situações nas quais, para cada elemento em alguma das amostras disponíveis, há duas variáveis, a *variável independente* e a *variável dependente*.\n",
        "\n",
        "- A variável independente é discreta. Seus valores, denominados *níveis* ou *fatores*, são usados para alocar indíviduos aos grupos. Há um grupo para cada valor dessa variável, e vice-versa.\n",
        "\n",
        "- A variável dependente é contínua.\n",
        "\n",
        "A lista de exemplos a seguir fornece exemplos de perguntas de pesquisa que poderiam ser investigadas por meio da ANOVA.\n",
        "\n",
        "Exemplo 1 - **Há diferença nas horas de sono por noite em função do nível de uso de mídia social.**\n",
        "- Variável independente: *uso de mídia social* com valores em {baixo, médio,  alto}. \n",
        "- Variável dependente: *média de horas de sono por noite*. \n",
        "\n",
        "Exemplo 2 - **Há diferença no preço (por 100ml) de três tipos detergente?**\n",
        "- Variável independente: *marca de detergente* com valores em {Odd, Ypê, Minuano, Finish}. Há diversas observações sobre o preço de detergentes. \n",
        "- Variável dependente: *preço médio do refrigerante*. \n",
        "\n",
        "Exemplo 3 - **Há diferença no rendimento da colheita dependendo do tipo de fertilizante usado no tratamento?**\n",
        "- Variável independente: *tipo de fertilizante* com  valores em {1, 2, 3}. Há observações sobre diversos campos de cultivo, cada um tratado com um tipo de fertilizante. \n",
        "- Variável dependente: *rendimento médio da colheita*. \n"
      ]
    },
    {
      "cell_type": "markdown",
      "metadata": {
        "id": "iTCKwWlBDyPx"
      },
      "source": [
        "# Declaração das hipóteses\n",
        "\n",
        "No teste ANOVA, a hipótese nula ($H_0$) declara que não há diferença estatisticamente significativa entre as médias das populações. Já a hipótese alternativa ($H_a$) declara que há diferença estatisticamente significativa entre as médias de ao menos um par de populações.\n",
        "\n",
        "Formalmente, se existem $k$ amostras, temos que:\n",
        "\n",
        "- $H_0$: $\\mu_1 = \\mu_2 = \\ldots = \\mu_k$\n",
        "- $H_a$: existem índices $i$ e $j$ tais que $\\mu_i \\neq \\mu_j$ ($1 \\leq i, j \\leq k$)\n"
      ]
    },
    {
      "cell_type": "markdown",
      "metadata": {
        "id": "x9o5ZZ3RGZoV"
      },
      "source": [
        "# Distribuição F\n",
        "\n",
        "A estatística de teste da ANOVA segue a **distribuição $F$** ($F$-distribution). O nome dessa distribuição é em homenagem a [Ronald Fisher](https://en.wikipedia.org/wiki/Ronald_Fisher), um dos estatísticos que trabalharam em sua formulação.\n",
        "\n",
        "Quando uma variável aleatória $X$ segue a distribuição $F$, usamos a notação $X \\sim F(d_1, d_2)$. Nessa notação, $d_1$ e $d_2$ são os parâmetros da distribuição.\n",
        "\n",
        "A figura a seguir ([fonte](https://upload.wikimedia.org/wikipedia/commons/thumb/7/74/F-distribution_pdf.svg/1280px-F-distribution_pdf.svg.png)) apresenta gráficos (relativos à função densidade de probabilidade) da distribuição $F$ para diferentes combinações dos parâmetros $d_1$ e $d_2$. Repare que a variável aleatória correspondente assume valores estritamente positivos.\n",
        "\n",
        "![texto do link](https://upload.wikimedia.org/wikipedia/commons/thumb/7/74/F-distribution_pdf.svg/1280px-F-distribution_pdf.svg.png)"
      ]
    },
    {
      "cell_type": "markdown",
      "metadata": {
        "id": "32ccM01FPpFv"
      },
      "source": [
        "# Estatística do teste\n",
        "\n",
        "Já sabemos que a estatística de teste ANOVA segue a distribuição $F$. Vamos denotar essa estatística pela letra $F$. Nesta seção descrevemos de que forma calcular o valor de $F$ para um conjunto de $k$ amostras.\n",
        "\n",
        "A ideia central da ANOVA é particionar a variabilidade total dos dados em duas componentes:\n",
        "- Variação entre os grupos (devido ao fator de interesse)\n",
        "- Variação dentro dos grupos (devido ao erro ou variabilidade aleatória)\n",
        "\n",
        "\n",
        "O cálculo da estatística $F$ utiliza as seguintes informações.\n",
        "\n",
        "- $k$, a quantidade de *grupos* (*tratamentos*)\n",
        "\n",
        "- $\\overline{x}$: a média global (i.e., o valor da média considerando os valores de variável dependente de todas as $k$ amostras)\n",
        "\n",
        "- $n_1, n_2\\ldots, n_k$: os tamanhos de cada grupo (amostra)\n",
        "\n",
        "- $\\overline{x}_1, \\overline{x}_2, \\ldots, \\overline{x}_k$: as médias de cada grupo\n",
        "$$\n",
        "\\overline{x}_i = \\frac{1}{n_i} \\sum_{j=1}^{n_{i}} x_{ij}\n",
        "$$\n",
        "\n",
        "- $s_1^2, s_2^2, \\ldots, s_k^2$: as variâncias de cada grupo\n",
        "$$\n",
        "s_i^2 = \\frac{1}{n_i-1} \\sum_{j=1}^{n_{i}}\\left(x_{ij}-{\\bar{x}}_{i}\\right)^{2}\n",
        "$$\n",
        "\n",
        "- $N = \\sum_{i=1}^{i=k} n_i$\n",
        "\n",
        "De posse dos valores acima, devemos prosseguir computando dois tipos de variância, a intra-grupos e a inter-grupos.\n",
        "\n",
        "A variância inter-grupos (*explained variance*, *between-group variability*) é definida por\n",
        "\n",
        "$$\n",
        "\\frac{1}{k-1}\\sum_{i=1}^{k}n_{i}({\\bar{x}}_{i} - {\\bar {x}})^{2} = \\frac{n_1(\\bar{x}_1 - \\bar{x})^2 + \\cdots + n_k(\\bar{x}_k-\\bar{x})^2}{k-1}\n",
        "$$\n",
        "\n",
        "A variância intra-grupos (*unexplained variance*, *within-group variability*) é definida por\n",
        "\n",
        "$$\n",
        "\\frac{1}{N-k} \\sum_{i=1}^{k}\\sum_{j=1}^{n_{i}}\\left(x_{ij}-{\\bar{x}}_{i}\\right)^{2} = \\frac{(n_1-1)s_1^2 + \\cdots + (n_k-1)s_k^2 }{N-k}\n",
        "$$\n",
        "\n",
        "A estatística $F$ é definida como a razão entre as variâncias inter-grupos e a variância intra-grupos:\n",
        "$$\n",
        "F = \\frac{\\text{variabilidade inter-grupos}}{\\text{variabilidade intra-grupos}}\n",
        "$$\n",
        "\n",
        "A estatística $F$ assume valores grandes quando a variabilidade entre os grupos for grande em relação à variabilidade dentro dos grupos, o que é improvável de acontecer se as médias populacionais de todos os grupos tiverem o mesmo valor. Em outras palavras, a estatística $F$ é definida de forma que seus valores tendem a ser maiores quando a hipótese nula não for verdadeira.\n",
        "\n",
        "Embora a distribuição $F$ esteja definida para valores dos parâmetros tais que $d_1 > 0$ e $d_2 > 0$, no contexto do teste ANOVA esses parâmetros assumem apenas valores inteiros positivos. Mais específicamente, considerando a hipótese nula com sendo verdadeira, para computar valores de probabilidade, usamos os seguintes valores para os dois parâmetros:\n",
        "- $d_1 = k - 1$ (Qtd. de grupos – 1)\n",
        "- $d_2 = N - k$ (Total geral de indivíduos – Qtd. de Grupos)\n",
        "\n",
        "De todo modo, independente dos valores desses parâmetros, o valor computado para a estatística do teste ANOVA também está associado a um valor de probabilidade $p$, conforme ilustra a figura abaixo ([fonte](https://blog.minitab.com/blog/adventures-in-statistics-2/understanding-analysis-of-variance-anova-and-the-f-test)). Essa figura mostra que o valor computado para a estatística foi de $3.3$ e que o valor $p$ correspondente é de aproximadamente $0.03$ (área hachurada em cor marrom). Se o nível de significância tivessa sido definido com $\\alpha=0.05$, aquele valor de $p$ seria suficiente para rejeitar a hipótese nula.\n",
        "\n",
        "![texto do link](https://blog.minitab.com/hubfs/Imported_Blog_Media/f_distribution_probability.png)"
      ]
    },
    {
      "cell_type": "markdown",
      "metadata": {
        "id": "NlJ-JL4EF2Ej"
      },
      "source": [
        "# Procedimento de aplicação\n",
        "\n",
        "A seguir, descrevemos de que forma o teste ANOVA pode ser aplicado. \n",
        "\n",
        "1. Declarar as hipóteses nula e alternativa\n",
        "2. Computar a estatística $F$\n",
        "3. Determinar o valor $p$ associado à estatística\n",
        "4. Interpretar o resultado.\n"
      ]
    },
    {
      "cell_type": "markdown",
      "metadata": {
        "id": "gcEXYldnCx2l"
      },
      "source": [
        "# Condições de aplicabilidade\n",
        "\n",
        "ANOVA pode ser usada apenas se as seguintes condições são verdadeiras:\n",
        "\n",
        "- Todas as amostras devem ter sido produzidas por meio de amostragem aleatória simples;\n",
        "- As populações têm variâncias similares (e.g., não há uma população com variância muito diferente do que outra);\n",
        "- Todas as populações são aproximadamente normalmente distribuídas.\n"
      ]
    },
    {
      "cell_type": "markdown",
      "metadata": {},
      "source": [
        "# Teste de Tukey\n",
        "\n",
        "O **teste de Tukey** — formalmente chamado de **Teste de Comparações Múltiplas de Tukey HSD (Honest Significant Difference)** — é um procedimento **post-hoc** usado após uma ANOVA ter identificado diferenças significativas entre grupos. Seu objetivo é **comparar todas as possíveis combinações de pares de médias** para identificar **quais grupos são estatisticamente diferentes entre si**. Em outras palavras, esse teste determina **quais pares de grupos** têm diferenças significativas entre suas médias, **controlando o erro do Tipo I** (falsos positivos) associado a múltiplas comparações.\n",
        "\n",
        "**Quando usar:**\n",
        "\n",
        "* Quando o teste ANOVA rejeitou a hipótese nula, ou seja, indicou que **existe diferença entre pelo menos dois grupos**.\n",
        "* O teste de Tukey responde **quais** desses grupos diferem entre si.\n",
        "\n",
        "**Funcionamento:**\n",
        "\n",
        "O teste compara a diferença entre todas as médias de pares de grupos, levando em conta a variabilidade dos dados e o número de observações por grupo. Ele calcula a **menor diferença significativa (HSD)** que duas médias devem ter para serem consideradas diferentes com um certo nível de significância $\\alpha$.\n",
        "\n",
        "A fórmula da **estatística de Tukey** para dois grupos $i$ e $j$ é:\n",
        "\n",
        "$$\n",
        "q = \\frac{|\\bar{x}_i - \\bar{x}_j|}{\\sqrt{\\dfrac{MSE}{n}}}\n",
        "$$\n",
        "\n",
        "* $\\bar{x}_i, \\bar{x}_j$: médias dos grupos\n",
        "* $MSE$: erro médio quadrático da ANOVA (dentro dos grupos)\n",
        "* $n$: número de observações por grupo (suposição de tamanhos iguais)\n",
        "* $q$: estatística da distribuição **q de Studentizada** (ou distribuição de Tukey)\n",
        "\n",
        "**Função `pairwise_tukeyhsd`**:\n",
        "\n",
        "A função `pairwise_tukeyhsd()`  do módulo `statsmodels.stats.multicomp` realiza o teste de comparações múltiplas de Tukey (Tukey's HSD – Honest Significant Difference).\n",
        "\n",
        "| group1 | group2 | mean diff | p-adj | lower | upper | reject |\n",
        "| ------ | ------ | --------- | ----- | ----- | ----- | ------ |\n",
        "| A      | B      | 1.87      | 0.154 | -0.44 | 4.18  | False  |\n",
        "| A      | C      | 9.65      | 0.001 | 7.34  | 11.96 | True   |\n",
        "| B      | C      | 7.78      | 0.001 | 5.47  | 10.09 | True   |\n",
        "\n",
        "**Legenda das colunas**:\n",
        "* `mean diff`: diferença entre as médias dos grupos\n",
        "* `p-adj`: valor-p ajustado para comparações múltiplas\n",
        "* `lower`, `upper`: intervalo de confiança da diferença\n",
        "* `reject`: `True` indica que a diferença entre os grupos é **estatisticamente significativa**\n",
        "\n",
        "Características do teste de Tukey:\n",
        "* Controla bem o erro do tipo I em múltiplas comparações.\n",
        "* É considerado **conservador**: evita falsos positivos.\n",
        "* Funciona bem quando os grupos têm **tamanhos iguais ou próximos** e as variâncias são homogêneas."
      ]
    },
    {
      "cell_type": "markdown",
      "metadata": {
        "id": "h_SXxOM6YyA5"
      },
      "source": [
        "# Exemplos\n",
        "\n",
        "Nesta seção, apresentamos exemplos de aplicação do teste ANOVA. Nesses exemplos, considere $\\alpha=0.05$.\n",
        "\n",
        "## Exemplo 1\n",
        "\n",
        "Neste exemplo, vamos usar o conjunto de dados [PlantGrowth](https://vincentarelbundock.github.io/Rdatasets/doc/datasets/PlantGrowth.html). A situação-problema que vamos considerar é descrita abaixo.\n",
        "\n",
        "> Durante o cultivo de uma certa uma plantação, dois tratamentos foram aplicados. Deseja-se investigar a efetividade desses tratamentos no peso médio final dos frutos obtidos na colheita. Além disso, algumas plantas foram selecionadas (também de forma aleatória) para não receber tratamento algum, como forma de controle. Após a colheita, o peso médio do frutos foi calculado. A pergunta de pesquisa é a seguinte: há diferença significativa do ponto de vista estatístico entre os pesos médios da colheita em cada um dos três grupos (primeiro tratamento, segundo tratamento, grupo de controle)?\n",
        "\n",
        "**Solução**\n",
        "\n",
        "Vamos resolver essa situação-problema com base nos princípios do teste ANOVA de uma via, já que queremos comparar as médias de três grupos independentes:\n",
        "- Tratamento 1\n",
        "- Tratamento 2\n",
        "- Controle (sem tratamento)\n",
        "\n",
        "Repare que na situação-problema acima, a variável independente é o tipo de tratamento, com valores trt1, trt2 e ctrl. Há também a variável dependente, peso dos frutos.\n",
        "\n",
        "A célula de código abaixo faz a carga das observações realizadas. As colunas `group` e `weight` correspondem às variáveis independente e dependente, respectivamente."
      ]
    },
    {
      "cell_type": "code",
      "execution_count": 1,
      "metadata": {
        "colab": {
          "base_uri": "https://localhost:8080/",
          "height": 996
        },
        "id": "MgqJoi6Xk559",
        "outputId": "0a598ed5-f640-404b-f0b5-099d5d3247cc"
      },
      "outputs": [
        {
          "name": "stdout",
          "output_type": "stream",
          "text": [
            "(30, 3)\n"
          ]
        },
        {
          "data": {
            "text/html": [
              "<div>\n",
              "<style scoped>\n",
              "    .dataframe tbody tr th:only-of-type {\n",
              "        vertical-align: middle;\n",
              "    }\n",
              "\n",
              "    .dataframe tbody tr th {\n",
              "        vertical-align: top;\n",
              "    }\n",
              "\n",
              "    .dataframe thead th {\n",
              "        text-align: right;\n",
              "    }\n",
              "</style>\n",
              "<table border=\"1\" class=\"dataframe\">\n",
              "  <thead>\n",
              "    <tr style=\"text-align: right;\">\n",
              "      <th></th>\n",
              "      <th>rownames</th>\n",
              "      <th>weight</th>\n",
              "      <th>group</th>\n",
              "    </tr>\n",
              "  </thead>\n",
              "  <tbody>\n",
              "    <tr>\n",
              "      <th>0</th>\n",
              "      <td>1</td>\n",
              "      <td>4.17</td>\n",
              "      <td>ctrl</td>\n",
              "    </tr>\n",
              "    <tr>\n",
              "      <th>1</th>\n",
              "      <td>2</td>\n",
              "      <td>5.58</td>\n",
              "      <td>ctrl</td>\n",
              "    </tr>\n",
              "    <tr>\n",
              "      <th>2</th>\n",
              "      <td>3</td>\n",
              "      <td>5.18</td>\n",
              "      <td>ctrl</td>\n",
              "    </tr>\n",
              "    <tr>\n",
              "      <th>3</th>\n",
              "      <td>4</td>\n",
              "      <td>6.11</td>\n",
              "      <td>ctrl</td>\n",
              "    </tr>\n",
              "    <tr>\n",
              "      <th>4</th>\n",
              "      <td>5</td>\n",
              "      <td>4.50</td>\n",
              "      <td>ctrl</td>\n",
              "    </tr>\n",
              "    <tr>\n",
              "      <th>5</th>\n",
              "      <td>6</td>\n",
              "      <td>4.61</td>\n",
              "      <td>ctrl</td>\n",
              "    </tr>\n",
              "    <tr>\n",
              "      <th>6</th>\n",
              "      <td>7</td>\n",
              "      <td>5.17</td>\n",
              "      <td>ctrl</td>\n",
              "    </tr>\n",
              "    <tr>\n",
              "      <th>7</th>\n",
              "      <td>8</td>\n",
              "      <td>4.53</td>\n",
              "      <td>ctrl</td>\n",
              "    </tr>\n",
              "    <tr>\n",
              "      <th>8</th>\n",
              "      <td>9</td>\n",
              "      <td>5.33</td>\n",
              "      <td>ctrl</td>\n",
              "    </tr>\n",
              "    <tr>\n",
              "      <th>9</th>\n",
              "      <td>10</td>\n",
              "      <td>5.14</td>\n",
              "      <td>ctrl</td>\n",
              "    </tr>\n",
              "    <tr>\n",
              "      <th>10</th>\n",
              "      <td>11</td>\n",
              "      <td>4.81</td>\n",
              "      <td>trt1</td>\n",
              "    </tr>\n",
              "    <tr>\n",
              "      <th>11</th>\n",
              "      <td>12</td>\n",
              "      <td>4.17</td>\n",
              "      <td>trt1</td>\n",
              "    </tr>\n",
              "    <tr>\n",
              "      <th>12</th>\n",
              "      <td>13</td>\n",
              "      <td>4.41</td>\n",
              "      <td>trt1</td>\n",
              "    </tr>\n",
              "    <tr>\n",
              "      <th>13</th>\n",
              "      <td>14</td>\n",
              "      <td>3.59</td>\n",
              "      <td>trt1</td>\n",
              "    </tr>\n",
              "    <tr>\n",
              "      <th>14</th>\n",
              "      <td>15</td>\n",
              "      <td>5.87</td>\n",
              "      <td>trt1</td>\n",
              "    </tr>\n",
              "    <tr>\n",
              "      <th>15</th>\n",
              "      <td>16</td>\n",
              "      <td>3.83</td>\n",
              "      <td>trt1</td>\n",
              "    </tr>\n",
              "    <tr>\n",
              "      <th>16</th>\n",
              "      <td>17</td>\n",
              "      <td>6.03</td>\n",
              "      <td>trt1</td>\n",
              "    </tr>\n",
              "    <tr>\n",
              "      <th>17</th>\n",
              "      <td>18</td>\n",
              "      <td>4.89</td>\n",
              "      <td>trt1</td>\n",
              "    </tr>\n",
              "    <tr>\n",
              "      <th>18</th>\n",
              "      <td>19</td>\n",
              "      <td>4.32</td>\n",
              "      <td>trt1</td>\n",
              "    </tr>\n",
              "    <tr>\n",
              "      <th>19</th>\n",
              "      <td>20</td>\n",
              "      <td>4.69</td>\n",
              "      <td>trt1</td>\n",
              "    </tr>\n",
              "    <tr>\n",
              "      <th>20</th>\n",
              "      <td>21</td>\n",
              "      <td>6.31</td>\n",
              "      <td>trt2</td>\n",
              "    </tr>\n",
              "    <tr>\n",
              "      <th>21</th>\n",
              "      <td>22</td>\n",
              "      <td>5.12</td>\n",
              "      <td>trt2</td>\n",
              "    </tr>\n",
              "    <tr>\n",
              "      <th>22</th>\n",
              "      <td>23</td>\n",
              "      <td>5.54</td>\n",
              "      <td>trt2</td>\n",
              "    </tr>\n",
              "    <tr>\n",
              "      <th>23</th>\n",
              "      <td>24</td>\n",
              "      <td>5.50</td>\n",
              "      <td>trt2</td>\n",
              "    </tr>\n",
              "    <tr>\n",
              "      <th>24</th>\n",
              "      <td>25</td>\n",
              "      <td>5.37</td>\n",
              "      <td>trt2</td>\n",
              "    </tr>\n",
              "    <tr>\n",
              "      <th>25</th>\n",
              "      <td>26</td>\n",
              "      <td>5.29</td>\n",
              "      <td>trt2</td>\n",
              "    </tr>\n",
              "    <tr>\n",
              "      <th>26</th>\n",
              "      <td>27</td>\n",
              "      <td>4.92</td>\n",
              "      <td>trt2</td>\n",
              "    </tr>\n",
              "    <tr>\n",
              "      <th>27</th>\n",
              "      <td>28</td>\n",
              "      <td>6.15</td>\n",
              "      <td>trt2</td>\n",
              "    </tr>\n",
              "    <tr>\n",
              "      <th>28</th>\n",
              "      <td>29</td>\n",
              "      <td>5.80</td>\n",
              "      <td>trt2</td>\n",
              "    </tr>\n",
              "    <tr>\n",
              "      <th>29</th>\n",
              "      <td>30</td>\n",
              "      <td>5.26</td>\n",
              "      <td>trt2</td>\n",
              "    </tr>\n",
              "  </tbody>\n",
              "</table>\n",
              "</div>"
            ],
            "text/plain": [
              "    rownames  weight group\n",
              "0          1    4.17  ctrl\n",
              "1          2    5.58  ctrl\n",
              "2          3    5.18  ctrl\n",
              "3          4    6.11  ctrl\n",
              "4          5    4.50  ctrl\n",
              "5          6    4.61  ctrl\n",
              "6          7    5.17  ctrl\n",
              "7          8    4.53  ctrl\n",
              "8          9    5.33  ctrl\n",
              "9         10    5.14  ctrl\n",
              "10        11    4.81  trt1\n",
              "11        12    4.17  trt1\n",
              "12        13    4.41  trt1\n",
              "13        14    3.59  trt1\n",
              "14        15    5.87  trt1\n",
              "15        16    3.83  trt1\n",
              "16        17    6.03  trt1\n",
              "17        18    4.89  trt1\n",
              "18        19    4.32  trt1\n",
              "19        20    4.69  trt1\n",
              "20        21    6.31  trt2\n",
              "21        22    5.12  trt2\n",
              "22        23    5.54  trt2\n",
              "23        24    5.50  trt2\n",
              "24        25    5.37  trt2\n",
              "25        26    5.29  trt2\n",
              "26        27    4.92  trt2\n",
              "27        28    6.15  trt2\n",
              "28        29    5.80  trt2\n",
              "29        30    5.26  trt2"
            ]
          },
          "execution_count": 1,
          "metadata": {},
          "output_type": "execute_result"
        }
      ],
      "source": [
        "import pandas as pd\n",
        "import numpy as np\n",
        "\n",
        "frutos_df = pd.read_csv('https://vincentarelbundock.github.io/Rdatasets/csv/datasets/PlantGrowth.csv')\n",
        "print(frutos_df.shape)\n",
        "frutos_df.head(30)"
      ]
    },
    {
      "cell_type": "code",
      "execution_count": 2,
      "metadata": {
        "colab": {
          "base_uri": "https://localhost:8080/"
        },
        "id": "nfRNXrhrltze",
        "outputId": "573c6f55-e2a0-4bb9-9a02-cfa568cffd26"
      },
      "outputs": [
        {
          "data": {
            "text/plain": [
              "array(['ctrl', 'trt1', 'trt2'], dtype=object)"
            ]
          },
          "execution_count": 2,
          "metadata": {},
          "output_type": "execute_result"
        }
      ],
      "source": [
        "frutos_df.group.unique()"
      ]
    },
    {
      "cell_type": "code",
      "execution_count": 3,
      "metadata": {
        "colab": {
          "base_uri": "https://localhost:8080/"
        },
        "id": "uaWddRlDmUr3",
        "outputId": "f21d36c8-d150-4a09-ab83-b8cefaa1572b"
      },
      "outputs": [
        {
          "name": "stdout",
          "output_type": "stream",
          "text": [
            "<class 'pandas.core.frame.DataFrame'>\n",
            "RangeIndex: 30 entries, 0 to 29\n",
            "Data columns (total 3 columns):\n",
            " #   Column    Non-Null Count  Dtype  \n",
            "---  ------    --------------  -----  \n",
            " 0   rownames  30 non-null     int64  \n",
            " 1   weight    30 non-null     float64\n",
            " 2   group     30 non-null     object \n",
            "dtypes: float64(1), int64(1), object(1)\n",
            "memory usage: 852.0+ bytes\n"
          ]
        }
      ],
      "source": [
        "frutos_df.info()"
      ]
    },
    {
      "cell_type": "markdown",
      "metadata": {
        "id": "zwhYIpasdQpo"
      },
      "source": [
        "\n",
        "Antes da aplicação do ANOVA, devemos verificar se as condições de aplicabilidade se verificam.\n",
        "\n",
        "A primeira condição de aplicabilidade que vamos verificar diz respeito a igualdade das variâncias das amostras. Há vários teste que podem ser aplicados para realizar essa verificação. Um deles é denominado [teste de Levene](https://en.wikipedia.org/wiki/Levene%27s_test). Esse teste serve para verificar a hipótese nula de que as variâncias de duas ou mais populações são iguais (essa propriedade é conhecida como *homocedasticidade*). Se o valor $p$ resultante do teste de Levene for menor do que algum nível de significância (normalmente 0,05), é improvável que as diferenças obtidas nas variâncias das amostras tenham ocorrido com base na amostragem aleatória de uma população com variâncias iguais. Se esse for o caso, a hipótese nula (que alega que as variâncias são iguais) é rejeitada e conclui-se que existe uma diferença entre as variâncias na população.\n",
        "\n",
        "A célula de código a seguir aplica o [teste de Levene](https://en.wikipedia.org/wiki/Levene%27s_test) para verificar se cada uma das três amostras é aproximadamente normalmente distribuída."
      ]
    },
    {
      "cell_type": "code",
      "execution_count": 4,
      "metadata": {
        "colab": {
          "base_uri": "https://localhost:8080/"
        },
        "id": "FfQ0K85ccgHU",
        "outputId": "05df9b48-bd9f-4544-fe13-4547489903be"
      },
      "outputs": [
        {
          "name": "stdout",
          "output_type": "stream",
          "text": [
            "Levene’s test statistic = 1.237, p-value = 0.306\n"
          ]
        }
      ],
      "source": [
        "import numpy as np\n",
        "from scipy.stats import levene\n",
        "\n",
        "trt1 = frutos_df['weight'][frutos_df.group == 'trt1']\n",
        "trt2 = frutos_df['weight'][frutos_df.group == 'trt2']\n",
        "ctrl = frutos_df['weight'][frutos_df.group == 'ctrl']\n",
        "\n",
        "# Levene's test for homogeneity of variance\n",
        "stat, p = levene(trt1, trt2, ctrl, center = 'mean')\n",
        "print('Levene’s test statistic = %.3f, p-value = %.3f' % (stat, p))"
      ]
    },
    {
      "cell_type": "markdown",
      "metadata": {
        "id": "XD42eqpkeSS9"
      },
      "source": [
        "Pelo valor obtido para $p$ (aproximadamente $0.30$), podemos concluir, no nível de significância de 5% que devemos aceitar a hipótese nula: não há diferença significativa entre as variâncias das três populações.\n",
        "\n",
        "De fato, as variâncias das amostras, apresentadas a seguir, estão na mesma ordem de grandeza."
      ]
    },
    {
      "cell_type": "code",
      "execution_count": 5,
      "metadata": {
        "colab": {
          "base_uri": "https://localhost:8080/"
        },
        "id": "MmPLKNjzmcPT",
        "outputId": "c6986014-6ced-43e2-c35b-dae7da1334a1"
      },
      "outputs": [
        {
          "data": {
            "text/plain": [
              "[0.6299211111111114, 0.19587111111111105, 0.3399955555555556]"
            ]
          },
          "execution_count": 5,
          "metadata": {},
          "output_type": "execute_result"
        }
      ],
      "source": [
        "[np.var(x, ddof=1) for x in [trt1, trt2, ctrl]]"
      ]
    },
    {
      "cell_type": "markdown",
      "metadata": {
        "id": "0zHXn1VFfEt2"
      },
      "source": [
        "Outra condição de aplicabilidade a ser verificada diz respeito à **normalidade**. Mais especificamente, devemos verificar se as amostras usadas são provenientes de populações aproximadamente normais. Para isso, aplicamos a função [scipy.stats.normtest](https://docs.scipy.org/doc/scipy/reference/generated/scipy.stats.normaltest.html). Veja a célula de código abaixo."
      ]
    },
    {
      "cell_type": "code",
      "execution_count": 6,
      "metadata": {
        "colab": {
          "base_uri": "https://localhost:8080/"
        },
        "id": "PiJ7hfkBjmyy",
        "outputId": "2900cd69-290f-44af-bac3-598b9c332639"
      },
      "outputs": [
        {
          "name": "stdout",
          "output_type": "stream",
          "text": [
            "p = 0.616393\n",
            "A hipótese nula pode NÃO ser rejeitada\n",
            "p = 0.602548\n",
            "A hipótese nula pode NÃO ser rejeitada\n",
            "p = 0.88981\n",
            "A hipótese nula pode NÃO ser rejeitada\n"
          ]
        },
        {
          "name": "stderr",
          "output_type": "stream",
          "text": [
            "/home/ebezerra/anaconda3/envs/gcc1625/lib/python3.13/site-packages/scipy/stats/_axis_nan_policy.py:430: UserWarning: `kurtosistest` p-value may be inaccurate with fewer than 20 observations; only n=10 observations were given.\n",
            "  return hypotest_fun_in(*args, **kwds)\n"
          ]
        },
        {
          "data": {
            "text/plain": [
              "[None, None, None]"
            ]
          },
          "execution_count": 6,
          "metadata": {},
          "output_type": "execute_result"
        }
      ],
      "source": [
        "from scipy import stats\n",
        "\n",
        "np.random.seed(28041990)\n",
        "\n",
        "def apply_normaltest(x):\n",
        "  k2, p = stats.normaltest(x)\n",
        "  alpha = .05\n",
        "  print(\"p = {:g}\".format(p))\n",
        "\n",
        "  if p < alpha:  # H_0: x é proveniente de uma distribuição normal\n",
        "    print(\"A hipótese nula pode ser rejeitada\")\n",
        "  else:\n",
        "    print(\"A hipótese nula pode NÃO ser rejeitada\")\n",
        "\n",
        "[apply_normaltest(x) for x in [trt1, trt2, ctrl]]"
      ]
    },
    {
      "cell_type": "markdown",
      "metadata": {
        "id": "_zgefqTnoj4m"
      },
      "source": [
        "Considerando no nível de significância $\\alpha=0.05$, os três valores obtidos para $p$ (todos maiores do que $\\alpha$) nos levam a concluir que a hipótese nula não pode ser rejeitada, i.e., há evidências para concluir que as amostras são provenientes de distribuições aproximadamente normais."
      ]
    },
    {
      "cell_type": "markdown",
      "metadata": {
        "id": "3JfCiEdwfWZk"
      },
      "source": [
        "Após a verificação das condições de aplicabilidade (normalidade das amostras e igualdade da variâncias), podemos finalmente aplicar o ANOVA. Para isso, vamos usar a função [scipy.stats.f_oneway](https://docs.scipy.org/doc/scipy/reference/generated/scipy.stats.f_oneway.html). Essa função encapsula parte do procedimento de aplicação do ANOVA. Para invocar essa função, basta passar cada grupo (amostra) como um array numpy. Essa função retorna o valor da estatística $F$ e o valor de $p$ correspondente."
      ]
    },
    {
      "cell_type": "code",
      "execution_count": 7,
      "metadata": {
        "colab": {
          "base_uri": "https://localhost:8080/"
        },
        "id": "P8vGPrp0fSR0",
        "outputId": "4a89030c-8879-4aa7-f6b6-54debcdabae8"
      },
      "outputs": [
        {
          "name": "stdout",
          "output_type": "stream",
          "text": [
            "Resultado da ANOVA:\n",
            "F = 4.8461\n",
            "valor-p = 0.0159\n"
          ]
        }
      ],
      "source": [
        "from scipy.stats import f_oneway\n",
        "\n",
        "f_stat, p_value = f_oneway(trt1, trt2, ctrl)\n",
        "\n",
        "print(\"Resultado da ANOVA:\")\n",
        "print(f\"F = {f_stat:.4f}\")\n",
        "print(f\"valor-p = {p_value:.4f}\")"
      ]
    },
    {
      "cell_type": "markdown",
      "metadata": {
        "id": "CPgm0bSgnbQR"
      },
      "source": [
        "O valor obtido para $p$ (aproximadamente $0.016$) nos leva a concluir que, no nível de significância de 5%, podemos rejeitar a hipótese nula (que alega que as médias dos três tratamentos são iguais). Portanto, há evidência estatística de que pelo menos um grupo apresenta peso médio diferente.\n",
        "\n",
        "---"
      ]
    },
    {
      "cell_type": "markdown",
      "metadata": {
        "id": "EsQdD6SJrsX0"
      },
      "source": [
        "## Exemplo 2\n",
        "\n",
        "Durante um experimento para estudar o comportamento de formigas, pesquisadores preparam sanduíches com diferentes tipos de recheio: Ham & Pickles, Peanut Butter e Vegemite. O número de formigas atraídas por cada sanduíche é registrado. A pergunta de pesquisa é:\n",
        "\n",
        "> O tipo de recheio influencia significativamente o número médio de formigas atraídas?\n",
        "\n",
        "**Solução**\n",
        "\n"
      ]
    },
    {
      "cell_type": "code",
      "execution_count": 8,
      "metadata": {
        "colab": {
          "base_uri": "https://localhost:8080/",
          "height": 206
        },
        "id": "P-ycUJMerjH_",
        "outputId": "e19f05fd-e017-4d57-ee99-f7a3d53a04ad"
      },
      "outputs": [
        {
          "data": {
            "text/html": [
              "<div>\n",
              "<style scoped>\n",
              "    .dataframe tbody tr th:only-of-type {\n",
              "        vertical-align: middle;\n",
              "    }\n",
              "\n",
              "    .dataframe tbody tr th {\n",
              "        vertical-align: top;\n",
              "    }\n",
              "\n",
              "    .dataframe thead th {\n",
              "        text-align: right;\n",
              "    }\n",
              "</style>\n",
              "<table border=\"1\" class=\"dataframe\">\n",
              "  <thead>\n",
              "    <tr style=\"text-align: right;\">\n",
              "      <th></th>\n",
              "      <th>rownames</th>\n",
              "      <th>Trial</th>\n",
              "      <th>Bread</th>\n",
              "      <th>Filling</th>\n",
              "      <th>Butter</th>\n",
              "      <th>Ants</th>\n",
              "    </tr>\n",
              "  </thead>\n",
              "  <tbody>\n",
              "    <tr>\n",
              "      <th>0</th>\n",
              "      <td>1</td>\n",
              "      <td>1</td>\n",
              "      <td>WholeWheat</td>\n",
              "      <td>HamPickles</td>\n",
              "      <td>no</td>\n",
              "      <td>34</td>\n",
              "    </tr>\n",
              "    <tr>\n",
              "      <th>1</th>\n",
              "      <td>2</td>\n",
              "      <td>2</td>\n",
              "      <td>MultiGrain</td>\n",
              "      <td>PeanutButter</td>\n",
              "      <td>yes</td>\n",
              "      <td>47</td>\n",
              "    </tr>\n",
              "    <tr>\n",
              "      <th>2</th>\n",
              "      <td>3</td>\n",
              "      <td>3</td>\n",
              "      <td>Rye</td>\n",
              "      <td>HamPickles</td>\n",
              "      <td>yes</td>\n",
              "      <td>67</td>\n",
              "    </tr>\n",
              "    <tr>\n",
              "      <th>3</th>\n",
              "      <td>4</td>\n",
              "      <td>4</td>\n",
              "      <td>MultiGrain</td>\n",
              "      <td>HamPickles</td>\n",
              "      <td>yes</td>\n",
              "      <td>63</td>\n",
              "    </tr>\n",
              "    <tr>\n",
              "      <th>4</th>\n",
              "      <td>5</td>\n",
              "      <td>5</td>\n",
              "      <td>WholeWheat</td>\n",
              "      <td>HamPickles</td>\n",
              "      <td>no</td>\n",
              "      <td>65</td>\n",
              "    </tr>\n",
              "  </tbody>\n",
              "</table>\n",
              "</div>"
            ],
            "text/plain": [
              "   rownames  Trial       Bread       Filling Butter  Ants\n",
              "0         1      1  WholeWheat    HamPickles     no    34\n",
              "1         2      2  MultiGrain  PeanutButter    yes    47\n",
              "2         3      3         Rye    HamPickles    yes    67\n",
              "3         4      4  MultiGrain    HamPickles    yes    63\n",
              "4         5      5  WholeWheat    HamPickles     no    65"
            ]
          },
          "execution_count": 8,
          "metadata": {},
          "output_type": "execute_result"
        }
      ],
      "source": [
        "import pandas as pd\n",
        "import numpy as np\n",
        "\n",
        "# Read data source\n",
        "df_sandwichAnts = pd.read_csv('../data/SandwichAnts.csv')\n",
        "df_sandwichAnts.head()"
      ]
    },
    {
      "cell_type": "code",
      "execution_count": 9,
      "metadata": {
        "colab": {
          "base_uri": "https://localhost:8080/"
        },
        "id": "sOS8MNoIuCuk",
        "outputId": "02bdb824-6aa2-4259-d315-122c5c733404"
      },
      "outputs": [
        {
          "name": "stdout",
          "output_type": "stream",
          "text": [
            "Mean number of ants for each sandwich filling:\n",
            "Filling\n",
            "HamPickles      55.500\n",
            "PeanutButter    40.375\n",
            "Vegemite        34.625\n",
            "Name: Ants, dtype: float64\n",
            "\n",
            "Standard deviation of ants for each sandwich filling:\n",
            "Filling\n",
            "HamPickles      12.055428\n",
            "PeanutButter    14.183911\n",
            "Vegemite        11.158704\n",
            "Name: Ants, dtype: float64\n"
          ]
        }
      ],
      "source": [
        "# Calculate mean and standard deviation for each sandwich filling\n",
        "means = df_sandwichAnts.groupby('Filling')['Ants'].mean()\n",
        "std_devs = df_sandwichAnts.groupby('Filling')['Ants'].std()\n",
        "\n",
        "print(\"Mean number of ants for each sandwich filling:\")\n",
        "print(means)\n",
        "\n",
        "print(\"\\nStandard deviation of ants for each sandwich filling:\")\n",
        "print(std_devs)"
      ]
    },
    {
      "cell_type": "code",
      "execution_count": 10,
      "metadata": {
        "id": "Ij9CqOn9tm9S"
      },
      "outputs": [
        {
          "name": "stdout",
          "output_type": "stream",
          "text": [
            "Sample sizes (HamPickles/PeanutButter/Vegemite): 16, 16, 16\n"
          ]
        }
      ],
      "source": [
        "df_HamPickles = df_sandwichAnts['Ants'][df_sandwichAnts.Filling == 'HamPickles']\n",
        "df_PeanutButter = df_sandwichAnts['Ants'][df_sandwichAnts.Filling == 'PeanutButter']\n",
        "df_Vegemite = df_sandwichAnts['Ants'][df_sandwichAnts.Filling == 'Vegemite']\n",
        "\n",
        "print(f'Sample sizes (HamPickles/PeanutButter/Vegemite): {df_HamPickles.shape[0]}, {df_PeanutButter.shape[0]}, {df_Vegemite.shape[0]}')"
      ]
    },
    {
      "cell_type": "code",
      "execution_count": 11,
      "metadata": {
        "colab": {
          "base_uri": "https://localhost:8080/"
        },
        "id": "lELde2UouSoM",
        "outputId": "b80358e7-9f8d-4314-ed82-e4f895fde19e"
      },
      "outputs": [
        {
          "name": "stdout",
          "output_type": "stream",
          "text": [
            "F = 11.8479\n",
            "valor-p = 0.0001\n"
          ]
        }
      ],
      "source": [
        "from scipy.stats import f_oneway\n",
        "f_stat, p_value = f_oneway(df_HamPickles, df_PeanutButter, df_Vegemite)\n",
        "print(f\"F = {f_stat:.4f}\")\n",
        "print(f\"valor-p = {p_value:.4f}\")"
      ]
    },
    {
      "cell_type": "markdown",
      "metadata": {},
      "source": [
        "Foi aplicado um teste ANOVA de uma via comparando os grupos definidos por `Filling`. O resultado foi:\n",
        "\n",
        "- Estatística F = 11.85\n",
        "- Valor-p = 0.00007\n",
        "\n",
        "Como o valor-p é muito menor que 0.05, rejeitamos a hipótese nula:\n",
        "> Há evidência estatística de que o tipo de recheio influencia o número médio de formigas.\n",
        "___"
      ]
    },
    {
      "cell_type": "markdown",
      "metadata": {},
      "source": [
        "## Exemplo 3"
      ]
    },
    {
      "cell_type": "markdown",
      "metadata": {},
      "source": [
        "Neste exemplo, vamos aplicar o teste de Tukey sobre o problema relativo ao dataset SandwichAnts."
      ]
    },
    {
      "cell_type": "code",
      "execution_count": 12,
      "metadata": {},
      "outputs": [],
      "source": [
        "# pip install statsmodels"
      ]
    },
    {
      "cell_type": "code",
      "execution_count": 13,
      "metadata": {},
      "outputs": [
        {
          "name": "stdout",
          "output_type": "stream",
          "text": [
            "Resumo do Teste de Tukey:\n"
          ]
        },
        {
          "data": {
            "text/html": [
              "<div>\n",
              "<style scoped>\n",
              "    .dataframe tbody tr th:only-of-type {\n",
              "        vertical-align: middle;\n",
              "    }\n",
              "\n",
              "    .dataframe tbody tr th {\n",
              "        vertical-align: top;\n",
              "    }\n",
              "\n",
              "    .dataframe thead th {\n",
              "        text-align: right;\n",
              "    }\n",
              "</style>\n",
              "<table border=\"1\" class=\"dataframe\">\n",
              "  <thead>\n",
              "    <tr style=\"text-align: right;\">\n",
              "      <th></th>\n",
              "      <th>group1</th>\n",
              "      <th>group2</th>\n",
              "      <th>meandiff</th>\n",
              "      <th>p-adj</th>\n",
              "      <th>lower</th>\n",
              "      <th>upper</th>\n",
              "      <th>reject</th>\n",
              "    </tr>\n",
              "  </thead>\n",
              "  <tbody>\n",
              "    <tr>\n",
              "      <th>0</th>\n",
              "      <td>HamPickles</td>\n",
              "      <td>PeanutButter</td>\n",
              "      <td>-15.125</td>\n",
              "      <td>0.0038</td>\n",
              "      <td>-25.862</td>\n",
              "      <td>-4.388</td>\n",
              "      <td>True</td>\n",
              "    </tr>\n",
              "    <tr>\n",
              "      <th>1</th>\n",
              "      <td>HamPickles</td>\n",
              "      <td>Vegemite</td>\n",
              "      <td>-20.875</td>\n",
              "      <td>0.0001</td>\n",
              "      <td>-31.612</td>\n",
              "      <td>-10.138</td>\n",
              "      <td>True</td>\n",
              "    </tr>\n",
              "    <tr>\n",
              "      <th>2</th>\n",
              "      <td>PeanutButter</td>\n",
              "      <td>Vegemite</td>\n",
              "      <td>-5.750</td>\n",
              "      <td>0.4037</td>\n",
              "      <td>-16.487</td>\n",
              "      <td>4.987</td>\n",
              "      <td>False</td>\n",
              "    </tr>\n",
              "  </tbody>\n",
              "</table>\n",
              "</div>"
            ],
            "text/plain": [
              "         group1        group2  meandiff   p-adj   lower   upper  reject\n",
              "0    HamPickles  PeanutButter   -15.125  0.0038 -25.862  -4.388    True\n",
              "1    HamPickles      Vegemite   -20.875  0.0001 -31.612 -10.138    True\n",
              "2  PeanutButter      Vegemite    -5.750  0.4037 -16.487   4.987   False"
            ]
          },
          "execution_count": 13,
          "metadata": {},
          "output_type": "execute_result"
        }
      ],
      "source": [
        "from statsmodels.stats.multicomp import pairwise_tukeyhsd\n",
        "\n",
        "# Teste de Tukey\n",
        "tukey = pairwise_tukeyhsd(endog=df_sandwichAnts[\"Ants\"], groups=df_sandwichAnts[\"Filling\"], alpha=0.05)\n",
        "\n",
        "dataframe=pd.DataFrame(data=tukey.summary().data[1:], columns=tukey.summary().data[0])\n",
        "\n",
        "print(\"Resumo do Teste de Tukey:\")\n",
        "dataframe.head()"
      ]
    },
    {
      "cell_type": "markdown",
      "metadata": {},
      "source": [
        "Com base na variável **Filling** (recheio do sanduíche) e o número de **formigas atraídas**, temos:\n",
        "\n",
        "| Grupo 1      | Grupo 2      | Diferença de médias | Valor-p ajustado | IC Inferior | IC Superior | Diferença significativa? |\n",
        "| ------------ | ------------ | ------------------- | ---------------- | ----------- | ----------- | ------------------------ |\n",
        "| HamPickles   | PeanutButter | -15.125             | 0.0038           | -25.862     | -4.388      | ✅ Sim                    |\n",
        "| HamPickles   | Vegemite     | -20.875             | 0.0001           | -31.612     | -10.138     | ✅ Sim                    |\n",
        "| PeanutButter | Vegemite     | -5.750              | 0.4037           | -16.487     | 4.987       | ❌ Não                    |\n",
        "\n",
        "**Conclusão**:\n",
        "\n",
        "* **Sanduíches com *Ham & Pickles*** atraíram significativamente **mais formigas** do que os com *Peanut Butter* e *Vegemite*.\n",
        "* A diferença entre *Peanut Butter* e *Vegemite* **não é estatisticamente significativa**.\n",
        "\n",
        "Isso sugere que o tipo de recheio afeta o número de formigas, especialmente quando *Ham & Pickles* está envolvido."
      ]
    },
    {
      "cell_type": "markdown",
      "metadata": {},
      "source": [
        "Vamos criar um gráfico para ilustrar o resultado do teste de Tukey. Nesse gráfico, a **linha vertical zero** representa o ponto de **\"diferença de médias igual a zero\"**, isto é:\n",
        "\n",
        "$$\n",
        "\\bar{x}_i - \\bar{x}_j = 0\n",
        "$$\n",
        "\n",
        "Essa linha é o **referencial neutro**: se o **intervalo de confiança da diferença de médias** entre dois grupos **inclui o zero**, isso significa que **não podemos afirmar que a diferença entre os grupos é estatisticamente significativa** — o zero está dentro do intervalo de plausibilidade.\n",
        "\n",
        "**Interpretar**:\n",
        "\n",
        "* Se a **barra horizontal (intervalo de confiança)** **cruza a linha vertical zero**, então **não há diferença significativa**.\n",
        "* Se a **barra está totalmente à esquerda ou à direita** da linha zero (sem tocá-la), então há **diferença significativa** entre os grupos.\n",
        "\n",
        "No gráfico fornecido:\n",
        "\n",
        "* A linha vertical que passa por zero é desenhada como referência — ela **não é uma linha de dados**, mas um **marcador visual** para saber se um intervalo de confiança inclui ou não o valor nulo (diferença zero).\n",
        "* Ela está localizada no centro do eixo horizontal, geralmente não rotulada explicitamente como \"0\", mas é ali que você deve procurar se os **ICs das comparações cruzam ou não zero**."
      ]
    },
    {
      "cell_type": "code",
      "execution_count": 16,
      "metadata": {},
      "outputs": [
        {
          "data": {
            "image/png": "[encoded data removed]",
            "text/plain": [
              "<Figure size 800x450 with 1 Axes>"
            ]
          },
          "metadata": {},
          "output_type": "display_data"
        }
      ],
      "source": [
        "from matplotlib import pyplot as plt\n",
        "\n",
        "# Cria um gráfico customizado com destaque na linha zero e intervalos de confiança\n",
        "\n",
        "# Extrair dados do objeto tukey\n",
        "tukey_df = pd.DataFrame(data=tukey.summary().data[1:], columns=tukey.summary().data[0])\n",
        "\n",
        "# Definir posição no eixo y para cada comparação\n",
        "tukey_df[\"comparison\"] = tukey_df[\"group1\"] + \" vs \" + tukey_df[\"group2\"]\n",
        "tukey_df = tukey_df.sort_values(\"meandiff\", ascending=True).reset_index(drop=True)\n",
        "tukey_df[\"ypos\"] = range(len(tukey_df))\n",
        "\n",
        "# Criar o gráfico\n",
        "plt.figure(figsize=(8, 4.5))\n",
        "for i, row in tukey_df.iterrows():\n",
        "    plt.plot([row[\"lower\"], row[\"upper\"]], [row[\"ypos\"]]*2, color=\"black\")\n",
        "    plt.plot(row[\"meandiff\"], row[\"ypos\"], \"o\", color=\"red\")\n",
        "\n",
        "# Linha vertical no zero\n",
        "plt.axvline(x=0, color=\"blue\", linestyle=\"--\", label=\"Diferença = 0\")\n",
        "\n",
        "# Customizações\n",
        "plt.yticks(tukey_df[\"ypos\"], tukey_df[\"comparison\"])\n",
        "plt.xlabel(\"Diferença de Médias (Número de Formigas)\")\n",
        "plt.title(\"Intervalos de Confiança - Teste de Tukey (Comparações de Recheios)\")\n",
        "plt.legend()\n",
        "plt.grid(True, axis='x')\n",
        "plt.tight_layout()\n",
        "plt.show()\n"
      ]
    },
    {
      "cell_type": "markdown",
      "metadata": {},
      "source": [
        "# Exercícios Propostos\n",
        "\n",
        "A seguir estão três exercícios propostos. Cada uma envolve **comparação de médias entre três ou mais grupos**. Resolva esses exercícios usando os dados fornecidos nos arquivos `anova/MetodoEstudo.csv`, `anova/Fertilizante.csv` e `SatisfacaoCelular.csv`.\n",
        "\n",
        "###  Exercício 1 – Efeitos de Diferentes Métodos de Estudo\n",
        "\n",
        "**Contexto:**\n",
        "Uma professora quer investigar se diferentes métodos de estudo afetam o desempenho dos alunos em uma prova final. Ela divide os alunos aleatoriamente em três grupos:\n",
        "\n",
        "* **Grupo 1:** Estudo individual em casa\n",
        "* **Grupo 2:** Estudo em grupo na biblioteca\n",
        "* **Grupo 3:** Aulas de revisão com o professor\n",
        "\n",
        "Após a prova, ela coleta as notas dos alunos de cada grupo.\n",
        "\n",
        "**Pergunta de pesquisa:**\n",
        "\n",
        "> Existe diferença estatisticamente significativa entre as **médias das notas** dos alunos que utilizaram os diferentes métodos de estudo?\n",
        "\n",
        "Aplique ANOVA de uma via e, se necessário, o teste de Tukey para identificar **quais métodos diferem entre si**.\n",
        "\n",
        "###  Exercício 2 – Crescimento de Plantas com Diferentes Fertilizantes\n",
        "\n",
        "**Contexto:**\n",
        "Um agrônomo testa três tipos de fertilizantes (A, B e C) no cultivo de alface. Cada tipo é aplicado em uma amostra diferente de plantas, e o crescimento (em centímetros) é medido após 30 dias.\n",
        "\n",
        "**Pergunta de pesquisa:**\n",
        "\n",
        "> O tipo de fertilizante influencia significativamente a **altura média das plantas**?\n",
        "\n",
        "Use o teste ANOVA para comparar as médias das alturas. Caso haja diferença significativa, aplique o teste de Tukey para indicar **quais fertilizantes** proporcionaram maior crescimento.\n",
        "\n",
        "### Exercício 3 – Satisfação com Modelos de Celular\n",
        "\n",
        "**Contexto:**\n",
        "Uma empresa realiza uma pesquisa de satisfação com usuários de três modelos diferentes de smartphones: **Modelo X**, **Modelo Y** e **Modelo Z**. Os usuários avaliam seu grau de satisfação numa escala de 0 a 10.\n",
        "\n",
        "**Pergunta de pesquisa:**\n",
        "\n",
        "> Há diferença significativa entre as **médias de satisfação** dos usuários dos três modelos?\n",
        "\n",
        "Aplique ANOVA e discuta se existe **um modelo claramente melhor** em termos de percepção do consumidor. Se necessário, aplique teste post-hoc.\n",
        "\n",
        "---"
      ]
    }
  ],
  "metadata": {
    "colab": {
      "provenance": []
    },
    "kernelspec": {
      "display_name": "gcc1625",
      "language": "python",
      "name": "python3"
    },
    "language_info": {
      "codemirror_mode": {
        "name": "ipython",
        "version": 3
      },
      "file_extension": ".py",
      "mimetype": "text/x-python",
      "name": "python",
      "nbconvert_exporter": "python",
      "pygments_lexer": "ipython3",
      "version": "3.13.2"
    }
  },
  "nbformat": 4,
  "nbformat_minor": 0
}
