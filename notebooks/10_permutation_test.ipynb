{
  "cells": [
    {
      "cell_type": "markdown",
      "metadata": {
        "id": "xqLF0ub0BEui"
      },
      "source": [
        "# Introdução\n",
        "\n",
        "Considere um teste de hipóteses sobre duas amostras em que queremos verificar se essas amostras são ou não provenientes da mesma população. Já estudamos abordagens paramétricas para realizar essa tarefa ($z$-teste, $t$-teste, ANOVA). Agora, vamos estudar uma abordagem não-paramétrica para realizar esse tipo de teste. Essa abordagem é denominada teste de permutação (*permutation test*).\n",
        "\n",
        "> Quando usar o teste de permutação? Quando os tamanhos amostrais são muito pequenos e, portanto, é difícil verificar o pressuposto de normalidade, o teste de permutação é uma boa alternativa ao teste t convencional ou ao teste t de Welch.\n",
        "\n",
        "Considere duas amostras em que cada indivíduo (observação) está associado a um rótulo que identifica a que amostra o indivíduo pertence. Nesse contexto, podemos definir a hipótese nula da seguinte forma:\n",
        "\n",
        "> $H_0$: \"não há diferença estatisticamente significativa entre as médias das duas amostras\".\n",
        "\n",
        "Suponha que a hipótese nula seja verdadeira. Nesse caso, as duas amostras de observações são provenientes da mesma população, e qualquer diferença entre as suas médias se deve única e exclusivamente ao acaso. Isso significa mais ainda que os rótulos que identificam a que amostra cada indivíduo pertence são irrelevantes e poderíamos permutar indíviduos entre as duas amostras sem mudança no resultado do teste.\n",
        "\n",
        "A argumentação acima sugere um procedimento para criar uma aproximação para a *distribuição nula* (i.e., a distribuição amostral da estatística de interesse, supondo que a hipótese nula seja verdadeira). Vamos descrever esse procedimento em seguida."
      ]
    },
    {
      "cell_type": "markdown",
      "metadata": {
        "id": "nWsoQDcyYQCm"
      },
      "source": [
        "# Geração da distribuição nula empírica\n",
        "\n",
        "O procedimento para gerar uma aproximação para a distribuição nula envolve criar muitos pares de **reamostras** a partir do par de amostras originais. Cada par de reamostras é criado permutando aleatoriamente os indivíduos do par de amostras originais. Após a criação das reamostras, computamos a estatística de teste para cada uma delas. Esse conjunto de valores é então usado para produzir uma aproximação para a distribuição nula.\n",
        "\n",
        "> **Ideia central**: Se a hipótese nula $H_0$ for verdadeira (i.e., se as duas amostras originais são provenientes da mesma população), então cada amostra permutada terá a mesma probabilidade de ocorrer como qualquer outra. Portanto, quaisquer diferenças observadas serão pequenas e aleatórias se $H_0$ for verdadeiro.\n",
        "\n",
        "Pelo exposto acima, podemos definir o procedimento para gerar a distribuição nula. Esse procedimento é descrito a seguir."
      ]
    },
    {
      "cell_type": "markdown",
      "metadata": {
        "id": "1khZjY-Zp0Jd"
      },
      "source": [
        "### Procedimento (geração da distribuição nula)\n",
        "\n",
        "Entrada: duas amostras de tamanhos $n_1$ e $n_2$, respectivamente.\n",
        "\n",
        "1. Calcule a estatística de interesse $T_{\\text{obs}}$ (como diferença de médias, medianas, etc.). Po exemplo, se a estatística de interesse for a diferença de médias das observações em cada grupo ($\\overline{x}_{1}$ e $\\overline{x}_{2}$), então $T_{\\text{obs}} = \\overline{x}_{1} - \\overline{x}_{2}$.\n",
        "\n",
        "2. Agrupe as observações das duas amostras, o que resulta em uma única amostra.\n",
        "\n",
        "3. Permute aleatoriamente as observações agrupadas na amostra única. (Ou seja, reorganize a ordem dos dados agrupados de maneira aleatória.)\n",
        "\n",
        "4. Calcule a média da amostra para as primeiras $n_1$ observações resultantes da etapa 3. Em seguida, calcule a média da amostra das $n_2$ observações restantes.\n",
        "\n",
        "5. Repita as etapas 3 e 4 por $B$ iterações e compute as diferenças entre as médias das remostras resultantes: $d_1,\\ldots, d_B$.\n",
        "\n",
        "Se repetirmos o procedimento descrito acima de permutar aleatoriamente os dados agrupados $B$ vezes, o resultado será um conjunto de $B$ diferenças entre as médias amostrais resultantes, que rotulamos como $d_1, \\ldots, d_B$. Esses valores são então usados para gerar a aproximação para a distribuição nula."
      ]
    },
    {
      "cell_type": "markdown",
      "metadata": {
        "id": "puykYe_XEwPW"
      },
      "source": [
        "### Exemplo\n",
        "\n",
        "Para ilustrar a aplicação do procedimento acima, considere as duas amostras abaixo, de tamanhos $n_1 = 4$ e $n_2 = 5$.\n",
        "\n",
        "- Grupo 1:\t$6,\t19,\t34,\t15$\n",
        "- Grupo 2:\t$9,\t21,\t8,\t53, 25$\n",
        "\n",
        "Os passos do procedimento aplicados neste caso são descritos a seguir.\n",
        "\n",
        "1. Conforme descrito no passo 1, computamos a média do grupo 1 é ($\\overline{x}_1 = 18.5$), e do grupo 2 ($\\overline{x}_2 = 23.2$). Computamos também a diferença entre essas médias: $d = 18.5 - 23.2 = -4.7$\n",
        "\n",
        "2. Agora agrupamos as observações de ambos os grupos, o que produz o seguinte:\n",
        "\n",
        "$$\n",
        "6,\t19,\t34,\t15, 9,\t21,\t8,\t53, 25\n",
        "$$\n",
        "\n",
        "3. Em seguida, permutamos os dados agrupados de forma aleatória. Para fins ilustrativos, suponha que o resultado da permutação seja: $34, 21, 8, 25, 6, 19, 15, 9, 53$. Essa permutação corresponde ao seguinte par de reamostras:\n",
        "\n",
        "  - $R_1$: $34, 21, 8, 25$\n",
        "  - R$_2$: $6, 19, 15, 9, 53$\n",
        "\n",
        "4. A média amostral para a $R_1$ é igual a $22$, e para $R_2$ é igual a $20.4$. Sendo assim, a diferença entre essas médias é $d_1 = 22 - 20.4 = 1.6$."
      ]
    },
    {
      "cell_type": "markdown",
      "metadata": {
        "id": "4ljSbPQlQNYs"
      },
      "source": [
        "### Quantidade de reamostras"
      ]
    },
    {
      "cell_type": "markdown",
      "metadata": {
        "id": "yIG9r4AAQ9lk"
      },
      "source": [
        "No exemplo acima, repare que construímos um par de reamostras, de vários pares que poderiam ser construídos.\n",
        "\n",
        "Você deve perceber que, para amostras originais de tamanhos $n_1$ e $n_2$, existem $(n_1+n_2)!$ permutações possíveis. Contudo, visto que a ordem dos elementos dentro de cada reamostra não é relevante, esse valor não corresponde à quantidade de reamostras possíveis. Em geral, dados o par de amostras originais de tamanhos $n_1$ e $n_2$, a quantidade de pares de reamostras possíveis que podem ser geradas é computada pela expressão a seguir:\n",
        "\n",
        "$$\n",
        "\\text{quantidade de pares de reamostras} = \\frac{(n_1 + n_2)!}{n_1!n_2!}\n",
        "$$\n",
        "\n",
        "O trecho de código a seguir ilustra de que forma essa quantidade pode ser computada usando a biblioteca itertools do Python."
      ]
    },
    {
      "cell_type": "code",
      "execution_count": 141,
      "metadata": {
        "colab": {
          "base_uri": "https://localhost:8080/"
        },
        "id": "jvFMe1VHUD5h",
        "outputId": "7b391ba7-03ae-466c-a239-753210d93f06"
      },
      "outputs": [
        {
          "name": "stdout",
          "output_type": "stream",
          "text": [
            "Há 5200300 pares de reamostras possíveis.\n"
          ]
        }
      ],
      "source": [
        "import itertools\n",
        "import numpy as np\n",
        "\n",
        "a = [2, 3, 4, 1, 2, 3, 4, 1, 2, 3, 4, 1, 0]\n",
        "b = [35, 36, 37, 40, 50, 70, 60, 48, 50, 70, 60, 48]\n",
        "\n",
        "uniao = a + b\n",
        "reamostras = list(itertools.combinations(uniao, len(a)))\n",
        "\n",
        "print(f\"Há {len(reamostras)} pares de reamostras possíveis.\")"
      ]
    },
    {
      "cell_type": "markdown",
      "metadata": {
        "id": "QSVSiKVvJ9Jr"
      },
      "source": [
        "Conforme ilustra a figura a seguir ([fonte](https://www.digitalocean.com/community/tutorials/js-big-o-notation)), a função fatorial cresce de forma muito acelerada.\n",
        "\n",
        "<center><img src=\"https://assets.digitalocean.com/articles/alligator/js/big-o-notation/o-complexity.png\" style=\"width:400px; margin-bottom:32px; background-color:#082767\"/></center>\n",
        "\n",
        "Para fins de comparação, considere os valores a seguir:\n",
        "\n",
        "$$\n",
        "\\begin{align*}\n",
        "\\frac{5!}{e^5} & \\approx 0.81 \\\\\n",
        "\\\\\n",
        "\\frac{10!}{e^{10}} & \\approx 164.7 \\\\\n",
        "\\\\\n",
        "\\frac{15!}{e^{15}} & \\approx 400000 \\\\\n",
        "\\\\\n",
        "\\frac{20!}{e^{20}} &\\approx 5014584787 \\\\\n",
        "\\\\\n",
        "\\frac{25!}{e^{25}} &\\approx 2 \\times 10^{14}\n",
        "\\end{align*}\n",
        "$$\n",
        "\n",
        "Esse crescimento acelerado da função fatorial inviabiliza a geração de todas as reamostras possíveis, mesmo para valores modestos (i.e., pequenos) de $n_1 + n_2$. Por conta disso, normalmente um valor $B$ igual a 10000 para a quantiade de reamostras é normalmente usado na prática."
      ]
    },
    {
      "cell_type": "markdown",
      "metadata": {
        "id": "NkZD8oxRKRnq"
      },
      "source": [
        "## Relação entre distribuição nula e $p$-valor\n",
        "\n",
        "Lembre-se de que, para aplicar um teste de hipóteses, precisamos computar o $p$-valor correspondente ao valor da estatística de teste resultante do par de amostras originais.\n",
        "\n",
        "A definição do $p$-value para o teste de permutação é a mesma que utilizamos nos testes paramétricos: probabilidade de obter o resultado observado da estatística de teste (ou um mais extremo), presumindo que a hipótese nula seja verdadeira. Entretanto, como no teste de permutação a distribuição nula (i.e., a distribuição amostral da estatística de teste considerando que a hipótese nula é verdadeira) não corresponde a uma distribuição teórica (como a distribuição normal ou a distribuição t), o que devemos fazer é calcular o $p$-value como a proporção dos valores no histograma da distribuição nula que são iguais ou mais extremos do que o valor observado no par de amostras original.\n",
        "\n",
        "A animação a seguir ([fonte](https://en.wikipedia.org/wiki/Permutation_test)) ilustra de que forma a sequências de passos do procedimento descrito acima pode gerar a distribuição nula para uma estatística de interesse. Ela ilustra também a relação dessa distribuição com o $p$-valor. Em particular, o $p$-valor é computado como a fração de diferenças maiores ou iguais à diferença entre as amostras originais.\n",
        "\n",
        "<center><img src=\"https://upload.wikimedia.org/wikipedia/commons/1/12/Permutation_test_example_animation.gif\" style=\"width:400px; margin-bottom:32px; background-color:#082767\"/></center>"
      ]
    },
    {
      "cell_type": "markdown",
      "metadata": {
        "id": "1USQ4P5QX9N_"
      },
      "source": [
        "# Aplicação do teste\n",
        "\n",
        "Esses são os passos para aplicação do teste de permutação:\n",
        "\n",
        "1. **Calcule a estatística observada** $T_{\\text{obs}}$ (como diferença de médias, medianas etc.).\n",
        "2. **Reembaralhe aleatoriamente os rótulos** dos grupos (mantendo os tamanhos originais).\n",
        "3. **Recalcule a estatística** para essa permutação.\n",
        "4. **Repita** muitas vezes (geralmente > 1.000) para construir uma **distribuição nula empírica**.\n",
        "5. **Compare** a estatística observada com essa distribuição para obter um **valor-p**."
      ]
    },
    {
      "cell_type": "markdown",
      "metadata": {},
      "source": [
        "# Exemplos\n",
        "\n",
        "Nesta seção, são apresentados exemplos de como usar o teste de permutação para realizar testes de hipóteses.\n",
        "\n",
        "Nos exemplos desta seção, considere que $\\alpha = 0.05$."
      ]
    },
    {
      "cell_type": "markdown",
      "metadata": {},
      "source": [
        "## Exemplo 1 : Efeito de um Novo Programa de Treinamento\n",
        "\n",
        "Uma empresa deseja avaliar a efetividade de um **novo programa de treinamento para melhorar a produtividade de seus funcionários**. Para isso, selecionou **dois grupos independentes de 30 funcionários cada**:\n",
        "\n",
        "* **Grupo 1**: funcionários que **participaram** do novo programa de treinamento.\n",
        "* **Grupo 2**: funcionários que **não participaram** do programa (grupo controle);\n",
        "\n",
        "Após um mês, a produtividade de cada funcionário foi medida por meio de um escore de desempenho padronizado. Esse escore varia entre 0 e 100.\n",
        "\n",
        "A média da produtividade foi de aproximadamente **50 para o grupo controle** e **55 para o grupo treinado**, com variações individuais dentro de cada grupo.\n",
        "\n",
        "A empresa quer saber se a diferença observada entre as médias **pode ser atribuída ao acaso** ou se há **evidência estatística** de que o novo programa realmente **aumenta a produtividade**.\n",
        "\n",
        "Para isso, decide aplicar um **teste de permutação com 10.000 reamostras**, comparando a diferença média de produtividade entre os grupos.\n",
        "\n",
        "**Solução:** \n",
        "\n",
        "As hipóteses neste caso:\n",
        "\n",
        "- $H_0: \\mu_1 = \\mu_2$\n",
        "- $H_1: \\mu_1 > \\mu_2$\n",
        "\n",
        "Isto corresponde ao caso em que **espera-se que o Grupo 1 (treinados) tenha média maior que o Grupo 2 (controle)**.\n",
        "\n",
        "\n",
        "\n",
        "Veja código abaixo."
      ]
    },
    {
      "cell_type": "code",
      "execution_count": 142,
      "metadata": {},
      "outputs": [
        {
          "name": "stdout",
          "output_type": "stream",
          "text": [
            "Diferença observada nas médias: 4.67\n",
            "P-valor (unilateral): 0.0001\n"
          ]
        },
        {
          "data": {
            "image/png": "[encoded data removed]",
            "text/plain": [
              "<Figure size 640x480 with 1 Axes>"
            ]
          },
          "metadata": {},
          "output_type": "display_data"
        }
      ],
      "source": [
        "import numpy as np\n",
        "import matplotlib.pyplot as plt\n",
        "\n",
        "def permutation_test_unilateral(group1, group2, num_permutations=1000):\n",
        "    \"\"\"\n",
        "    Realiza um teste de permutação unicaudal (group1 > group2).\n",
        "    \"\"\"\n",
        "    observed_diff = np.mean(group1) - np.mean(group2)\n",
        "    combined = np.concatenate([group1, group2])\n",
        "\n",
        "    perm_diffs = np.empty(num_permutations)\n",
        "    for i in range(num_permutations):\n",
        "        permuted = np.random.permutation(combined)\n",
        "        perm_group1 = permuted[:len(group1)]\n",
        "        perm_group2 = permuted[len(group1):]\n",
        "        perm_diffs[i] = np.mean(perm_group1) - np.mean(perm_group2)\n",
        "\n",
        "    p_value = np.mean(perm_diffs >= observed_diff)\n",
        "    return observed_diff, perm_diffs, p_value\n",
        "\n",
        "# ---------------------------\n",
        "# Exemplo de uso\n",
        "# ---------------------------\n",
        "np.random.seed(42)\n",
        "group1 = np.random.normal(55, 5, 30)  # Treinados\n",
        "group2 = np.random.normal(50, 5, 30)  # Controle\n",
        "\n",
        "observed_diff, perm_diffs, p_value = permutation_test_unilateral(group1, group2, num_permutations=10000)\n",
        "\n",
        "print(f\"Diferença observada nas médias: {observed_diff:.2f}\")\n",
        "print(f\"P-valor (unilateral): {p_value:.4f}\")\n",
        "\n",
        "plt.hist(perm_diffs, bins=30, alpha=0.7, color='lightblue', edgecolor='black')\n",
        "plt.axvline(observed_diff, color='red', linestyle='dashed', label=f'Obs. diff = {observed_diff:.2f}')\n",
        "plt.title('Teste de Permutação Unilateral: Diferença de Médias (Grupo1 > Grupo2)')\n",
        "plt.xlabel('Diferença de Médias (permutações)')\n",
        "plt.ylabel('Frequência')\n",
        "plt.legend()\n",
        "plt.show()"
      ]
    },
    {
      "cell_type": "markdown",
      "metadata": {},
      "source": [
        "Dado que o **valor-p do teste unilateral é $p = 0{,}0001$**, e considerando um nível de significância usual de $\\alpha = 0{,}05$, temos:\n",
        "\n",
        "* Como $p < 0{,}05$, **rejeitamos a hipótese nula** $H_0$, que afirma que as médias dos dois grupos são iguais.\n",
        "* Há **evidência estatística suficiente** para concluir que o **grupo 1 tem média maior que o grupo 2**.\n",
        "* Portanto, os resultados sugerem que o **grupo treinado (grupo 1)** teve **um desempenho significativamente superior** ao grupo controle.\n",
        "\n",
        "Em linguagem informal:\n",
        "\n",
        "> A diferença observada nas médias dificilmente ocorreria por acaso se o treinamento não tivesse efeito. Assim, o teste indica que **o programa de treinamento teve um impacto positivo na produtividade**."
      ]
    },
    {
      "cell_type": "markdown",
      "metadata": {},
      "source": [
        "### Solução alternativa (versão vetorizada)\n",
        "\n",
        "Na implementação anterior, utilizamos um **laço `for`** para gerar as permutações e calcular, uma a uma, as diferenças de médias entre os grupos.\n",
        "Embora essa abordagem seja conceitualmente clara, ela se torna computacionalmente custosa quando o número de permutações é grande (por exemplo, 10.000 ou 100.000 reamostras).\n",
        "\n",
        "Uma alternativa mais eficiente é explorar o **paralelismo implícito do NumPy**, gerando todas as permutações de uma só vez e realizando as operações de média e subtração de forma vetorizada.\n",
        "Essa estratégia reduz o tempo de execução e elimina a necessidade de estruturas de repetição explícitas, preservando exatamente o mesmo raciocínio estatístico do teste de permutação.\n",
        "\n",
        "Na prática, a vetorização não altera a lógica inferencial; apenas torna a implementação mais rápida e elegante, o que é especialmente útil em análises reais com grandes amostras ou em simulações que exigem muitas repetições."
      ]
    },
    {
      "cell_type": "code",
      "execution_count": 143,
      "metadata": {},
      "outputs": [
        {
          "name": "stdout",
          "output_type": "stream",
          "text": [
            "Diferença observada entre as médias: 4.67\n",
            "p-valor (unicaudal à direita): 0.0001\n"
          ]
        },
        {
          "data": {
            "image/png": "[encoded data removed]",
            "text/plain": [
              "<Figure size 800x500 with 1 Axes>"
            ]
          },
          "metadata": {},
          "output_type": "display_data"
        },
        {
          "name": "stdout",
          "output_type": "stream",
          "text": [
            "✅ Evidência significativa de que o programa aumentou a produtividade (rejeitamos H0).\n"
          ]
        }
      ],
      "source": [
        "import numpy as np\n",
        "import matplotlib.pyplot as plt\n",
        "\n",
        "# ============================================================\n",
        "# Teste de Permutação Unicaudal (Treinamento vs Controle)\n",
        "# ============================================================\n",
        "\n",
        "# 1. Gerar dados simulados\n",
        "np.random.seed(42)\n",
        "n1 = n2 = 30\n",
        "\n",
        "# Grupo treinado e grupo controle\n",
        "grupo_treinamento = np.random.normal(loc=55, scale=5, size=n1)\n",
        "grupo_controle    = np.random.normal(loc=50, scale=5, size=n2)\n",
        "\n",
        "# Estatística observada: diferença de médias\n",
        "diff_obs = grupo_treinamento.mean() - grupo_controle.mean()\n",
        "print(f\"Diferença observada entre as médias: {diff_obs:.2f}\")\n",
        "\n",
        "# 2. Combinar dados (hipótese nula: grupos equivalentes)\n",
        "dados = np.concatenate([grupo_treinamento, grupo_controle])\n",
        "n_total = len(dados)\n",
        "\n",
        "# 3. Teste de permutação vetorizado\n",
        "n_perm = 10_000\n",
        "\n",
        "# Criar matriz de índices permutados\n",
        "idx = np.array([np.random.permutation(n_total) for _ in range(n_perm)])\n",
        "\n",
        "# Repartir os dados permutados em dois grupos de tamanhos iguais\n",
        "grupo_A = dados[idx[:, :n1]]\n",
        "grupo_B = dados[idx[:, n1:]]\n",
        "\n",
        "# Calcular diferenças de médias para todas as permutações de uma vez\n",
        "diffs_perm = grupo_A.mean(axis=1) - grupo_B.mean(axis=1)\n",
        "\n",
        "# 4. Calcular p-valor unicaudal (à direita)\n",
        "p_val = np.mean(diffs_perm >= diff_obs)\n",
        "print(f\"p-valor (unicaudal à direita): {p_val:.4f}\")\n",
        "\n",
        "# 5. Visualizar a distribuição nula permutada\n",
        "plt.figure(figsize=(8,5))\n",
        "plt.hist(diffs_perm, bins=30, color='lightgray', edgecolor='black', density=True)\n",
        "plt.axvline(diff_obs, color='red', linestyle='--', linewidth=2,\n",
        "            label=f'Estatística observada = {diff_obs:.2f}')\n",
        "plt.title('Distribuição nula (permutada) da diferença de médias')\n",
        "plt.xlabel('Diferença média (Treinamento - Controle)')\n",
        "plt.ylabel('Densidade')\n",
        "plt.legend()\n",
        "plt.show()\n",
        "\n",
        "# 6. Conclusão\n",
        "alpha = 0.05\n",
        "if p_val < alpha:\n",
        "    print(\"✅ Evidência significativa de que o programa aumentou a produtividade (rejeitamos H0).\")\n",
        "else:\n",
        "    print(\"ℹ️ Não há evidência estatisticamente significativa de aumento de produtividade (falhamos em rejeitar H0).\")\n"
      ]
    },
    {
      "cell_type": "markdown",
      "metadata": {
        "id": "JOSQgw9vGYpg"
      },
      "source": [
        "## Exemplo 2 - Chichen Data\n",
        "\n",
        "Neste estudo de caso, vamos exemplificar a aplicação do teste de permutação usando os dados contidos no arquivo ChickData.csv. Esse arquivo contém observações sobre animais (filhotes de galináceos). Cada filhote recebeu um de dois tipos de dieta disponíveis desde seu nascimento. Após 3 semanas de vida, o peso de cada filhote foi medido. Nosso propósito é verificar se existe diferença estatisticamente significativa entre os dois tipos de dietas. Isto é, nosso objetivo é verificar a veracidade da seguinte afirmação:\n",
        "\n",
        "> um dos tipos de dieta produz animais com uma média de pesos **diferente** do que o outro. \n",
        "\n",
        "**Solução**\n",
        "\n",
        "Vamos iniciar definindo as hipóteses nula e alternativa. Considere que $\\mu_d$ corresponda à diferença entre as médias de pesos das amostras.\n",
        "\n",
        "- $H_0: \\mu_{d} = 0$\n",
        "- $H_a: \\mu_{d} \\neq 0$"
      ]
    },
    {
      "cell_type": "markdown",
      "metadata": {
        "id": "BnxG2_ZMJQ0i"
      },
      "source": [
        "Agora, vamos fazer a carga dos dados."
      ]
    },
    {
      "cell_type": "code",
      "execution_count": 144,
      "metadata": {
        "colab": {
          "base_uri": "https://localhost:8080/"
        },
        "id": "jpwkiqiEq_Ih",
        "outputId": "5d02fcee-ecb9-4d81-dbdb-6d7ff8fc089d"
      },
      "outputs": [
        {
          "name": "stdout",
          "output_type": "stream",
          "text": [
            "(23, 2)\n"
          ]
        }
      ],
      "source": [
        "import pandas as pd\n",
        "\n",
        "df_chick = pd.read_csv('../data/ChickData.csv')\n",
        "\n",
        "print(df_chick.shape)"
      ]
    },
    {
      "cell_type": "code",
      "execution_count": 145,
      "metadata": {
        "colab": {
          "base_uri": "https://localhost:8080/",
          "height": 770
        },
        "id": "j7Ffc59Cwe85",
        "outputId": "148d0df2-9024-4121-bc1f-b45eaa9cbe61"
      },
      "outputs": [
        {
          "data": {
            "text/html": [
              "<div>\n",
              "<style scoped>\n",
              "    .dataframe tbody tr th:only-of-type {\n",
              "        vertical-align: middle;\n",
              "    }\n",
              "\n",
              "    .dataframe tbody tr th {\n",
              "        vertical-align: top;\n",
              "    }\n",
              "\n",
              "    .dataframe thead th {\n",
              "        text-align: right;\n",
              "    }\n",
              "</style>\n",
              "<table border=\"1\" class=\"dataframe\">\n",
              "  <thead>\n",
              "    <tr style=\"text-align: right;\">\n",
              "      <th></th>\n",
              "      <th>weight</th>\n",
              "      <th>feed</th>\n",
              "    </tr>\n",
              "  </thead>\n",
              "  <tbody>\n",
              "    <tr>\n",
              "      <th>0</th>\n",
              "      <td>325</td>\n",
              "      <td>meatmeal</td>\n",
              "    </tr>\n",
              "    <tr>\n",
              "      <th>1</th>\n",
              "      <td>257</td>\n",
              "      <td>meatmeal</td>\n",
              "    </tr>\n",
              "    <tr>\n",
              "      <th>2</th>\n",
              "      <td>303</td>\n",
              "      <td>meatmeal</td>\n",
              "    </tr>\n",
              "    <tr>\n",
              "      <th>3</th>\n",
              "      <td>315</td>\n",
              "      <td>meatmeal</td>\n",
              "    </tr>\n",
              "    <tr>\n",
              "      <th>4</th>\n",
              "      <td>380</td>\n",
              "      <td>meatmeal</td>\n",
              "    </tr>\n",
              "    <tr>\n",
              "      <th>5</th>\n",
              "      <td>153</td>\n",
              "      <td>meatmeal</td>\n",
              "    </tr>\n",
              "    <tr>\n",
              "      <th>6</th>\n",
              "      <td>263</td>\n",
              "      <td>meatmeal</td>\n",
              "    </tr>\n",
              "    <tr>\n",
              "      <th>7</th>\n",
              "      <td>242</td>\n",
              "      <td>meatmeal</td>\n",
              "    </tr>\n",
              "    <tr>\n",
              "      <th>8</th>\n",
              "      <td>206</td>\n",
              "      <td>meatmeal</td>\n",
              "    </tr>\n",
              "    <tr>\n",
              "      <th>9</th>\n",
              "      <td>344</td>\n",
              "      <td>meatmeal</td>\n",
              "    </tr>\n",
              "    <tr>\n",
              "      <th>10</th>\n",
              "      <td>258</td>\n",
              "      <td>meatmeal</td>\n",
              "    </tr>\n",
              "    <tr>\n",
              "      <th>11</th>\n",
              "      <td>368</td>\n",
              "      <td>casein</td>\n",
              "    </tr>\n",
              "    <tr>\n",
              "      <th>12</th>\n",
              "      <td>390</td>\n",
              "      <td>casein</td>\n",
              "    </tr>\n",
              "    <tr>\n",
              "      <th>13</th>\n",
              "      <td>379</td>\n",
              "      <td>casein</td>\n",
              "    </tr>\n",
              "    <tr>\n",
              "      <th>14</th>\n",
              "      <td>260</td>\n",
              "      <td>casein</td>\n",
              "    </tr>\n",
              "    <tr>\n",
              "      <th>15</th>\n",
              "      <td>404</td>\n",
              "      <td>casein</td>\n",
              "    </tr>\n",
              "    <tr>\n",
              "      <th>16</th>\n",
              "      <td>318</td>\n",
              "      <td>casein</td>\n",
              "    </tr>\n",
              "    <tr>\n",
              "      <th>17</th>\n",
              "      <td>352</td>\n",
              "      <td>casein</td>\n",
              "    </tr>\n",
              "    <tr>\n",
              "      <th>18</th>\n",
              "      <td>359</td>\n",
              "      <td>casein</td>\n",
              "    </tr>\n",
              "    <tr>\n",
              "      <th>19</th>\n",
              "      <td>216</td>\n",
              "      <td>casein</td>\n",
              "    </tr>\n",
              "    <tr>\n",
              "      <th>20</th>\n",
              "      <td>222</td>\n",
              "      <td>casein</td>\n",
              "    </tr>\n",
              "    <tr>\n",
              "      <th>21</th>\n",
              "      <td>283</td>\n",
              "      <td>casein</td>\n",
              "    </tr>\n",
              "    <tr>\n",
              "      <th>22</th>\n",
              "      <td>332</td>\n",
              "      <td>casein</td>\n",
              "    </tr>\n",
              "  </tbody>\n",
              "</table>\n",
              "</div>"
            ],
            "text/plain": [
              "    weight      feed\n",
              "0      325  meatmeal\n",
              "1      257  meatmeal\n",
              "2      303  meatmeal\n",
              "3      315  meatmeal\n",
              "4      380  meatmeal\n",
              "5      153  meatmeal\n",
              "6      263  meatmeal\n",
              "7      242  meatmeal\n",
              "8      206  meatmeal\n",
              "9      344  meatmeal\n",
              "10     258  meatmeal\n",
              "11     368    casein\n",
              "12     390    casein\n",
              "13     379    casein\n",
              "14     260    casein\n",
              "15     404    casein\n",
              "16     318    casein\n",
              "17     352    casein\n",
              "18     359    casein\n",
              "19     216    casein\n",
              "20     222    casein\n",
              "21     283    casein\n",
              "22     332    casein"
            ]
          },
          "execution_count": 145,
          "metadata": {},
          "output_type": "execute_result"
        }
      ],
      "source": [
        "df_chick.head(23)"
      ]
    },
    {
      "cell_type": "markdown",
      "metadata": {
        "id": "LryMP-o8iuky"
      },
      "source": [
        "Note pelo histograma abaixo que a amostra unificada não parece seguir a distribuição normal, o que exclui a possiblidade de aplicar um teste paramétrico como o $t$-teste, por exemplo."
      ]
    },
    {
      "cell_type": "code",
      "execution_count": 146,
      "metadata": {
        "colab": {
          "base_uri": "https://localhost:8080/",
          "height": 282
        },
        "id": "2nAm5ek2iep-",
        "outputId": "2e3958ac-2968-4349-eb8f-ca3b0b36c4e6"
      },
      "outputs": [
        {
          "data": {
            "text/plain": [
              "<Axes: >"
            ]
          },
          "execution_count": 146,
          "metadata": {},
          "output_type": "execute_result"
        },
        {
          "data": {
            "image/png": "[encoded data removed]",
            "text/plain": [
              "<Figure size 640x480 with 1 Axes>"
            ]
          },
          "metadata": {},
          "output_type": "display_data"
        }
      ],
      "source": [
        "df_chick.weight.hist()"
      ]
    },
    {
      "cell_type": "markdown",
      "metadata": {
        "id": "7TQJ89UYEg31"
      },
      "source": [
        "Repare que cada filhote recebeu um dos dois tipos de dieta (*meatmeal* ou *casein*)."
      ]
    },
    {
      "cell_type": "code",
      "execution_count": 147,
      "metadata": {
        "colab": {
          "base_uri": "https://localhost:8080/"
        },
        "id": "TxLuHagHwhQ7",
        "outputId": "51c00cc6-ffff-476f-854e-6eae22a311c6"
      },
      "outputs": [
        {
          "data": {
            "text/plain": [
              "array(['meatmeal', 'casein'], dtype=object)"
            ]
          },
          "execution_count": 147,
          "metadata": {},
          "output_type": "execute_result"
        }
      ],
      "source": [
        "df_chick.feed.unique()"
      ]
    },
    {
      "cell_type": "markdown",
      "metadata": {
        "id": "YrX-JTdgEpGn"
      },
      "source": [
        "Podemos também identificar os pesos (medidos após três semanas de vida) dos filhotes que receberam cada tipo de dieta, conforme os dois blocos de código abaixo. Esses dois conjuntos de pesos correspondem ao par de amostras original."
      ]
    },
    {
      "cell_type": "code",
      "execution_count": 148,
      "metadata": {
        "colab": {
          "base_uri": "https://localhost:8080/"
        },
        "id": "XCAkQm7jw9yC",
        "outputId": "2761d03d-fc1d-4ed8-c1e1-c6ca90780e05"
      },
      "outputs": [
        {
          "data": {
            "text/plain": [
              "[325, 257, 303, 315, 380, 153, 263, 242, 206, 344, 258]"
            ]
          },
          "execution_count": 148,
          "metadata": {},
          "output_type": "execute_result"
        }
      ],
      "source": [
        "df_chick.loc[df_chick['feed'] == 'meatmeal', 'weight'].tolist()"
      ]
    },
    {
      "cell_type": "code",
      "execution_count": 149,
      "metadata": {
        "colab": {
          "base_uri": "https://localhost:8080/"
        },
        "id": "D1bECXSLxVWu",
        "outputId": "834ad532-ca8d-44be-c80e-eefcc66df6aa"
      },
      "outputs": [
        {
          "data": {
            "text/plain": [
              "[368, 390, 379, 260, 404, 318, 352, 359, 216, 222, 283, 332]"
            ]
          },
          "execution_count": 149,
          "metadata": {},
          "output_type": "execute_result"
        }
      ],
      "source": [
        "df_chick.loc[df_chick['feed'] == 'casein', 'weight'].tolist()"
      ]
    },
    {
      "cell_type": "markdown",
      "metadata": {
        "id": "8owRHy7PE3Py"
      },
      "source": [
        "Agora, podemos computar a diferença observada entre as médias de pesos dos animais em cada tipo de dieta."
      ]
    },
    {
      "cell_type": "code",
      "execution_count": 150,
      "metadata": {
        "colab": {
          "base_uri": "https://localhost:8080/"
        },
        "id": "PZpXm7DGp0lB",
        "outputId": "f0769041-237f-4b8e-c4eb-1446d29e2d0e"
      },
      "outputs": [
        {
          "name": "stdout",
          "output_type": "stream",
          "text": [
            "276.90909090909093\n",
            "323.5833333333333\n",
            "301.2608695652174\n",
            "Diferença observada no par de amostras original: -46.67\n"
          ]
        }
      ],
      "source": [
        "import numpy as np\n",
        "\n",
        "list_meatmeal = df_chick.loc[df_chick['feed'] == 'meatmeal', 'weight'].tolist()\n",
        "list_casein = df_chick.loc[df_chick['feed'] == 'casein', 'weight'].tolist()\n",
        "\n",
        "agg_list = list_meatmeal + list_casein\n",
        "\n",
        "sample_meatmeal = np.array(list_meatmeal)\n",
        "sample_casein = np.array(list_casein)\n",
        "agg_sample = np.array(agg_list)\n",
        "\n",
        "print(sample_meatmeal.mean())\n",
        "print(sample_casein.mean())\n",
        "print(agg_sample.mean())\n",
        "\n",
        "observed_diff = sample_meatmeal.mean() - sample_casein.mean()\n",
        "print('Diferença observada no par de amostras original: %.2f' % observed_diff)"
      ]
    },
    {
      "cell_type": "markdown",
      "metadata": {
        "id": "7XHyb7VVJoyF"
      },
      "source": [
        "Agora vamos construir a distribuição da estatística. Para isso, precisamos inicialmente produzir diferentes pares de reamostras. Em seguida, para cada par de reamostra gerado, computamos a diferença entre suas médias de pesos. O conjunto de valores assim gerado é então usado para produzir uma estimativa da distribuição amostral da estatística de interesse."
      ]
    },
    {
      "cell_type": "code",
      "execution_count": 151,
      "metadata": {
        "id": "GWC19NYM-ReG"
      },
      "outputs": [],
      "source": [
        "import random\n",
        "\n",
        "debug = False\n",
        "\n",
        "a_perm = list_meatmeal + list_casein\n",
        "B = 10000 # total de pares de reamostras a ser gerado\n",
        "diffs = np.zeros(B)\n",
        "for i in range(B):\n",
        "  random.shuffle(a_perm)\n",
        "  mean_first_resample = np.array(a_perm[:12]).mean()\n",
        "  mean_second_resample = np.array(a_perm[12:]).mean()\n",
        "\n",
        "  if debug:\n",
        "    print(a_perm)\n",
        "    print(a_perm[:12])\n",
        "    print(a_perm[12:])\n",
        "    print()\n",
        "\n",
        "  diffs[i] = mean_first_resample - mean_second_resample"
      ]
    },
    {
      "cell_type": "markdown",
      "metadata": {
        "id": "1I4ATjVaPPcB"
      },
      "source": [
        "O código acima produz $10000$ pares de reamostras, cada um dos quais é usado para computar um valor da estatística."
      ]
    },
    {
      "cell_type": "code",
      "execution_count": 152,
      "metadata": {
        "colab": {
          "base_uri": "https://localhost:8080/"
        },
        "id": "EUv5UCQLQcLJ",
        "outputId": "9976acee-1970-480e-c509-033895d3615e"
      },
      "outputs": [
        {
          "data": {
            "text/plain": [
              "(10000,)"
            ]
          },
          "execution_count": 152,
          "metadata": {},
          "output_type": "execute_result"
        }
      ],
      "source": [
        "diffs.shape"
      ]
    },
    {
      "cell_type": "markdown",
      "metadata": {
        "id": "rGW9Fr1OQgdA"
      },
      "source": [
        "Para fins de inspeção, observe abaixo os primeiros quinze valores computados."
      ]
    },
    {
      "cell_type": "code",
      "execution_count": 153,
      "metadata": {
        "colab": {
          "base_uri": "https://localhost:8080/"
        },
        "id": "Ah8kBbLntKW9",
        "outputId": "9d5b683e-07fd-4a99-b8de-f6fdc4016071"
      },
      "outputs": [
        {
          "name": "stdout",
          "output_type": "stream",
          "text": [
            "[-55.43181818  -9.25757576   5.20454545  13.21969697  24.02272727\n",
            "   3.11363636  18.96969697   9.21212121  12.6969697   11.82575758\n",
            "  47.89393939  -2.28787879 -19.01515152  32.73484848  13.39393939]\n"
          ]
        }
      ],
      "source": [
        "print(diffs[:15])"
      ]
    },
    {
      "cell_type": "markdown",
      "metadata": {
        "id": "DxL_PZNeNEGI"
      },
      "source": [
        "Agora, tomando todos os $10000$ valores, podemos produzir o gráfico da distribuição amostral empírica (i.e., da distribuição nula) da estatística, conforme o bloco de código a seguir."
      ]
    },
    {
      "cell_type": "code",
      "execution_count": 154,
      "metadata": {
        "colab": {
          "base_uri": "https://localhost:8080/",
          "height": 265
        },
        "id": "oYn2X5yM5fze",
        "outputId": "b1143afd-68ee-47d4-c535-e23d1a75023b"
      },
      "outputs": [
        {
          "data": {
            "image/png": "[encoded data removed]",
            "text/plain": [
              "<Figure size 640x480 with 1 Axes>"
            ]
          },
          "metadata": {},
          "output_type": "display_data"
        }
      ],
      "source": [
        "import matplotlib.pyplot as plt\n",
        "\n",
        "_ = plt.hist(diffs, bins='auto')\n",
        "plt.axvline(observed_diff, c='r', linestyle='--');\n",
        "plt.axvline(-observed_diff, c='r', linestyle='--');"
      ]
    },
    {
      "cell_type": "markdown",
      "metadata": {
        "id": "eB0hdOwaWN5M"
      },
      "source": [
        "Repare que no gráfico da distribuição nula acima, também foi destacado o valor crítico em ambas as caudas da distribuição (linhas tracejadas em vermelho). O $p$-valor nesse caso corresponde à proporção de valores da estatística de teste que são iguais ou mais extremos do que o valor observado no par de amostras originais."
      ]
    },
    {
      "cell_type": "code",
      "execution_count": 155,
      "metadata": {
        "colab": {
          "base_uri": "https://localhost:8080/"
        },
        "id": "Ywidktx7sz8A",
        "outputId": "8649fc93-2caf-4906-8ac0-43a80b2c187b"
      },
      "outputs": [
        {
          "data": {
            "text/plain": [
              "9492"
            ]
          },
          "execution_count": 155,
          "metadata": {},
          "output_type": "execute_result"
        }
      ],
      "source": [
        "np.where(diffs > observed_diff)[0].shape[0]"
      ]
    },
    {
      "cell_type": "code",
      "execution_count": 156,
      "metadata": {
        "colab": {
          "base_uri": "https://localhost:8080/"
        },
        "id": "fY_UOKlytMmi",
        "outputId": "3c2c9d96-cc68-41ac-8546-c8dab5050990"
      },
      "outputs": [
        {
          "data": {
            "text/plain": [
              "9523"
            ]
          },
          "execution_count": 156,
          "metadata": {},
          "output_type": "execute_result"
        }
      ],
      "source": [
        "np.where(diffs < -observed_diff)[0].shape[0]"
      ]
    },
    {
      "cell_type": "code",
      "execution_count": 157,
      "metadata": {
        "colab": {
          "base_uri": "https://localhost:8080/"
        },
        "id": "P1nmVJ4SnT0B",
        "outputId": "19df14d5-a977-4a9f-8860-459002d237be"
      },
      "outputs": [
        {
          "data": {
            "text/plain": [
              "19015"
            ]
          },
          "execution_count": 157,
          "metadata": {},
          "output_type": "execute_result"
        }
      ],
      "source": [
        "np.where(diffs > observed_diff)[0].shape[0] + np.where(diffs < -observed_diff)[0].shape[0]"
      ]
    },
    {
      "cell_type": "markdown",
      "metadata": {
        "id": "Ldbq1z8DSX-t"
      },
      "source": [
        "Já que sabemos a quantidade de valores da estatística que são tão ou mais extremos do que o valor crítico, podemos usar essa quantidade para computar o $p$-valor.\n",
        "\n",
        "Repare que, diante da forma como a hipótese alternativa foi definida, devemos realizar um *teste bilateral*. Isso significa que devemos somar as quantidades de valores da estatística para ambas as caudas da distribuição."
      ]
    },
    {
      "cell_type": "code",
      "execution_count": 158,
      "metadata": {},
      "outputs": [
        {
          "data": {
            "text/plain": [
              "0.0985"
            ]
          },
          "execution_count": 158,
          "metadata": {},
          "output_type": "execute_result"
        }
      ],
      "source": [
        "p_val = np.mean(np.abs(diffs) >= abs(observed_diff))\n",
        "p_val"
      ]
    },
    {
      "cell_type": "markdown",
      "metadata": {
        "id": "ZgKJg3UNulTU"
      },
      "source": [
        "Se considerarmos que o nível de significância definido para o estudo foi $\\alpha = 0.05$, então a conclusão a que chegamos é a de que não podemos rejeitar a hipótese nula, visto que $p > \\alpha$. Sendo assim, não há evidência suficiente para afirmar que os dois tipos de dieta são diferentes em sua efetividade em termos de ganho de peso."
      ]
    },
    {
      "cell_type": "markdown",
      "metadata": {},
      "source": [
        "### Versão vetorizada"
      ]
    },
    {
      "cell_type": "code",
      "execution_count": 159,
      "metadata": {},
      "outputs": [
        {
          "name": "stdout",
          "output_type": "stream",
          "text": [
            "   weight      feed\n",
            "0     325  meatmeal\n",
            "1     257  meatmeal\n",
            "2     303  meatmeal\n",
            "3     315  meatmeal\n",
            "4     380  meatmeal\n",
            "Dietas disponíveis: ['meatmeal' 'casein']\n",
            "Tamanho do grupo 1 (meatmeal): 11\n",
            "Tamanho do grupo 2 (casein): 12\n",
            "Diferença observada entre as médias: -46.67\n",
            "p-valor (bicaudal): 0.0997\n"
          ]
        },
        {
          "data": {
            "image/png": "[encoded data removed]",
            "text/plain": [
              "<Figure size 800x500 with 1 Axes>"
            ]
          },
          "metadata": {},
          "output_type": "display_data"
        },
        {
          "name": "stdout",
          "output_type": "stream",
          "text": [
            "ℹ️ Não há evidência estatisticamente significativa de diferença entre as dietas (falhamos em rejeitar H0).\n"
          ]
        }
      ],
      "source": [
        "# ============================================================\n",
        "# Teste de Permutação Bicaudal: Dados ChickData.csv (GitHub)\n",
        "# ============================================================\n",
        "\n",
        "import numpy as np\n",
        "import pandas as pd\n",
        "import matplotlib.pyplot as plt\n",
        "\n",
        "# ------------------------------\n",
        "# 1. Ler o arquivo de dados diretamente do GitHub\n",
        "# ------------------------------\n",
        "url = \"../data/ChickData.csv\"\n",
        "df = pd.read_csv(url)\n",
        "print(df.head())\n",
        "\n",
        "# ------------------------------\n",
        "# 2. Inspecionar os grupos\n",
        "# ------------------------------\n",
        "grupos = df['feed'].unique()\n",
        "print(f\"Dietas disponíveis: {grupos}\")\n",
        "\n",
        "grupo1 = df.loc[df['feed'] == grupos[0], 'weight'].values\n",
        "grupo2 = df.loc[df['feed'] == grupos[1], 'weight'].values\n",
        "\n",
        "print(f\"Tamanho do grupo 1 ({grupos[0]}): {len(grupo1)}\")\n",
        "print(f\"Tamanho do grupo 2 ({grupos[1]}): {len(grupo2)}\")\n",
        "\n",
        "# ------------------------------\n",
        "# 3. Estatística observada\n",
        "# ------------------------------\n",
        "observed_diff = np.mean(grupo1) - np.mean(grupo2)\n",
        "print(f\"Diferença observada entre as médias: {observed_diff:.2f}\")\n",
        "\n",
        "# ------------------------------\n",
        "# 4. Teste de permutação (bicaudal)\n",
        "# ------------------------------\n",
        "n_perm = 10_000\n",
        "combined = np.concatenate([grupo1, grupo2])\n",
        "\n",
        "# Gerar todas as permutações de forma vetorizada\n",
        "idx = np.array([np.random.permutation(len(combined)) for _ in range(n_perm)])\n",
        "grupoA = combined[idx[:, :len(grupo1)]]\n",
        "grupoB = combined[idx[:, len(grupo1):]]\n",
        "diffs_perm = grupoA.mean(axis=1) - grupoB.mean(axis=1)\n",
        "\n",
        "# p-valor bicaudal\n",
        "p_val = np.mean(np.abs(diffs_perm) >= abs(observed_diff))\n",
        "print(f\"p-valor (bicaudal): {p_val:.4f}\")\n",
        "\n",
        "# ------------------------------\n",
        "# 5. Visualização\n",
        "# ------------------------------\n",
        "plt.figure(figsize=(8,5))\n",
        "plt.hist(diffs_perm, bins=30, color='lightgray', edgecolor='black', density=True)\n",
        "plt.axvline(observed_diff, color='red', linestyle='--', linewidth=2,\n",
        "            label=f'Obs. diff = {observed_diff:.2f}')\n",
        "plt.axvline(-observed_diff, color='red', linestyle='--', linewidth=2)\n",
        "plt.title('Distribuição nula (permutada) da diferença de médias')\n",
        "plt.xlabel(f'Diferença média ({grupos[0]} - {grupos[1]})')\n",
        "plt.ylabel('Densidade')\n",
        "plt.legend()\n",
        "plt.show()\n",
        "\n",
        "# ------------------------------\n",
        "# 6. Conclusão\n",
        "# ------------------------------\n",
        "alpha = 0.05\n",
        "if p_val < alpha:\n",
        "    print(\"✅ Evidência significativa de que as médias de peso diferem entre as dietas (rejeitamos H0).\")\n",
        "else:\n",
        "    print(\"ℹ️ Não há evidência estatisticamente significativa de diferença entre as dietas (falhamos em rejeitar H0).\")"
      ]
    },
    {
      "cell_type": "markdown",
      "metadata": {},
      "source": [
        "## Exemplo 3 - Dados categóricos\n",
        "\n",
        "O teste de permutação também pode ser usado com dados categóricos, principalmente quando queremos verificar se duas variáveis categóricas são independentes. \n",
        "\n",
        "Um exemplo clássico: verificar se a proporção de sucessos difere entre dois grupos — ou seja, se a distribuição de uma variável binária difere entre dois níveis de uma variável de agrupamento. \n",
        "\n",
        "Considere que:\n",
        "\n",
        "- Temos duas versões de uma campanha de marketing: Grupo A e Grupo B.\n",
        "\n",
        "- Em cada grupo, medimos sucesso (1) ou fracasso (0).\n",
        "\n",
        "> Queremos saber: há evidência de que as taxas de sucesso são diferentes entre os grupos?\n",
        "\n",
        "Veja o código abaixo."
      ]
    },
    {
      "cell_type": "code",
      "execution_count": 160,
      "metadata": {},
      "outputs": [
        {
          "name": "stdout",
          "output_type": "stream",
          "text": [
            "Diferença observada nas proporções: 0.280\n",
            "Valor-p (teste bilateral): 0.0060\n"
          ]
        },
        {
          "data": {
            "image/png": "[encoded data removed]",
            "text/plain": [
              "<Figure size 640x480 with 1 Axes>"
            ]
          },
          "metadata": {},
          "output_type": "display_data"
        }
      ],
      "source": [
        "import numpy as np\n",
        "import matplotlib.pyplot as plt\n",
        "\n",
        "# ---------------------------\n",
        "# 1. Dados simulados\n",
        "# ---------------------------\n",
        "np.random.seed(42)\n",
        "group_A = np.random.binomial(n=1, p=0.30, size=50)  # 30% sucesso\n",
        "group_B = np.random.binomial(n=1, p=0.50, size=50)  # 50% sucesso\n",
        "\n",
        "# Estatística observada: diferença nas proporções de sucesso\n",
        "obs_diff = np.mean(group_B) - np.mean(group_A)\n",
        "print(f\"Diferença observada nas proporções: {obs_diff:.3f}\")\n",
        "\n",
        "# ---------------------------\n",
        "# 2. Permutation test\n",
        "# ---------------------------\n",
        "combined = np.concatenate([group_A, group_B])\n",
        "n_A = len(group_A)\n",
        "n_permutations = 10000\n",
        "perm_diffs = []\n",
        "\n",
        "for _ in range(n_permutations):\n",
        "    permuted = np.random.permutation(combined)\n",
        "    perm_A = permuted[:n_A]\n",
        "    perm_B = permuted[n_A:]\n",
        "    diff = np.mean(perm_B) - np.mean(perm_A)\n",
        "    perm_diffs.append(diff)\n",
        "\n",
        "perm_diffs = np.array(perm_diffs)\n",
        "\n",
        "# ---------------------------\n",
        "# 3. Valor-p (teste bilateral)\n",
        "# ---------------------------\n",
        "p_value = np.mean(np.abs(perm_diffs) >= np.abs(obs_diff))\n",
        "print(f\"Valor-p (teste bilateral): {p_value:.4f}\")\n",
        "\n",
        "# ---------------------------\n",
        "# 4. Visualização\n",
        "# ---------------------------\n",
        "plt.hist(perm_diffs, bins=40, color='lightgreen', edgecolor='k')\n",
        "plt.axvline(obs_diff, color='red', linestyle='--', label='Obs. diff')\n",
        "plt.axvline(-obs_diff, color='red', linestyle='--')\n",
        "plt.title('Distribuição de Permutação da Diferença de Proporções')\n",
        "plt.xlabel('Diferença de Proporções (perm.)')\n",
        "plt.ylabel('Frequência')\n",
        "plt.legend()\n",
        "plt.show()\n"
      ]
    },
    {
      "cell_type": "markdown",
      "metadata": {},
      "source": [
        "O teste acima avalia se as proporções de sucesso entre os grupos A e B são estatisticamente diferentes. Como nos casos contínuos, o valor-p é a fração de permutações em que a diferença de proporções é tão (ou mais) extrema do que a observada.\n",
        "\n",
        "Conclusão do teste:\n",
        "- Visto que $p < \\alpha$, rejeitamos a hipótese nula $H_0$ .\n",
        "- Isso significa que há evidência estatística significativa de que as proporções de sucesso nos grupos A e B são diferentes.\n",
        "- Ou seja, a diferença observada (de 20 pontos percentuais) dificilmente ocorreria por acaso, se os dois grupos tivessem a mesma taxa de sucesso."
      ]
    },
    {
      "cell_type": "markdown",
      "metadata": {
        "id": "-IHqhYI8H8wJ"
      },
      "source": [
        "# Referências comentadas\n",
        "\n",
        "- Veja esse [vídeo](https://youtu.be/xRzEWLfEEIA) para uma demonstração de como o teste apresentado aqui pode ser realizado em R.\n",
        "- Este [capítulo do livro](https://www.macmillanlearning.com/studentresources/college/statistics/bps8e/web_exercises/42578_ch32_online.pdf) também é relevante para o conteúdo aqui apresentado."
      ]
    }
  ],
  "metadata": {
    "colab": {
      "provenance": []
    },
    "kernelspec": {
      "display_name": "gcc1625",
      "language": "python",
      "name": "python3"
    },
    "language_info": {
      "codemirror_mode": {
        "name": "ipython",
        "version": 3
      },
      "file_extension": ".py",
      "mimetype": "text/x-python",
      "name": "python",
      "nbconvert_exporter": "python",
      "pygments_lexer": "ipython3",
      "version": "3.12.7"
    }
  },
  "nbformat": 4,
  "nbformat_minor": 0
}
