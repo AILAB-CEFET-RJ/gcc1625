{
  "cells": [
    {
      "cell_type": "markdown",
      "metadata": {
        "id": "_JXeU7Bxbhxw"
      },
      "source": [
        "# Revisão: distribuições amostrais (*sampling distributions*)\n",
        "\n",
        "Chamamos de *distribuição amostral* à distribuição de probabilidades de estatística (que é uma variável aleatória cujos valores são produzidos aplicando uma função ao elementos de uma amostra). Pode ser considerada como a distribuição da estatística para todas as amostras possíveis da mesma população para um determinado tamanho de amostra.\n",
        "\n",
        "O desvio padrão da distribuição amostral de uma estatística é conhecido como o **erro padrão** (*standard error*). Por exemplo, para o caso em que a estatística é a média amostral $\\bar{x}$, o erro padrão é computado por meio da aplicação do TLC:\n",
        "\n",
        "$$\n",
        "\\sigma_{\\bar{x}} = \\frac{\\sigma}{\\sqrt{n}}\n",
        "$$\n",
        "\n",
        "Recorde também que todos os procedimentos para estimar parâmetros e para testar hipóteses que estudamos até aqui possuem certas pressuposições sobre a população. Chamamos essas pressuposições de *condições de aplicabilidade*.\n",
        "- “a variância da população é conhecida”\n",
        "- “a população é aproximadamente normal”\n",
        "- “as variâncias das amostras são aproximadamente iguais”\n",
        "\n",
        "Métodos estatísticos que presumem algo acerca da distribuição da população em estudo são denominados *paramétricos*. Algum testes paramétricos que já estudamos: $z$-teste, $t$-teste, ANOVA).\n",
        "\n",
        "Mas, e se tivermos apenas a amostra e não sabemos nada sobre a população? Ou se não podemos atender às condições de aplicabilidade do teste paramétrico que planejamos usar?\n",
        "Nesses casos, uma alternativa é usar *métodos não paramétricos*. Um desses métodos é o denominado teste de permutação."
      ]
    },
    {
      "cell_type": "markdown",
      "metadata": {
        "id": "xqLF0ub0BEui"
      },
      "source": [
        "# Introdução\n",
        "\n",
        "Considere um teste de hipóteses sobre duas amostras em que queremos verificar se essas amostras são ou não provenientes da mesma população. Já estudamos abordagens paramétricas para realizar essa tarefa ($z$-teste, $t$-teste, ANOVA). Agora, vamos estudar uma abordagem não-paramétrica para realizar esse tipo de teste. Essa abordagem é denominada teste de permutação (*permutation test*).\n",
        "\n",
        "> Quando usar o teste de permutação? Quando os tamanhos amostrais são muito pequenos e, portanto, é difícil verificar o pressuposto de normalidade, o teste de permutação é uma boa alternativa ao teste t convencional ou ao teste t de Welch.\n",
        "\n",
        "Considere duas amostras em que cada indivíduo (observação) está associado a um rótulo que identifica a que amostra o indivíduo pertence. Nesse contexto, podemos definir a hipótese nula da seguinte forma:\n",
        "\n",
        "> $H_0$: \"não há diferença estatisticamente significativa entre as médias das duas amostras\".\n",
        "\n",
        "Suponha que a hipótese nula seja verdadeira. Nesse caso, as duas amostras de observações são provenientes da mesma população, e qualquer diferença entre as suas médias se deve única e exclusivamente ao acaso. Isso significa mais ainda que os rótulos que identificam a que amostra cada indivíduo pertence são irrelevantes e poderíamos permutar indíviduos entre as duas amostras sem mudança no resultado do teste.\n",
        "\n",
        "A argumentação acima sugere um procedimento para criar uma aproximação para a *distribuição nula* (i.e., a distribuição amostral da estatística de interesse, supondo que a hipótese nula seja verdadeira). Vamos descrever esse procedimento em seguida."
      ]
    },
    {
      "cell_type": "markdown",
      "metadata": {
        "id": "nWsoQDcyYQCm"
      },
      "source": [
        "# Geração da distribuição nula\n",
        "\n",
        "O procedimento para gerar uma aproximação para a distribuição nula envolve criar muitos pares de **reamostras** a partir do par de amostras originais. Cada par de reamostras é criado permutando aleatoriamente os indivíduos do par de amostras originais. Após a criação das reamostras, computamos a estatística de teste para cada uma delas. Esse conjunto de valores é então usado para produzir uma aproximação para a distribuição nula.\n",
        "\n",
        "> Se as duas amostras originais são provenientes da mesma população, então cada amostra permutada terá a mesma probabilidade de ocorrer como qualquer outra. Portanto, quaisquer diferenças observadas serão pequenas e aleatórias se $H_0$ for verdadeiro.\n",
        "\n",
        "Pelo exposto acima, podemos definir o procedimento para gerar a distribuição nula. Esse procedimento é descrito a seguir."
      ]
    },
    {
      "cell_type": "markdown",
      "metadata": {
        "id": "1khZjY-Zp0Jd"
      },
      "source": [
        "### Procedimento (geração da distribuição nula)\n",
        "\n",
        "Entrada: duas amostras de tamanhos $n_1$ e $n_2$, respectivamente.\n",
        "\n",
        "1. Calcule as médias das observações em cada grupo ($\\overline{x}_{1}$ e $\\overline{x}_{2}$) e determine a diferença $d = \\overline{x}_{1} - \\overline{x}_{2}$.\n",
        "\n",
        "2. Agrupe as observações das duas amostras, o que resulta em uma única amostra.\n",
        "\n",
        "3. Permute aleatoriamente as observações agrupadas na amostra única. (Ou seja, reorganize a ordem dos dados agrupados de maneira aleatória.)\n",
        "\n",
        "4. Calcule a média da amostra para as primeiras $n_1$ observações resultantes da etapa 3. Em seguida, calcule a média da amostra das $n_2$ observações restantes.\n",
        "\n",
        "5. Repita as etapas 3 e 4 por $B$ iterações e compute as diferenças entre as médias das remostras resultantes: $d_1,\\ldots, d_B$.\n",
        "\n",
        "Se repetirmos o procedimento descrito acima de permutar aleatoriamente os dados agrupados $B$ vezes, o resultado será um conjunto de $B$ diferenças entre as médias amostrais resultantes, que rotulamos como $d_1, \\ldots, d_B$. Esses valores são então usados para gerar a aproximação para a distribuição nula."
      ]
    },
    {
      "cell_type": "markdown",
      "metadata": {
        "id": "puykYe_XEwPW"
      },
      "source": [
        "### Exemplo\n",
        "\n",
        "Para ilustrar a aplicação do procedimento acima, considere as duas amostras abaixo, de tamanhos $n_1 = 4$ e $n_2 = 5$.\n",
        "\n",
        "- Grupo 1:\t$6,\t19,\t34,\t15$\n",
        "- Grupo 2:\t$9,\t21,\t8,\t53, 25$\n",
        "\n",
        "Os passos do procedimento aplicados neste caso são descritos a seguir.\n",
        "\n",
        "1. Conforme descrito no passo 1, computamos a média do grupo 1 é ($\\overline{x}_1 = 18.5$), e do grupo 2 ($\\overline{x}_2 = 23.2$). Computamos também a diferença entre essas médias: $d = 18.5 - 23.2 = -4.7$\n",
        "\n",
        "2. Agora agrupamos as observações de ambos os grupos, o que produz o seguinte:\n",
        "\n",
        "$$\n",
        "6,\t19,\t34,\t15, 9,\t21,\t8,\t53, 25\n",
        "$$\n",
        "\n",
        "3. Em seguida, permutamos os dados agrupados de forma aleatória. Para fins ilustrativos, suponha que o resultado da permutação seja: $34, 21, 8, 25, 6, 19, 15, 9, 53$. Essa permutação corresponde ao seguinte par de reamostras:\n",
        "\n",
        "  - $R_1$: $34, 21, 8, 25$\n",
        "  - R$_2$: $6, 19, 15, 9, 53$\n",
        "\n",
        "4. A média amostral para a $R_1$ é igual a $22$, e para $R_2$ é igual a $20.4$. Sendo assim, a diferença entre essas médias é $d_1 = 22 - 20.4 = 1.6$."
      ]
    },
    {
      "cell_type": "markdown",
      "metadata": {
        "id": "4ljSbPQlQNYs"
      },
      "source": [
        "### Quantidade de reamostras"
      ]
    },
    {
      "cell_type": "markdown",
      "metadata": {
        "id": "yIG9r4AAQ9lk"
      },
      "source": [
        "No exemplo acima, repare que construímos um par de reamostras, de vários pares que poderiam ser construídos.\n",
        "\n",
        "Você deve perceber que, para amostras originais de tamanhos $n_1$ e $n_2$, existem $(n_1+n_2)!$ permutações possíveis. Contudo, visto que a ordem dos elementos dentro de cada reamostra não é relevante, esse valor não corresponde à quantidade de reamostras possíveis. Em geral, dados o par de amostras originais de tamanhos $n_1$ e $n_2$, a quantidade de pares de reamostras possíveis que podem ser geradas é computada pela expressão a seguir:\n",
        "\n",
        "$$\n",
        "\\text{quantidade de pares de reamostras} = \\frac{(n_1 + n_2)!}{n_1!n_2!}\n",
        "$$\n",
        "\n",
        "O trecho de código a seguir ilustra de que forma essa quantidade pode ser computada usando a biblioteca itertools do Python."
      ]
    },
    {
      "cell_type": "code",
      "execution_count": null,
      "metadata": {
        "colab": {
          "base_uri": "https://localhost:8080/"
        },
        "id": "jvFMe1VHUD5h",
        "outputId": "7b391ba7-03ae-466c-a239-753210d93f06"
      },
      "outputs": [
        {
          "name": "stdout",
          "output_type": "stream",
          "text": [
            "Há 5200300 reamostras possíveis.\n"
          ]
        }
      ],
      "source": [
        "import itertools\n",
        "import numpy as np\n",
        "\n",
        "a = [2, 3, 4, 1, 2, 3, 4, 1, 2, 3, 4, 1, 0]\n",
        "b = [35, 36, 37, 40, 50, 70, 60, 48, 50, 70, 60, 48]\n",
        "\n",
        "uniao = a + b\n",
        "reamostras = list(itertools.combinations(uniao, len(a)))\n",
        "\n",
        "print(f\"Há {len(reamostras)} pares de reamostras possíveis.\")"
      ]
    },
    {
      "cell_type": "markdown",
      "metadata": {
        "id": "QSVSiKVvJ9Jr"
      },
      "source": [
        "Conforme ilustra a figura a seguir ([fonte](https://www.digitalocean.com/community/tutorials/js-big-o-notation)), a função fatorial cresce de forma muito acelerada.\n",
        "\n",
        "![texto do link](https://assets.digitalocean.com/articles/alligator/js/big-o-notation/o-complexity.png)\n",
        "\n",
        "Para fins de comparação, considere os valores a seguir:\n",
        "\n",
        "$$\n",
        "\\begin{align}\n",
        "\\frac{5!}{e^5} & \\approx 0.81 \\\\\n",
        "\\\\\n",
        "\\frac{10!}{e^{10}} & \\approx 164.7 \\\\\n",
        "\\\\\n",
        "\\frac{15!}{e^{15}} & \\approx 400000 \\\\\n",
        "\\\\\n",
        "\\frac{20!}{e^{20}} &\\approx 5014584787 \\\\\n",
        "\\\\\n",
        "\\frac{25!}{e^{25}} &\\approx 2 \\times 10^{14}\n",
        "\\end{align}\n",
        "$$\n",
        "\n",
        "Esse crescimento acelerado da função fatorial inviabiliza a geração de todas as reamostras possíveis, mesmo para valores modestos (i.e., pequenos) de $n_1 + n_2$. Por conta disso, normalmente um valor $B$ igual a 10000 para a quantiade de reamostras é normalmente usado na prática."
      ]
    },
    {
      "cell_type": "markdown",
      "metadata": {
        "id": "NkZD8oxRKRnq"
      },
      "source": [
        "## Relação entre distribuição nula e $p$-valor\n",
        "\n",
        "Lembre-se de que, para aplicar um teste de hipóteses, precisamos computar o $p$-valor correspondente ao valor da estatística de teste resultante do par de amostras originais.\n",
        "\n",
        "A definição do $p$-value para o teste de permutação é a mesma que utilizamos nos testes paramétricos: probabilidade de obter o resultado observado da estatística de teste (ou um mais extremo), presumindo que a hipótese nula seja verdadeira. Entretanto, como no teste de permutação a distribuição nula (i.e., a distribuição amostral da estatística de teste considerando que a hipótese nula é verdadeira) não corresponde a uma distribuição teórica (como a distribuição normal ou a distribuição t), o que devemos fazer é calcular o $p$-value como a proporção dos valores no histograma da distribuição nula que são iguais ou mais extremos do que o valor observado no par de amostras original.\n",
        "\n",
        "A animação a seguir ([fonte](https://en.wikipedia.org/wiki/Permutation_test)) ilustra de que forma a sequências de passos do procedimento descrito acima pode gerar a distribuição nula para uma estatística de interesse. Ela ilustra também a relação dessa distribuição com o $p$-valor. Em particular, o $p$-valor é computado como a fração de diferenças maiores ou iguais à diferença entre as amostras originais.\n",
        "\n",
        "![texto do link](https://upload.wikimedia.org/wikipedia/commons/1/12/Permutation_test_example_animation.gif)"
      ]
    },
    {
      "cell_type": "markdown",
      "metadata": {
        "id": "1USQ4P5QX9N_"
      },
      "source": [
        "## Aplicação do teste\n",
        "\n",
        "Uma vez que o $p$-value tenha sido computado, devemos compará-lo a um nível de significância fornecido para finalmente definir o resultado do teste:\n",
        "\n",
        "- se $p < \\alpha$, há evidência para rejeitar $H_0$\n",
        "- se $p \\geq \\alpha$, falhamos em rejeitar $H_0$"
      ]
    },
    {
      "cell_type": "markdown",
      "metadata": {},
      "source": [
        "# Estudo de Caso I - Dados sintéticos"
      ]
    },
    {
      "cell_type": "code",
      "execution_count": 4,
      "metadata": {},
      "outputs": [
        {
          "name": "stdout",
          "output_type": "stream",
          "text": [
            "Observed Difference in Means: -5.67\n",
            "P-value: 0.0196\n"
          ]
        },
        {
          "data": {
            "image/png": "[encoded data removed]",
            "text/plain": [
              "<Figure size 640x480 with 1 Axes>"
            ]
          },
          "metadata": {},
          "output_type": "display_data"
        }
      ],
      "source": [
        "import numpy as np\n",
        "import matplotlib.pyplot as plt\n",
        "\n",
        "def permutation_test(group1, group2, num_permutations=1000):\n",
        "    \"\"\"\n",
        "    Perform a permutation test to compare the means of two groups.\n",
        "\n",
        "    Parameters:\n",
        "        group1 (array-like): Data for the first group.\n",
        "        group2 (array-like): Data for the second group.\n",
        "        num_permutations (int): Number of permutations to perform.\n",
        "\n",
        "    Returns:\n",
        "        p_value (float): The p-value of the test.\n",
        "    \"\"\"\n",
        "    # Calculate the observed difference in means\n",
        "    observed_diff = np.mean(group1) - np.mean(group2)\n",
        "\n",
        "    # Combine both groups into a single array\n",
        "    combined = np.concatenate([group1, group2])\n",
        "\n",
        "    # Perform permutations\n",
        "    perm_diffs = []\n",
        "    for _ in range(num_permutations):\n",
        "        # Shuffle the combined data\n",
        "        np.random.shuffle(combined)\n",
        "        \n",
        "        # Split the shuffled data into two groups of the same size as the original groups\n",
        "        perm_group1 = combined[:len(group1)]\n",
        "        perm_group2 = combined[len(group1):]\n",
        "        \n",
        "        # Compute the difference in means for the permuted groups\n",
        "        perm_diffs.append(np.mean(perm_group1) - np.mean(perm_group2))\n",
        "\n",
        "    # Convert perm_diffs to a NumPy array for easier computation\n",
        "    perm_diffs = np.array(perm_diffs)\n",
        "\n",
        "    # Compute the p-value\n",
        "    p_value = np.mean(np.abs(perm_diffs) >= np.abs(observed_diff))\n",
        "\n",
        "    return observed_diff, perm_diffs, p_value\n",
        "\n",
        "# Example usage\n",
        "np.random.seed(42)  # For reproducibility\n",
        "\n",
        "# Generate synthetic data for two groups\n",
        "group1 = np.random.normal(50, 10, 30)  # Group 1: mean=50, std=10, n=30\n",
        "group2 = np.random.normal(55, 10, 30)  # Group 2: mean=55, std=10, n=30\n",
        "\n",
        "# Perform the permutation test\n",
        "observed_diff, perm_diffs, p_value = permutation_test(group1, group2, num_permutations=10000)\n",
        "\n",
        "# Print the results\n",
        "print(f\"Observed Difference in Means: {observed_diff:.2f}\")\n",
        "print(f\"P-value: {p_value:.4f}\")\n",
        "\n",
        "# Visualize the permutation distribution\n",
        "plt.hist(perm_diffs, bins=30, alpha=0.7, color='skyblue', edgecolor='black')\n",
        "plt.axvline(observed_diff, color='red', linestyle='dashed', label=f'Observed Diff = {observed_diff:.2f}')\n",
        "plt.axvline(-observed_diff, color='red', linestyle='dashed')\n",
        "plt.title('Permutation Test: Distribution of Differences in Means')\n",
        "plt.xlabel('Difference in Means')\n",
        "plt.ylabel('Frequency')\n",
        "plt.legend()\n",
        "plt.show()"
      ]
    },
    {
      "cell_type": "markdown",
      "metadata": {
        "id": "JOSQgw9vGYpg"
      },
      "source": [
        "# Estudo de Caso II - Chichen Data\n",
        "\n",
        "Neste estudo de caso, vamos exemplificar a aplicação do teste de permutação usando os dados contidos no arquivo ChickData.csv. Esse arquivo contém observações sobre animais (filhotes de galináceos). Cada filhote recebeu um de dois tipos de dieta disponíveis desde seu nascimento. Após 3 semanas de vida, o peso de cada filhote foi medido. Nosso propósito é verificar se existe diferença estatisticamente significativa entre os dois tipos de dietas. Isto é, nosso objetivo é verificar a veracidade da seguinte afirmação:\n",
        "\n",
        "> um dos tipos de dieta produz animais com uma média de pesos **diferente** do que o outro. \n",
        "\n",
        "Considere que o nível de significância definido para este estudo é $\\alpha=0.05$.\n",
        "\n",
        "Vamos iniciar definindo as hipóteses nula e alternativa. Considere que $\\mu_d$ corresponda à diferença entre as médias de pesos das amostras.\n",
        "\n",
        "- $H_0: \\mu_{d} = 0$\n",
        "- $H_a: \\mu_{d} \\neq 0$"
      ]
    },
    {
      "cell_type": "markdown",
      "metadata": {
        "id": "BnxG2_ZMJQ0i"
      },
      "source": [
        "Agora, vamos fazer a carga dos dados."
      ]
    },
    {
      "cell_type": "code",
      "execution_count": null,
      "metadata": {
        "colab": {
          "base_uri": "https://localhost:8080/"
        },
        "id": "jpwkiqiEq_Ih",
        "outputId": "5d02fcee-ecb9-4d81-dbdb-6d7ff8fc089d"
      },
      "outputs": [
        {
          "name": "stdout",
          "output_type": "stream",
          "text": [
            "(23, 2)\n"
          ]
        }
      ],
      "source": [
        "import pandas as pd\n",
        "\n",
        "df_chick = pd.read_csv('./ChickData.csv')\n",
        "\n",
        "print(df_chick.shape)"
      ]
    },
    {
      "cell_type": "code",
      "execution_count": null,
      "metadata": {
        "colab": {
          "base_uri": "https://localhost:8080/",
          "height": 770
        },
        "id": "j7Ffc59Cwe85",
        "outputId": "148d0df2-9024-4121-bc1f-b45eaa9cbe61"
      },
      "outputs": [
        {
          "data": {
            "text/html": [
              "\n",
              "  <div id=\"df-d18fd755-2896-491d-bee7-460f15fb2818\">\n",
              "    <div class=\"colab-df-container\">\n",
              "      <div>\n",
              "<style scoped>\n",
              "    .dataframe tbody tr th:only-of-type {\n",
              "        vertical-align: middle;\n",
              "    }\n",
              "\n",
              "    .dataframe tbody tr th {\n",
              "        vertical-align: top;\n",
              "    }\n",
              "\n",
              "    .dataframe thead th {\n",
              "        text-align: right;\n",
              "    }\n",
              "</style>\n",
              "<table border=\"1\" class=\"dataframe\">\n",
              "  <thead>\n",
              "    <tr style=\"text-align: right;\">\n",
              "      <th></th>\n",
              "      <th>weight</th>\n",
              "      <th>feed</th>\n",
              "    </tr>\n",
              "  </thead>\n",
              "  <tbody>\n",
              "    <tr>\n",
              "      <th>0</th>\n",
              "      <td>325</td>\n",
              "      <td>meatmeal</td>\n",
              "    </tr>\n",
              "    <tr>\n",
              "      <th>1</th>\n",
              "      <td>257</td>\n",
              "      <td>meatmeal</td>\n",
              "    </tr>\n",
              "    <tr>\n",
              "      <th>2</th>\n",
              "      <td>303</td>\n",
              "      <td>meatmeal</td>\n",
              "    </tr>\n",
              "    <tr>\n",
              "      <th>3</th>\n",
              "      <td>315</td>\n",
              "      <td>meatmeal</td>\n",
              "    </tr>\n",
              "    <tr>\n",
              "      <th>4</th>\n",
              "      <td>380</td>\n",
              "      <td>meatmeal</td>\n",
              "    </tr>\n",
              "    <tr>\n",
              "      <th>5</th>\n",
              "      <td>153</td>\n",
              "      <td>meatmeal</td>\n",
              "    </tr>\n",
              "    <tr>\n",
              "      <th>6</th>\n",
              "      <td>263</td>\n",
              "      <td>meatmeal</td>\n",
              "    </tr>\n",
              "    <tr>\n",
              "      <th>7</th>\n",
              "      <td>242</td>\n",
              "      <td>meatmeal</td>\n",
              "    </tr>\n",
              "    <tr>\n",
              "      <th>8</th>\n",
              "      <td>206</td>\n",
              "      <td>meatmeal</td>\n",
              "    </tr>\n",
              "    <tr>\n",
              "      <th>9</th>\n",
              "      <td>344</td>\n",
              "      <td>meatmeal</td>\n",
              "    </tr>\n",
              "    <tr>\n",
              "      <th>10</th>\n",
              "      <td>258</td>\n",
              "      <td>meatmeal</td>\n",
              "    </tr>\n",
              "    <tr>\n",
              "      <th>11</th>\n",
              "      <td>368</td>\n",
              "      <td>casein</td>\n",
              "    </tr>\n",
              "    <tr>\n",
              "      <th>12</th>\n",
              "      <td>390</td>\n",
              "      <td>casein</td>\n",
              "    </tr>\n",
              "    <tr>\n",
              "      <th>13</th>\n",
              "      <td>379</td>\n",
              "      <td>casein</td>\n",
              "    </tr>\n",
              "    <tr>\n",
              "      <th>14</th>\n",
              "      <td>260</td>\n",
              "      <td>casein</td>\n",
              "    </tr>\n",
              "    <tr>\n",
              "      <th>15</th>\n",
              "      <td>404</td>\n",
              "      <td>casein</td>\n",
              "    </tr>\n",
              "    <tr>\n",
              "      <th>16</th>\n",
              "      <td>318</td>\n",
              "      <td>casein</td>\n",
              "    </tr>\n",
              "    <tr>\n",
              "      <th>17</th>\n",
              "      <td>352</td>\n",
              "      <td>casein</td>\n",
              "    </tr>\n",
              "    <tr>\n",
              "      <th>18</th>\n",
              "      <td>359</td>\n",
              "      <td>casein</td>\n",
              "    </tr>\n",
              "    <tr>\n",
              "      <th>19</th>\n",
              "      <td>216</td>\n",
              "      <td>casein</td>\n",
              "    </tr>\n",
              "    <tr>\n",
              "      <th>20</th>\n",
              "      <td>222</td>\n",
              "      <td>casein</td>\n",
              "    </tr>\n",
              "    <tr>\n",
              "      <th>21</th>\n",
              "      <td>283</td>\n",
              "      <td>casein</td>\n",
              "    </tr>\n",
              "    <tr>\n",
              "      <th>22</th>\n",
              "      <td>332</td>\n",
              "      <td>casein</td>\n",
              "    </tr>\n",
              "  </tbody>\n",
              "</table>\n",
              "</div>\n",
              "      <button class=\"colab-df-convert\" onclick=\"convertToInteractive('df-d18fd755-2896-491d-bee7-460f15fb2818')\"\n",
              "              title=\"Convert this dataframe to an interactive table.\"\n",
              "              style=\"display:none;\">\n",
              "        \n",
              "  <svg xmlns=\"http://www.w3.org/2000/svg\" height=\"24px\"viewBox=\"0 0 24 24\"\n",
              "       width=\"24px\">\n",
              "    <path d=\"M0 0h24v24H0V0z\" fill=\"none\"/>\n",
              "    <path d=\"M18.56 5.44l.94 2.06.94-2.06 2.06-.94-2.06-.94-.94-2.06-.94 2.06-2.06.94zm-11 1L8.5 8.5l.94-2.06 2.06-.94-2.06-.94L8.5 2.5l-.94 2.06-2.06.94zm10 10l.94 2.06.94-2.06 2.06-.94-2.06-.94-.94-2.06-.94 2.06-2.06.94z\"/><path d=\"M17.41 7.96l-1.37-1.37c-.4-.4-.92-.59-1.43-.59-.52 0-1.04.2-1.43.59L10.3 9.45l-7.72 7.72c-.78.78-.78 2.05 0 2.83L4 21.41c.39.39.9.59 1.41.59.51 0 1.02-.2 1.41-.59l7.78-7.78 2.81-2.81c.8-.78.8-2.07 0-2.86zM5.41 20L4 18.59l7.72-7.72 1.47 1.35L5.41 20z\"/>\n",
              "  </svg>\n",
              "      </button>\n",
              "      \n",
              "  <style>\n",
              "    .colab-df-container {\n",
              "      display:flex;\n",
              "      flex-wrap:wrap;\n",
              "      gap: 12px;\n",
              "    }\n",
              "\n",
              "    .colab-df-convert {\n",
              "      background-color: #E8F0FE;\n",
              "      border: none;\n",
              "      border-radius: 50%;\n",
              "      cursor: pointer;\n",
              "      display: none;\n",
              "      fill: #1967D2;\n",
              "      height: 32px;\n",
              "      padding: 0 0 0 0;\n",
              "      width: 32px;\n",
              "    }\n",
              "\n",
              "    .colab-df-convert:hover {\n",
              "      background-color: #E2EBFA;\n",
              "      box-shadow: 0px 1px 2px rgba(60, 64, 67, 0.3), 0px 1px 3px 1px rgba(60, 64, 67, 0.15);\n",
              "      fill: #174EA6;\n",
              "    }\n",
              "\n",
              "    [theme=dark] .colab-df-convert {\n",
              "      background-color: #3B4455;\n",
              "      fill: #D2E3FC;\n",
              "    }\n",
              "\n",
              "    [theme=dark] .colab-df-convert:hover {\n",
              "      background-color: #434B5C;\n",
              "      box-shadow: 0px 1px 3px 1px rgba(0, 0, 0, 0.15);\n",
              "      filter: drop-shadow(0px 1px 2px rgba(0, 0, 0, 0.3));\n",
              "      fill: #FFFFFF;\n",
              "    }\n",
              "  </style>\n",
              "\n",
              "      <script>\n",
              "        const buttonEl =\n",
              "          document.querySelector('#df-d18fd755-2896-491d-bee7-460f15fb2818 button.colab-df-convert');\n",
              "        buttonEl.style.display =\n",
              "          google.colab.kernel.accessAllowed ? 'block' : 'none';\n",
              "\n",
              "        async function convertToInteractive(key) {\n",
              "          const element = document.querySelector('#df-d18fd755-2896-491d-bee7-460f15fb2818');\n",
              "          const dataTable =\n",
              "            await google.colab.kernel.invokeFunction('convertToInteractive',\n",
              "                                                     [key], {});\n",
              "          if (!dataTable) return;\n",
              "\n",
              "          const docLinkHtml = 'Like what you see? Visit the ' +\n",
              "            '<a target=\"_blank\" href=https://colab.research.google.com/notebooks/data_table.ipynb>data table notebook</a>'\n",
              "            + ' to learn more about interactive tables.';\n",
              "          element.innerHTML = '';\n",
              "          dataTable['output_type'] = 'display_data';\n",
              "          await google.colab.output.renderOutput(dataTable, element);\n",
              "          const docLink = document.createElement('div');\n",
              "          docLink.innerHTML = docLinkHtml;\n",
              "          element.appendChild(docLink);\n",
              "        }\n",
              "      </script>\n",
              "    </div>\n",
              "  </div>\n",
              "  "
            ],
            "text/plain": [
              "    weight      feed\n",
              "0      325  meatmeal\n",
              "1      257  meatmeal\n",
              "2      303  meatmeal\n",
              "3      315  meatmeal\n",
              "4      380  meatmeal\n",
              "5      153  meatmeal\n",
              "6      263  meatmeal\n",
              "7      242  meatmeal\n",
              "8      206  meatmeal\n",
              "9      344  meatmeal\n",
              "10     258  meatmeal\n",
              "11     368    casein\n",
              "12     390    casein\n",
              "13     379    casein\n",
              "14     260    casein\n",
              "15     404    casein\n",
              "16     318    casein\n",
              "17     352    casein\n",
              "18     359    casein\n",
              "19     216    casein\n",
              "20     222    casein\n",
              "21     283    casein\n",
              "22     332    casein"
            ]
          },
          "execution_count": 2,
          "metadata": {},
          "output_type": "execute_result"
        }
      ],
      "source": [
        "df_chick.head(23)"
      ]
    },
    {
      "cell_type": "markdown",
      "metadata": {
        "id": "LryMP-o8iuky"
      },
      "source": [
        "Note pelo histograma abaixo que a amostra unificada não parece seguir a distribuição normal, o que exclui a possiblidade de aplicar um teste paramétrico como o $t$-teste, por exemplo."
      ]
    },
    {
      "cell_type": "code",
      "execution_count": null,
      "metadata": {
        "colab": {
          "base_uri": "https://localhost:8080/",
          "height": 282
        },
        "id": "2nAm5ek2iep-",
        "outputId": "2e3958ac-2968-4349-eb8f-ca3b0b36c4e6"
      },
      "outputs": [
        {
          "data": {
            "text/plain": [
              "<matplotlib.axes._subplots.AxesSubplot at 0x7f7396e83850>"
            ]
          },
          "execution_count": 2,
          "metadata": {},
          "output_type": "execute_result"
        },
        {
          "data": {
            "image/png": "[encoded data removed]",
            "text/plain": [
              "<Figure size 432x288 with 1 Axes>"
            ]
          },
          "metadata": {
            "needs_background": "light"
          },
          "output_type": "display_data"
        }
      ],
      "source": [
        "df_chick.weight.hist()"
      ]
    },
    {
      "cell_type": "markdown",
      "metadata": {
        "id": "7TQJ89UYEg31"
      },
      "source": [
        "Repare que cada filhote recebeu um dos dois tipos de dieta (*meatmeal* ou *casein*)."
      ]
    },
    {
      "cell_type": "code",
      "execution_count": null,
      "metadata": {
        "colab": {
          "base_uri": "https://localhost:8080/"
        },
        "id": "TxLuHagHwhQ7",
        "outputId": "51c00cc6-ffff-476f-854e-6eae22a311c6"
      },
      "outputs": [
        {
          "data": {
            "text/plain": [
              "array(['meatmeal', 'casein'], dtype=object)"
            ]
          },
          "execution_count": 4,
          "metadata": {},
          "output_type": "execute_result"
        }
      ],
      "source": [
        "df_chick.feed.unique()"
      ]
    },
    {
      "cell_type": "markdown",
      "metadata": {
        "id": "YrX-JTdgEpGn"
      },
      "source": [
        "Podemos também identificar os pesos (medidos após três semanas de vida) dos filhotes que receberam cada tipo de dieta, conforme os dois blocos de código abaixo. Esses dois conjuntos de pesos correspondem ao par de amostras original."
      ]
    },
    {
      "cell_type": "code",
      "execution_count": null,
      "metadata": {
        "colab": {
          "base_uri": "https://localhost:8080/"
        },
        "id": "XCAkQm7jw9yC",
        "outputId": "2761d03d-fc1d-4ed8-c1e1-c6ca90780e05"
      },
      "outputs": [
        {
          "data": {
            "text/plain": [
              "[325, 257, 303, 315, 380, 153, 263, 242, 206, 344, 258]"
            ]
          },
          "execution_count": 5,
          "metadata": {},
          "output_type": "execute_result"
        }
      ],
      "source": [
        "df_chick.loc[df_chick['feed'] == 'meatmeal', 'weight'].tolist()"
      ]
    },
    {
      "cell_type": "code",
      "execution_count": null,
      "metadata": {
        "colab": {
          "base_uri": "https://localhost:8080/"
        },
        "id": "D1bECXSLxVWu",
        "outputId": "834ad532-ca8d-44be-c80e-eefcc66df6aa"
      },
      "outputs": [
        {
          "data": {
            "text/plain": [
              "[368, 390, 379, 260, 404, 318, 352, 359, 216, 222, 283, 332]"
            ]
          },
          "execution_count": 6,
          "metadata": {},
          "output_type": "execute_result"
        }
      ],
      "source": [
        "df_chick.loc[df_chick['feed'] == 'casein', 'weight'].tolist()"
      ]
    },
    {
      "cell_type": "markdown",
      "metadata": {
        "id": "8owRHy7PE3Py"
      },
      "source": [
        "Agora, podemos computar a diferença observada entre as médias de pesos dos animais em cada tipo de dieta."
      ]
    },
    {
      "cell_type": "code",
      "execution_count": null,
      "metadata": {
        "colab": {
          "base_uri": "https://localhost:8080/"
        },
        "id": "PZpXm7DGp0lB",
        "outputId": "f0769041-237f-4b8e-c4eb-1446d29e2d0e"
      },
      "outputs": [
        {
          "name": "stdout",
          "output_type": "stream",
          "text": [
            "276.90909090909093\n",
            "323.5833333333333\n",
            "301.2608695652174\n",
            "Diferença observada no par de amostras original: 46.67\n"
          ]
        }
      ],
      "source": [
        "import numpy as np\n",
        "\n",
        "list_meatmeal = df_chick.loc[df_chick['feed'] == 'meatmeal', 'weight'].tolist()\n",
        "list_casein = df_chick.loc[df_chick['feed'] == 'casein', 'weight'].tolist()\n",
        "\n",
        "agg_list = list_meatmeal + list_casein\n",
        "\n",
        "sample_meatmeal = np.array(list_meatmeal)\n",
        "sample_casein = np.array(list_casein)\n",
        "agg_sample = np.array(agg_list)\n",
        "\n",
        "print(sample_meatmeal.mean())\n",
        "print(sample_casein.mean())\n",
        "print(agg_sample.mean())\n",
        "\n",
        "observed_diff = np.abs(sample_meatmeal.mean() - sample_casein.mean())\n",
        "print('Diferença observada no par de amostras original: %.2f' % observed_diff)"
      ]
    },
    {
      "cell_type": "markdown",
      "metadata": {
        "id": "7XHyb7VVJoyF"
      },
      "source": [
        "Agora vamos construir a distribuição da estatística. Para isso, precisamos inicialmente produzir diferentes pares de reamostras. Em seguida, para cada par de reamostra gerado, computamos a diferença entre suas médias de pesos. O conjunto de valores assim gerado é então usado para produzir uma estimativa da distribuição amostral da estatística de interesse."
      ]
    },
    {
      "cell_type": "code",
      "execution_count": null,
      "metadata": {
        "id": "GWC19NYM-ReG"
      },
      "outputs": [],
      "source": [
        "import random\n",
        "\n",
        "debug = False\n",
        "\n",
        "a_perm = list_meatmeal + list_casein\n",
        "B = 10000 # total de pares de reamostras a ser gerado\n",
        "diffs = np.zeros(B)\n",
        "for i in range(B):\n",
        "  random.shuffle(a_perm)\n",
        "  mean_first_resample = np.array(a_perm[:12]).mean()\n",
        "  mean_second_resample = np.array(a_perm[12:]).mean()\n",
        "\n",
        "  if debug:\n",
        "    print(a_perm)\n",
        "    print(a_perm[:12])\n",
        "    print(a_perm[12:])\n",
        "    print()\n",
        "\n",
        "  diffs[i] = mean_first_resample - mean_second_resample"
      ]
    },
    {
      "cell_type": "markdown",
      "metadata": {
        "id": "1I4ATjVaPPcB"
      },
      "source": [
        "O código acima produz $10000$ pares de reamostras, cada um dos quais é usado para computar um valor da estatística."
      ]
    },
    {
      "cell_type": "code",
      "execution_count": null,
      "metadata": {
        "colab": {
          "base_uri": "https://localhost:8080/"
        },
        "id": "EUv5UCQLQcLJ",
        "outputId": "9976acee-1970-480e-c509-033895d3615e"
      },
      "outputs": [
        {
          "data": {
            "text/plain": [
              "(10000,)"
            ]
          },
          "execution_count": 10,
          "metadata": {},
          "output_type": "execute_result"
        }
      ],
      "source": [
        "diffs.shape"
      ]
    },
    {
      "cell_type": "markdown",
      "metadata": {
        "id": "rGW9Fr1OQgdA"
      },
      "source": [
        "Para fins de inspeção, observe abaixo os primeiros quinze valores computados."
      ]
    },
    {
      "cell_type": "code",
      "execution_count": null,
      "metadata": {
        "colab": {
          "base_uri": "https://localhost:8080/"
        },
        "id": "Ah8kBbLntKW9",
        "outputId": "9d5b683e-07fd-4a99-b8de-f6fdc4016071"
      },
      "outputs": [
        {
          "name": "stdout",
          "output_type": "stream",
          "text": [
            "[ 29.59848485  -7.51515152   4.15909091   7.46969697  28.90151515\n",
            "  23.32575758  45.10606061 -41.84090909  10.43181818 -31.73484848\n",
            "  -2.98484848 -28.25       -16.22727273 -21.8030303  -24.24242424]\n"
          ]
        }
      ],
      "source": [
        "print(diffs[:15])"
      ]
    },
    {
      "cell_type": "markdown",
      "metadata": {
        "id": "DxL_PZNeNEGI"
      },
      "source": [
        "Agora, tomando todos os $10000$ valores, podemos produzir o gráfico da distribuição amostral empírica (i.e., da distribuição nula) da estatística, conforme o bloco de código a seguir."
      ]
    },
    {
      "cell_type": "code",
      "execution_count": null,
      "metadata": {
        "colab": {
          "base_uri": "https://localhost:8080/",
          "height": 265
        },
        "id": "oYn2X5yM5fze",
        "outputId": "b1143afd-68ee-47d4-c535-e23d1a75023b"
      },
      "outputs": [
        {
          "data": {
            "image/png": "[encoded data removed]",
            "text/plain": [
              "<Figure size 432x288 with 1 Axes>"
            ]
          },
          "metadata": {
            "needs_background": "light"
          },
          "output_type": "display_data"
        }
      ],
      "source": [
        "import matplotlib.pyplot as plt\n",
        "\n",
        "_ = plt.hist(diffs, bins='auto')\n",
        "plt.axvline(observed_diff, c='r', linestyle='--');\n",
        "plt.axvline(-observed_diff, c='r', linestyle='--');"
      ]
    },
    {
      "cell_type": "markdown",
      "metadata": {
        "id": "eB0hdOwaWN5M"
      },
      "source": [
        "Repare que no gráfico da distribuição nula acima, também foi destacado o valor crítico em ambas as caudas da distribuição (linhas tracejadas em vermelho). O $p$-valor nesse caso corresponde à proporção de valores da estatística de teste que são iguais ou mais extremos do que o valor observado no par de amostras originais."
      ]
    },
    {
      "cell_type": "code",
      "execution_count": null,
      "metadata": {
        "colab": {
          "base_uri": "https://localhost:8080/"
        },
        "id": "Ywidktx7sz8A",
        "outputId": "8649fc93-2caf-4906-8ac0-43a80b2c187b"
      },
      "outputs": [
        {
          "data": {
            "text/plain": [
              "463"
            ]
          },
          "execution_count": 20,
          "metadata": {},
          "output_type": "execute_result"
        }
      ],
      "source": [
        "np.where(diffs > observed_diff)[0].shape[0]"
      ]
    },
    {
      "cell_type": "code",
      "execution_count": null,
      "metadata": {
        "colab": {
          "base_uri": "https://localhost:8080/"
        },
        "id": "fY_UOKlytMmi",
        "outputId": "3c2c9d96-cc68-41ac-8546-c8dab5050990"
      },
      "outputs": [
        {
          "data": {
            "text/plain": [
              "504"
            ]
          },
          "execution_count": 21,
          "metadata": {},
          "output_type": "execute_result"
        }
      ],
      "source": [
        "np.where(diffs < -observed_diff)[0].shape[0]"
      ]
    },
    {
      "cell_type": "code",
      "execution_count": null,
      "metadata": {
        "colab": {
          "base_uri": "https://localhost:8080/"
        },
        "id": "P1nmVJ4SnT0B",
        "outputId": "19df14d5-a977-4a9f-8860-459002d237be"
      },
      "outputs": [
        {
          "data": {
            "text/plain": [
              "967"
            ]
          },
          "execution_count": 24,
          "metadata": {},
          "output_type": "execute_result"
        }
      ],
      "source": [
        "np.where(diffs > observed_diff)[0].shape[0] + np.where(diffs < -observed_diff)[0].shape[0]"
      ]
    },
    {
      "cell_type": "markdown",
      "metadata": {
        "id": "Ldbq1z8DSX-t"
      },
      "source": [
        "Já que sabemos a quantidade de valores da estatística que são tão ou mais extremos do que o valor crítico, podemos usar essa quantidade para computar o $p$-valor.\n",
        "\n",
        "Repare que, diante da forma como a hipótese alternativa foi definida, devemos realizar um *teste bilateral*. Isso significa que devemos somar as quantidades de valores da estatística para ambas as caudas da distribuição."
      ]
    },
    {
      "cell_type": "code",
      "execution_count": null,
      "metadata": {
        "colab": {
          "base_uri": "https://localhost:8080/"
        },
        "id": "FQ8eUhDynzJh",
        "outputId": "78cf0ce7-e8d0-43b7-f74f-84f80be11896"
      },
      "outputs": [
        {
          "name": "stdout",
          "output_type": "stream",
          "text": [
            "p-valor: 0.10\n"
          ]
        }
      ],
      "source": [
        "n = np.where(diffs > observed_diff)[0].shape[0] + np.where(diffs < -observed_diff)[0].shape[0]\n",
        "print(\"p-valor: %.2f\" % (n / B))"
      ]
    },
    {
      "cell_type": "markdown",
      "metadata": {
        "id": "ZgKJg3UNulTU"
      },
      "source": [
        "Se considerarmos que o nível de significância definido para o estudo foi $\\alpha = 0.05$, então a conclusão a que chegamos é a de que não podemos rejeitar a hipótese nula, visto que $p > \\alpha$. Sendo assim, não há evidência suficiebte para afirmar que os dois tipos de dieta são diferentes em sua efetividade em termos de ganho de peso."
      ]
    },
    {
      "cell_type": "markdown",
      "metadata": {
        "id": "-IHqhYI8H8wJ"
      },
      "source": [
        "# Referências comentadas\n",
        "\n",
        "- Veja esse [vídeo](https://youtu.be/xRzEWLfEEIA) para uma demonstração de como o teste apresentado aqui pode ser realizado em R.\n",
        "- Este [capítulo do livro](https://www.macmillanlearning.com/studentresources/college/statistics/bps8e/web_exercises/42578_ch32_online.pdf) também é relevante para o conteúdo aqui apresentado."
      ]
    }
  ],
  "metadata": {
    "colab": {
      "provenance": []
    },
    "kernelspec": {
      "display_name": "gcc1625",
      "language": "python",
      "name": "python3"
    },
    "language_info": {
      "codemirror_mode": {
        "name": "ipython",
        "version": 3
      },
      "file_extension": ".py",
      "mimetype": "text/x-python",
      "name": "python",
      "nbconvert_exporter": "python",
      "pygments_lexer": "ipython3",
      "version": "3.12.0"
    }
  },
  "nbformat": 4,
  "nbformat_minor": 0
}
