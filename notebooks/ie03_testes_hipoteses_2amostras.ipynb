{
  "nbformat": 4,
  "nbformat_minor": 0,
  "metadata": {
    "colab": {
      "provenance": []
    },
    "kernelspec": {
      "name": "python3",
      "display_name": "Python 3"
    },
    "language_info": {
      "name": "python"
    }
  },
  "cells": [
    {
      "cell_type": "markdown",
      "metadata": {
        "id": "-daKYBGwwkQQ"
      },
      "source": [
        "# Testes de hipóteses para duas amostras\n",
        "\n"
      ]
    },
    {
      "cell_type": "markdown",
      "metadata": {
        "id": "x5cB0atq0cxK"
      },
      "source": [
        "Exemplos de perguntas de pesquisa que aparecem com frequência em estudos científicos são as seguintes:\n",
        "\n",
        "1. O método computacional $A$ é melhor do que o método computacional $B$?\n",
        "2. O medicamento $X$ é efetivo na melhoria de memória?\n",
        "\n",
        "- No contexto do primeiro exemplo, responder a esse tipo de pergunta muitas vezes requer comparar as medidas obtidas pela aplicação dos métodos $A$ e $B$ a um conjunto de objetos ou de indivíduos, o que iria gerar dois conjuntos de resultados.\n",
        "\n",
        "- Já no contexto do segundo exemplo, uma resposta pode ser obtida observando o comportamento dos mesmo grupo de indivíduos em dois momentos no tempo, antes a após o tratamento com o medicamento $X$. Alternativamente, poderiam ser definidos dois grupos de indivíduos. O *grupo de tratamento* é aquele que recebe o medicamento para o qual queremos verificar a efetividade. O *grupo de controle* recebe um placebo.\n",
        "\n",
        "Em ambos os exemplos acima, e em muitos outros contextos, temos dois conjuntos de observações e devemos, com base nessas observações, produzir uma resposta para a pergunta de pesquisa. Usualmente, essa pergunta de pesquisa envolver verificar (testar) se as duas amostras são provenientes da mesma população de indivíduos, ou se são provenientes de duas populações distintas, cada uma das quais com suas próprias características. Nesse caso, devemos aplicar algum **teste de hipótese de duas amostras**.\n",
        "\n",
        "> A ideia geral dos testes de hipóteses de duas amostras é comparar as médias das duas amostras e verificar se a **diferença** entre elas é significativamente diferente de zero. Se isso for verdade, significa que há evidências para afirmar que há diferença entre as populações usadas na produção das duas amostras.\n",
        "\n",
        "Os **t-testes para duas amostras** são usados para verificar a eventual existência de diferença entre as duas médias populacionais. Esses testes tomam como entrada duas amostras. Além disso, essas amostras de entrada podem ser de dois tipos: *pareadas* ou *independentes*. A figura a seguir ([fonte](https://datatab.net)) ilustra esquematicamente a diferença entre esses dois tipos de amostras.\n",
        "\n",
        "![](https://datatab.net/assets/tutorial/paired_t-Test.png)\n",
        "\n",
        "Dependendo do tipo de amostra, um tipo particular de t-teste deve ser aplicado.\n",
        "- Amostras pareadas $\\rightarrow$ usar **t-teste pareado**.\n",
        "- Amostras independentes $\\rightarrow$ usar **t-teste independente**.\n",
        "\n",
        "Antes de prosseguirmos para estudar cada um desses tipos de teste, é importante notar que um determinado estudo pode produzir medidas pareadas ou independentes. O teste estatístico a ser usado deve ser escolhido em conformidade com o tipo do par de amostras disponível.\n",
        "\n",
        "Como exemplo para ilustrar que o tipo de teste a ser aplicado depende da natureza do par de amostras coletadas, considere que estamos interessados ​​em estudar o efeito de um tratamento médico sobre a taxa de insulina. Há dois cenários possíveis:\n",
        "\n",
        "- A taxa de insulina é medida em 30 pacientes antes e depois do tratamento médico. Os dados são, portanto, organizados por pares (cada paciente é associado a duas medições). Um teste apropriado para usar aqui seria um t-teste pareado.\n",
        "\n",
        "- A taxa de insulina é medida em 30 pacientes que recebem um placebo e 30 outros pacientes que recebem o tratamento médico. Nesse caso, todas as medições são independentes. Um teste apropriado para usar aqui seria um t-teste independente."
      ]
    },
    {
      "cell_type": "markdown",
      "metadata": {
        "id": "pxfWfTOkxR_A"
      },
      "source": [
        "## Teste t pareado (paired t-test)\n",
        "\n",
        "Este teste é usado quando as amostras são *pareadas* (ou *dependentes*). Duas amostras são ditas pareadas quando há apenas um grupo de indivíduos que foi aferido duas vezes (medidas repetidas) ou quando os indivíduos dessas duas amostras foram combinados ou \"emparelhados\" em uma relação um-para-um. Em outras palavras, cada indívíduo de um grupo está associado a um e apenas um indivíduo do outro grupo.\n",
        "\n",
        "Seguem dois exemplos de amostras pareadas.\n",
        "\n",
        "1. Em um estudo de pressão arterial, cada indivíduo do grupo de pacientes pode ser pareado (e.g., por idade) com outro do grupo de controle. Cada registro no arquivo de dados conterá respostas do paciente e também do indivíduo correspondente usado como controle.\n",
        "\n",
        "2. Considere comparar a quantidade de alguma vitamina em um mesmo conjunto de pães de forma em dois momentos distintos: (a) imediatamente após a fabricação; (b) três dias após a fabricação. Repare que aqui também há uma correspondência um-para-um entre elementos das duas amostras.\n",
        "\n",
        "Como muitos procedimentos estatísticos, o teste t de amostras pareadas tem duas hipóteses concorrentes, a hipótese nula e a hipótese alternativa.\n",
        "\n",
        "- A hipótese nula afirma que a diferença entre as médias das populações é zero. Sob esta suposição, a diferença observada entre as médias das duas amostras é explicada unicamente pela variação aleatória, ou seja, pelo acaso.\n",
        "- Por outro lado, a hipótese alternativa declara que a diferença entre as médias das populações não é igual a zero.\n",
        "\n",
        "A hipótese alternativa pode assumir várias formas, dependendo do resultado esperado. Se a direção da diferença não importa, um teste bilateral é usado. Caso contrário, um teste de cauda superior ou de cauda inferior pode ser usado para aumentar o poder do teste. A hipótese nula permanece a mesma para cada tipo de hipótese alternativa.\n",
        "\n",
        "No teste t pareado (paired t test), devemos usar como estatística de teste a variável aleatória obtida pela **diferença** entre as médias amostrais das duas amostras. Para computar essa estatística, as diferenças entre todos os pares de indivíduos devem ser calculadas. A média ($\\overline{x}_d$) e o desvio padrão ($s_d$) dessas diferenças são usados no cálculo da estatística. É possível provar que essa estatística de teste segue a distribuição t de Student e é definida conforme a seguir.\n",
        "\n",
        "$$\n",
        "t = \\frac{\\overline{x}_d - \\mu_d}{s_d/\\sqrt{n}}\n",
        "$$\n",
        "\n",
        "Na expressão acima, temos que:\n",
        "\n",
        "- $n$ é a quantidade de pares de elementos;\n",
        "\n",
        "- $\\overline{x}_d$ é o valor médio computado sobre as diferenças entre os valores correspondentes contidos nas duas amostras disponíveis;\n",
        "\n",
        "- $s_d$ é o valor do desvio padrão computado sobre as diferenças entre os valores correspondentes contidos nas duas amostras disponíveis;\n",
        "\n",
        "A quantidade de graus de liberdade usada é $\\nu = n - 1$, onde $n$ representa o número de pares.\n",
        "\n",
        "Dado o valor da estatística de teste, o valor $p$ é computado. Se o valor $p$ for inferior ou igual ao nível de significância pré-estabelecido, podemos concluir que a diferença entre as duas amostras pareadas é significativamente diferente. Isso nos levaria a não aceitar $H_0$.\n",
        "\n",
        "> O teste t pareado é, portanto, simplesmente um teste t de uma amostra para a média das diferenças $\\mu_d$, onde o valor nulo (i.e., o valor presumido pela hipótese nula) é 0."
      ]
    },
    {
      "cell_type": "markdown",
      "metadata": {
        "id": "TGBolhPy0hCZ"
      },
      "source": [
        "### Exemplo 1\n",
        "\n",
        "Deseja-se verificar a efetividade de uma nova dieta sobre o nível de colesterol LDL no organismo. Para isso, foi realizada a medição do nível de colesterol LDL para  12 indivíduos. Em seguida, indivíduos iniciaram a dieta durante 2 semanas. Após a dieta, medição do nível de colesterol LDL foi realizada novamente. A tabela a seguir apresenta os valores medidos antes e depois de a dieta ter sido ministrada.\n",
        "\n",
        "| Indivíduo | A | B | C | D | E | F | G | H | I | J | K | L |\n",
        "| :- | :-: | :-: | :-: | :-: | :-: | :-: | :-: | :-: | :-: | :-: | :-: | -: |\n",
        "| Antes | 4.61 | 6.42 | 5.40 | 4.54 | 3.98 | 3.82 | 5.01 | 4.34 | 3.80 | 4.56 | 5.35 | 3.89 |\n",
        "| Depois | 3.84 | 5.57 | 5.85 | 4.80 | 3.68 | 2.96 | 4.41 | 3.72 | 3.49 | 3.84 | 5.26 | 3.73 |\n",
        "\n",
        "A hipótese nula declara que não existe efeito da dieta sobre o nível de colesterol LDL. Vamos usar o teste bicaudal (two-sided), para ser consistente com a questão de pesquisa. Portanto, as hipóteses são definidas como segue:\n",
        "\n",
        "- $H_0: \\mu_d = 0$\n",
        "- $H_a: \\mu_d \\neq 0$\n",
        "\n",
        "O próximo passo é computarmos o valor da estatística. Ao fazermos isso, obtemos t-escore = $3.04$. Para esse t-escore, computamos o p-valor correspondente: $p = 0.0112$.\n",
        "\n",
        "Perceba que $p < \\alpha$. A conclusão é que, no nível de significância $\\alpha = 0.05$, temos boas razões (evidências) para duvidar de $H_0$.\n",
        "\n",
        "Como um detalhe importante, repare que a diferença encontrada é “significante” no nível $\\alpha = 0.05$, mas não no nível $\\alpha = 0.01$.\n",
        "\n",
        "A célula de código abaixo ilustra de que forma os valores mencionados neste exemplo podem ser computados."
      ]
    },
    {
      "cell_type": "code",
      "metadata": {
        "colab": {
          "base_uri": "https://localhost:8080/"
        },
        "id": "7gdBSXrTZJgw",
        "outputId": "e967134a-6f57-4bdc-d680-9d89502c65be"
      },
      "source": [
        "import numpy as np\n",
        "from scipy.stats import t\n",
        "\n",
        "antes = np.array([4.61, 6.42, 5.40, 4.54, 3.98, 3.82, 5.01, 4.34, 3.80, 4.56, 5.35, 3.89])\n",
        "depois = np.array([3.84, 5.57, 5.85, 4.80, 3.68, 2.96, 4.41, 3.72, 3.49, 3.84, 5.26, 3.73])\n",
        "\n",
        "delta = antes - depois\n",
        "\n",
        "n = delta.shape[0]\n",
        "print(\"Tamanho de cada amostra: %d.\" % n)\n",
        "\n",
        "nu = n - 1\n",
        "\n",
        "print(delta)\n",
        "\n",
        "# média presumida pela hipótese nula\n",
        "mu_d = 0\n",
        "\n",
        "x_bar_d = np.mean(delta)\n",
        "s_d = np.std(delta, ddof=1)\n",
        "\n",
        "print(\"Média das diferenças: %.4f.\" % x_bar_d)\n",
        "print(\"Desvio padrão das diferenças: %.4f.\" % s_d)\n",
        "\n",
        "t_d = (x_bar_d - mu_d)/(s_d/np.sqrt(n))\n",
        "\n",
        "print(\"Valor do t-escore: %.2f\" % t_d)\n",
        "\n",
        "# repare que é um teste bicaudal\n",
        "pvalue = 2 * t.cdf(-t_d, df=nu)\n",
        "\n",
        "print(\"p-value: %.4f\" % pvalue)"
      ],
      "execution_count": null,
      "outputs": [
        {
          "output_type": "stream",
          "name": "stdout",
          "text": [
            "Tamanho de cada amostra: 12.\n",
            "[ 0.77  0.85 -0.45 -0.26  0.3   0.86  0.6   0.62  0.31  0.72  0.09  0.16]\n",
            "Média das diferenças: 0.3808.\n",
            "Desvio padrão das diferenças: 0.4335.\n",
            "Valor do t-escore: 3.04\n",
            "p-value: 0.0112\n"
          ]
        }
      ]
    },
    {
      "cell_type": "markdown",
      "metadata": {
        "id": "95bLF2Pv1FvG"
      },
      "source": [
        "### Exemplo 2\n",
        "\n",
        "Deseja-se testar se carros obtêm melhor rendimento com gasolina aditivada do que com a comum.\n",
        "Cada um dos 10 carros foi primeiro abastecido com gasolina normal ou aditivada (decidido por um sorteio) e o rendimento para cada um deles foi registrado:\n",
        "\n",
        "``\n",
        "19, 22, 24, 24, 25, 25, 26, 26, 28, 32\n",
        "``\n",
        "\n",
        "O rendimento foi gravado novamente para os mesmos carros, dessa vez usando gasolina comum:\n",
        "\n",
        "``\n",
        "16, 20, 21, 22, 23, 22, 27, 25, 27, 28\n",
        "``\n",
        "\n",
        "Seja determinar (no nível de significância $\\alpha = 0.05$) se o rendimento médio é maior com gasolina aditivada, quando comparada à gasolina comum.\n",
        "\n",
        "**Solução**\n",
        "\n",
        "As hipóteses nula e alternativa são definidas como segue:\n",
        "\n",
        "- $H_0: \\mu_d \\leq 0$\n",
        "- $H_a: \\mu_d > 0$\n",
        "\n",
        "Lembre-se de que o nível de significância, também denotado como alfa ou $\\alpha$, é a probabilidade de rejeitar a hipótese nula quando ela é verdadeira. Neste exemplo, o nível de significância de $0.05$ indica um risco de 5% de concluir que existe uma diferença para maior quando não há diferença real.\n",
        "\n",
        "Os resultados mostram que a estatística t é igual a aproximadamente 4.47 e o valor p é 0.0008. Posto que o valor p menor do que $\\alpha$, rejeitamos a hipótese nula. Como conclusão, há fortes evidências de um aumento médio no rendimento com o uso de gasolina aditivada.\n",
        "\n",
        "\n"
      ]
    },
    {
      "cell_type": "code",
      "metadata": {
        "colab": {
          "base_uri": "https://localhost:8080/"
        },
        "id": "fr6p68Z7f1Vb",
        "outputId": "a9756165-414e-4f99-e46d-c4695cf44eff"
      },
      "source": [
        "import numpy as np\n",
        "from scipy.stats import t\n",
        "\n",
        "antes  = np.array([19, 22, 24, 24, 25, 25, 26, 26, 28, 32])\n",
        "depois = np.array([16, 20, 21, 22, 23, 22, 27, 25, 27, 28])\n",
        "\n",
        "delta = antes - depois\n",
        "\n",
        "n = 10\n",
        "\n",
        "nu = n - 1\n",
        "\n",
        "print(delta)\n",
        "\n",
        "mu_d = 0\n",
        "\n",
        "x_bar_d = np.mean(delta)\n",
        "s_d = np.std(delta, ddof=1)\n",
        "\n",
        "print(\"Média das diferenças: %.4f.\" % x_bar_d)\n",
        "print(\"Desvio padrão das diferenças: %.4f.\" % s_d)\n",
        "\n",
        "t = (x_bar_d - mu_d)/(s_d/np.sqrt(n))\n",
        "\n",
        "print(\"Valor do t-escore: %.2f\" % t)\n",
        "\n",
        "# repare que é um teste unicaudal\n",
        "pvalue = t.cdf(-t, df=nu)\n",
        "\n",
        "print(\"p-value: %.4f\" % pvalue)"
      ],
      "execution_count": null,
      "outputs": [
        {
          "output_type": "stream",
          "text": [
            "[ 3  2  3  2  2  3 -1  1  1  4]\n",
            "Média das diferenças: 2.0000.\n",
            "Desvio padrão das diferenças: 1.4142.\n",
            "Valor do t-escore: 4.47\n",
            "p-value: 0.0008\n"
          ],
          "name": "stdout"
        }
      ]
    },
    {
      "cell_type": "markdown",
      "metadata": {
        "id": "NPozNiO80so6"
      },
      "source": [
        "### Condições de aplicabilidade\n",
        "\n",
        "Ao considerar a aplicação do teste t pareado, devemos verificar as restrições a seguir.\n",
        "\n",
        "1. as amostras devem ser aproximadamente normalmente distribuídas, ou\n",
        "2. as amostras devem ser grandes (n>30)\n",
        "\n",
        "Como dica prática, use teste t pareado quando:\n",
        "- Amostras são aproximadamente normais\n",
        "- Amostras são simétricas e n ≥ 10\n",
        "- Amostras são assimétricas, mas n ≥ ~45 (depende da severidade do enviesamento)"
      ]
    },
    {
      "cell_type": "markdown",
      "metadata": {
        "id": "0-5M9chc1iNx"
      },
      "source": [
        "## Teste t independente (unpaired t-test)\n",
        "\n",
        "Duas amostras são independentes se seus elementos não estão relacionados (pareados).\n",
        "A forma de aplicação do teste t neste caso\n",
        "é denominada *teste de Welsh para amostras independentes*. A estatística de teste a ser aplicada aqui é definida conforme a seguir:\n",
        "\n",
        "$$\n",
        "t = \\frac{\\overline{x}_1 - \\overline{x}_2}{\\text{SE}_{\\overline{x}_1 - \\overline{x}_2}}\n",
        "$$\n",
        "\n",
        "onde\n",
        "\n",
        "$$\n",
        "\\text{SE}_{\\overline{x}_1 - \\overline{x}_2} = \\sqrt{\\frac{(s_1)^2}{n_1} + \\frac{(s_2)^2}{n_2}}\n",
        "$$\n",
        "\n",
        "Na expressão acima,\n",
        "\n",
        "- $n_1$ e $n_2$ são os tamanhos das amostras envolvidas;\n",
        "\n",
        "- $\\overline{x}_1$ é a média computada usando elementos da primeira amostra.\n",
        "\n",
        "- $\\overline{x}_2$ é a média computada usando elementos da segunda amostra.\n",
        "\n",
        "- ${s}_1$ é o desvio padrão computado usando elementos da primeira amostra.\n",
        "\n",
        "- ${s}_2$ é o desvio padrão computado usando elementos da segunda amostra.\n",
        "\n",
        "É possível provar que a estatística apresentada acima ainda segue a distribuição t de Student. Entretanto, a quantidade de graus de liberdade deve ser calculada por meio da expressão a seguir.\n",
        "\n",
        "$$\n",
        "\\nu = \\frac{\\left(\\frac{(s_1)^2}{n_1} + \\frac{(s_2)^2}{n_2}\\right)^2}{\\frac{(s_1^2/n_1)^2}{n_1-1} + \\frac{(s_2^2/n_2)^2}{n_2-1}}\n",
        "$$"
      ]
    },
    {
      "cell_type": "markdown",
      "metadata": {
        "id": "XUKl1oyq37TB"
      },
      "source": [
        "### Exemplo\n",
        "\n",
        "Considere que foram medidos os níveis de colesterol LDL para dois grupos de indivíduos do sexo masculino, cada qual de tamanho 20. Cada grupo é formado de indivíduos com um determinado traço de personalidade (A ou B).\n",
        "Deseja-se verificar se o traço de personalidade é um fator que influencia o nível de colesterol.\n",
        "\n",
        "Níveis de colesterol em homens do grupo A:\n",
        "\n",
        "``\n",
        "233, 291, 312, 250, 246, 197, 268, 224, 239, 239, 254, 276, 234, 181, 248, 252, 202, 218, 212, 325\n",
        "``\n",
        "\n",
        "Níveis de colesterol em homens do grupo B:\n",
        "\n",
        "``\n",
        "344, 185, 263, 246, 224, 212, 188, 250, 148, 169, 226, 175, 242, 252, 153, 183, 137, 202, 194, 213\n",
        "``\n",
        "\n",
        "A pergunta de pesquisa é a seguinte:\n",
        "\n",
        "> Há diferença estatisticamente significativa entre as médias das populações, no nível de significância $\\alpha =$ 5\\%?\n",
        "\n",
        "**Solução**\n",
        "\n",
        "As hipóteses nula e alternativa são definidas como segue:\n",
        "\n",
        "- $H_0: \\mu_d = 0$\n",
        "- $H_a: \\mu_d \\neq 0$\n",
        "\n",
        "Podemos computar dados para o grupo A:\n",
        "- $n_1=20$,\n",
        "- $\\overline{x}_1 = 245.05$,\n",
        "- $s_1 = 36.64$.\n",
        "\n",
        "Podemos também computar dados para o grupo B:\n",
        "- $n_2=20$,\n",
        "- $\\overline{x}_2 = 210.30$,\n",
        "- $s_2 = 48.34$.\n",
        "\n",
        "Repare que neste exemplo as amostras possuem tamanhos iguais por coincidência. No teste de Welsh para amostras independentes não existe a necessidade de as amostras possuírem mesmo tamanho, posto que não há pareamento entre indivíduos de ambas as amostras.\n",
        "\n",
        "Nas amostras fornecidas, indivíduos do grupo A possuem  nível médio de colesterol ~35 mg/dL mais alto:\n",
        "$$\n",
        "\\overline{x}_1 - \\overline{x}_2 = 34.75.\n",
        "$$\n",
        "\n",
        "Podemos agora calcular a quantidade de graus de liberdade: $df = 35.4$\n",
        "\n",
        "Agora, podemos finalmente computar a estatística de teste:\n",
        "\n",
        "$$\n",
        "t = \\frac{245.05 - 210.30}{13.563} = 2.5621\n",
        "$$\n",
        "\n",
        "No teste bicaudal, o p-valor correspondente é 0.0148. Já que o p-valor é menor do que $\\alpha$, temos evidência para rejeitar $H_0$. Como conclusão, há evidência para afirmar que existe diferença nos níveis de colesterol das duas populações de indivíduos.\n",
        "\n",
        "A célula de código abaixo apresenta o cálculo dos valores usados neste exemplo.\n"
      ]
    },
    {
      "cell_type": "code",
      "metadata": {
        "colab": {
          "base_uri": "https://localhost:8080/"
        },
        "id": "tX02Fau14jNt",
        "outputId": "6c12310f-174f-45ed-eaf1-3146dabf3556"
      },
      "source": [
        "import numpy as np\n",
        "from scipy.stats import t\n",
        "\n",
        "def graus_lib(n_1, s_1, n_2, s_2):\n",
        "  numerator = ((s_1*s_1)/n_1 + (s_2*s_2/n_2)) * ((s_1*s_1)/n_1 + ((s_2*s_2)/n_2))\n",
        "  denominator = ((s_1*s_1/n_1)*(s_1*s_1/n_1))/(n_1-1) + ((s_2*s_2/n_2)*(s_2*s_2/n_2))/(n_2-1)\n",
        "  return numerator / denominator\n",
        "\n",
        "def erro_padrao(n_1, s_1, n_2, s_2):\n",
        "  return np.sqrt((s_1*s_1)/n_1 + (s_2*s_2/n_2))\n",
        "\n",
        "grupo_a  = np.array([233, 291, 312, 250, 246, 197, 268, 224, 239, 239, 254, 276,\n",
        "                   234, 181, 248, 252, 202, 218, 212, 325])\n",
        "grupo_b = np.array([344, 185, 263, 246, 224, 212, 188, 250, 148, 169, 226, 175,\n",
        "                   242, 252, 153, 183, 137, 202, 194, 213])\n",
        "\n",
        "n_1 = grupo_a.shape[0]\n",
        "n_2 = grupo_b.shape[0]\n",
        "\n",
        "x_bar_1 = np.mean(grupo_a)\n",
        "s_1 = np.std(grupo_a, ddof=1)\n",
        "\n",
        "x_bar_2 = np.mean(grupo_b)\n",
        "s_2 = np.std(grupo_b, ddof=1)\n",
        "\n",
        "print(\"Média das diferenças (A): %.4f.\" % x_bar_1)\n",
        "print(\"Desvio padrão das diferenças (A): %.4f.\" % s_1)\n",
        "print()\n",
        "print(\"Média das diferenças (B): %.4f.\" % x_bar_2)\n",
        "print(\"Desvio padrão das diferenças (B): %.4f.\" % s_2)\n",
        "\n",
        "se = erro_padrao(n_1, s_1, n_2, s_2)\n",
        "\n",
        "t_score = (x_bar_1 - x_bar_2)/se\n",
        "\n",
        "print(\"Valor do t-escore: %.4f\" % t_score)\n",
        "\n",
        "nu = graus_lib(n_1, s_1, n_2, s_2)\n",
        "\n",
        "print(\"Graus de liberdade: %.2f\" % nu)\n",
        "\n",
        "# repare que é um teste bicaudal\n",
        "pvalue = 2 * t.cdf(-t_score, df=nu)\n",
        "\n",
        "print(\"p-value: %.4f\" % pvalue)\n"
      ],
      "execution_count": null,
      "outputs": [
        {
          "output_type": "stream",
          "text": [
            "Média das diferenças (A): 245.0500.\n",
            "Desvio padrão das diferenças (A): 36.6383.\n",
            "\n",
            "Média das diferenças (B): 210.3000.\n",
            "Desvio padrão das diferenças (B): 48.3399.\n",
            "Valor do t-escore: 2.5621\n",
            "Graus de liberdade: 35.41\n",
            "p-value: 0.0148\n"
          ],
          "name": "stdout"
        }
      ]
    },
    {
      "cell_type": "code",
      "metadata": {
        "colab": {
          "base_uri": "https://localhost:8080/"
        },
        "id": "ClqmsFV844SU",
        "outputId": "b3657282-23c6-4911-ad52-786385390274"
      },
      "source": [
        "antes  = np.array([233, 291, 312, 250, 246, 197, 268, 224, 239, 239, 254, 276,\n",
        "                   234, 181, 248, 252, 202, 218, 212, 325])\n",
        "antes.shape[0]"
      ],
      "execution_count": null,
      "outputs": [
        {
          "output_type": "execute_result",
          "data": {
            "text/plain": [
              "20"
            ]
          },
          "metadata": {
            "tags": []
          },
          "execution_count": 28
        }
      ]
    },
    {
      "cell_type": "markdown",
      "metadata": {
        "id": "CXblRCNt1qKE"
      },
      "source": [
        "### Condições de aplicabilidade\n",
        "\n",
        "A aplicação do teste $t$ independente requer que:\n",
        "\n",
        "- ambas as amostras sejam aproximadamente normalmente distribuídas;\n",
        "\n",
        "- as variâncias de ambas as populações sejam iguais.\n"
      ]
    }
  ]
}