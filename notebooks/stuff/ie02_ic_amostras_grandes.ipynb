{
  "nbformat": 4,
  "nbformat_minor": 0,
  "metadata": {
    "colab": {
      "provenance": [],
      "collapsed_sections": [
        "95IJipNcKGi0",
        "SltNV4E_C1R_",
        "u9Qh_DkZ62rV",
        "k7P7j0167oO5",
        "PsN27GB9fcUW",
        "wWJK2q6EELXC",
        "G9RvCIWuQyXg",
        "ccT0JdOyHTXk"
      ],
      "toc_visible": true
    },
    "kernelspec": {
      "name": "python3",
      "display_name": "Python 3"
    }
  },
  "cells": [
    {
      "cell_type": "markdown",
      "metadata": {
        "id": "lWZRpYToQVyP"
      },
      "source": [
        "# Intervalos de confiança para amostras grandes\n",
        "\n",
        "Os procedimentos para computar intervalos de confiança são divididos em duas grandes famílias, dependendo do tamanho da amostra. Vamos inicialmente estudar procedimentos para computar intervalos de confiança para a média populacional $\\mu$ e para a proporção populacional $p$, considerando que o tamanho da amostra é *grande* (i.e., $n>30$), o que nos permite utilizar o TLC."
      ]
    },
    {
      "cell_type": "markdown",
      "metadata": {
        "id": "xtXixezE6-MJ"
      },
      "source": [
        "## Intervalo de confiança para $\\mu$"
      ]
    },
    {
      "cell_type": "markdown",
      "metadata": {
        "id": "95IJipNcKGi0"
      },
      "source": [
        "### Intuição\n",
        "\n",
        "Como preparação para entender o procedimento de construção de intervalos de confiança, considere a figura a seguir ([fonte](stats.libretexts.org)). Essa figura apresenta na parte inferior um intervalo de comprimento $2 \\times E$ com o valor de $\\mu$ como ponto central. Lembre-se de que essa é apenas uma ilustração; em um contexto prático, não conhecemos o valor de $\\mu$ e portanto não podemos localizar esse intervalo na reta real.\n",
        "\n",
        "![link text](https://stats.libretexts.org/@api/deki/files/102/28bf0a4db4415dec382b8a1a07e79927.jpg?revision=1&size=bestfit&width=637&height=169)\n",
        "\n",
        "Na mesma figura acima, considere que duas amostras aleatórias de mesmo tamanho foram usadas para computar os intervalos de confiança em cores vermelha e azul ilustrados na figura. Esses intervalos de confiança estão centrados em duas realizações distintas de $\\overline{x}$. Para tornar a discussão mais concreta, vamos considerar um valor específico para o nível de confiança, a saber, 95%. Lembre-se de que o nível de confiança igual a 95% corresponde à probabilidade de que, se pudêssemos construir uma quantidade grande de intervalos de confiança (cada qual a partir de uma amostra aleatória diferente tomada da população), 95% desses intervalos conteriam o valor do parâmetro.\n",
        "\n",
        "* Considere a amostra que foi usada para construir o intervalo de confiança em cor azul. Para essa amostra, a estimativa pontual $\\overline{x}$ \"caiu dentro\" do intervalo $[\\mu-E, \\mu+E]$. Para 95\\% de todos os intervalos, $\\overline{x}$ estaria contido neles.\n",
        "\n",
        "$$\n",
        "\\Pr(\\mu - E  \\leq \\overline{x} \\leq \\mu + E) = 0.95\n",
        "$$\n",
        "\n",
        "* Agora, considere a amostra que foi usada para construir o intervalo de confiança em cor vermelha. Para essa amostra, a estimativa pontual $\\overline{x}$ \"caiu fora\" do intervalo $[\\mu-E, \\mu+E]$. De fato, 5\\% de todos os intervalos que poderíamos gerar a partir de amostras da população apresentariam esse comportamento, i.e., esses intervalos não conteriam a média populacional $\\mu$.\n",
        "\n",
        "$$\n",
        "\\Pr(\\mu - E  \\leq \\overline{x} \\leq \\mu + E) = 0.05\n",
        "$$\n",
        "\n",
        "Agora, considere novamente a expressão de probabilidade usada acima, $\\Pr(\\mu - E  \\leq \\overline{x} \\leq \\mu + E)$. Podemos transformar essa expressão como segue:\n",
        "\n",
        "\\begin{align}\n",
        "\\Pr(\\mu - E  \\leq \\overline{x} \\leq \\mu + E) &= \\Pr(\\mu - E  \\leq \\overline{x}) \\wedge \\Pr(\\overline{x} \\leq \\mu + E) = \\\\\n",
        "&= \\Pr(\\mu \\leq \\overline{x} + E) \\wedge \\Pr(\\mu \\leq \\overline{x} + E) = \\\\\n",
        "&= \\Pr(\\overline{x} - E  \\leq \\mu \\leq \\overline{x} + E)\n",
        "\\end{align}\n",
        "\n",
        "Da última expressão acima, podemos confirmar o que foi descrito anteriormente sobre o nível de confiança:\n",
        "\n",
        "> O nível de confiança é a probabilidade de que o procedimento usado para construir o intervalo de confiança produza um intervalo que efetivamente contenha o valor do parâmetro populacional.\n",
        "\n",
        "Para enfatizar o fato de que o nível de confiança é um valor de probabilidade associado ao procedimento de construção de intervalos de confiança, considere o resultado de uma simulação representado pela figura abaixo ([fonte](https://en.wikipedia.org/wiki/Confidence_interval)). Essa figura apresenta 50 intervalos de confiança (cada qual computado a partir de uma amostra aleatória simples distinta) para a média populacional $\\mu$, computados usando nível de confiança igual a 95\\%. Repare que alguns intervalos (segmentos de reta verticais em azul) não contêm a média populacional (linha horizontal tracejada).\n",
        "\n",
        "![link text](https://upload.wikimedia.org/wikipedia/commons/thumb/8/8f/NYW-confidence-interval.svg/1920px-NYW-confidence-interval.svg.png)\n",
        "\n",
        "É importante entender que o que precisamos determinar para construir um intervalo de confiança é o valor da margem de erro $E$. Isso porque, se conhecemos $E$, basta somar e subtrair esse valor da estimativa pontual de $\\overline{x}$, essa última computada a partir da amostra disponível. Outro aspecto importante é que o nível de confiança é um dos fatores que determinam o valor de $E$, conforme detalhado na próxima seção.\n"
      ]
    },
    {
      "cell_type": "markdown",
      "metadata": {
        "id": "XXQiGsdczxfq"
      },
      "source": [
        "### Influência do nível de confiança\n",
        "\n",
        "Para entender a influência do nível de confiança sobre o procedimento usado para construir intervalos de confiança, precisamos considerar uma transformação aplicada à variável $\\overline{x}$. A transformação, denominada **padronização** (*standardization*), gera outra variável aleatória $Z$, conforme especificado abaixo:\n",
        "\n",
        "$$\n",
        "Z = \\frac{\\overline{x} - \\mu}{\\sigma/\\sqrt{n}}\n",
        "$$\n",
        "\n",
        "Lembre-se de que, pelo TLC, $\\overline{x}$ segue a distribuição normal com média $\\mu_\\overline{x} = \\mu$ e desvio padrão $\\sigma_\\overline{x} = \\sigma/\\sqrt{n}$. Além disso, repare que a transformação acima subtrai de $\\overline{x}$ a sua própria média e depois divide-a por seu próprio desvio padrão.\n",
        "\n",
        "É possível provar que a variável $Z$ resultante dessa transformação também segue a distribuição normal. Em particular, $Z$ segue a denominada **distribuição normal padrão** ([standard normal distribution](https://en.wikipedia.org/wiki/Normal_distribution#Standard_normal_distribution)), isto é, $Z \\sim \\mathcal{N}(0,1)$. Qualquer variável aleatória que segue a distribuição normal pode ser transformada na variável aleatória normal padrão, conforme ilustrado na figura a seguir ([fonte](https://www.quora.com/What-does-“standardize-the-normal-distribution”-mean)).\n",
        "\n",
        "![](https://qph.fs.quoracdn.net/main-qimg-bbc5a9680d8423e1caf02fd5a536dc69)\n",
        "\n",
        "Segue que, se quisermos constuir um intervalo de confiança no nível de 95% para $\\mu$, devemos considerar a distribuição de $Z$ e determinar o intervalo em torno de $\\mu_Z = 0$ que corresponde a 95% da área abaixo da curva dessa distribuição. Esse intervalo corresponde àquele que conteria 95% de todas as estimativas pontuais de $\\overline{x}$ que fossem geradas.\n",
        "\n",
        "A figura abaixo ([fonte](https://stats.libretexts.org)) ilustra o que foi descrito até aqui. Nessa figura, $1-\\alpha = 0.95$ é o nível de confiança considerado. Esse valor corresponde também à área sob a curva e entre os valores denotados por $-z_{0.025}$ e $z_{0.025}$. Note que esses dois valores delimitam uma área de 0.95 em torno de $\\mu_Z$, e que 0.95 é o valor do nível de confiança. De fato, o valor $z_{0.025}$ é usado na expressão que produz o valor de $E$. Repare que o valor $z_{0.025}$ é  tal que $\\Pr(-z_{0.025} \\leq Z \\leq z_{0.025}) = 0.95$.\n",
        "\n",
        "![link text](https://stats.libretexts.org/@api/deki/files/105/9befc784764fb56426a1ba328be4bc98.jpg?revision=1&size=bestfit&width=447&height=264)\n",
        "\n",
        "A figura a seguir generaliza a figura anterior para um nível de confiança $(1-\\alpha)$% qualquer. O valor $z_{\\alpha/2}$ é conhecido como **ponto crítico**. Nessa figura, repare que:\n",
        "\n",
        "- $z_{\\alpha/2}$ delimita $(1 - \\alpha/2)$ de área à sua _esquerda_ abaixo da curva da distribuição normal padrão.\n",
        "\n",
        "- $z_{\\alpha/2}$ delimita $\\alpha/2$ de área à sua _direita_ abaixo da curva da distribuição normal padrão.\n",
        "\n",
        "![link text](https://stats.libretexts.org/@api/deki/files/104/e3f246f42e1caa418685cbcb55e93279.jpg?revision=1&size=bestfit&width=422&height=241\n",
        ")\n",
        "\n",
        "Observação: A notação $1-\\alpha$ usada para o nível de confiança pode parecer estranha a princípio. A razão disso é que o nível de confiança é o complemento do *nível de significância*, este último denotado por $\\alpha$. No exemplo acima, o nível de significância é igual a 0.05. Voltaremos ao conceito nível de significância estatística quando estudarmos a realização de *testes de hipóteses* mais adiante no curso.\n",
        "\n",
        "Na maioria das situação reais, não podemos nos dar ao luxo de gerar várias amostras de uma população. Sendo assim, o caso prático a considerar é aquele em que tomamos uma única amostra da população para estimar $\\mu$. Nesse caso, devemos construir um intervalo de confiança em torno da média computada na amostra. Em seguida, uma vez computado o valor crítico, o intervalo de confiança é construído da seguinte forma:\n",
        "\n",
        "$$\n",
        "\\overline{x} \\pm z_{\\alpha/2} \\times \\frac{\\sigma}{\\sqrt{n}}  \n",
        "$$\n",
        "\n",
        "> Veja a [demonstração](https://www.dropbox.com/s/fme8m5itc51rp5u/demonstracao-margem-erro.pdf?dl=0) da expressão acima.\n",
        "\n",
        "Repare que a expressão para computar o intervalo de confiança depende de $\\sigma$, o desvio padrão populacional. Se esse valor não for conhecido (o que é o caso na maioria das situações práticas), temos um problema. Entretanto, visto que estamos considerando a existência de uma *amostra grande*, podemos usar $s$, o *desvio padrão da amostra*, como um valor aproximado para a *desvio padrão populacional*: $\\sigma \\approx s$. Sendo assim, a expressão para computar o intervalo de confiança deve ser alterada para:\n",
        "\n",
        "$$\n",
        "\\overline{x} \\pm z_{\\alpha/2} \\times \\frac{s}{\\sqrt{n}}  \n",
        "$$\n",
        "\n"
      ]
    },
    {
      "cell_type": "markdown",
      "metadata": {
        "id": "SltNV4E_C1R_"
      },
      "source": [
        "### Procedimento de cálculo\n",
        "\n",
        "Estamos agora em condições de descrever o procedimento para cálculo de um intervalo de confiança no nível de $(1-\\alpha)$% para a média populacional $\\mu$, considerando que conhecemos uma amostra de tamanho $n > 30$. Nesse procedimento, considere que:\n",
        "- $X_{1}, X_{2}, \\ldots, X_{n}$ é a amostra aleatória de tamanho $n$ ($n>30$);\n",
        "\n",
        "- $(1-\\alpha)$% é o nível de confiança definido para o estudo.\n",
        "\n",
        "Procedimento:\n",
        "> 1. Calcular a média da amostra:\n",
        "$$\n",
        "\\overline{x} = \\frac{\\left(X_{1} + X_{2} + \\cdots + X_{n}\\right)}{n}\n",
        "$$\n",
        "2. Se o desvio padrão da população $\\sigma$ é conhecido, então computar\n",
        "$$\n",
        "\\sigma_{\\overline{x}} = \\sigma/\\sqrt{n}\n",
        "$$\n",
        "Em caso contrário, usar a aproximação a seguir:\n",
        "$$\n",
        "\\sigma_{\\overline{x}} \\approx s/\\sqrt{n}\n",
        "$$\n",
        "3. Determinar $z_{\\alpha/2}$, o escore na distribuição normal padrão que delimita uma área de $\\alpha/2$ no lado direito da curva da distribuição.\n",
        "4. Computar os extremos do intervalo de confiança usando a expressão a seguir:\n",
        "$$\n",
        "\\overline{x} \\pm z_{\\alpha/2} \\times \\sigma_{\\overline{x}}\n",
        "$$"
      ]
    },
    {
      "cell_type": "markdown",
      "source": [
        "Repare que o passo 3 acima corresponde a computar o valor crítico $z_{\\alpha/2}$. Esse valor pode ser facilmente computado por meio da função [scipy.stats.norm.ppf](https://docs.scipy.org/doc/scipy/reference/generated/scipy.stats.norm.html). Veja abaixo formas alternativas de computar o valor crítico para o nível de confiança 95%."
      ],
      "metadata": {
        "id": "3ti_YOhgA39q"
      }
    },
    {
      "cell_type": "code",
      "source": [
        "import scipy.stats as st\n",
        "\n",
        "print(st.norm.ppf(0.025))\n",
        "print(st.norm.ppf(0.975))\n",
        "print(st.norm.ppf(0.95 + 0.025))"
      ],
      "metadata": {
        "colab": {
          "base_uri": "https://localhost:8080/"
        },
        "id": "_MKHDeAaNIKr",
        "outputId": "27d4e2f4-84f5-4bc0-ddba-d6eafb37de63"
      },
      "execution_count": null,
      "outputs": [
        {
          "output_type": "stream",
          "name": "stdout",
          "text": [
            "-1.9599639845400545\n",
            "1.959963984540054\n",
            "1.959963984540054\n"
          ]
        }
      ]
    },
    {
      "cell_type": "markdown",
      "metadata": {
        "id": "u9Qh_DkZ62rV"
      },
      "source": [
        "### Exemplo 1\n",
        "\n",
        "Seja calcular o intervalo de confiança no nível de 95\\% para a média das alturas dos alunos de uma universidade a partir de uma amostra de tamanho 100. Considere que o valor da média amostra é $\\overline{x} = 1.58$, e que o desvio padrão da amostra é $s = 0.2$.\n",
        "\n",
        "Solução\n",
        "\n",
        "O valor do desvio padrão da distribuição amostral da média é uma função do desvio padrão populacional: $\\sigma_{\\bar{X}} = \\sigma/\\sqrt{100}$. Entretanto, o desvio padrão da população não foi fornecido. Dado que $n = 100$ corresponde a uma amostra grande, podemos aproximar $\\sigma$ pela estimativa pontual do desvio padrão da amostra: $\\sigma \\approx s = 0.2$.\n",
        "\n",
        "Portanto, podemos calcular o intervalo de confiança da média populacional das alturas como\n",
        "\n",
        "$$\n",
        "1.58 \\pm (1.96) \\times (\\frac{0.2}{\\sqrt{100}})  \\rightarrow 1.58 \\pm (1.96) \\times (0.02)  \\rightarrow \\left[1.54; 1.62\\right]\n",
        "$$\n",
        "\n",
        "A interpretação para o intervalo obtido é a seguinte: há 95\\% de confiança de que a média populacional esteja acima de 1,54m e abaixo de 1,62m.\n",
        "\n",
        "**IMPORTANTE**. Repare que não podemos ter certeza de que a média populacional esteja realmente dentro desse intervalo! Em vez disso, o que podemos afirmar é que, se repetíssemos o processo de amostragem uma grande quantidade de vezes e calculássemos o intervalo de confiança correspondente, em aproximadamente 95\\% dos casos, a amostra conteria a média populacional."
      ]
    },
    {
      "cell_type": "code",
      "source": [
        "import numpy as np\n",
        "import scipy.stats as st\n",
        "\n",
        "x_bar = 1.58\n",
        "s = 0.2\n",
        "desvp_bar = s / np.sqrt(100)\n",
        "\n",
        "confidence_level = 0.95\n",
        "z_score = np.abs(st.norm.ppf((1 - confidence_level)/2))\n",
        "\n",
        "error_margin = desvp_bar * z_score\n",
        "\n",
        "print(\"IC: (%.2f, %.2f)\" % (x_bar-error_margin, x_bar+error_margin))"
      ],
      "metadata": {
        "colab": {
          "base_uri": "https://localhost:8080/"
        },
        "id": "mHg7MV6MPJkA",
        "outputId": "21ee1daa-8691-49f9-ab3a-d4ecb58ff616"
      },
      "execution_count": null,
      "outputs": [
        {
          "output_type": "stream",
          "name": "stdout",
          "text": [
            "IC: (1.54, 1.62)\n"
          ]
        }
      ]
    },
    {
      "cell_type": "markdown",
      "source": [
        "Uma alternativa mais direta para construir intervalos de confiança para $\\mu$ é usar a função [scipy.stats.norm.interval](https://docs.scipy.org/doc/scipy/reference/generated/scipy.stats.norm.html). Isso é ilustrado no bloco de código abaixo. (Certifique-se de executar o bloco de código anterior para definir as variáveis usadas abaixo.)"
      ],
      "metadata": {
        "id": "la2RcZFE86hK"
      }
    },
    {
      "cell_type": "code",
      "source": [
        "import numpy as np\n",
        "import scipy.stats as st\n",
        "\n",
        "# create 95% confidence interval for population mean\n",
        "st.norm.interval(confidence=confidence_level,\n",
        "                 loc=x_bar,\n",
        "                 scale=desvp_bar)"
      ],
      "metadata": {
        "colab": {
          "base_uri": "https://localhost:8080/"
        },
        "id": "dMAGgczp6Uje",
        "outputId": "44875087-d54c-408a-92eb-5b764c21e693"
      },
      "execution_count": null,
      "outputs": [
        {
          "output_type": "execute_result",
          "data": {
            "text/plain": [
              "(1.540800720309199, 1.6191992796908012)"
            ]
          },
          "metadata": {},
          "execution_count": 28
        }
      ]
    },
    {
      "cell_type": "markdown",
      "metadata": {
        "id": "k7P7j0167oO5"
      },
      "source": [
        "### Exemplo 2\n",
        "\n",
        "A média e o desvio padrão para os pesos das caixas em uma amostra formada por $100$ unidades são $\\overline{x}=12.05$ e $s=0.1$, respectivamente. Encontre um intervalo de confiança ao nível de 85\\% para a média dos pesos das caixas na população.\n",
        "\n",
        "Solução.\n",
        "\n",
        "Se $1-\\alpha=0.85$, então $\\alpha=0.15$ e $\\alpha/2=0.075$. Agora, procuramos pelo valor $z_{0.075}$, i.e., o valor que delimita 7,5\\% da área à direita da curva. Ao fazer isso, encontramos o valor $z_{0.075}=1.44$. Além disso, vamos usar a seguinte aproximação: $\\sigma_{\\overline{X}} \\approx s/\\sqrt{n} = 0.01$. Portanto o intervalo de confiança ao nível de 85\\% é $12.05 \\pm (1.44)(0.01)$. Esse intervalo também pode ser representado como $12.05 \\pm 0.0144$, ou como $\\left[12.04, 12.06\\right]$."
      ]
    },
    {
      "cell_type": "markdown",
      "metadata": {
        "id": "pOiXAQLVREm1"
      },
      "source": [
        "O bloco de código apresenta o mesmo resultado."
      ]
    },
    {
      "cell_type": "code",
      "metadata": {
        "colab": {
          "base_uri": "https://localhost:8080/"
        },
        "id": "6Qe2KEvQRF4t",
        "outputId": "81c9009f-a359-4c30-b03d-6fa7b150c201"
      },
      "source": [
        "n = 100\n",
        "confidence_level = .85\n",
        "x_bar = 12.05\n",
        "s = 0.1\n",
        "desvp_x_bar = s / np.sqrt(n)\n",
        "st.norm.interval(confidence=confidence_level,\n",
        "                 loc=x_bar,\n",
        "                 scale=desvp_x_bar)"
      ],
      "execution_count": null,
      "outputs": [
        {
          "output_type": "execute_result",
          "data": {
            "text/plain": [
              "(12.035604685290616, 12.064395314709385)"
            ]
          },
          "metadata": {},
          "execution_count": 32
        }
      ]
    },
    {
      "cell_type": "markdown",
      "source": [
        "Reflita sobre a pergunta abaixo.\n",
        "\n",
        "> Se o valor do nível de confiança fosse 95% (em vez de 85%), o que aconteceria com o tamanho do intervalo de confiança?"
      ],
      "metadata": {
        "id": "wmxeHyh4OROR"
      }
    },
    {
      "cell_type": "markdown",
      "metadata": {
        "id": "PsN27GB9fcUW"
      },
      "source": [
        "### Exemplo 3\n",
        "\n",
        "Uma amostra aleatória de 150 estudantes de uma universidade produz CRA 7,71 com desvio padrão amostral de 1,51. Construa um intervalo de confiança de 90\\% para o CRA médio de todos os alunos da universidade.\n",
        "\n",
        "\n",
        "Solução. Veja o código em R abaixo.\n",
        "\n",
        "```\n",
        "\talfa = 1 - .90\n",
        "\talfa_2 = alfa/2\n",
        "\tz = qnorm(alfa_2, lower.tail=FALSE)\n",
        "\tX_bar = 7.71\n",
        "\ts = 1.51\n",
        "\tn = 150\n",
        "\terrorMargin = z * s / sqrt(n)\n",
        "\tlb = X_bar - errorMargin\n",
        "\tub = X_bar + errorMargin\n",
        "\tcat(\"(\", lb, \", \", ub, \")\")\n",
        "```"
      ]
    },
    {
      "cell_type": "markdown",
      "source": [
        "O código em Python abaixo é equivalente."
      ],
      "metadata": {
        "id": "MDF396quDTaK"
      }
    },
    {
      "cell_type": "code",
      "metadata": {
        "colab": {
          "base_uri": "https://localhost:8080/"
        },
        "id": "2qnEL8t6QLnn",
        "outputId": "70f7c889-44c8-4ad2-bc55-9482287ef3f9"
      },
      "source": [
        "import numpy as np\n",
        "import scipy.stats as st\n",
        "\n",
        "n = 150\n",
        "\n",
        "# passo 1 - computar média amostral\n",
        "x_bar = 7.71\n",
        "\n",
        "# passo 2 - computar desvio padrão de média amostral\n",
        "s = 1.51\n",
        "desvp_bar = s / np.sqrt(n)\n",
        "\n",
        "# passo 3 - computar valor crítico\n",
        "nivel_confianca = .90\n",
        "valor_critico = st.norm.ppf((1-nivel_confianca)/2)\n",
        "\n",
        "# passo 4 - computar limites do IC\n",
        "i = x_bar - np.abs(valor_critico) * desvp_bar\n",
        "f = x_bar + np.abs(valor_critico) * desvp_bar\n",
        "\n",
        "print(\"IC no nível de 90%%: (%.2f, %.2f)\" % (i,f))"
      ],
      "execution_count": null,
      "outputs": [
        {
          "output_type": "stream",
          "name": "stdout",
          "text": [
            "IC no nível de 90%: (7.51, 7.91)\n"
          ]
        }
      ]
    },
    {
      "cell_type": "markdown",
      "source": [
        "Abaixo, a mesma solução, dessa vez por meio da função [scipy.stats.norm.interval](https://docs.scipy.org/doc/scipy/reference/generated/scipy.stats.norm.html)."
      ],
      "metadata": {
        "id": "oTQE0x5aFRbt"
      }
    },
    {
      "cell_type": "code",
      "metadata": {
        "colab": {
          "base_uri": "https://localhost:8080/"
        },
        "id": "Eo9Qrvs1ZnNg",
        "outputId": "21c30397-39a0-4d52-9bcb-8210ac2d4bea"
      },
      "source": [
        "ic = st.norm.interval(confidence = nivel_confianca, loc = x_bar, scale = desvp_bar)\n",
        "print(\"IC no nível de 90%%: (%.2f, %.2f)\" % (ic[0],ic[1]))"
      ],
      "execution_count": null,
      "outputs": [
        {
          "output_type": "stream",
          "name": "stdout",
          "text": [
            "IC no nível de 90%: (7.51, 7.91)\n"
          ]
        }
      ]
    },
    {
      "cell_type": "markdown",
      "metadata": {
        "id": "wWJK2q6EELXC"
      },
      "source": [
        "### Confiabilidade x Precisão\n",
        "\n",
        "No Exemplo 1, construímos um intervalo de confiança para $\\mu$ no nível 95\\%:\n",
        "\n",
        "$$\n",
        "\\left[1.54, 1.62\\right]\n",
        "$$\n",
        "\n",
        "Usando a mesma amostra, se tivêssemos construído um intervalo no nível 68\\%, obteríamos o seguinte:\n",
        "\n",
        "$$\n",
        "\\left[1.56, 1.60\\right]\n",
        "$$\n",
        "\n",
        "Ao analisar os resultados acima, duas perguntas são pertinentes:\n",
        "* Como justificar o o fato de que o intervalo é mais largo para o nível de confiança 95\\%?\n",
        "* O que significaria um intervalo de confiança no nível 100\\%?\n",
        "\n",
        "O nível de confiança selecionado para realizar um estudo estatístico está relacionado à confiabilidade e à precisão do intervalo que se deseja construir. Quando usamos valores de nível de confiança menores, o intervalo de confiança obtido é mais preciso (i.e., menor), pois há uma faixa menor de valores possíveis para o parâmetro de interesse. Por outro lado, quanto menor for o nível de confiança, menor a confiabilidade de que ele contenha o valor do parâmetro. Em geral, para um tamanho de amostra fixo, quanto maior a confiabilidade desejada, menor a precisão obtida.\n",
        "\n",
        "O valor mais utilizado na prática é de 95\\% que, para muitas aplicações, oferece um bom compromisso entre confiabilidade e precisão. Níveis de confiança abaixo de 90\\% são raramente utilizados. Para algumas aplicações de controle de qualidade, nas quais a confiabilidade do produto é extremamente importante, são usados intervalos de confiança de níveis mais elevados, tais como 99,7\\%.\n",
        "\n",
        "1. ICs no nível de 68\\% são precisos (i.e., não contêm a média da população em 32\\% das vezes), o que faz com que esse nível seja inaceitável para fins práticos;\n",
        "\n",
        "2. ICs no nível de 95\\% representam um bom equilíbrio entre precisão e confiabilidade para muitas finalidades práticas;\n",
        "\n",
        "3. ICs no nível de 99,7\\% não cobrem o parâmetro populacional em apenas três vezes em 1000. Esses intervalos são extremamente confiáveis, mas bastante imprecisos.\n"
      ]
    },
    {
      "cell_type": "markdown",
      "metadata": {
        "id": "Fn-P62iHpmSW"
      },
      "source": [
        "## Intervalo de confiança para $p$\n"
      ]
    },
    {
      "cell_type": "markdown",
      "metadata": {
        "id": "a84S7cuyQEKa"
      },
      "source": [
        "### Distribuição amostral de $\\hat{p}$\n",
        "\n",
        "No caso da construção de ICs para a média populacional ($\\mu$), vimos que o estimador a ser usado é a estatística $\\bar{x}$. Para construir ICs para a proporção populacional ($p$), vamos usar outro estimador, a estatística $\\hat{p}$. Vimos que $\\bar{x}$ é normalmente distribuída e usamos esse fato para derivar a expressão para computar os limites de um IC para $\\mu$. Da mesma forma, seria interessante saber qual é a distribuição seguida por $\\hat{p}$.\n",
        "\n",
        "Considere uma população em que a proporção de elementos portadores de certa característica é um valor desconhecido denotado por $p$. Nesse contexto, podemos definir uma variável aleatória $X$ da seguinte maneira:\n",
        "$$\n",
        "\t\t\tX = \\left\\{\n",
        "\t\t\t\t\\begin{array}{rl} \\nonumber\n",
        "\t\t\t\t \t1\t& \\mbox{ se o elemento for portador da característica}  \\\\\n",
        "\t\t\t\t  0 & \\mbox{ se o elemento for não portador da característica}\n",
        "\t\t\t\t\\end{array} \\right.\n",
        "$$\n",
        "\n",
        "Sendo assim, a variável aleatória $X$ assim definida segue a [distribuição de Bernoulli](https://en.wikipedia.org/wiki/Bernoulli_distribution), i.e.,\n",
        "$$\n",
        "\t\t \tX \\sim \\text{Bernoulli}(p)\n",
        "$$\n",
        "em que $p$ é a probabilidade de um elemento ser portador da característica. Repare que\n",
        "- $X \\in \\{0, 1\\}$,\n",
        "- $\\operatorname{E}(X) = p$,\n",
        "- $\\operatorname{Var}(X) = p(1-p)$.\n",
        "\n",
        "Considere que retirarmos uma AAS de tamanho $n$ dessa população: $\\{X_1, X_2, \\ldots, X_n\\}$. Considere também que indicarmos por $Y_n$ o total de elementos portadores da característica estudada na amostra, então\n",
        "$$\n",
        "\t\t \tY_n = X_1 + X_2 + \\ldots + X_n\n",
        "$$\n",
        "onde:\n",
        "* cada $X_i$ tem distribuição de Bernoulli;\n",
        "* $X_i$ e $X_j$, $i \\neq j$, são independentes.\n",
        "\n",
        "Por outro lado, sabemos que $Y_n$ assim definida segue uma distribuição binomial, i.e.,\n",
        "$$\n",
        "\t\t \tY_n \\sim \\text{B}(n,p)\n",
        "$$\n",
        "em que $p$ é a probabilidade de um elemento ser portador da característica. Repare que\n",
        "\n",
        "- $Y_n \\in \\{0, 1, 2, \\ldots, n\\}$,\n",
        "- $\\operatorname{E}(Y_n) = np$,\n",
        "- $\\operatorname{Var}(Y_n) = np(1-p)$.\n",
        "\n",
        "Vamos agora considerar a estatística (variável aleatória) denominada **proporção amostral**, e denotada por $\\widehat{p}$. Essa estatística é calculada como sendo a proporção de elementos na amostra que são portadores da característica, i.e.,\n",
        "\n",
        "$$\n",
        "\t\t \t\\widehat{p} = \\frac{Y_n}{n}\n",
        "$$\n",
        "\n",
        "É possível demonstrar que (veja as [demonstrações](https://www.dropbox.com/s/hojy9mhy6enzaom/demonstracao-p_hat-Y_n.pdf?dl=0), que usam [propriedades](http://theanalysisofdata.com/probability/2_3.html) do valor esperado e da variância de uma variável aleatória):\n",
        "\n",
        "- $\\widehat{p} \\in [0, 1]$,\n",
        "- $\\operatorname{E}(\\widehat{p}) = p$,\n",
        "- $\\operatorname{Var}(\\widehat{p}) = \\frac{p(1-p)}{n}$.\n",
        "\n",
        "Por outro lado, já estudamos a estatística denominada *média amostral*, definida como segue:  \n",
        "\n",
        "$$\n",
        "\\overline{x} = \\frac{X_1 + X_2 + \\ldots + X_n}{n}\n",
        "$$\n",
        "\n",
        "Sendo assim, há uma relação entre as variáveis $\\overline{x}$ e $Y_n$:\n",
        "\n",
        "$$\n",
        "Y_n = n\\overline{x}\n",
        "$$\n",
        "\n",
        "Observe que, na expressão anterior, a variável $\\overline{x}$ é a própria variável $\\widehat{p}$.\n",
        "\n",
        "Também vimos que, pelo TLC, a distribuição amostral de $\\overline{x}$ segue aproximadamente a distribuição normal:\n",
        "\n",
        "$$\n",
        "\\overline{x} \\sim \\mathcal{N}\\left(\\mu_\\overline{x}, \\sigma^2_\\overline{x}\\right)\n",
        "$$\n",
        "\n",
        "Agora, se fizermos $\\mu_{\\overline{x}}=p$ e variância $\\sigma^2_\\overline{x}=(p(1-p))/n$, então:\n",
        "\n",
        "$$\n",
        "\\overline{x} \\sim \\mathcal{N}\\left(p, \\frac{p(1-p)}{n}\\right)\n",
        "$$\n",
        "\n",
        "Desse modo, para $n$ grande, o TLC nos permite considerar a distribuição amostral de $\\widehat{p}$ como sendo aproximadamente normal:\n",
        "\n",
        "$$\n",
        "\t\t \t\\widehat{p} \\sim \\mathcal{N}\\left(p, \\frac{p(1-p)}{n}\\right)\n",
        "$$\n",
        "\n",
        "Sendo assim, chegamos à seguinte conclusão:\n",
        "\n",
        "> A proporção amostral $\\widehat{p}$ é uma estatística que\n",
        "1. é um estimador não-enviesado para $p$ e,\n",
        "2. assim como a média amostral $\\overline{x}$, segue a distribuição normal.\n",
        "\n",
        "Por fim, já que $\\widehat{p}$ é calculado como uma média (de um conjunto de valores binários contidos na amostra), então o intervalo de confiança para $p$ pode ser calculado pelo mesmo procedimento que usamos para construir intervalos de confiança para médias:\n",
        "\n",
        "$$\n",
        "\\hat{p} \\pm z_{\\alpha/2}\\sigma_{\\hat{p}} = \\hat{p} \\pm z_{\\alpha/2}\\sqrt{\\frac{p(1-p)}{n}}\n",
        "$$\n",
        "\n",
        "Repare que o intervalo de confiança acima depende de $p$, o próprio valor que desejamos estimar! Na prática, para obter o intervalo de confiança para $p$ no nível de confiança $(1-\\alpha)$\\%, devemos substituir $p$ por $\\hat{p}$ na expressão acima. Ao fazermos isso, obtemos o intervalo de confiança a seguir:\n",
        "\n",
        "$$\n",
        "\\hat{p} \\pm z_{\\alpha/2}\\sqrt{\\frac{\\hat{p}(1-\\hat{p})}{n}}\n",
        "$$"
      ]
    },
    {
      "cell_type": "markdown",
      "source": [
        "### Simulação"
      ],
      "metadata": {
        "id": "DkfkkDmeLAmU"
      }
    },
    {
      "cell_type": "code",
      "source": [
        "import matplotlib.pyplot as plt\n",
        "from scipy.stats import bernoulli\n",
        "data_bern = bernoulli.rvs(size=10000,p=0.1)\n",
        "data_bern\n",
        "\n",
        "sample = data_bern\n",
        "labels, counts = np.unique(sample, return_counts=True)\n",
        "plt.bar(labels, counts, align='center')\n",
        "plt.gca().set_xticks(labels)\n",
        "plt.show()"
      ],
      "metadata": {
        "colab": {
          "base_uri": "https://localhost:8080/",
          "height": 430
        },
        "id": "_7ZvKzD_djx4",
        "outputId": "0d871ad8-143b-413a-a89f-1e8dcc02b6b1"
      },
      "execution_count": null,
      "outputs": [
        {
          "output_type": "display_data",
          "data": {
            "text/plain": [
              "<Figure size 640x480 with 1 Axes>"
            ],
            "image/png": "[encoded data removed]"
          },
          "metadata": {}
        }
      ]
    },
    {
      "cell_type": "code",
      "source": [
        "from numpy.random import seed\n",
        "from numpy.random import randint\n",
        "from numpy import mean, std\n",
        "import numpy as np\n",
        "from matplotlib import pyplot\n",
        "import random\n",
        "\n",
        "def build_hist(n):\n",
        "  num_amostras = 10000\n",
        "  proportions = [mean(bernoulli.rvs(size=n,p=0.1)) for _ in range(num_amostras)]\n",
        "  return proportions"
      ],
      "metadata": {
        "id": "8UFJQyDdecZM"
      },
      "execution_count": null,
      "outputs": []
    },
    {
      "cell_type": "code",
      "source": [
        "fig, axs = plt.subplots(2, 2)\n",
        "proportions = build_hist(20)\n",
        "axs[0, 0].hist(proportions, bins=100, label=\"n=20\")\n",
        "axs[0, 0].legend(loc='upper right')\n",
        "\n",
        "proportions = build_hist(50)\n",
        "axs[0, 1].hist(proportions, bins=100, label=\"n=50\")\n",
        "axs[0, 1].legend(loc='upper right')\n",
        "\n",
        "proportions = build_hist(100)\n",
        "axs[1, 0].hist(proportions, bins=100, label=\"n=100\")\n",
        "axs[1, 0].legend(loc='upper right')\n",
        "\n",
        "proportions = build_hist(200)\n",
        "axs[1, 1].hist(proportions, bins=100, label=\"n=200\")\n",
        "axs[1, 1].legend(loc='upper right')"
      ],
      "metadata": {
        "colab": {
          "base_uri": "https://localhost:8080/",
          "height": 448
        },
        "id": "D3ek9hrrlO4M",
        "outputId": "21ab3777-fc27-4f2b-dde6-f0c7ba08f47f"
      },
      "execution_count": null,
      "outputs": [
        {
          "output_type": "execute_result",
          "data": {
            "text/plain": [
              "<matplotlib.legend.Legend at 0x7c43af7457b0>"
            ]
          },
          "metadata": {},
          "execution_count": 100
        },
        {
          "output_type": "display_data",
          "data": {
            "text/plain": [
              "<Figure size 640x480 with 4 Axes>"
            ],
            "image/png": "[encoded data removed]"
          },
          "metadata": {}
        }
      ]
    },
    {
      "cell_type": "markdown",
      "metadata": {
        "id": "kij_2VBpQKeQ"
      },
      "source": [
        "### Procedimento de construção\n",
        "\n",
        "Nesta seção, apresentamos o procedimento de construção de um intervalo de confiança para $p$, isto é, para a proporção de indívíduos na população que possuem uma determinada característica de interesse. A entrada para aplicação desse procedimento é uma amostra de tamanho $n>30$: $X_{1}, X_{2}, \\cdots, X_{n}$. Nessa amostra, $X_i = 1$ indica que o $i$-ésimo elemento possui a característica de interesse, e $X_i = 0$ indice o contrário.\n",
        "\n",
        "**Procedimento**:\n",
        "> 1. Calcular a proporção na amostra:\n",
        "$$\n",
        "\\hat{p} = \\frac{\\left(X_{1} + X_{2} + \\cdots + X_{n}\\right)}{n}\n",
        "$$\n",
        "2. Determinar $z_{\\alpha/2}$, o escore na distribuição normal padrão que delimita uma área de $\\alpha/2$ no lado direito da curva da distribuição normal padrão.\n",
        "3. Computar os extremos do intervalo de confiança usando a expressão a seguir:\n",
        "$$\n",
        "\\hat{p} \\pm z_{\\alpha/2}\\sqrt{\\frac{\\hat{p}(1-\\hat{p})}{n}}\n",
        "$$"
      ]
    },
    {
      "cell_type": "markdown",
      "metadata": {
        "id": "G9RvCIWuQyXg"
      },
      "source": [
        "### Regra prática\n",
        "\n",
        "Como regra prática, o procedimento a seguir deve ser usado apenas quando a amostra contiver pelo menos 10 sucessos e 10 falhas.\n",
        "\n",
        "Perceba a implicação prática da regra acima:\n",
        "\n",
        "* Se a proporção populacional fosse próxima de 0,5, o tamanho da amostra necessário para produzir pelo menos 10 sucessos e pelo menos 10 falhas provavelmente seria próximo de 20.\n",
        "* Mas se a proporção da população fosse extrema (i.e., próxima de 0 ou 1), provavelmente seria necessária uma amostra maior para produzir pelo menos 10 sucessos e 10 falhas.\n",
        "\n",
        "Veja mais detalhes sobre essa regra prática neste [link](https://stattrek.com/estimation/confidence-interval-proportion.aspx?tutorial=samp)."
      ]
    },
    {
      "cell_type": "code",
      "source": [
        "from scipy.stats import norm\n",
        "norm.ppf(.005 + 0.99)"
      ],
      "metadata": {
        "colab": {
          "base_uri": "https://localhost:8080/"
        },
        "id": "gEmChoVJdz7c",
        "outputId": "c232cea8-e4a5-4de6-eae3-6588929ebdd6"
      },
      "execution_count": null,
      "outputs": [
        {
          "output_type": "execute_result",
          "data": {
            "text/plain": [
              "2.5758293035489004"
            ]
          },
          "metadata": {},
          "execution_count": 4
        }
      ]
    },
    {
      "cell_type": "markdown",
      "metadata": {
        "id": "ccT0JdOyHTXk"
      },
      "source": [
        "### Exemplo 1\n",
        "\n",
        "(exemplo adaptado desta [fonte](https://stattrek.com/estimation/confidence-interval-proportion?tutorial=samp))\n",
        "\n",
        "> Um grande jornal selecionou uma amostra aleatória simples de 1600 leitores de sua lista de 100.000 assinantes. Eles perguntaram a cada indivíduo selecionado se o jornal deveria aumentar sua cobertura de notícias locais. Quarenta por cento da amostra queria mais notícias locais. Qual é o intervalo de confiança de 99\\% para a proporção de leitores que gostariam de mais cobertura de notícias locais?\n",
        "\n",
        "**Solução**\n",
        "\n",
        "$$\n",
        "1-\\alpha = 0.99\n",
        "$$\n",
        "\n",
        "$$\n",
        "n = 1600\n",
        "$$\n",
        "\n",
        "$$\n",
        "\\hat{p} = 0.40\n",
        "$$\n",
        "\n",
        "Veja o código em Python abaixo, que usa a função [ppf](https://docs.scipy.org/doc/scipy/reference/generated/scipy.stats.norm.html) para construir o intervalor solicitado."
      ]
    },
    {
      "cell_type": "code",
      "metadata": {
        "id": "CbeYYJ-bINYV",
        "colab": {
          "base_uri": "https://localhost:8080/"
        },
        "outputId": "33b94343-0a0a-4fa5-f776-e2b20717ce9a"
      },
      "source": [
        "from scipy.stats import norm\n",
        "import numpy as np\n",
        "\n",
        "confidence_level = 0.99\n",
        "\n",
        "alfa = 1 - confidence_level\n",
        "\n",
        "critical_value = np.absolute(norm.ppf(alfa/2))\n",
        "print(\"critical value: %.2f\" % critical_value)\n",
        "\n",
        "p_hat = .4\n",
        "n = 1600\n",
        "errorMargin = critical_value * np.sqrt((p_hat*(1-p_hat))/n)\n",
        "lowerBound = p_hat - errorMargin\n",
        "upperBound = p_hat + errorMargin\n",
        "print(\"99 percent CI: (%.2f,%.2f)\" % (lowerBound, upperBound))"
      ],
      "execution_count": null,
      "outputs": [
        {
          "output_type": "stream",
          "name": "stdout",
          "text": [
            "critical value: 2.58\n",
            "99 percent CI: (0.37,0.43)\n"
          ]
        }
      ]
    },
    {
      "cell_type": "markdown",
      "source": [
        "O código abaixo chega ao mesmo resultado."
      ],
      "metadata": {
        "id": "EyuVxyHmRLsc"
      }
    },
    {
      "cell_type": "code",
      "source": [
        "n = 1600\n",
        "confidence_level = .99\n",
        "p_hat = .4\n",
        "desvp_p_hat = np.sqrt((p_hat*(1-p_hat))/n)\n",
        "st.norm.interval(confidence = confidence_level,\n",
        "                 loc = p_hat,\n",
        "                 scale = desvp_p_hat)"
      ],
      "metadata": {
        "colab": {
          "base_uri": "https://localhost:8080/"
        },
        "id": "R71IIF0fQcou",
        "outputId": "faa699cc-3125-4c69-9d17-7e4092a570ae"
      },
      "execution_count": null,
      "outputs": [
        {
          "output_type": "execute_result",
          "data": {
            "text/plain": [
              "(0.3684526627089832, 0.43154733729101685)"
            ]
          },
          "metadata": {},
          "execution_count": 42
        }
      ]
    },
    {
      "cell_type": "markdown",
      "metadata": {
        "id": "9QxVSsnTDJpn"
      },
      "source": [
        "### Exemplo 2\n",
        "(exemplo adaptado desta [fonte](http://people.fas.harvard.edu/~mparzen/stat100/Stat%20100%20Final%20Cheat%20Sheets%20-%20Google%20Docs%20(2).pdf))\n",
        "\n",
        "> Uma pesquisa recente consistiu em entrevistar 1012 adultos selecionados aleatoriamente. Os respondentes foram consultados sobre se \"a pesquisa com alimentos transgênicos deve ou não deve ser permitida\". Os resultados mostraram que 901 dos respondentes indicaram que a pesquisa com transgênicos não deve ser permitida. Construa um intervalo de confiança no nível de 95% da proporção de adultos que acreditam que a pesquisa com transgênicos não deve ser permitida."
      ]
    },
    {
      "cell_type": "markdown",
      "metadata": {
        "id": "7Qj7a2yfEV3h"
      },
      "source": [
        "**Solução**\n",
        "\n",
        "n = 1012\n",
        "\n",
        "$\\hat{p} = \\frac{901}{1012} \\approx 0.890$\n",
        "\n",
        "$$\n",
        "\\left(0.890 - 1.96\\sqrt{\\frac{0.890 \\times 0.110}{1012}}, 0.890 + 1.96\\sqrt{\\frac{0.890 \\times 0.110}{1012}}\\right)\n",
        "$$\n",
        "\n",
        "Intervalo de confiança no nível 95%:\n",
        "\n",
        "$$\n",
        "(0.871, 0.909)\n",
        "$$\n",
        "\n"
      ]
    },
    {
      "cell_type": "markdown",
      "metadata": {
        "id": "gI_YjjarPaoE"
      },
      "source": [
        "## Determinação do tamanho da amostra\n",
        "\n",
        "Lembre-se de que o *erro de estimação*, também conhecido como *margem de erro* e denotado por $E$, corresponde à metade do comprimento do intervalo de confiança. Vimos que o tamanho da amostra está inversamente relacionado ao valor $E$: se usamos uma amostra maior, o erro amostral tende a diminuir.\n",
        "\n",
        "Até aqui, consideramos que o tamanho da amostra, $n$, é um dos parâmetros de entrada para aplicação de procedimentos de estimação intervalar (tanto para $\\mu$ quanto para $p$). Entretanto, podemos em certas ocasiões querer determinar o *tamanho mínimo da amostra* a ser colhida de uma população, de modo a obter  um erro amostral previamente estipulado, com determinado **nível de confiança** (*confidence level*).\n",
        "\n",
        "Por exemplo, a pesquisa estatística pode ser encomendada com a restrição de que o tamanho do intervalo de confiança construído seja igual a $2$. Nesse caso, sabemos que $E$ deve necessariamente ser igual a $1$. Nessas condições, qual deve ser a quantidade mínima de entrevistados (i.e., qual o valor mínimo de $n$)?"
      ]
    },
    {
      "cell_type": "markdown",
      "source": [
        "### Caso 1: parâmetro de interesse é $\\mu$\n",
        "\n",
        "Considere que estejamos estimando um intervalo de confiança para a média populacional usando uma amostra de tamanho $n$. Suponha que queiramos determinar o valor de $n$ de modo a atender a seguinte restrição:\n",
        "\n",
        "> A probabilidade de que o intervalo de confiança a ser computado contenha $\\mu$ deve ser, no mínimo, igual ao nível de confiança.\n",
        "\n",
        "Matematicamente, essa restrição pode ser expressa conforme a seguinte inequação:\n",
        "$$\n",
        "\\Pr(\\left|\\overline{x}-\\mu\\right| \\leq E) \\geq 1-\\alpha\n",
        "$$\n",
        "\n",
        "Nesse contexto, temos dois valores previamente estipulados (i.e., ambos os valores são fixados no início do planejamento da pesquisa estatística):\n",
        "\n",
        "1. $(1-\\alpha)$ é o *nível de confiança* ;\n",
        "2. $E$ é o *erro amostral máximo* (ou *erro de estimação*) que podemos suportar.\n",
        "\n",
        "Considerando que $n$ é o tamanho da amostra e que $\\sigma$ é o desvio padrão populacional, podemos reescrever o lado esquerdo da inequação acima como\n",
        "\n",
        "$$\n",
        "\\Pr(\\left|\\overline{x}-\\mu\\right| \\leq E) = \\Pr(-E \\leq \\overline{x}-\\mu \\leq E) = \\Pr\\left(\\frac{-E}{\\sigma/\\sqrt{n}} \\leq \\frac{\\overline{x}-\\mu}{\\sigma/\\sqrt{n}} \\leq \\frac{E}{\\sigma/\\sqrt{n}} \\right)\n",
        "$$\n",
        "\n",
        "Pelo TLC, sabemos que $\\overline{x} \\sim \\mathcal{N}(\\mu, \\sigma^2/n)$. Logo a variável definida como $Z = \\frac{\\overline{x}-\\mu}{\\sigma/\\sqrt{n}}$ segue a distribuição normal padrão, i.e., $Z \\sim \\mathcal{N}(0, 1)$. Sendo assim, a inequação anterior pode ser reescrita como segue:\n",
        "\n",
        "$$\n",
        "\\Pr\\left(\\frac{-\\sqrt{n}E}{\\sigma} \\leq Z \\leq \\frac{\\sqrt{n}E}{\\sigma} \\right) \\geq 1-\\alpha\n",
        "$$\n",
        "\n",
        "Dado o nível de confiança $(1-\\alpha)$, podemos obter $z_{\\alpha/2}$ da $\\mathcal{N}(0,1)$, tal que $\\Pr(-z_{\\alpha/2} < Z < z_{\\alpha/2}) = 1-\\alpha$, de modo que\n",
        "$$\n",
        "\\frac{\\sqrt{n}E}{\\sigma} = z_{\\alpha/2}\n",
        "$$\n",
        "\n",
        "Ao isolar $n$ na equação acima, obtemos:\n",
        "$$\n",
        "n \\approx \\frac{\\sigma^2{z}^{2}_{\\alpha/2}}{E^2}\n",
        "$$\n",
        "\n",
        "Portanto, o tamanho mínimo da amostra a ser coletada pode ser obtido por\n",
        "$$\n",
        "n = \\left\\lceil{\\frac{\\sigma^2{z}^{2}_{\\alpha/2}}{E^2}}\\right\\rceil\n",
        "$$\n",
        "\n",
        "Note que nessa expressão derivada para $n$, são conhecidos $z_{\\alpha/2}$ e $E$, mas $\\sigma^2$ é a variância populacional, normalmente desconhecida. Portanto, para calcularmos $n$, devemos ter alguma informação prévia sobre $\\sigma^2$ (obtida a partir de estudos anteriores ou pela experiência do projetista do estudo estatístico). Alternativamente, podemos usar uma pequena amostra piloto para estimar $\\sigma^2$: com essa amotra piloto, computamos $s^2$ e fazemos a aproximação $\\sigma^2 \\approx s^2$.\n",
        "\n",
        "$$\n",
        "n = \\left\\lceil{\\frac{s^2{z}^{2}_{\\alpha/2}}{E^2}}\\right\\rceil\n",
        "$$\n"
      ],
      "metadata": {
        "id": "H9IN7lNLidA2"
      }
    },
    {
      "cell_type": "markdown",
      "metadata": {
        "id": "fNGGBXTwBjlB"
      },
      "source": [
        "### Caso 2: parâmetro de interesse é $p$\n",
        "\n",
        "Quando o parâmetro que se deseja estimar é $p$, a proporção populacional, podemos usar a aproximação normal para $\\widehat{p}$:\n",
        "\n",
        "$$\n",
        "\\widehat{p} \\sim \\mathcal{N}\\left(p, \\frac{p(1-p)}{n}\\right)\n",
        "$$\n",
        "\n",
        "Em particular, a expressão acima declara que a variância da população é\n",
        "$$\n",
        "\\sigma^2 = p(1-p)\n",
        "$$\n",
        "\n",
        "Se substituirmos a expressão acima na expressão para calcular $n$, isso resulta em\n",
        "$$\n",
        "n = \\left\\lceil{\\frac{{z}^{2}_{\\alpha/2}\\,p(1-p)}{E^2}}\\right\\rceil\n",
        "$$\n",
        "\n",
        "Como não conhecemos o valor de $p$, a expressão acima pode ser usada apenas quando pudermos obter uma aproximação para esse valor. Isso pode ser feito por meio de uma amostra piloto. Se $\\hat{p}_{\\text{pil}}$ for a proporção computada nessa amostra piloto, então:\n",
        "\n",
        "$$\n",
        "n = \\left\\lceil{\\frac{{z}^{2}_{\\alpha/2}\\,\\hat{p}_{\\text{pil}}(1-\\hat{p}_{\\text{pil}})}{E^2}}\\right\\rceil\n",
        "$$\n",
        "\n",
        "Quando uma amostra piloto não puder ser construída, podemos usar o fato de que $p(1-p) \\leq 1/4$, para todo $p$. Para confirmar isso, desenhe o [gráfico](https://www.google.com/search?q=x%281-x%29&hs=ltG&ei=cso0Ycj-K-PV1sQP9fOf8As&oq=x%281-x%29&gs_lcp=Cgdnd3Mtd2l6EAMyBggAEAcQHjIICAAQBxAKEB4yBggAEAcQHjIGCAAQBxAeMgYIABAHEB4yBggAEAcQHjIGCAAQBxAeMgYIABAHEB4yBggAEAcQHjIGCAAQBxAeOgcIABBHELADOgQIABAeOgYIABAFEB5KBQg8EgExSgQIQRgBUPtVWL9iYMRjaAFwAHgAgAF8iAHzAZIBAzAuMpgBAKABAcgBCMABAQ&sclient=gws-wiz&ved=0ahUKEwjI__Ow_OfyAhXjqpUCHfX5B74Q4dUDCA4&uact=5) da função $f(x) = x(1-x)$, com $x \\in [0,1]$. Ao substituírmos o valor máximo que $p(1-p)$ pode assumir na expressão para $n$, obtemos\n",
        "$$\n",
        "n = \\left\\lceil{\\frac{{z}^{2}_{\\alpha/2}}{4E^2}}\\right\\rceil\n",
        "$$\n",
        "\n",
        "Repare que o uso da expressão acima para estimar o valor de $n$ traz consigo o risco de superdimensionar o tamanho da amostra necessária. Isso ocorrerá se $p$ for na realidade próximo de 0 ou 1. Se o custo envolvido for elevado e proporcional ao tamanho de amostra, é mais adequado obter uma estimativa prévia de $p$ por meio de uma amostra-piloto."
      ]
    },
    {
      "cell_type": "markdown",
      "source": [
        "### Exemplos"
      ],
      "metadata": {
        "id": "6plTQ-KGivvH"
      }
    },
    {
      "cell_type": "markdown",
      "metadata": {
        "id": "yP8jhXPMgYtv"
      },
      "source": [
        "#### Exemplo 1\n",
        "\n",
        "> Suponha que uma pequena amostra piloto de $n=10$, extraída de uma população, forneceu valores $\\overline{x}=15$ e $s^2=16$. Com valores fixos de $E=0.5$ e $1-\\alpha=0.95$, qual deve ser o tamanho mínimo da amostra de indivíduos para que se possa alcançar o erro amostral pré-estabelecido?\n",
        "\n",
        "**Solução**\n",
        "\n",
        "Substituindo os valores fornecidos na expressão anterior, temos o seguinte:\n",
        "$$\n",
        "n = \\left\\lceil{\\frac{16 \\times (1.96)^{2}}{(0.5)^2}}\\right\\rceil = 245.\n",
        "$$\n",
        "\n",
        "Na expressão acima, $1.96$ é o valor da variável aleatória normal padrão necessário para que se obtenha 95\\% de nível de confiança. Sendo assim, o tamanho mínimo da amostra para que se obtenha um erro amostral igual a $0.5$ nesse nível de confiança deve ser $n = 245$."
      ]
    },
    {
      "cell_type": "markdown",
      "metadata": {
        "id": "tK7vTaLfgeud"
      },
      "source": [
        "#### Exemplo 2\n",
        "\n",
        "> Em uma pesquisa de mercado, estima-se que aproximadamente 60\\% das pessoas entrevistadas preferirão a marca A de um produto. Essa informação é baseada em pesquisas anteriores. Considere que, no planejamento da pesquisa, definiu-se que o erro amostral máximo de $\\widehat{p}$ deve ser $0.03$ (i.e., $E=0.03$), com probabilidade $(1-\\alpha)=0.95$. Qual deve ser o tamanho mínimo da amostra de indivíduos para que se possa alcançar o erro amostral pré-estabelecido?\n",
        "\n",
        "**Solução**\n",
        "\n",
        "Com os valores fornecidos para $E$ e $(1-\\alpha)$, temos\n",
        "$$\n",
        "n = \\frac{(1.96)^2(0.6)(0.4)}{(0.03)^2} = 1024.\n",
        "$$\n",
        "\n",
        "em que usamos o fato de que $p \\approx 0.60$. Sendo assim, deve ser montada um amostra de 1024 indivíduos para que se possa alcançar o erro amostral $E=0.03$."
      ]
    },
    {
      "cell_type": "markdown",
      "metadata": {
        "id": "TKfmoaJSGOQf"
      },
      "source": [
        "#### Exemplo 3\n",
        "(exemplo adaptado desta [fonte](http://people.fas.harvard.edu/~mparzen/stat100/Stat%20100%20Final%20Cheat%20Sheets%20-%20Google%20Docs%20(2).pdf))\n",
        "\n",
        "> Obesidade é uma enfermidade que corresponde a um índice de massa corporal (*body mass index*, BMI) maior do que 30 Kg/m$^2$. Um intervalo de confiança no nível de 95% dos adultos brasileiros com mais de 20 anos de idade considerados obesos foi determinado como entre 22% a 24%, com margem de erro $E= 1\\%$. Qual foi o tamanho da amostra usada para construção desse intervalo de confiança?"
      ]
    },
    {
      "cell_type": "markdown",
      "metadata": {
        "id": "SsRwVUNaE3cn"
      },
      "source": [
        "#### Exemplo 4\n",
        "\n",
        "(exemplo adaptado desta [fonte](http://www.cienciasecognicao.org/portal/wp-content/uploads/2011/09/Tamanho-da-Amostra-1-1.pdf))\n",
        "\n",
        "Um economista deseja estimar a renda média para o primeiro ano de trabalho de um bacharel\n",
        "em direito. Quantos valores de renda devem ser tomados, se o economista deseja ter 95% de\n",
        "confiança em que a média amostral esteja a menos de R\\$ 500,00 da verdadeira média populacional? Suponha que saibamos, por um estudo prévio, que para tais rendas, $\\sigma$ =\n",
        "R\\$ 6250,00.\n",
        "\n",
        "Considerando o mesmo contexto acima, qual deveria ser o novo tamanho da amostra se usássemos uma margem de erro de R\\$ 1000,00?"
      ]
    }
  ]
}