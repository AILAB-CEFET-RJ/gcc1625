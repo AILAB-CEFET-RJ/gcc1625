{
  "nbformat": 4,
  "nbformat_minor": 0,
  "metadata": {
    "colab": {
      "provenance": []
    },
    "kernelspec": {
      "name": "python3",
      "display_name": "Python 3"
    },
    "language_info": {
      "name": "python"
    }
  },
  "cells": [
    {
      "cell_type": "markdown",
      "metadata": {
        "id": "6yik1GU5MuN0"
      },
      "source": [
        "# Revisão: distribuições amostrais (*sampling distributions*)\n",
        "\n",
        "A distribuição amostral de uma estatística é a distribuição dessa estatística, considerada como uma variável aleatória, quando derivada de uma amostra aleatória de tamanho $n$. Pode ser considerada como a distribuição da estatística para todas as amostras possíveis da mesma população para um determinado tamanho de amostra.\n",
        "\n",
        "O desvio padrão da distribuição amostral de uma estatística é conhecido como o **erro padrão** (*standard error*) dessa quantidade. Para o caso em que a estatística é a média da amostra (denotada por $\\bar{x}$), o erro padrão é computado por meio da aplicação do TLC:\n",
        "\n",
        "$$\n",
        "\\sigma_{\\bar{x}} = \\frac{\\sigma}{\\sqrt{n}}\n",
        "$$\n",
        "\n",
        "Por exemplo, todos os procedimentos para estimar parâmetros e para testar hipóteses que estudamos até aqui possuem certas pressuposições sobre a população.\n",
        "- “a variância da população é conhecida”\n",
        "- “a população é aproximadamente normal”\n",
        "- “as variâncias das amostras são aproximadamente iguais”\n",
        "\n",
        "Métodos estatísticos que presumem algo acerca da distribuição da população em estudo são denominados *paramétricos* (e.g., testes t, z, F, $\\chi^2$).\n",
        "\n",
        "Mas, e se tivermos apenas a amostra e não sabemos nada sobre a população? Ou se não podemos atender às condições de aplicabilidades dos testes paramétricos?\n",
        "Nesses casos, uma alternativa é usar *métodos não paramétricos*. Alguns desses métodos é o denominado Boostrapping."
      ]
    },
    {
      "cell_type": "markdown",
      "metadata": {
        "id": "RDFkEzvVjUCH"
      },
      "source": [
        "# Bootstrapping: visão geral\n",
        "\n",
        "Em Estatística, *Bootstrapping* é o nome dado a uma técnica não-paramétrica que usa amostragem aleatória com substituição para simular o processo de amostragem a partir de uma população. Esta técnica permite estimar a distribuição amostral de quase todas as estatísticas usando métodos de amostragem aleatória.\n",
        "\n",
        "O *bootstrapping* pode ser usado para produzir intervalos de confiança para algum parâmetro populacional. Também pode ser usado para realizar testes de hipóteses. É frequentemente usado como uma alternativa às técnicas de inferência estatística que se baseiam na suposição de um modelo paramétrico ($t$-teste, $z$-teste, etc) quando as condições de aplicabilidade não podem ser satisfeitas ou quando a inferência paramétrica é impossível ou requer fórmulas complicadas para o cálculo de erros padrão.\n",
        "\n",
        "As etapas de aplicação do *bootstrapping* para gerar estimar a distribuição amostral de alguma estatística $T$ (e.g., proporção, média, mediana, etc) são ilustradas na figura a seguir ([fonte](https://online.stat.psu.edu/stat555)).\n",
        "\n",
        "1. A distribuição amostral verdadeira (*true sampling distribution*) é calculada tomando novas amostras da população, calculando $T$ e então acumulando todos os valores de $T$ na distribuição amostral.\n",
        "\n",
        "2. No entanto, obter novas amostras a partir da população é um procedimento custoso na prática. Sendo assim, em vez disso, pegamos uma única amostra (*sample*) e a usamos **no lugar da população**. Essa única amostra é a população estimada.\n",
        "\n",
        "3. Em seguida, selecionamos amostras \"in silico\" (i.e., com o uso do computador) da população estimada, e calculamos o valor de $T$ para cada uma.\n",
        "\n",
        "4. Os valores calculados no passo anterior são então usados para produzir a estimativa da distribuição amostral (*bootstrap sampling distribution*).\n",
        "\n",
        "> A partir da distribuição amostral estimada, podemos computar valores aproximados para algumas características da estatística. Por exemplo, se $T$ é uma variável quantitativa, podemos estar interessados ​​em características como sua média, variância, assimetria, etc. É também possível construir intervalos de confiança para a média de $T$.\n",
        "\n",
        "<center><img src=\"https://online.stat.psu.edu/stat555/sites/onlinecourses.science.psu.edu.stat555/files/cross_val/bootstrap_overview/index.png\" style=\"width:420px; margin-bottom:32px; background-color:#082767\"/></center>"
      ]
    },
    {
      "cell_type": "markdown",
      "metadata": {
        "id": "C8gJQ7T8myjW"
      },
      "source": [
        "## Amostragem com reposição (*sampling with replacement*)\n",
        "\n",
        "A etapa (3) descrita acima envolve selecionar amostras com reposição a partir da amostra original. Essa etapa é realizada com o propósito de simular a produção de diversas amostras a partir da população. Essas amostras retiradas a partir da amostra original são denominadas *reamostras* (*resamples*). O termo \"com reposição\" significa que um elemento da amostra original pode ser selecionado **zero ou mais vezes** para fazer parte de uma reamostra.\n",
        "\n",
        "A figura a seguir ([fonte](https://www.spss-tutorials.com)) ilustra o procedimento de amostragem com reposição.\n",
        "\n",
        "<center><img src=\"https://www.spss-tutorials.com/img/simple-random-sampling-with-replacement.png\" style=\"width:420px; margin-bottom:32px; background-color:#082767\"/></center>\n",
        "\n",
        "No Bootstraping, cada reamostra (também conhecida como *amostra boostrap*) deve ter a mesma quantidade de observações da amostra original. Veja a figura a seguir ([fonte](https://www.researchgate.net/profile/Paola-Galdi/publication/322179244)).\n",
        "\n",
        "<center><img src=\"https://i.stack.imgur.com/5Nzqf.png\" style=\"width:400px; margin-bottom:32px; background-color:#082767\"/></center>\n",
        "\n",
        "Para uma amostra original de tamanho $n$, o total de reamostras possíveis é dado pela seguinte expressão.\n",
        "$$\n",
        "\\vert C_n \\vert={{2n-1}\\choose{n-1}}\n",
        "$$\n",
        "\n",
        "Um exemplo para $n = 5$:\n",
        "\n",
        "$$\n",
        "\\vert C_n \\vert={{9}\\choose{4}} = \\frac{9!}{4! \\times 5!} = \\frac{9 \\times 8 \\times 7 \\times 6 \\times 5!}{4! \\times 5!} = \\frac{9 \\times 8 \\times 7 \\times 6}{4!} = 126\n",
        "$$\n",
        "\n",
        "Em geral, quanto maior a quantidade de reamostras usadas para produzir a aproximação da distribuição amostral da estimativa de interesse, maior a precisão das inferências que podem ser feitas por Bootstrap."
      ]
    },
    {
      "cell_type": "markdown",
      "metadata": {
        "id": "iOT5pAlrtqaC"
      },
      "source": [
        "# Estudo de caso I - intervalos de confiança\n",
        "\n",
        "Para exemplificar o uso da técnica boostrapping, vamos usar nesse exemplo o conjunto de dados Boston, descrito [aqui](http://lib.stat.cmu.edu/datasets/boston). Em particular, vamos considerar o atributo denominada `dis` desse conjunto de dados. No contexto desse atributo, considere a seguinte tarefa:\n",
        "\n",
        "> Construir um intervalo de confiança no nível de 95% para a mediana populacional do atributo `dis`.\n",
        "\n",
        "**IMPORTANTE**: Repare que esse problema não pode ser resolvido com os procedimentos para construção de intervalos de confiança que estudamos anteriormente no curso, posto que eles podem ser usados para produzir intervalos apenas para a média ou para proporção populacionais."
      ]
    },
    {
      "cell_type": "markdown",
      "metadata": {
        "id": "zOrfjHQmu0mf"
      },
      "source": [
        "Vamos inicialmente fazer a carga do conjunto de dados."
      ]
    },
    {
      "cell_type": "code",
      "metadata": {
        "id": "wLJxwpIca3Jd"
      },
      "source": [
        "import pandas as pd\n",
        "\n",
        "df = pd.read_csv('Boston.csv')"
      ],
      "execution_count": null,
      "outputs": []
    },
    {
      "cell_type": "markdown",
      "source": [
        "Podemos consultar as dimensões desse conjunto de dados:"
      ],
      "metadata": {
        "id": "OlSkj8LbYToc"
      }
    },
    {
      "cell_type": "code",
      "metadata": {
        "colab": {
          "base_uri": "https://localhost:8080/"
        },
        "id": "GJzKhWRHDdxy",
        "outputId": "60e63aff-6735-4579-f459-29f6cef1720e"
      },
      "source": [
        "df.shape"
      ],
      "execution_count": null,
      "outputs": [
        {
          "output_type": "execute_result",
          "data": {
            "text/plain": [
              "(506, 15)"
            ]
          },
          "metadata": {},
          "execution_count": 40
        }
      ]
    },
    {
      "cell_type": "markdown",
      "source": [
        "Podemos também ter acesso a um resumo estatísticos dos atributos componentes:"
      ],
      "metadata": {
        "id": "-CFInsLuYXbs"
      }
    },
    {
      "cell_type": "code",
      "metadata": {
        "colab": {
          "base_uri": "https://localhost:8080/",
          "height": 382
        },
        "id": "H2uJ9G_5buoH",
        "outputId": "4b46b957-6b2f-4a3e-889b-91ed90bcf84b"
      },
      "source": [
        "df.describe()"
      ],
      "execution_count": null,
      "outputs": [
        {
          "output_type": "execute_result",
          "data": {
            "text/plain": [
              "       Unnamed: 0        crim          zn       indus        chas         nox  \\\n",
              "count  506.000000  506.000000  506.000000  506.000000  506.000000  506.000000   \n",
              "mean   253.500000    3.613524   11.363636   11.136779    0.069170    0.554695   \n",
              "std    146.213884    8.601545   23.322453    6.860353    0.253994    0.115878   \n",
              "min      1.000000    0.006320    0.000000    0.460000    0.000000    0.385000   \n",
              "25%    127.250000    0.082045    0.000000    5.190000    0.000000    0.449000   \n",
              "50%    253.500000    0.256510    0.000000    9.690000    0.000000    0.538000   \n",
              "75%    379.750000    3.677083   12.500000   18.100000    0.000000    0.624000   \n",
              "max    506.000000   88.976200  100.000000   27.740000    1.000000    0.871000   \n",
              "\n",
              "               rm         age         dis         rad         tax     ptratio  \\\n",
              "count  506.000000  506.000000  506.000000  506.000000  506.000000  506.000000   \n",
              "mean     6.284634   68.574901    3.795043    9.549407  408.237154   18.455534   \n",
              "std      0.702617   28.148861    2.105710    8.707259  168.537116    2.164946   \n",
              "min      3.561000    2.900000    1.129600    1.000000  187.000000   12.600000   \n",
              "25%      5.885500   45.025000    2.100175    4.000000  279.000000   17.400000   \n",
              "50%      6.208500   77.500000    3.207450    5.000000  330.000000   19.050000   \n",
              "75%      6.623500   94.075000    5.188425   24.000000  666.000000   20.200000   \n",
              "max      8.780000  100.000000   12.126500   24.000000  711.000000   22.000000   \n",
              "\n",
              "            black       lstat        medv  \n",
              "count  506.000000  506.000000  506.000000  \n",
              "mean   356.674032   12.653063   22.532806  \n",
              "std     91.294864    7.141062    9.197104  \n",
              "min      0.320000    1.730000    5.000000  \n",
              "25%    375.377500    6.950000   17.025000  \n",
              "50%    391.440000   11.360000   21.200000  \n",
              "75%    396.225000   16.955000   25.000000  \n",
              "max    396.900000   37.970000   50.000000  "
            ],
            "text/html": [
              "\n",
              "  <div id=\"df-fc3301ab-72ef-42ae-aee8-fd9030311034\">\n",
              "    <div class=\"colab-df-container\">\n",
              "      <div>\n",
              "<style scoped>\n",
              "    .dataframe tbody tr th:only-of-type {\n",
              "        vertical-align: middle;\n",
              "    }\n",
              "\n",
              "    .dataframe tbody tr th {\n",
              "        vertical-align: top;\n",
              "    }\n",
              "\n",
              "    .dataframe thead th {\n",
              "        text-align: right;\n",
              "    }\n",
              "</style>\n",
              "<table border=\"1\" class=\"dataframe\">\n",
              "  <thead>\n",
              "    <tr style=\"text-align: right;\">\n",
              "      <th></th>\n",
              "      <th>Unnamed: 0</th>\n",
              "      <th>crim</th>\n",
              "      <th>zn</th>\n",
              "      <th>indus</th>\n",
              "      <th>chas</th>\n",
              "      <th>nox</th>\n",
              "      <th>rm</th>\n",
              "      <th>age</th>\n",
              "      <th>dis</th>\n",
              "      <th>rad</th>\n",
              "      <th>tax</th>\n",
              "      <th>ptratio</th>\n",
              "      <th>black</th>\n",
              "      <th>lstat</th>\n",
              "      <th>medv</th>\n",
              "    </tr>\n",
              "  </thead>\n",
              "  <tbody>\n",
              "    <tr>\n",
              "      <th>count</th>\n",
              "      <td>506.000000</td>\n",
              "      <td>506.000000</td>\n",
              "      <td>506.000000</td>\n",
              "      <td>506.000000</td>\n",
              "      <td>506.000000</td>\n",
              "      <td>506.000000</td>\n",
              "      <td>506.000000</td>\n",
              "      <td>506.000000</td>\n",
              "      <td>506.000000</td>\n",
              "      <td>506.000000</td>\n",
              "      <td>506.000000</td>\n",
              "      <td>506.000000</td>\n",
              "      <td>506.000000</td>\n",
              "      <td>506.000000</td>\n",
              "      <td>506.000000</td>\n",
              "    </tr>\n",
              "    <tr>\n",
              "      <th>mean</th>\n",
              "      <td>253.500000</td>\n",
              "      <td>3.613524</td>\n",
              "      <td>11.363636</td>\n",
              "      <td>11.136779</td>\n",
              "      <td>0.069170</td>\n",
              "      <td>0.554695</td>\n",
              "      <td>6.284634</td>\n",
              "      <td>68.574901</td>\n",
              "      <td>3.795043</td>\n",
              "      <td>9.549407</td>\n",
              "      <td>408.237154</td>\n",
              "      <td>18.455534</td>\n",
              "      <td>356.674032</td>\n",
              "      <td>12.653063</td>\n",
              "      <td>22.532806</td>\n",
              "    </tr>\n",
              "    <tr>\n",
              "      <th>std</th>\n",
              "      <td>146.213884</td>\n",
              "      <td>8.601545</td>\n",
              "      <td>23.322453</td>\n",
              "      <td>6.860353</td>\n",
              "      <td>0.253994</td>\n",
              "      <td>0.115878</td>\n",
              "      <td>0.702617</td>\n",
              "      <td>28.148861</td>\n",
              "      <td>2.105710</td>\n",
              "      <td>8.707259</td>\n",
              "      <td>168.537116</td>\n",
              "      <td>2.164946</td>\n",
              "      <td>91.294864</td>\n",
              "      <td>7.141062</td>\n",
              "      <td>9.197104</td>\n",
              "    </tr>\n",
              "    <tr>\n",
              "      <th>min</th>\n",
              "      <td>1.000000</td>\n",
              "      <td>0.006320</td>\n",
              "      <td>0.000000</td>\n",
              "      <td>0.460000</td>\n",
              "      <td>0.000000</td>\n",
              "      <td>0.385000</td>\n",
              "      <td>3.561000</td>\n",
              "      <td>2.900000</td>\n",
              "      <td>1.129600</td>\n",
              "      <td>1.000000</td>\n",
              "      <td>187.000000</td>\n",
              "      <td>12.600000</td>\n",
              "      <td>0.320000</td>\n",
              "      <td>1.730000</td>\n",
              "      <td>5.000000</td>\n",
              "    </tr>\n",
              "    <tr>\n",
              "      <th>25%</th>\n",
              "      <td>127.250000</td>\n",
              "      <td>0.082045</td>\n",
              "      <td>0.000000</td>\n",
              "      <td>5.190000</td>\n",
              "      <td>0.000000</td>\n",
              "      <td>0.449000</td>\n",
              "      <td>5.885500</td>\n",
              "      <td>45.025000</td>\n",
              "      <td>2.100175</td>\n",
              "      <td>4.000000</td>\n",
              "      <td>279.000000</td>\n",
              "      <td>17.400000</td>\n",
              "      <td>375.377500</td>\n",
              "      <td>6.950000</td>\n",
              "      <td>17.025000</td>\n",
              "    </tr>\n",
              "    <tr>\n",
              "      <th>50%</th>\n",
              "      <td>253.500000</td>\n",
              "      <td>0.256510</td>\n",
              "      <td>0.000000</td>\n",
              "      <td>9.690000</td>\n",
              "      <td>0.000000</td>\n",
              "      <td>0.538000</td>\n",
              "      <td>6.208500</td>\n",
              "      <td>77.500000</td>\n",
              "      <td>3.207450</td>\n",
              "      <td>5.000000</td>\n",
              "      <td>330.000000</td>\n",
              "      <td>19.050000</td>\n",
              "      <td>391.440000</td>\n",
              "      <td>11.360000</td>\n",
              "      <td>21.200000</td>\n",
              "    </tr>\n",
              "    <tr>\n",
              "      <th>75%</th>\n",
              "      <td>379.750000</td>\n",
              "      <td>3.677083</td>\n",
              "      <td>12.500000</td>\n",
              "      <td>18.100000</td>\n",
              "      <td>0.000000</td>\n",
              "      <td>0.624000</td>\n",
              "      <td>6.623500</td>\n",
              "      <td>94.075000</td>\n",
              "      <td>5.188425</td>\n",
              "      <td>24.000000</td>\n",
              "      <td>666.000000</td>\n",
              "      <td>20.200000</td>\n",
              "      <td>396.225000</td>\n",
              "      <td>16.955000</td>\n",
              "      <td>25.000000</td>\n",
              "    </tr>\n",
              "    <tr>\n",
              "      <th>max</th>\n",
              "      <td>506.000000</td>\n",
              "      <td>88.976200</td>\n",
              "      <td>100.000000</td>\n",
              "      <td>27.740000</td>\n",
              "      <td>1.000000</td>\n",
              "      <td>0.871000</td>\n",
              "      <td>8.780000</td>\n",
              "      <td>100.000000</td>\n",
              "      <td>12.126500</td>\n",
              "      <td>24.000000</td>\n",
              "      <td>711.000000</td>\n",
              "      <td>22.000000</td>\n",
              "      <td>396.900000</td>\n",
              "      <td>37.970000</td>\n",
              "      <td>50.000000</td>\n",
              "    </tr>\n",
              "  </tbody>\n",
              "</table>\n",
              "</div>\n",
              "      <button class=\"colab-df-convert\" onclick=\"convertToInteractive('df-fc3301ab-72ef-42ae-aee8-fd9030311034')\"\n",
              "              title=\"Convert this dataframe to an interactive table.\"\n",
              "              style=\"display:none;\">\n",
              "        \n",
              "  <svg xmlns=\"http://www.w3.org/2000/svg\" height=\"24px\"viewBox=\"0 0 24 24\"\n",
              "       width=\"24px\">\n",
              "    <path d=\"M0 0h24v24H0V0z\" fill=\"none\"/>\n",
              "    <path d=\"M18.56 5.44l.94 2.06.94-2.06 2.06-.94-2.06-.94-.94-2.06-.94 2.06-2.06.94zm-11 1L8.5 8.5l.94-2.06 2.06-.94-2.06-.94L8.5 2.5l-.94 2.06-2.06.94zm10 10l.94 2.06.94-2.06 2.06-.94-2.06-.94-.94-2.06-.94 2.06-2.06.94z\"/><path d=\"M17.41 7.96l-1.37-1.37c-.4-.4-.92-.59-1.43-.59-.52 0-1.04.2-1.43.59L10.3 9.45l-7.72 7.72c-.78.78-.78 2.05 0 2.83L4 21.41c.39.39.9.59 1.41.59.51 0 1.02-.2 1.41-.59l7.78-7.78 2.81-2.81c.8-.78.8-2.07 0-2.86zM5.41 20L4 18.59l7.72-7.72 1.47 1.35L5.41 20z\"/>\n",
              "  </svg>\n",
              "      </button>\n",
              "      \n",
              "  <style>\n",
              "    .colab-df-container {\n",
              "      display:flex;\n",
              "      flex-wrap:wrap;\n",
              "      gap: 12px;\n",
              "    }\n",
              "\n",
              "    .colab-df-convert {\n",
              "      background-color: #E8F0FE;\n",
              "      border: none;\n",
              "      border-radius: 50%;\n",
              "      cursor: pointer;\n",
              "      display: none;\n",
              "      fill: #1967D2;\n",
              "      height: 32px;\n",
              "      padding: 0 0 0 0;\n",
              "      width: 32px;\n",
              "    }\n",
              "\n",
              "    .colab-df-convert:hover {\n",
              "      background-color: #E2EBFA;\n",
              "      box-shadow: 0px 1px 2px rgba(60, 64, 67, 0.3), 0px 1px 3px 1px rgba(60, 64, 67, 0.15);\n",
              "      fill: #174EA6;\n",
              "    }\n",
              "\n",
              "    [theme=dark] .colab-df-convert {\n",
              "      background-color: #3B4455;\n",
              "      fill: #D2E3FC;\n",
              "    }\n",
              "\n",
              "    [theme=dark] .colab-df-convert:hover {\n",
              "      background-color: #434B5C;\n",
              "      box-shadow: 0px 1px 3px 1px rgba(0, 0, 0, 0.15);\n",
              "      filter: drop-shadow(0px 1px 2px rgba(0, 0, 0, 0.3));\n",
              "      fill: #FFFFFF;\n",
              "    }\n",
              "  </style>\n",
              "\n",
              "      <script>\n",
              "        const buttonEl =\n",
              "          document.querySelector('#df-fc3301ab-72ef-42ae-aee8-fd9030311034 button.colab-df-convert');\n",
              "        buttonEl.style.display =\n",
              "          google.colab.kernel.accessAllowed ? 'block' : 'none';\n",
              "\n",
              "        async function convertToInteractive(key) {\n",
              "          const element = document.querySelector('#df-fc3301ab-72ef-42ae-aee8-fd9030311034');\n",
              "          const dataTable =\n",
              "            await google.colab.kernel.invokeFunction('convertToInteractive',\n",
              "                                                     [key], {});\n",
              "          if (!dataTable) return;\n",
              "\n",
              "          const docLinkHtml = 'Like what you see? Visit the ' +\n",
              "            '<a target=\"_blank\" href=https://colab.research.google.com/notebooks/data_table.ipynb>data table notebook</a>'\n",
              "            + ' to learn more about interactive tables.';\n",
              "          element.innerHTML = '';\n",
              "          dataTable['output_type'] = 'display_data';\n",
              "          await google.colab.output.renderOutput(dataTable, element);\n",
              "          const docLink = document.createElement('div');\n",
              "          docLink.innerHTML = docLinkHtml;\n",
              "          element.appendChild(docLink);\n",
              "        }\n",
              "      </script>\n",
              "    </div>\n",
              "  </div>\n",
              "  "
            ]
          },
          "metadata": {},
          "execution_count": 41
        }
      ]
    },
    {
      "cell_type": "markdown",
      "source": [
        "Para fins de comparação posterior, vamos computar a mediana do atributo `dis`:"
      ],
      "metadata": {
        "id": "IuQSwmgPYhAw"
      }
    },
    {
      "cell_type": "code",
      "metadata": {
        "colab": {
          "base_uri": "https://localhost:8080/"
        },
        "id": "dAHMEkxsDkQN",
        "outputId": "170f2199-b24d-4735-d195-3289be12280a"
      },
      "source": [
        "df.dis.median()"
      ],
      "execution_count": null,
      "outputs": [
        {
          "output_type": "execute_result",
          "data": {
            "text/plain": [
              "3.2074499999999997"
            ]
          },
          "metadata": {},
          "execution_count": 42
        }
      ]
    },
    {
      "cell_type": "markdown",
      "metadata": {
        "id": "VjTR0H54u829"
      },
      "source": [
        "Se queremos usar a técnica boostrapping para construir um intervalo de confiança para a mediana do atributo `dis`, devemos de início gerar as reamostras. Em seguida, usando essas reamostras, devemos gerar uma aproximação da distribuição amostral da mediana.\n",
        "\n",
        "Veja o bloco de código a seguir. Esse bloco gera $10000$ reamostras usando o procedimento de amostragem com reposição. Para cada uma dessas reamostras, a estatística de interesse (i.e., a mediana) é computada. Finalmente, usamos a biblioteca seaborn para visualizar a aproximação da distribuição amostral."
      ]
    },
    {
      "cell_type": "code",
      "metadata": {
        "colab": {
          "base_uri": "https://localhost:8080/",
          "height": 337
        },
        "id": "-xhzW1cfCgOP",
        "outputId": "ffbf77e3-842d-44fe-90dd-6ad58eb1f99f"
      },
      "source": [
        "%matplotlib inline\n",
        "import seaborn as sns\n",
        "import numpy as np\n",
        "\n",
        "original_sample = df.dis\n",
        "\n",
        "# list comprehension\n",
        "bootstrap_dist = [np.median(np.random.choice(\n",
        "    original_sample, len(df.dis), replace=True)) for _ in range(10000)]\n",
        "\n",
        "sns.distplot(bootstrap_dist)"
      ],
      "execution_count": null,
      "outputs": [
        {
          "output_type": "stream",
          "name": "stderr",
          "text": [
            "/usr/local/lib/python3.7/dist-packages/seaborn/distributions.py:2619: FutureWarning: `distplot` is a deprecated function and will be removed in a future version. Please adapt your code to use either `displot` (a figure-level function with similar flexibility) or `histplot` (an axes-level function for histograms).\n",
            "  warnings.warn(msg, FutureWarning)\n"
          ]
        },
        {
          "output_type": "execute_result",
          "data": {
            "text/plain": [
              "<matplotlib.axes._subplots.AxesSubplot at 0x7f82a1238d90>"
            ]
          },
          "metadata": {},
          "execution_count": 43
        },
        {
          "output_type": "display_data",
          "data": {
            "text/plain": [
              "<Figure size 432x288 with 1 Axes>"
            ],
            "image/png": "[encoded data removed]"
          },
          "metadata": {
            "needs_background": "light"
          }
        }
      ]
    },
    {
      "cell_type": "markdown",
      "source": [
        "Repare que o código acima usa a função [`np.random.choice`](https://numpy.org/doc/stable/reference/random/generated/numpy.random.choice.html) para produzir a amostras com reposição. Um exemplo simples dessa função é apresentado no bloco de código a seguir:"
      ],
      "metadata": {
        "id": "4d3zypspZDxC"
      }
    },
    {
      "cell_type": "code",
      "metadata": {
        "id": "QtW_MM5Bspw-",
        "colab": {
          "base_uri": "https://localhost:8080/"
        },
        "outputId": "9d124cc7-c477-44bb-8f85-6526042c1588"
      },
      "source": [
        "import numpy as np\n",
        "reamostra = np.random.choice([4, 5, 4, 7, 2], 5, replace=True)\n",
        "print(reamostra)"
      ],
      "execution_count": null,
      "outputs": [
        {
          "output_type": "stream",
          "name": "stdout",
          "text": [
            "[4 5 2 4 2]\n"
          ]
        }
      ]
    },
    {
      "cell_type": "code",
      "source": [
        "np.median(reamostra)"
      ],
      "metadata": {
        "colab": {
          "base_uri": "https://localhost:8080/"
        },
        "id": "XpmTUuxpn_OI",
        "outputId": "ab358d2e-0f71-4dde-c3cb-bbeb6c2af864"
      },
      "execution_count": null,
      "outputs": [
        {
          "output_type": "execute_result",
          "data": {
            "text/plain": [
              "4.0"
            ]
          },
          "metadata": {},
          "execution_count": 45
        }
      ]
    },
    {
      "cell_type": "markdown",
      "metadata": {
        "id": "RlBiTTM09Z1_"
      },
      "source": [
        "O gráfico acima apresenta a aproximação produzida para a distribuição amostral da mediana."
      ]
    },
    {
      "cell_type": "markdown",
      "metadata": {
        "id": "8zEgpRk8bh3J"
      },
      "source": [
        "Para fins de comparação posterior, podemos de início gerar uma estimativa pontual da mediana. Isso é feito no bloco de código a seguir."
      ]
    },
    {
      "cell_type": "code",
      "metadata": {
        "colab": {
          "base_uri": "https://localhost:8080/"
        },
        "id": "bxo8Yi5cFw7c",
        "outputId": "40b6e189-85b5-474b-dbb5-62bdd670c860"
      },
      "source": [
        "import statistics as stats\n",
        "stats.median(bootstrap_dist)"
      ],
      "execution_count": null,
      "outputs": [
        {
          "output_type": "execute_result",
          "data": {
            "text/plain": [
              "3.1992000000000003"
            ]
          },
          "metadata": {},
          "execution_count": 46
        }
      ]
    },
    {
      "cell_type": "markdown",
      "metadata": {
        "id": "4v9SlLBUEkg5"
      },
      "source": [
        "Para computar o intervalo de confiança no nível de 95% para a mediana, usamos a aproximação para a distribuição amostral previamente computada. A partir dela, computamos os [percentis](http://www.indeed.com/career-advice/career-development/how-to-calculate-percentile) 2,5% e 97,5%. Esses percentis são os extremos do intervalo de confiança desejado."
      ]
    },
    {
      "cell_type": "code",
      "metadata": {
        "colab": {
          "base_uri": "https://localhost:8080/"
        },
        "id": "_JEqq_62Fmvm",
        "outputId": "374684b9-f93a-4fec-d780-c1c3474ee98b"
      },
      "source": [
        "linf = np.percentile(bootstrap_dist, 2.5)\n",
        "lsup = np.percentile(bootstrap_dist, 97.5)\n",
        "print(\"IC95 = (%.2f, %.2f)\" % (linf, lsup))"
      ],
      "execution_count": null,
      "outputs": [
        {
          "output_type": "stream",
          "name": "stdout",
          "text": [
            "IC95 = (2.88, 3.50)\n"
          ]
        }
      ]
    },
    {
      "cell_type": "markdown",
      "source": [
        "Se o nível de confiança fosse 99% em vez de 95%:"
      ],
      "metadata": {
        "id": "unw5Zuh4rAqG"
      }
    },
    {
      "cell_type": "code",
      "source": [
        "linf = np.percentile(bootstrap_dist, 0.05)\n",
        "lsup = np.percentile(bootstrap_dist, 99.95)\n",
        "print(\"IC99 = (%.2f, %.2f)\" % (linf, lsup))"
      ],
      "metadata": {
        "colab": {
          "base_uri": "https://localhost:8080/"
        },
        "id": "CAdpnNwQq-yK",
        "outputId": "c3d26dc5-7de4-499a-bf4a-b9a1ef2bdae1"
      },
      "execution_count": null,
      "outputs": [
        {
          "output_type": "stream",
          "name": "stdout",
          "text": [
            "IC99 = (2.78, 3.67)\n"
          ]
        }
      ]
    },
    {
      "cell_type": "markdown",
      "metadata": {
        "id": "0ubnbruZaNpF"
      },
      "source": [
        "Podemos também produzir uma estimativa do *erro padrão* (*standard error*) da mediana. Primeiramente, lembre-se de que o erro padrão de uma estatística é o desvio padrão de sua distribuição amostral. Sendo assim, para computar o erro padrão de mediana, basta computar o desvio padrão dos valores computados nas diversas reamostras. Veja o bloco de código a seguir."
      ]
    },
    {
      "cell_type": "code",
      "metadata": {
        "colab": {
          "base_uri": "https://localhost:8080/"
        },
        "id": "3cox8_ewaWKy",
        "outputId": "def2ad71-e41b-49c1-a33b-aa0bc8f1d76d"
      },
      "source": [
        "se_mediana = np.std(bootstrap_dist)\n",
        "print(\"Erro padrão da mediana: %.2f\" % se_mediana)"
      ],
      "execution_count": null,
      "outputs": [
        {
          "output_type": "stream",
          "name": "stdout",
          "text": [
            "Erro padrão da mediana: 0.16\n"
          ]
        }
      ]
    },
    {
      "cell_type": "markdown",
      "metadata": {
        "id": "XfPK5GjDLX0U"
      },
      "source": [
        "A biblioteca [seaborn](https://seaborn.pydata.org) fornece em sua API a função `sns.algorithms.bootstrap`, que possibilita a construção de intervalos de confiança de forma mais direta do que o demonstrado acima, conforme exemplificado na célula de código abaixo. Repare que, não por acaso, os extremos do intervalo de confiança computados com essa função são bastante similares aos computados anteriormente."
      ]
    },
    {
      "cell_type": "code",
      "metadata": {
        "colab": {
          "base_uri": "https://localhost:8080/"
        },
        "id": "OiLJAOuBLYkQ",
        "outputId": "1aa88399-45e9-4773-e496-62ed3c5ebae5"
      },
      "source": [
        "bootstrap_dist = sns.algorithms.bootstrap(original_sample,\n",
        "                                          n_boot = 10000,\n",
        "                                          func = np.median)\n",
        "\n",
        "linf = np.percentile(bootstrap_dist, 2.5)\n",
        "lsup = np.percentile(bootstrap_dist, 97.5)\n",
        "print(\"IC95 = (%.2f, %.2f)\" % (linf, lsup))"
      ],
      "execution_count": null,
      "outputs": [
        {
          "output_type": "stream",
          "name": "stdout",
          "text": [
            "IC95 = (2.88, 3.50)\n"
          ]
        }
      ]
    },
    {
      "cell_type": "markdown",
      "metadata": {
        "id": "FjzK_mj5_msO"
      },
      "source": [
        "Também usando a biblioteca seaborn, é possível obter uma perspectiva gráfica do intervalo de confiança produzido."
      ]
    },
    {
      "cell_type": "code",
      "metadata": {
        "colab": {
          "base_uri": "https://localhost:8080/",
          "height": 337
        },
        "id": "9pp1PEfG_ZUV",
        "outputId": "06ab0641-71b6-42e3-e6b0-a7d6a7b77320"
      },
      "source": [
        "sns.pointplot(bootstrap_dist, ci=95)"
      ],
      "execution_count": null,
      "outputs": [
        {
          "output_type": "stream",
          "name": "stderr",
          "text": [
            "/usr/local/lib/python3.7/dist-packages/seaborn/_decorators.py:43: FutureWarning: Pass the following variable as a keyword arg: x. From version 0.12, the only valid positional argument will be `data`, and passing other arguments without an explicit keyword will result in an error or misinterpretation.\n",
            "  FutureWarning\n"
          ]
        },
        {
          "output_type": "execute_result",
          "data": {
            "text/plain": [
              "<matplotlib.axes._subplots.AxesSubplot at 0x7f82a12d2510>"
            ]
          },
          "metadata": {},
          "execution_count": 51
        },
        {
          "output_type": "display_data",
          "data": {
            "text/plain": [
              "<Figure size 432x288 with 1 Axes>"
            ],
            "image/png": "[encoded data removed]"
          },
          "metadata": {
            "needs_background": "light"
          }
        }
      ]
    },
    {
      "cell_type": "markdown",
      "source": [
        "Ainda outra forma de computar intervalos de confiança por meio de Bootstrapping é usar a função `stats.bootstrap` da biblioteca [scipy](https://scipy.org), conforme o exemplo abaixo."
      ],
      "metadata": {
        "id": "wsVif23BAoz2"
      }
    },
    {
      "cell_type": "code",
      "source": [
        "from scipy.stats import bootstrap\n",
        "data = (original_sample,)  # samples must be in a sequence\n",
        "res = bootstrap(data, np.median, confidence_level=0.95)\n",
        "print(res.confidence_interval)"
      ],
      "metadata": {
        "colab": {
          "base_uri": "https://localhost:8080/"
        },
        "id": "_VF3ZZ4enaGo",
        "outputId": "1ce59e25-0b22-491f-8644-661cd6ef1828"
      },
      "execution_count": null,
      "outputs": [
        {
          "output_type": "stream",
          "name": "stdout",
          "text": [
            "ConfidenceInterval(low=2.872, high=3.4952)\n"
          ]
        }
      ]
    },
    {
      "cell_type": "markdown",
      "source": [
        "# Estudo de caso II - teste de hipóteses\n",
        "\n",
        "Crétidos: o estudo de caso aqui apresentado é uma adaptação do encontrado [aqui](https://codingdisciple.com/bootstrap-hypothesis-testing.html).\n",
        "\n",
        "Também podemos usar bootstrapping para testes de hipóteses. Para isso, vamos usar o conjunto de dados de métricas do Facebook. [Aqui](https://archive.ics.uci.edu/ml/datasets/Facebook+metrics) você encontra a documentação desse conjunto de dados.\n",
        "\n",
        "> The data is related to posts' published during the year of 2014 on the Facebook's page of a renowned cosmetics brand.\n",
        "This dataset contains 500 of the 790 rows and part of the features analyzed by Moro et al. (2016). The remaining were omitted due to confidentiality issues.\n"
      ],
      "metadata": {
        "id": "r4IVlHzqLaz5"
      }
    },
    {
      "cell_type": "code",
      "source": [
        "import pandas as pd\n",
        "import numpy as np\n",
        "import matplotlib.pyplot as plt\n",
        "import seaborn as sns\n",
        "%matplotlib inline\n",
        "\n",
        "data = pd.read_csv('dataset_Facebook.csv', delimiter=';')\n",
        "data.shape"
      ],
      "metadata": {
        "colab": {
          "base_uri": "https://localhost:8080/"
        },
        "id": "Rfj2EhNpLluW",
        "outputId": "786a291b-d742-4da3-aae7-fd171b8ef290"
      },
      "execution_count": null,
      "outputs": [
        {
          "output_type": "execute_result",
          "data": {
            "text/plain": [
              "(500, 19)"
            ]
          },
          "metadata": {},
          "execution_count": 80
        }
      ]
    },
    {
      "cell_type": "markdown",
      "source": [
        "Primeiro, vamos explorar o conjunto de dados.\n",
        "\n",
        "Dois atributos desse conjunto de dados são `likes` e `Paid`. O primeiro indica a quantidade de curtidas que a a publicação (*post*) recebeu. O segundo indica de o posto foi pago ou não.\n",
        "\n",
        "No bloco de código abaixo, as séries `paid_likes` e `unpaid_likes` armazenam as quantidades de curtidas das publicações pagas e das não pagas, respectivamente. Esse bloco de código apresenta as distribuições dessas duas coleções como histogramas."
      ],
      "metadata": {
        "id": "1dgQjp6ILtS2"
      }
    },
    {
      "cell_type": "code",
      "source": [
        "#Boolean filtering/remove missing values\n",
        "unpaid_likes = data[data['Paid']==0]['like']\n",
        "paid_likes = data[data['Paid']==1]['like']\n",
        "paid_likes = paid_likes.dropna()\n",
        "unpaid_likes = unpaid_likes.dropna()\n",
        "\n",
        "#Figure settings\n",
        "sns.set(font_scale=1.65)\n",
        "fig = plt.figure(figsize=(10,6))\n",
        "fig.subplots_adjust(hspace=.5)\n",
        "\n",
        "#Plot top histogram\n",
        "ax = fig.add_subplot(2, 1, 1)\n",
        "ax = unpaid_likes.hist(range=(0, 1500),bins=50)\n",
        "ax.set_xlim(0,800)\n",
        "plt.xlabel('Likes (Unpaid)')\n",
        "plt.ylabel('Frequency')\n",
        "\n",
        "#Plot bottom histogram\n",
        "ax2 = fig.add_subplot(2, 1, 2)\n",
        "ax2 = paid_likes.hist(range=(0, 1500),bins=50)\n",
        "ax2.set_xlim(0,800)\n",
        "\n",
        "plt.xlabel('Likes (Paid)')\n",
        "plt.ylabel('Frequency')\n",
        "\n",
        "plt.show()\n",
        "print('unpaid_mean: {}'.format(unpaid_likes.mean()))\n",
        "print('paid_mean: {}'.format(paid_likes.mean()))"
      ],
      "metadata": {
        "colab": {
          "base_uri": "https://localhost:8080/",
          "height": 443
        },
        "id": "mn-bV-iELtpx",
        "outputId": "84324bfe-b9de-46d1-8fbb-a492e5efddf7"
      },
      "execution_count": null,
      "outputs": [
        {
          "output_type": "display_data",
          "data": {
            "text/plain": [
              "<Figure size 720x432 with 2 Axes>"
            ],
            "image/png": "[encoded data removed]"
          },
          "metadata": {}
        },
        {
          "output_type": "stream",
          "name": "stdout",
          "text": [
            "unpaid_mean: 155.84679665738162\n",
            "paid_mean: 235.6474820143885\n"
          ]
        }
      ]
    },
    {
      "cell_type": "markdown",
      "source": [
        "No resultado do bloco de código abaixo, podemos ver que as quantidades de publicações curtidas pagas e não-pagas são 139 e 359, respectivamente."
      ],
      "metadata": {
        "id": "vBR35avVLvPL"
      }
    },
    {
      "cell_type": "code",
      "source": [
        "print('paid_size: {}'.format(len(paid_likes)))\n",
        "print('unpaid_size: {}'.format(len(unpaid_likes)))"
      ],
      "metadata": {
        "colab": {
          "base_uri": "https://localhost:8080/"
        },
        "id": "u44FYaeZLvp5",
        "outputId": "59c810be-1758-402c-a9fc-8e1133113f33"
      },
      "execution_count": null,
      "outputs": [
        {
          "output_type": "stream",
          "name": "stdout",
          "text": [
            "paid_size: 139\n",
            "unpaid_size: 359\n"
          ]
        }
      ]
    },
    {
      "cell_type": "markdown",
      "source": [
        "Agora, voltemos ao problema de realizar o teste de hipóteses. Queremos saber se anúncios (publicações) pagos estão associados no Facebook a uma quantidade maior de curtidas.\n",
        "\n",
        "Nossa hipótese nula declara que pagar por anúncios não afeta a quantidade de curtidas.\n",
        "\n",
        "$$\n",
        "H_0:\\mu_1−\\mu_0=0\n",
        "$$\n",
        "\n",
        "Já a hipótese alternativa sugere que pagar por anúncios aumenta a quantidade de curtidas.\n",
        "\n",
        "$$\n",
        "H_a:\\mu_1−\\mu_0>0\n",
        "$$\n",
        "\n",
        "Quando se trata de testes de hipóteses, sempre começamos presumindo que a hipótese nula é verdadeira. Para realizar esse teste usando a técnica Bootstrapping, a ideia é simular uma grande população de dados bootstrap e, em seguida, extrair as amostras dessa população bootstrap. Em seguida, verificaremos a probabilidade de obter diferenças observadas nas médias. Se a probabilidade for menor do que $0.05$ (valor do nível de significância escolhido), rejeitaremos a hipótese nula.\n",
        "\n",
        "O código abaixo gera $10.000$ amostras de comprimento $139$ e $10.000$ amostras de comprimento $359$ a partir dos dados combinados e, em seguida, calcula a diferença nas médias das amostras."
      ],
      "metadata": {
        "id": "MQjfW_mxNnpj"
      }
    },
    {
      "cell_type": "code",
      "source": [
        "from sklearn.utils import resample\n",
        "\n",
        "combined = np.concatenate((paid_likes, unpaid_likes), axis=0)\n",
        "\n",
        "perms_paid = []\n",
        "perms_unpaid = []\n",
        "\n",
        "for i in range(10000):\n",
        "    np.random.seed(i)\n",
        "    perms_paid.append(resample(combined, n_samples = len(paid_likes)))\n",
        "    perms_unpaid.append(resample(combined, n_samples = len(unpaid_likes)))\n",
        "\n",
        "dif_bootstrap_means = (np.mean(perms_paid, axis=1)-np.mean(perms_unpaid, axis=1))\n",
        "dif_bootstrap_means"
      ],
      "metadata": {
        "colab": {
          "base_uri": "https://localhost:8080/"
        },
        "id": "lRnJfwYyL5kV",
        "outputId": "1188f468-b136-4cc2-940f-8c844c8f38f7"
      },
      "execution_count": null,
      "outputs": [
        {
          "output_type": "execute_result",
          "data": {
            "text/plain": [
              "array([-17.03639206,  -2.20771127,  -1.03336606, ...,  27.32095549,\n",
              "        24.98577183,  18.7842929 ])"
            ]
          },
          "metadata": {},
          "execution_count": 69
        }
      ]
    },
    {
      "cell_type": "markdown",
      "source": [
        "O histograma abaixo é a distribuição da estatística (diferenças nas médias amostrais), também conhecida como *distribuição bootstrap*."
      ],
      "metadata": {
        "id": "q0oq1GdoNCx6"
      }
    },
    {
      "cell_type": "code",
      "source": [
        "fig = plt.figure(figsize=(10,3))\n",
        "ax = plt.hist(dif_bootstrap_means, bins=30)\n",
        "\n",
        "plt.xlabel('Difference in Likes')\n",
        "plt.ylabel('Frequency')\n",
        "plt.title('Bootstrapped Population (Combined data)')\n",
        "plt.show()"
      ],
      "metadata": {
        "colab": {
          "base_uri": "https://localhost:8080/",
          "height": 265
        },
        "id": "gUAmrg-rMRwG",
        "outputId": "9b241826-b798-4502-d9dc-5660eaa9db2d"
      },
      "execution_count": null,
      "outputs": [
        {
          "output_type": "display_data",
          "data": {
            "text/plain": [
              "<Figure size 720x216 with 1 Axes>"
            ],
            "image/png": "[encoded data removed]"
          },
          "metadata": {}
        }
      ]
    },
    {
      "cell_type": "markdown",
      "source": [
        "Em seguida, vamos calcular a diferença observada nas médias das amostras originais."
      ],
      "metadata": {
        "id": "aMnkIOfnM-3n"
      }
    },
    {
      "cell_type": "code",
      "source": [
        "obs_difs = (np.mean(paid_likes) - np.mean(unpaid_likes))\n",
        "print('observed difference in means: {}'.format(obs_difs))"
      ],
      "metadata": {
        "colab": {
          "base_uri": "https://localhost:8080/"
        },
        "id": "ec6XNsK7MUoQ",
        "outputId": "b9e948df-373c-49a4-e062-121bf5b1b132"
      },
      "execution_count": null,
      "outputs": [
        {
          "output_type": "stream",
          "name": "stdout",
          "text": [
            "observed difference in means: 79.80068535700687\n"
          ]
        }
      ]
    },
    {
      "cell_type": "markdown",
      "source": [
        "Usando nossa distribuição bootstrap e a diferença observada nas amostras originais, podemos determinar a probabilidade de obter uma diferença nas médias de $79.80$."
      ],
      "metadata": {
        "id": "2ZEgqXgFMn73"
      }
    },
    {
      "cell_type": "code",
      "source": [
        "p_value = dif_bootstrap_means[dif_bootstrap_means >= obs_difs].shape[0]/10000\n",
        "print('p-value: {}'.format(p_value))"
      ],
      "metadata": {
        "colab": {
          "base_uri": "https://localhost:8080/"
        },
        "id": "NAumucMLMXlp",
        "outputId": "a422195e-074f-40e0-b677-9e0f0a5f598e"
      },
      "execution_count": null,
      "outputs": [
        {
          "output_type": "stream",
          "name": "stdout",
          "text": [
            "p-value: 0.0137\n"
          ]
        }
      ]
    },
    {
      "cell_type": "code",
      "source": [
        "fig = plt.figure(figsize=(10,3))\n",
        "ax = plt.hist(dif_bootstrap_means, bins=30)\n",
        "\n",
        "plt.xlabel('Difference in Likes')\n",
        "plt.ylabel('Frequency')\n",
        "plt.axvline(obs_difs, color='r')\n",
        "plt.show()"
      ],
      "metadata": {
        "colab": {
          "base_uri": "https://localhost:8080/",
          "height": 244
        },
        "id": "4mBmCDCFMZ6V",
        "outputId": "3319262d-3216-4e60-9735-72f7d08dd057"
      },
      "execution_count": null,
      "outputs": [
        {
          "output_type": "display_data",
          "data": {
            "text/plain": [
              "<Figure size 720x216 with 1 Axes>"
            ],
            "image/png": "[encoded data removed]"
          },
          "metadata": {}
        }
      ]
    },
    {
      "cell_type": "markdown",
      "source": [
        "Das 10.000 amostras de bootstrap, apenas 137 dessas amostras tiveram uma diferença nas médias de 79,8 ou superior mostrada pela linha vermelha acima. Resultando em um valor $p = 0.0137$. Esta não é uma ocorrência muito provável. Em particular, $p < \\alpha$. Como resultado, rejeitamos a hipótese nula."
      ],
      "metadata": {
        "id": "traodupdMg4_"
      }
    }
  ]
}