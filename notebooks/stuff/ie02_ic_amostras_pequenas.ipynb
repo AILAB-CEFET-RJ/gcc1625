{
  "nbformat": 4,
  "nbformat_minor": 0,
  "metadata": {
    "colab": {
      "provenance": [],
      "collapsed_sections": [
        "nRqg66q0t_pf",
        "9e39hyfTuIlG",
        "OxxeKIonuQYF",
        "YgrpVkUlyUFL",
        "qDecT08JEtpy",
        "wXVcOxojyST-",
        "7xS3BcKGzkQG"
      ]
    },
    "kernelspec": {
      "name": "python3",
      "display_name": "Python 3"
    }
  },
  "cells": [
    {
      "cell_type": "markdown",
      "metadata": {
        "id": "DVuesjISyNfe"
      },
      "source": [
        "# Intervalos de confiança para amostras pequenas\n",
        "\n",
        "Quando o tamanho da amostra é pequeno ($n < 30$), não há bons métodos gerais para encontrar intervalos de confiança, nem para $\\mu$, nem para $p$. No entanto, quando sabemos que a população é aproximadamente normal, a **distribuição t de Student** pode ser usada para calcular os intervalos de confiança para uma média populacional nos casos em que $n<30$. Vamos descrever essa distribuição e mostrar como usá-la para construir intervalos de confiança."
      ]
    },
    {
      "cell_type": "markdown",
      "metadata": {
        "id": "kUOKQsLtyR9G"
      },
      "source": [
        "## Distribuição $t$ de Student\n",
        "\n",
        "A distribuição $t$ de Student foi proposta em um [artigo](https://www.york.ac.uk/depts/maths/histstat/student.pdf) publicado em 1908 por William Gosset. Seu objetivo era permitir realizar estudos estatísticos sobre **amostras pequenas**. Por questões de confidencialidade relacionadas à empresa para a qual trabalhava, William usou o pseudônimo *Student* nessa publicação.\n",
        "\n",
        "<center>\n",
        "<img src=\"https://upload.wikimedia.org/wikipedia/commons/thumb/4/42/William_Sealy_Gosset.jpg/800px-William_Sealy_Gosset.jpg\" width=\"150px\"/>\n",
        "</center>\n",
        "\n",
        "Considere que $X_{1}, X_{2}, \\cdots, X_{n}$ é uma amostra de tamanho $n$ retirada de uma população que segue (aproximadamente) uma distribuição normal com média $\\mu$. Nessa amostra, calculam-se a média amostral (*sample mean*) e a variância amostral (*sample variance*):\n",
        "\n",
        "$$\n",
        "\\begin{aligned}\n",
        "\t\\overline{x}\t=\t{\\frac {X_{1}+ X_2 + \\cdots +X_{n}}{n}} \\quad\n",
        "\ts^{2}\t\t=\t{\\frac {1}{n-1}}\\sum _{i=1}^{n}(X_{i}-{\\overline{x}})^{2}.\n",
        "\\end{aligned}\n",
        "$$\n",
        "\n",
        "A estatística $T$ é definida por\n",
        "$$\n",
        "\tT = \\frac{\\overline{x} - \\mu}{s/\\sqrt{n}}\n",
        "$$\n",
        "\n",
        "É possível provar que $T$ segue a distribuição de probabilidades denominada $t$ de Student, com $(n - 1)$ **graus de liberdade**. A função de densidade de probabilidade de uma variável que segue a distribuição $t$ é dada pela expressão matemática a seguir. Essa expressão usa a [função Gama](https://en.wikipedia.org/wiki/Gamma_function), denotada por $\\Gamma$ na expressão abaixo.\n",
        "\n",
        "$$\n",
        "f(t) = \\textstyle {\\frac {\\Gamma \\left({\\frac {\\nu +1}{2}}\\right)}{{\\sqrt {\\nu \\pi }}\\,\\Gamma \\left({\\frac {\\nu }{2}}\\right)}}\\left(1+{\\frac {t^{2}}{\\nu }}\\right)^{-{\\frac {\\nu +1}{2}}}\\!\n",
        "$$\n",
        "\n",
        "A quantidade de graus de liberdade, denotada por $\\nu$ na expressão acima, é um parâmetro dessa distribuição. Um esboço da prova para derivar a expressão acima pode ser encontrado nesse [vídeo](https://youtu.be/jFOyzEJctUU). Uma derivação completa pode ser encontrada nesse outro [vídeo](https://youtu.be/XMfFxwZXHaI).\n",
        "\n",
        "A distribuição $t$ com $n-1$ graus de liberdade é a distribuição amostral (*sampling distribution*) da estatística $T$.\n",
        "\n",
        "Repare a semelhança da estatística $T$ com a estatística $Z$:\n",
        "$$\n",
        "\tZ = \\frac{\\overline{x} - \\mu}{\\sigma/\\sqrt{n}}\n",
        "$$\n",
        "\n",
        "É importante notar que, apesar da grande semelhança sintática entre as definições dessas duas estatísticas, $Z$ segue a distribuição normal, enquanto que $T$ não segue. De fato, a distribuição $t$ é usada em estudos estatísticos envolvendo amostras pequenas justamente para levar em consideração o correspondente maior grau de incerteza resultante de usar $s$ em vez de $\\sigma$.\n",
        "\n",
        "Sobre o conceito de *graus de liberdade*, usado na definição da distribuição $t$, esse [link](https://bluebox.creighton.edu/demo/modules/en-boundless-old/www.boundless.com/statistics/textbooks/boundless-statistics-textbook/measures-of-variation-6/describing-variability-26/degrees-of-freedom-136-4427/index.html) fornece uma descrição intuitiva."
      ]
    },
    {
      "cell_type": "markdown",
      "metadata": {
        "id": "RzMbYGjLgLv7"
      },
      "source": [
        "### Principais características\n",
        "\n",
        "Algumas características da distribuição $t$ são descritas a seguir.\n",
        "\n",
        "- A forma da função de densidade da distribuição $t$ é controlada pelo parâmetro $\\nu$, que é conhecido como a quantidade de graus de liberdade (*degrees of freedom*). (O símbolo $\\nu$ é uma [letra grega](https://pt.wikipedia.org/wiki/Ν));\n",
        "\n",
        "- A forma da função de densidade da distribuição $t$ é semelhante à da distribuição normal padrão. Em particular, a distribuição $t$ é simétrica em relação ao 0;\n",
        "\n",
        "- Para uma amostra de tamanho $n$, o valor do parâmetro $\\nu$ é definido com $\\nu = n - 1$;\n",
        "\n",
        "- Para valores pequenos de $n$, a curva da distribuição $t$ é mais espalhada do que a da normal padrão, mas o espalhamento diminui à medida que o número de graus de liberdade aumenta.\n",
        "\n",
        "- Quando $n > 30$, a distribuição $t$ se aproxima muito da distribuição normal padrão;\n",
        "\n",
        "- No limite, quando $n \\rightarrow \\infty$, a distribuição $t$ é igual à distribuição normal padrão;\n",
        "\n",
        "A figura a seguir ([fonte](https://en.wikipedia.org/wiki/Student%27s_t-distribution)) apresenta exemplos de diversas distribuições t para diferentes valores do parâmetro $\\nu = n-1$.\n",
        "\n",
        "<center>\n",
        "<img src=\"https://upload.wikimedia.org/wikipedia/commons/thumb/4/41/Student_t_pdf.svg/1024px-Student_t_pdf.svg.png\" width=\"500px\"/>\n",
        "</center>"
      ]
    },
    {
      "cell_type": "markdown",
      "metadata": {
        "id": "HyI3BZqbr9kJ"
      },
      "source": [
        "A célula de código abaixo ilustra algumas funções do scipy relacionadas à distribuição $t$."
      ]
    },
    {
      "cell_type": "code",
      "metadata": {
        "id": "-GR55DKkpwcW",
        "colab": {
          "base_uri": "https://localhost:8080/",
          "height": 447
        },
        "outputId": "b1a9d67a-ef1d-4145-c797-a92b4bb7892c"
      },
      "source": [
        "import numpy as np\n",
        "\n",
        "from scipy.stats import t\n",
        "# análogo de from scipy.stats import norm\n",
        "\n",
        "import matplotlib.pyplot as plt\n",
        "\n",
        "fig, ax = plt.subplots(1, 1)\n",
        "\n",
        "# define a quantidade de graus de liberdade.\n",
        "df = 3 # degrees of freedom\n",
        "\n",
        "# plota a curva da distribuição t\n",
        "x = np.linspace(t.ppf(0.001, df), t.ppf(0.999, df), 100)\n",
        "ax.plot(x, t.pdf(x, df), 'r-', lw=5, alpha=0.6, label='t pdf')"
      ],
      "execution_count": null,
      "outputs": [
        {
          "output_type": "execute_result",
          "data": {
            "text/plain": [
              "[<matplotlib.lines.Line2D at 0x7f1db0212790>]"
            ]
          },
          "metadata": {},
          "execution_count": 1
        },
        {
          "output_type": "display_data",
          "data": {
            "text/plain": [
              "<Figure size 640x480 with 1 Axes>"
            ],
            "image/png": "[encoded data removed]"
          },
          "metadata": {}
        }
      ]
    },
    {
      "cell_type": "markdown",
      "metadata": {
        "id": "v6q70Zd0qtVx"
      },
      "source": [
        "Para fins de comparação, a célula de código abaixo apresenta novamente a curva da distribuição $t$, dessa vez sobreposta com a curva da distribuição normal padrão. Experimente aumentar o valor da variável `df` para verificar o que acontece com a forma da curva da distribuição $t$. Em particular, você deve perceber que, para valores de `df` maiores do que 30, as duas curvas são praticamente indistinguíveis."
      ]
    },
    {
      "cell_type": "code",
      "metadata": {
        "colab": {
          "base_uri": "https://localhost:8080/",
          "height": 447
        },
        "id": "TRDKvetaqILc",
        "outputId": "f0375bd3-19d9-4b22-de81-947e7c2f1889"
      },
      "source": [
        "import numpy as np\n",
        "from scipy.stats import t\n",
        "from scipy.stats import norm\n",
        "import matplotlib.pyplot as plt\n",
        "fig, ax = plt.subplots(1, 1)\n",
        "\n",
        "# define a quantidade de graus de liberdade.\n",
        "df = 30\n",
        "# plota a curva da distribuição t\n",
        "x = np.linspace(t.ppf(0.001, df), t.ppf(0.999, df), 100)\n",
        "ax.plot(x, t.pdf(x, df), 'r-', lw=5, alpha=0.6, label='t pdf')\n",
        "\n",
        "# plota a curva da distribuição normal padrão\n",
        "ax.plot(x, norm.pdf(x), 'b-', lw=5, alpha=0.6, label='standard normal pdf')"
      ],
      "execution_count": null,
      "outputs": [
        {
          "output_type": "execute_result",
          "data": {
            "text/plain": [
              "[<matplotlib.lines.Line2D at 0x7f1dae09c520>]"
            ]
          },
          "metadata": {},
          "execution_count": 2
        },
        {
          "output_type": "display_data",
          "data": {
            "text/plain": [
              "<Figure size 640x480 with 1 Axes>"
            ],
            "image/png": "[encoded data removed]"
          },
          "metadata": {}
        }
      ]
    },
    {
      "cell_type": "markdown",
      "metadata": {
        "id": "T8Djo8oVySjv"
      },
      "source": [
        "### Funções do scipy relacionadas\n",
        "\n",
        "Felizmente, não precisamos realizar cálculos diretamente com a expressão matemática da função de densidade de probabilidade da distribuição $t$. A maioria dos pacotes estatísticos fornecem funções para computar valores no contexto da distribuição $t$. Nesta seção, apresentamos algumas funções do pacote [scipy.stats](https://docs.scipy.org/doc/scipy/reference/stats.html) relacionadas à distribuição $t$."
      ]
    },
    {
      "cell_type": "markdown",
      "metadata": {
        "id": "nRqg66q0t_pf"
      },
      "source": [
        "#### t.ppf\n",
        "\n",
        "A função ppf (abreviação de *percent point function*) permite computar valores correspondentes à inversa da função de distribuição acumulada. A função t.ppf apresenta a seguinte assinatura:\n",
        "\n",
        "> `t.ppf(q, df)`\n",
        "\n",
        "Na expressão acima, o argumento `df` é uma abreviação para degrees of freedom e corresponde ao parâmetro $\\nu$ da distribuição $t$. Esse mesmo argumento aparece nas demais funções definidas no pacote scipy.stats.t.\n",
        "\n",
        "Por exemplo, o comando `t.ppf(.95, 30)` retorna um valor próximo de $1.69$, que é o valor do percentil 95 da distribuição $t$ com 30 graus de liberdade. Esse valor significa que 95\\% da área abaixo da curva dessa distribuição está à esquerda do valor $1.69$, e que apenas 5\\% está à direita."
      ]
    },
    {
      "cell_type": "code",
      "metadata": {
        "colab": {
          "base_uri": "https://localhost:8080/"
        },
        "id": "FyPHxSEkuia4",
        "outputId": "9d6ba3f8-7f62-42a7-da3a-374334293e84"
      },
      "source": [
        "from scipy.stats import t\n",
        "t.ppf(.95, 30)"
      ],
      "execution_count": null,
      "outputs": [
        {
          "output_type": "execute_result",
          "data": {
            "text/plain": [
              "1.6972608943617378"
            ]
          },
          "metadata": {
            "tags": []
          },
          "execution_count": 23
        }
      ]
    },
    {
      "cell_type": "code",
      "metadata": {
        "colab": {
          "base_uri": "https://localhost:8080/"
        },
        "id": "G7riil3xU6UX",
        "outputId": "f899d1d6-3076-436f-b365-9e7fe47707f0"
      },
      "source": [
        "from scipy.stats import t\n",
        "t.ppf(.55, 30)"
      ],
      "execution_count": null,
      "outputs": [
        {
          "output_type": "execute_result",
          "data": {
            "text/plain": [
              "0.12672961287886134"
            ]
          },
          "metadata": {},
          "execution_count": 3
        }
      ]
    },
    {
      "cell_type": "code",
      "metadata": {
        "colab": {
          "base_uri": "https://localhost:8080/"
        },
        "id": "oi1ygc-0Vu3h",
        "outputId": "1d98691c-f681-4329-8471-4f1c1f08da04"
      },
      "source": [
        "from scipy.stats import t\n",
        "t.ppf(.5, 30)"
      ],
      "execution_count": null,
      "outputs": [
        {
          "output_type": "execute_result",
          "data": {
            "text/plain": [
              "6.693527296961538e-17"
            ]
          },
          "metadata": {},
          "execution_count": 2
        }
      ]
    },
    {
      "cell_type": "code",
      "metadata": {
        "colab": {
          "base_uri": "https://localhost:8080/"
        },
        "id": "Q5Uhit9iWSfW",
        "outputId": "248e56ce-a41c-4a84-c6d9-75a04dcfe0f6"
      },
      "source": [
        "from scipy.stats import t\n",
        "t.ppf(0.05, 30)"
      ],
      "execution_count": null,
      "outputs": [
        {
          "output_type": "execute_result",
          "data": {
            "text/plain": [
              "-1.6972608943617384"
            ]
          },
          "metadata": {},
          "execution_count": 3
        }
      ]
    },
    {
      "cell_type": "markdown",
      "metadata": {
        "id": "9e39hyfTuIlG"
      },
      "source": [
        "#### t.cdf\n",
        "\n",
        "Esta função retorna o valor da CDF, que é a probabilidade de ser gerado um número menor ou igual ao argumento x. A função cdf (abreviação de *cummulative distribution function*) apresenta a seguinte assinatura:\n",
        "\n",
        "> `t.cdf(x, df)`\n",
        "\n",
        "Por exemplo, a chamada `t.cdf(1.697, 30)` retorna um resultado próximo de 95\\%. Já que $1.679$ corresponde ao $95^o$ percentil, o valor resultante da chamada é de aproximadamente 95\\%.\n"
      ]
    },
    {
      "cell_type": "code",
      "metadata": {
        "colab": {
          "base_uri": "https://localhost:8080/"
        },
        "id": "Oxfv8QX2uH8h",
        "outputId": "8c0274e4-7672-4095-a9e9-0d40cdbd03d3"
      },
      "source": [
        "from scipy.stats import t\n",
        "t.cdf(1.697, 30)"
      ],
      "execution_count": null,
      "outputs": [
        {
          "output_type": "execute_result",
          "data": {
            "text/plain": [
              "0.9499750753969193"
            ]
          },
          "metadata": {
            "tags": []
          },
          "execution_count": 25
        }
      ]
    },
    {
      "cell_type": "markdown",
      "metadata": {
        "id": "OxxeKIonuQYF"
      },
      "source": [
        "#### t.pdf\n",
        "\n",
        "A chamada à função `t.pdf` produz o valor da função de densidade de probabilidade em x. Esse valor produzido corresponde à altura da curva da distribuição no ponto x.\n",
        "\n",
        "> `t.pdf(x, df)`\n",
        "\n",
        "Por exemplo, considere que $\\nu=30$. Para $x= 1.697$, o valor resultante é $0.096$, enquanto que para $x = 0$ é aproximadamente $0.396$."
      ]
    },
    {
      "cell_type": "code",
      "source": [
        "from scipy.stats import t\n",
        "print(t.pdf(0, 30))\n",
        "print(t.pdf(-2, 30))"
      ],
      "metadata": {
        "colab": {
          "base_uri": "https://localhost:8080/"
        },
        "id": "9I9P79pVY3R6",
        "outputId": "462eefd9-83da-4cbc-ffbc-228dad28c357"
      },
      "execution_count": null,
      "outputs": [
        {
          "output_type": "stream",
          "name": "stdout",
          "text": [
            "0.39563218489409696\n",
            "0.05685227504719787\n"
          ]
        }
      ]
    },
    {
      "cell_type": "code",
      "metadata": {
        "colab": {
          "base_uri": "https://localhost:8080/"
        },
        "id": "0YwGjaR34LNU",
        "outputId": "de231d6b-d13b-471e-c8b4-254d533f211d"
      },
      "source": [
        "from scipy.stats import t\n",
        "print(t.pdf(1.697, 30))\n",
        "print(t.pdf(0, 30))"
      ],
      "execution_count": null,
      "outputs": [
        {
          "output_type": "stream",
          "name": "stdout",
          "text": [
            "0.09555801703539088\n",
            "0.39563218489409696\n"
          ]
        }
      ]
    },
    {
      "cell_type": "code",
      "metadata": {
        "colab": {
          "base_uri": "https://localhost:8080/"
        },
        "id": "l-lcID44XiIS",
        "outputId": "050386e6-3b71-496f-bb43-c81bb29d06f0"
      },
      "source": [
        "from scipy.stats import t\n",
        "print(t.pdf(0, 30))"
      ],
      "execution_count": null,
      "outputs": [
        {
          "output_type": "stream",
          "name": "stdout",
          "text": [
            "0.39563218489409696\n"
          ]
        }
      ]
    },
    {
      "cell_type": "markdown",
      "metadata": {
        "id": "YgrpVkUlyUFL"
      },
      "source": [
        "### Exemplos"
      ]
    },
    {
      "cell_type": "markdown",
      "metadata": {
        "id": "WDn7JlUU7g-J"
      },
      "source": [
        "Exemplo 1: Encontre os percentis 2.5 e 97.5 da distribuição Student $t$ com 5 graus de liberdade.\n",
        "\n",
        "> Solução. Podemos usar a função ppf aqui, passando as porcentagens correspondentes aos percentis desejados."
      ]
    },
    {
      "cell_type": "code",
      "metadata": {
        "colab": {
          "base_uri": "https://localhost:8080/"
        },
        "id": "Ek4Sg1vE8BFa",
        "outputId": "1f4095c7-038d-4559-a313-73128a2886b7"
      },
      "source": [
        "from scipy.stats import t\n",
        "percentis = [.025, .975]\n",
        "t.ppf(percentis, 5)"
      ],
      "execution_count": null,
      "outputs": [
        {
          "output_type": "execute_result",
          "data": {
            "text/plain": [
              "array([-2.57058184,  2.57058184])"
            ]
          },
          "metadata": {
            "tags": []
          },
          "execution_count": 29
        }
      ]
    },
    {
      "cell_type": "markdown",
      "metadata": {
        "id": "otk_A0FiyUwO"
      },
      "source": [
        "Exemplo 2: Uma amostra aleatória de tamanho 10 é colhida a partir de uma população com distribuição normal com média $\\mu=4$. Define-se a estatística T conforme a seguir:\n",
        "\n",
        "$$\n",
        "T = \\frac{\\overline{x} - 4}{s / \\sqrt{10}}\n",
        "$$\n",
        "\n",
        "Qual é a probabilidade de que $T>1.833$?\n",
        "\n",
        "> Solução. Por definição, essa estatística segue a distribuição $t$ de Student, com $\\nu = 10-1 = 9$ graus de liberdade. Por meio da função `t.cdf`, podemos computar $\\Pr(T > 1.833)$. Ao fazer isso, obtemos = $\\Pr(T > 1.833) \\approx 0.05$."
      ]
    },
    {
      "cell_type": "code",
      "metadata": {
        "colab": {
          "base_uri": "https://localhost:8080/"
        },
        "id": "dfg6L0uy85nb",
        "outputId": "43e56fe8-8f33-465f-f2de-44bc3fc5cd0f"
      },
      "source": [
        "from scipy.stats import t\n",
        "print(1 - t.cdf(1.833, 9))"
      ],
      "execution_count": null,
      "outputs": [
        {
          "output_type": "stream",
          "text": [
            "0.05000897002529148\n"
          ],
          "name": "stdout"
        }
      ]
    },
    {
      "cell_type": "markdown",
      "metadata": {
        "id": "24aE7440yU43"
      },
      "source": [
        "Exemplo 3: Encontre o valor para a distribuição $t_{12}$ que delimita a sua direita uma área correspondente à probabilidade $0.025$.\n",
        "\n",
        "> Solução. Basta usar a função `t.ppf`, passando como primeiro argumento o complemento de $0.025$, e como segundo argumento o valor 12 (quantidade de graus de liberdade). O valor procurado é então aproximadamente $2.179$."
      ]
    },
    {
      "cell_type": "code",
      "metadata": {
        "colab": {
          "base_uri": "https://localhost:8080/"
        },
        "id": "Xn3dPYP9AAfu",
        "outputId": "7077ac39-3753-4122-96f3-08378fc5beee"
      },
      "source": [
        "from scipy.stats import t\n",
        "t.ppf(1 - .025, 12)"
      ],
      "execution_count": null,
      "outputs": [
        {
          "output_type": "execute_result",
          "data": {
            "text/plain": [
              "2.1788128296634177"
            ]
          },
          "metadata": {
            "tags": []
          },
          "execution_count": 32
        }
      ]
    },
    {
      "cell_type": "markdown",
      "metadata": {
        "id": "do0H6Wv0yUph"
      },
      "source": [
        "Exemplo 4: Determine o valor da variável aleatória que segue a distribuição $t_{14}$ para o qual a área da cauda inferior é de 0.01.\n",
        "\n",
        "> Solução. Esse exemplo é análogo ao anterior. O valor para a variável aleatória que segue a distribuição $t_{14}$ e que delimita uma área (ou a probabilidade) de 1\\% na cauda inferior é de aproximadamente -2.624."
      ]
    },
    {
      "cell_type": "code",
      "metadata": {
        "colab": {
          "base_uri": "https://localhost:8080/"
        },
        "id": "rlKcSS1m_zaX",
        "outputId": "f7f34ac6-6b4d-4198-e605-9ea0d885eaa1"
      },
      "source": [
        "from scipy.stats import t\n",
        "t.ppf(.01, 14)"
      ],
      "execution_count": null,
      "outputs": [
        {
          "output_type": "execute_result",
          "data": {
            "text/plain": [
              "-2.6244940675602315"
            ]
          },
          "metadata": {
            "tags": []
          },
          "execution_count": 33
        }
      ]
    },
    {
      "cell_type": "markdown",
      "metadata": {
        "id": "Y146XlFsyT1o"
      },
      "source": [
        "## Intervalo de confiança para $\\mu$\n",
        "\n",
        "Quando o tamanho da amostra é grande, não importa qual é a distribuição da população para a determinação de uma estimativa intervalar para a média populacional. Isso porque o TLC garante que $\\overline{x}$ será aproximadamente normalmente distribuída.\n",
        "\n",
        "Porém, quando a amostra disponível é pequena ($n \\leq 30$), a distribuição da população deve ser aproximadamente normal para que se possa fazer estimativas adequadas. Nesse caso, intervalos de confiança são construídos de forma semelhante ao caso em que $n>30$. A diferença é que o z-score (denotado por $z_{\\alpha/2}$) é substituído por um valor da distribuição $t$ de Student, o t-score. Esse valor, denotado por $t_{n-1, \\alpha/2}$, é aquele que delimita uma área de $\\alpha / 2$ na cauda do lado direito da distribuição $t$.\n",
        "\n",
        "Para amostras pequenas, o procedimento geral para a determinação de um intervalo de confiança para $\\mu$ é resumido a seguir."
      ]
    },
    {
      "cell_type": "markdown",
      "metadata": {
        "id": "qDecT08JEtpy"
      },
      "source": [
        "### Procedimento de cálculo\n",
        "\n",
        "Para construir um intervalo de confiança no nível de $(1-\\alpha)$% para a média populacional $\\mu$, considere que:\n",
        "- $X_{1}, X_{2}, \\ldots, X_{n}$ é a amostra aleatória de tamanho $n$ ($n \\leq 30$);\n",
        "\n",
        "- $(1-\\alpha)$% é o nível de confiança definido para o estudo.\n",
        "\n",
        "Procedimento:\n",
        "\n",
        "> 1. Calcular a média da amostra:\n",
        "$$\n",
        "\\overline{x} = \\frac{\\left(X_{1} + X_{2} + \\cdots + X_{n}\\right)}{n}\n",
        "$$\n",
        "2. Calcular o desvio padrão da amostra:\n",
        "$$\n",
        "s = \\sqrt{{\\frac {1}{n-1}}\\sum _{i=1}^{n}{\\big (}X_{i}-{\\overline{x}}\\,{\\big )}^{2}}\n",
        "$$\n",
        "3. Determinar $t_{n-1, \\alpha/2}$, o escore na distribuição $t$ de Student que delimita uma área de $\\alpha/2$ no lado direito da curva da distribuição.\n",
        "4. Computar os extremos do intervalo de confiança usando a expressão a seguir:\n",
        "$$\n",
        "\\overline{x} \\pm t_{n-1, \\alpha/2} \\times \\frac{s}{\\sqrt{n}}\n",
        "$$"
      ]
    },
    {
      "cell_type": "code",
      "source": [
        "from scipy.stats import t\n",
        "from scipy.stats import norm\n",
        "\n",
        "import numpy as np\n",
        "amostra = np.array([56.3, 65.4, 58.7, 70.1, 63.9])\n",
        "media_amostral = np.mean(amostra)\n",
        "\n",
        "s = np.std(amostra, ddof = 1)\n",
        "\n",
        "n = amostra.shape[0]\n",
        "\n",
        "df = n - 1\n",
        "\n",
        "alpha = 1 - 0.95\n",
        "\n",
        "t_score = t.ppf(alpha/2, df)\n",
        "\n",
        "erro_padrao = np.abs(t_score * s/np.sqrt(n))\n",
        "\n",
        "print(\"IC(95): [%.2f, %.2f]\" % (media_amostral-erro_padrao, media_amostral+erro_padrao))"
      ],
      "metadata": {
        "colab": {
          "base_uri": "https://localhost:8080/"
        },
        "id": "5ycjOXRDPDlh",
        "outputId": "def8aa22-d8a6-4411-81cb-ddd610e897d3"
      },
      "execution_count": null,
      "outputs": [
        {
          "output_type": "stream",
          "name": "stdout",
          "text": [
            "IC(95): [56.07, 69.69]\n"
          ]
        }
      ]
    },
    {
      "cell_type": "markdown",
      "metadata": {
        "id": "wXVcOxojyST-"
      },
      "source": [
        "### Exemplo 1\n",
        "\n",
        "> Um técnico em metalurgia está estudando um novo processo de soldagem. Ele fabrica 5 juntas soldadas usando esse processo e mede a resistência à deformação de cada uma. Os cinco valores (medidos em [ksi](https://en.wikipedia.org/wiki/Pounds_per_square_inch)) são\n",
        "\\begin{equation}\n",
        "\t56.3 \\ \\; 65.4 \\ \\; 58.7 \\ \\; 70.1 \\ \\; 63.9 \\end{equation}\n",
        "Suponha que esses valores são uma amostra aleatória simples proveniente de uma população aproximadamente normal. Determine um intervalo de confiança no nível de 95\\% para a resistência média das soldaduras forjadas nesse processo.\n",
        "\n",
        "**Solução**\n",
        "\n",
        "A figura a seguir mostra a distribuição $t_4$ (curva em vermelho). Essa figura também apresenta uma área hachurada (em cor azul) que corresponde a 95\\% da área total sob a curva. Os limites dessa área hachurada são $x=-2.776$ e $x=2.776$.\n",
        "\n",
        "Segue-se que, para 95\\% de todas as amostras que poderiam ter sido escolhidas, vale a seguinte desigualdade:\n",
        "\n",
        "$$\n",
        "-2.776 < \\frac{\\overline{x} - \\mu}{s/\\sqrt{n}} < 2.776\n",
        "$$\n",
        "\n",
        "Ao manipular essa desigualdade, acabamos por obter o seguinte:\n",
        "\n",
        "$$\n",
        "\\overline{x} - 2.776\\frac{s}{\\sqrt{n}} < \\mu < \\overline{x} + 2.776\\frac{s}{\\sqrt{n}}\n",
        "$$\n",
        "\n",
        "A média e o desvio padrão da amostra são, respectivamente, $\\overline{x} = 62.88$ e $s = 5.4838$. O tamanho da amostra é $n = 5$. Ao fazermos a substituição de valores, descobrimos que um intervalo de confiança de 95\\% para $\\mu$ é\n",
        "\n",
        "$$\n",
        "62.88-6.81 < \\mu < 62.88 + 6.81\n",
        "$$\n",
        "\n",
        "ou $(56.07, 69.69)$.\n",
        ""
      ]
    },
    {
      "cell_type": "markdown",
      "source": [
        "A célula de código a seguir produz a solução para o Exemplo 1 usando Python.\n"
      ],
      "metadata": {
        "id": "rmQSAwwaE3v_"
      }
    },
    {
      "cell_type": "code",
      "metadata": {
        "colab": {
          "base_uri": "https://localhost:8080/"
        },
        "id": "7lO7iRHE3XYn",
        "outputId": "1789bfdd-34a7-4ace-87ca-bdf42bc83319"
      },
      "source": [
        "import numpy as np\n",
        "amostra = np.asarray([56.3, 65.4, 58.7, 70.1, 63.9])\n",
        "from scipy.stats import t\n",
        "\n",
        "media = amostra.mean()\n",
        "print(\"Média: %.2f\" % media)\n",
        "\n",
        "s = amostra.std(ddof=1)\n",
        "print(\"Desvio padrão: %.2f\" % s)\n",
        "\n",
        "n = 5\n",
        "\n",
        "alpha = 0.05\n",
        "t_score = t.ppf(alpha/2, n-1)\n",
        "t_score = np.abs(t_score)\n",
        "print(\"t-score: %.3f\" % t_score)\n",
        "\n",
        "erro_padrao = t_score * (s/np.sqrt(n))\n",
        "\n",
        "print(\"IC 95%%: (%.2f, %.2f)\" % (media-erro_padrao, media+erro_padrao))"
      ],
      "execution_count": null,
      "outputs": [
        {
          "output_type": "stream",
          "text": [
            "Média: 62.88\n",
            "Desvio padrão: 5.48\n",
            "t-score: 2.776\n",
            "IC 95%: (56.07, 69.69)\n"
          ],
          "name": "stdout"
        }
      ]
    },
    {
      "cell_type": "markdown",
      "source": [
        "No código acima, atente para o uso de `ddof=1` na chamada da função `std` do numpy. Essa configuração faz com que a fórmula do desvio padrão amostral $s$ seja usada, e não a fórmula do desvio padrão populacional $\\sigma$. Veja a diferença entre essas duas fórmulas a seguir:\n",
        "\n",
        "$$\n",
        "s = \\sqrt{{\\frac {1}{n-1}}\\sum _{i=1}^{n}{\\big (}X_{i}-{\\overline{x}}\\,{\\big )}^{2}}\n",
        "$$\n",
        "\n",
        "$$\n",
        "\\sigma = \\sqrt{{\\frac {1}{n}}\\sum _{i=1}^{n}{\\big (}X_{i}-{\\mu}\\,{\\big )}^{2}}\n",
        "$$\n",
        "\n",
        "Veja a entrada da Wikipedia sobre a [correção de Bessel](https://en.wikipedia.org/wiki/Bessel%27s_correction) para entender a razão disso."
      ],
      "metadata": {
        "id": "tH3NfqF5JEuI"
      }
    },
    {
      "cell_type": "markdown",
      "source": [
        "A célula de código abaixo apresenta outra solução para o mesmo Exemplo 1, desta vez destacando os diversos passos do procedimento."
      ],
      "metadata": {
        "id": "66AZlYFID_mv"
      }
    },
    {
      "cell_type": "code",
      "source": [
        "import numpy as np\n",
        "from scipy.stats import t\n",
        "\n",
        "amostra = [56.3, 65.4, 58.7, 70.1, 63.9]\n",
        "n = len(amostra)\n",
        "\n",
        "# passo 1\n",
        "x_bar = np.mean(amostra)\n",
        "\n",
        "# passo 2\n",
        "s = np.std(amostra, ddof=1)\n",
        "\n",
        "# passo 3\n",
        "conf_level = .95 # 1-alpha\n",
        "alpha_over_2 = (1-conf_level)/2\n",
        "df = n - 1\n",
        "t_score = t.ppf(1-alpha_over_2, df)\n",
        "\n",
        "# passo 4\n",
        "erro_amostral = t_score * s / np.sqrt(n)\n",
        "\n",
        "print('IC 95%%: (%.2f, %.2f)' % (x_bar-erro_amostral, x_bar+erro_amostral))"
      ],
      "metadata": {
        "colab": {
          "base_uri": "https://localhost:8080/"
        },
        "id": "on6doyLKbny7",
        "outputId": "6553dd9b-ad3d-4c42-8706-7a3dbd686a64"
      },
      "execution_count": null,
      "outputs": [
        {
          "output_type": "stream",
          "name": "stdout",
          "text": [
            "IC 95%: (56.07, 69.69)\n"
          ]
        }
      ]
    },
    {
      "cell_type": "markdown",
      "source": [
        "Para um melhor entendimento do significado do valot de t-score, considere a célula de código abaixo. Esse código produz um gráfico da curva da distribuição $t$ com 4 graus de liberdade. Além disso, parte da área abaixo da curva da distribuição está hachurada em azul. Essa é a área delimitada entre $-2.776$ e $+2.776$, em que $2.776$ é o valor crítico (i.e., o valor absoluto do t-score). Repare que essa área corresponde a 95% da área total abaixo da curva, e que esse valor é justamente a porcentagem definida para o nível de confiança no Exemplo 1."
      ],
      "metadata": {
        "id": "t9N8cuZDFAhd"
      }
    },
    {
      "cell_type": "code",
      "metadata": {
        "colab": {
          "base_uri": "https://localhost:8080/",
          "height": 282
        },
        "id": "i2zFmDswHveO",
        "outputId": "aeb6116d-d028-4db0-9e5b-81b5c1075609"
      },
      "source": [
        "%matplotlib inline\n",
        "\n",
        "import matplotlib\n",
        "from scipy.stats import t\n",
        "import numpy as np\n",
        "import matplotlib.pyplot as plt\n",
        "\n",
        "valor_critico = 2.776\n",
        "\n",
        "fig, ax = plt.subplots(1, 1)\n",
        "\n",
        "# define a quantidade de graus de liberdade.\n",
        "# No caso do Exemplo 1, df = n - 1 = 5 - 4 = 4.\n",
        "df = 4\n",
        "\n",
        "# plota a curva da distribuição t\n",
        "x = np.linspace(t.ppf(0.01, df), t.ppf(0.99, df), 100)\n",
        "ax.plot(x, t.pdf(x, df), 'r-', lw=3, alpha=0.6, label='t pdf')\n",
        "\n",
        "x_to_fill = np.linspace(-valor_critico, valor_critico, 100)\n",
        "plt.fill_between(x_to_fill,t.pdf(x_to_fill, df))"
      ],
      "execution_count": null,
      "outputs": [
        {
          "output_type": "execute_result",
          "data": {
            "text/plain": [
              "<matplotlib.collections.PolyCollection at 0x7fcfcecc1a90>"
            ]
          },
          "metadata": {},
          "execution_count": 8
        },
        {
          "output_type": "display_data",
          "data": {
            "image/png": "[encoded data removed]",
            "text/plain": [
              "<Figure size 432x288 with 1 Axes>"
            ]
          },
          "metadata": {
            "needs_background": "light"
          }
        }
      ]
    },
    {
      "cell_type": "markdown",
      "metadata": {
        "id": "7xS3BcKGzkQG"
      },
      "source": [
        "### Exemplo 2\n",
        "\n",
        "> Uma amostra de 25 elementos tem média igual a 150 e desvio padrão igual a 10. Determine um intervalo de confiança em nível de 90\\% para a média populacional.\n",
        "\n",
        "**Solução**\n",
        "\n",
        "Porque $n < 30$, iremos usar a distribuição $t$ de Student. Desejamos um intervalo de confiança no nível de 90\\%. A média e o desvio padrão da amostra são fornecidos. Para determinar o t-score, encontramos o número de graus de liberdade, que é $\\nu = (n-1)$. Logo, $\\nu = (25-1)=24$.\n",
        "\n",
        "O nível de confiança desejado é $(1 - \\alpha) = 0.9$. Sendo assim, $\\alpha = 0.1$ e $\\alpha/2 = 0.05$.\n",
        "\n",
        "Conhecendo o número de graus de liberdade e o nível de confiança, encontramos o valor do t-score. Neste caso, $t_{n-1, \\alpha/2}=1.7109$.\n",
        "\n",
        "Agora, podemos contruir o intervalos de confiança usando a expressão a seguir.\n",
        "$$\n",
        "\\overline{x} \\pm t_{n-1, \\alpha/2} \\times \\frac{s}{\\sqrt{n}}\n",
        "$$\n",
        "\n",
        "Ao fazermos isso, encontramos o seguinte intervalo de confiança: (146.58, 153.42).\n"
      ]
    },
    {
      "cell_type": "code",
      "metadata": {
        "colab": {
          "base_uri": "https://localhost:8080/"
        },
        "id": "U2ERFQh98oNm",
        "outputId": "3e54ad75-115c-49ef-d119-7c128370bced"
      },
      "source": [
        "import numpy as np\n",
        "\n",
        "media = 150\n",
        "print(\"Média: %.2f\" % media)\n",
        "\n",
        "s = 10\n",
        "print(\"Desvio padrão: %.2f\" % s)\n",
        "\n",
        "n = 25\n",
        "\n",
        "alpha = .1\n",
        "t_score = t.ppf(alpha/2, n-1)\n",
        "t_score = np.abs(t_score)\n",
        "print(\"t-score: %.4f\" % t_score)\n",
        "\n",
        "erro_padrao = t_score * (s/np.sqrt(n))\n",
        "\n",
        "print(\"IC 90%%: (%.2f, %.2f)\" % (media-erro_padrao, media+erro_padrao))"
      ],
      "execution_count": null,
      "outputs": [
        {
          "output_type": "stream",
          "name": "stdout",
          "text": [
            "Média: 150.00\n",
            "Desvio padrão: 10.00\n",
            "t-score: 1.7109\n",
            "IC 90%: (146.58, 153.42)\n"
          ]
        }
      ]
    },
    {
      "cell_type": "code",
      "source": [
        "from itertools import combinations, product"
      ],
      "metadata": {
        "id": "75T_W9U5cyzZ"
      },
      "execution_count": null,
      "outputs": []
    },
    {
      "cell_type": "code",
      "source": [
        "#temp = [10, 11, 12, 13, 14, 15, 16, 17, 18, 19, 20]\n",
        "temp = [1, 2, 3]\n",
        "list(product(temp, repeat=2))"
      ],
      "metadata": {
        "colab": {
          "base_uri": "https://localhost:8080/"
        },
        "id": "kzm9vdjSd1U6",
        "outputId": "34c78f82-7469-4d2b-9c94-597ccdccbf36"
      },
      "execution_count": null,
      "outputs": [
        {
          "output_type": "execute_result",
          "data": {
            "text/plain": [
              "[(1, 1), (1, 2), (1, 3), (2, 1), (2, 2), (2, 3), (3, 1), (3, 2), (3, 3)]"
            ]
          },
          "metadata": {},
          "execution_count": 18
        }
      ]
    },
    {
      "cell_type": "code",
      "source": [],
      "metadata": {
        "id": "bD8hUtXUd8oz"
      },
      "execution_count": null,
      "outputs": []
    }
  ]
}