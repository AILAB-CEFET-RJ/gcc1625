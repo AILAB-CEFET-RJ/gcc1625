{
  "cells": [
    {
      "cell_type": "markdown",
      "metadata": {
        "id": "0Qrn-VkRcilU"
      },
      "source": [
        "Em um testes de hipótese envolvendo duas médias, verificamos se a diferença entre as duas médias amostrais é significante. Por outro lado, o teste ANOVA é usado para comparar **múltiplas** (três ou mais) médias, e verificar se a diferença entre múltiplas médias amostrais é significante.\n",
        "\n",
        "A ANOVA (*ANalysis Of VAriance*) é um teste estatístico para determinar se as médias de vários grupos são iguais. A ANOVA generaliza o teste t para os casos em que há mais do que dois grupos.\n",
        "\n",
        "A ANOVA pode ser usada em situações nas quais, para cada elemento em alguma das amostras disponíveis, há duas variáveis, a *variável independente* e a *variável dependente*.\n",
        "\n",
        "- A variável independente é discreta. Seus valores, denominados *níveis* ou *fatores*, são usados para alocar indíviduos pelos grupos.\n",
        "\n",
        "- A variável dependente é contínua.\n",
        "\n",
        "A lista a seguir fornece exemplos de perguntas de pesquisa que poderiam ser investigadas por meio da ANOVA.\n",
        "\n",
        "- Variável independente: *uso de mídia social* com valores em {baixo, médio,  alto}. Variável dependente: *média de horas de sono por noite*. Pergunta de pesquisa: há uma diferença nas horas de sono por noite em função do nível de uso de mídia social.\n",
        "\n",
        "- Variável independente: *marca de detergente* com valores em {Odd, Ypê, Minuano, Finish}. Há diversas observações sobre o preço de detergentes. Variável dependente: *preço médio do refrigerante*. Pergunta de pesquisa: há diferença no preço (por 100ml) de detergentes?\n",
        "\n",
        "- Variável independente: *tipo de fertilizante* com  valores em {1, 2, 3}. Há observações sobre diversos campos de cultivo, cada um tratado com um tipo de fertilizante. Variável dependente: *rendimento médio da colheita*. Pergunta de pesquisa: há diferença no rendimento da colheita dependendo do tipo de fertilizante usado no tratamento?\n"
      ]
    },
    {
      "cell_type": "markdown",
      "metadata": {
        "id": "iTCKwWlBDyPx"
      },
      "source": [
        "## Declaração das hipóteses\n",
        "\n",
        "Na ANOVA, a hipótese nula ($H_0$) declara que não há diferença estatisticamente significativa entre as médias das populações. Já a hipótese alternativa ($H_a$) declara que há diferença estatisticamente significativa entre as médias de ao menos um par de populações.\n",
        "\n",
        "Formalmente, se existem $k$ amostras, temos que:\n",
        "\n",
        "- $H_0$: $\\mu_1 = \\mu_2 = \\ldots = \\mu_k$\n",
        "- $H_a$: existem índices $i$ e $j$ tais que $\\mu_i \\neq \\mu_j$ ($1 \\leq i, j \\leq k$)\n"
      ]
    },
    {
      "cell_type": "markdown",
      "metadata": {
        "id": "x9o5ZZ3RGZoV"
      },
      "source": [
        "## Distribuição F\n",
        "\n",
        "A estatística de teste da ANOVA segue a **distribuição $F$** ($F$-distribution). O nome dessa distribuição é em homenagem a [Ronald Fisher](https://en.wikipedia.org/wiki/Ronald_Fisher), um dos estatísticos que trabalharam em sua formulação.\n",
        "\n",
        "Quando uma variável aleatória $X$ segue a distribuição $F$, usamos a notação $X \\sim F(d_1, d_2)$. Nessa notação, $d_1$ e $d_2$ são os parâmetros da distribuição.\n",
        "\n",
        "A figura a seguir ([fonte](https://upload.wikimedia.org/wikipedia/commons/thumb/7/74/F-distribution_pdf.svg/1280px-F-distribution_pdf.svg.png)) apresenta gráficos (relativos à função densidade de probabilidade) da distribuição $F$ para diferentes combinações dos parâmetros $d_1$ e $d_2$. Repare que a variável aleatória correspondente assume valores estritamente positivos.\n",
        "\n",
        "![texto do link](https://upload.wikimedia.org/wikipedia/commons/thumb/7/74/F-distribution_pdf.svg/1280px-F-distribution_pdf.svg.png)"
      ]
    },
    {
      "cell_type": "markdown",
      "metadata": {
        "id": "32ccM01FPpFv"
      },
      "source": [
        "## Estatística de teste\n",
        "\n",
        "Já sabemos que a estatística de teste da ANOVA segue a distribuição $F$. Vamos denota essa estatística pela letra $F$. Nesta seção descrevemos de que forma calcular o valor de $F$ para um conjunto de $k$ amostras.\n",
        "\n",
        "O cálculo da estatística $F$ utiliza as seguintes informações.\n",
        "\n",
        "- $k$, a quantidade de *grupos* (*tratamentos*)\n",
        "\n",
        "- $\\overline{x}$: a média global (i.e., o valor da média considerando os valores de variável dependente de todas as $k$ amostras)\n",
        "\n",
        "- $n_1, n_2\\ldots, n_k$: os tamanhos de cada grupo (amostra)\n",
        "\n",
        "- $\\overline{x}_1, \\overline{x}_2, \\ldots, \\overline{x}_k$: as médias de cada grupo\n",
        "$$\n",
        "\\overline{x}_i = \\frac{1}{n_i} \\sum_{j=1}^{n_{i}} x_{ij}\n",
        "$$\n",
        "\n",
        "- $s_1^2, s_2^2, \\ldots, s_k^2$: as variâncias de cada grupo\n",
        "$$\n",
        "s_i^2 = \\frac{1}{n_i-1} \\sum_{j=1}^{n_{i}}\\left(x_{ij}-{\\bar{x}}_{i}\\right)^{2}\n",
        "$$\n",
        "\n",
        "- $N = \\sum_{i=1}^{i=k} n_i$\n",
        "\n",
        "De posse dos valores acima, devemos prosseguir computando dois tipos de variância, a intra-grupos e a inter-grupos.\n",
        "\n",
        "A variância inter-grupos (*explained variance*, *between-group variability*) é definida por\n",
        "\n",
        "$$\n",
        "\\frac{1}{k-1}\\sum_{i=1}^{k}n_{i}({\\bar{x}}_{i} - {\\bar {x}})^{2} = \\frac{n_1(\\bar{x}_1 - \\bar{x})^2 + \\cdots + n_k(\\bar{x}_k-\\bar{x})^2}{k-1}\n",
        "$$\n",
        "\n",
        "A variância intra-grupos (*unexplained variance*, *within-group variability*) é definida por\n",
        "\n",
        "$$\n",
        "\\frac{1}{N-k} \\sum_{i=1}^{k}\\sum_{j=1}^{n_{i}}\\left(x_{ij}-{\\bar{x}}_{i}\\right)^{2} = \\frac{(n_1-1)s_1^2 + \\cdots + (n_k-1)s_k^2 }{N-k}\n",
        "$$\n",
        "\n",
        "![texto do link](https://www.scielo.br/img/revistas/rbccv/v33n6//0102-7638-rbccv-33-06-000V-gf04.jpg)\n",
        "\n",
        "A estatística $F$ é definida como a razão entre as variâncias inter-grupos e a variância intra-grupos:\n",
        "$$\n",
        "F = \\frac{\\text{variabilidade inter-grupos}}{\\text{variabilidade intra-grupos}}\n",
        "$$\n",
        "\n",
        "A estatística $F$ assume valores grandes quando a variabilidade entre os grupos for grande em relação à variabilidade dentro dos grupos, o que é improvável de acontecer se as médias populacionais de todos os grupos tiverem o mesmo valor.Em outras palavras, a estatística $F$ é definida de forma que seus valores tendem a ser maiores quando a hipótese nula não for verdadeira.\n",
        "\n",
        "Embora a distribuição $F$ esteja definida para valores dos parâmetros tais que $d_1 > 0$ e $d_2 > 0$, no contexto da ANOVA esses parâmetros assumem apenas valores inteiros positivos. Mais específicamente, considerando a hipótese nula com sendo verdadeira, para computar valores de probabilidade no caso da ANOVA, usamos os seguintes valores para os dois parâmetros:\n",
        "- $d_1 = k - 1$ (Qtd. de grupos – 1)\n",
        "- $d_2 = N - k$ (Total geral de indivíduos – Qtd. de Grupos)\n",
        "\n",
        "De todo modo, independente dos valores desses parâmetros, o valor computado para a estatística de teste da ANOVA também está associado a um valor de probabilidade $p$, conforme ilustra a figura abaixo ([fonte](https://blog.minitab.com/blog/adventures-in-statistics-2/understanding-analysis-of-variance-anova-and-the-f-test)). Essa figura mostra que o valor computado para a estatística foi de $3.3$ e que o valor $p$ correspondente é de aproximadamente $0.03$ (área hachurada em cor marrom). Se o nível de significância tivessa sido definido com $\\alpha=0.05$, aquele valor de $p$ seria suficiente para rejeitar a hipótese nula.\n",
        "\n",
        "![texto do link](https://blog.minitab.com/hubfs/Imported_Blog_Media/f_distribution_probability.png)"
      ]
    },
    {
      "cell_type": "markdown",
      "metadata": {
        "id": "NlJ-JL4EF2Ej"
      },
      "source": [
        "## Procedimento de aplicação\n",
        "\n",
        "A seguir, descrevemos de que forma a ANOVA pode ser aplicada. Consideramos aqui o caso com $k=3$ amostras. Mas note que o procedimento pode ser aplicado a um número arbitrário de amostras.\n",
        "\n",
        "1. Declarar as hipóteses nula e alternativa\n",
        "2. Computar a estatística $F$\n",
        "3. Determinar o valor $p$ associado à estatística\n",
        "4. Interpretar o resultado.\n"
      ]
    },
    {
      "cell_type": "markdown",
      "metadata": {
        "id": "gcEXYldnCx2l"
      },
      "source": [
        "## Condições de aplicabilidade\n",
        "\n",
        "ANOVA pode ser usada apenas se as seguintes condições são verdadeiras:\n",
        "\n",
        "- Todas as amostras devem ter sido produzidas por meio de amostragem aleatória simples;\n",
        "- As populações têm variâncias similares (e.g., não há uma população com variância muito diferente do que outra);\n",
        "- Todas as populações são aproximadamente normalmente distribuídas.\n"
      ]
    },
    {
      "cell_type": "markdown",
      "metadata": {
        "id": "h_SXxOM6YyA5"
      },
      "source": [
        "## Exemplo 1\n",
        "\n",
        "Nesta seção, apresentamos um exemplo de aplicação do teste ANOVA. Para isso vamos usar o conjunto de dados [PlantGrowth](https://vincentarelbundock.github.io/Rdatasets/doc/datasets/PlantGrowth.html). A situação-problema que vamos considerar é descrita abaixo.\n",
        "\n",
        "> Durante o cultivo de uma certa uma plantação, dois tratamentos foram aplicados com o propósito de investigar a efetivididade desses tratamentos no peso médio final dos frutos obtidos na colheita. Além disso, algumas plantas foram seleciondas (também de forma aleatória) para não receber tratamento algum, como forma de controle. Após a colheita, o peso médio do frutos foi calculado. A pergunta de pesquisa é a seguinte: há diferença significativa do ponto de vista estatístico entre os pesos médios da colheita em cada um dos três grupos (primeiro tratamento, segundo tratamento, grupo de controle)?\n",
        "\n",
        "Repare que na situação-problema acima, a variável independente é o tipo de tratamento, com valores trt1, trt2 e ctrl. Há também a variável dependente, peso dos frutos.\n",
        "\n",
        "A célula de código abaixo faz a carga das observações realizadas. As colunas `group` e `weight` correspondem às variáveis independente e dependente, respectivamente."
      ]
    },
    {
      "cell_type": "code",
      "execution_count": null,
      "metadata": {
        "colab": {
          "base_uri": "https://localhost:8080/",
          "height": 996
        },
        "id": "MgqJoi6Xk559",
        "outputId": "0a598ed5-f640-404b-f0b5-099d5d3247cc"
      },
      "outputs": [
        {
          "name": "stdout",
          "output_type": "stream",
          "text": [
            "(30, 3)\n"
          ]
        },
        {
          "data": {
            "text/html": [
              "<div>\n",
              "<style scoped>\n",
              "    .dataframe tbody tr th:only-of-type {\n",
              "        vertical-align: middle;\n",
              "    }\n",
              "\n",
              "    .dataframe tbody tr th {\n",
              "        vertical-align: top;\n",
              "    }\n",
              "\n",
              "    .dataframe thead th {\n",
              "        text-align: right;\n",
              "    }\n",
              "</style>\n",
              "<table border=\"1\" class=\"dataframe\">\n",
              "  <thead>\n",
              "    <tr style=\"text-align: right;\">\n",
              "      <th></th>\n",
              "      <th>Unnamed: 0</th>\n",
              "      <th>weight</th>\n",
              "      <th>group</th>\n",
              "    </tr>\n",
              "  </thead>\n",
              "  <tbody>\n",
              "    <tr>\n",
              "      <th>0</th>\n",
              "      <td>1</td>\n",
              "      <td>4.17</td>\n",
              "      <td>ctrl</td>\n",
              "    </tr>\n",
              "    <tr>\n",
              "      <th>1</th>\n",
              "      <td>2</td>\n",
              "      <td>5.58</td>\n",
              "      <td>ctrl</td>\n",
              "    </tr>\n",
              "    <tr>\n",
              "      <th>2</th>\n",
              "      <td>3</td>\n",
              "      <td>5.18</td>\n",
              "      <td>ctrl</td>\n",
              "    </tr>\n",
              "    <tr>\n",
              "      <th>3</th>\n",
              "      <td>4</td>\n",
              "      <td>6.11</td>\n",
              "      <td>ctrl</td>\n",
              "    </tr>\n",
              "    <tr>\n",
              "      <th>4</th>\n",
              "      <td>5</td>\n",
              "      <td>4.50</td>\n",
              "      <td>ctrl</td>\n",
              "    </tr>\n",
              "    <tr>\n",
              "      <th>5</th>\n",
              "      <td>6</td>\n",
              "      <td>4.61</td>\n",
              "      <td>ctrl</td>\n",
              "    </tr>\n",
              "    <tr>\n",
              "      <th>6</th>\n",
              "      <td>7</td>\n",
              "      <td>5.17</td>\n",
              "      <td>ctrl</td>\n",
              "    </tr>\n",
              "    <tr>\n",
              "      <th>7</th>\n",
              "      <td>8</td>\n",
              "      <td>4.53</td>\n",
              "      <td>ctrl</td>\n",
              "    </tr>\n",
              "    <tr>\n",
              "      <th>8</th>\n",
              "      <td>9</td>\n",
              "      <td>5.33</td>\n",
              "      <td>ctrl</td>\n",
              "    </tr>\n",
              "    <tr>\n",
              "      <th>9</th>\n",
              "      <td>10</td>\n",
              "      <td>5.14</td>\n",
              "      <td>ctrl</td>\n",
              "    </tr>\n",
              "    <tr>\n",
              "      <th>10</th>\n",
              "      <td>11</td>\n",
              "      <td>4.81</td>\n",
              "      <td>trt1</td>\n",
              "    </tr>\n",
              "    <tr>\n",
              "      <th>11</th>\n",
              "      <td>12</td>\n",
              "      <td>4.17</td>\n",
              "      <td>trt1</td>\n",
              "    </tr>\n",
              "    <tr>\n",
              "      <th>12</th>\n",
              "      <td>13</td>\n",
              "      <td>4.41</td>\n",
              "      <td>trt1</td>\n",
              "    </tr>\n",
              "    <tr>\n",
              "      <th>13</th>\n",
              "      <td>14</td>\n",
              "      <td>3.59</td>\n",
              "      <td>trt1</td>\n",
              "    </tr>\n",
              "    <tr>\n",
              "      <th>14</th>\n",
              "      <td>15</td>\n",
              "      <td>5.87</td>\n",
              "      <td>trt1</td>\n",
              "    </tr>\n",
              "    <tr>\n",
              "      <th>15</th>\n",
              "      <td>16</td>\n",
              "      <td>3.83</td>\n",
              "      <td>trt1</td>\n",
              "    </tr>\n",
              "    <tr>\n",
              "      <th>16</th>\n",
              "      <td>17</td>\n",
              "      <td>6.03</td>\n",
              "      <td>trt1</td>\n",
              "    </tr>\n",
              "    <tr>\n",
              "      <th>17</th>\n",
              "      <td>18</td>\n",
              "      <td>4.89</td>\n",
              "      <td>trt1</td>\n",
              "    </tr>\n",
              "    <tr>\n",
              "      <th>18</th>\n",
              "      <td>19</td>\n",
              "      <td>4.32</td>\n",
              "      <td>trt1</td>\n",
              "    </tr>\n",
              "    <tr>\n",
              "      <th>19</th>\n",
              "      <td>20</td>\n",
              "      <td>4.69</td>\n",
              "      <td>trt1</td>\n",
              "    </tr>\n",
              "    <tr>\n",
              "      <th>20</th>\n",
              "      <td>21</td>\n",
              "      <td>6.31</td>\n",
              "      <td>trt2</td>\n",
              "    </tr>\n",
              "    <tr>\n",
              "      <th>21</th>\n",
              "      <td>22</td>\n",
              "      <td>5.12</td>\n",
              "      <td>trt2</td>\n",
              "    </tr>\n",
              "    <tr>\n",
              "      <th>22</th>\n",
              "      <td>23</td>\n",
              "      <td>5.54</td>\n",
              "      <td>trt2</td>\n",
              "    </tr>\n",
              "    <tr>\n",
              "      <th>23</th>\n",
              "      <td>24</td>\n",
              "      <td>5.50</td>\n",
              "      <td>trt2</td>\n",
              "    </tr>\n",
              "    <tr>\n",
              "      <th>24</th>\n",
              "      <td>25</td>\n",
              "      <td>5.37</td>\n",
              "      <td>trt2</td>\n",
              "    </tr>\n",
              "    <tr>\n",
              "      <th>25</th>\n",
              "      <td>26</td>\n",
              "      <td>5.29</td>\n",
              "      <td>trt2</td>\n",
              "    </tr>\n",
              "    <tr>\n",
              "      <th>26</th>\n",
              "      <td>27</td>\n",
              "      <td>4.92</td>\n",
              "      <td>trt2</td>\n",
              "    </tr>\n",
              "    <tr>\n",
              "      <th>27</th>\n",
              "      <td>28</td>\n",
              "      <td>6.15</td>\n",
              "      <td>trt2</td>\n",
              "    </tr>\n",
              "    <tr>\n",
              "      <th>28</th>\n",
              "      <td>29</td>\n",
              "      <td>5.80</td>\n",
              "      <td>trt2</td>\n",
              "    </tr>\n",
              "    <tr>\n",
              "      <th>29</th>\n",
              "      <td>30</td>\n",
              "      <td>5.26</td>\n",
              "      <td>trt2</td>\n",
              "    </tr>\n",
              "  </tbody>\n",
              "</table>\n",
              "</div>"
            ],
            "text/plain": [
              "    Unnamed: 0  weight group\n",
              "0            1    4.17  ctrl\n",
              "1            2    5.58  ctrl\n",
              "2            3    5.18  ctrl\n",
              "3            4    6.11  ctrl\n",
              "4            5    4.50  ctrl\n",
              "5            6    4.61  ctrl\n",
              "6            7    5.17  ctrl\n",
              "7            8    4.53  ctrl\n",
              "8            9    5.33  ctrl\n",
              "9           10    5.14  ctrl\n",
              "10          11    4.81  trt1\n",
              "11          12    4.17  trt1\n",
              "12          13    4.41  trt1\n",
              "13          14    3.59  trt1\n",
              "14          15    5.87  trt1\n",
              "15          16    3.83  trt1\n",
              "16          17    6.03  trt1\n",
              "17          18    4.89  trt1\n",
              "18          19    4.32  trt1\n",
              "19          20    4.69  trt1\n",
              "20          21    6.31  trt2\n",
              "21          22    5.12  trt2\n",
              "22          23    5.54  trt2\n",
              "23          24    5.50  trt2\n",
              "24          25    5.37  trt2\n",
              "25          26    5.29  trt2\n",
              "26          27    4.92  trt2\n",
              "27          28    6.15  trt2\n",
              "28          29    5.80  trt2\n",
              "29          30    5.26  trt2"
            ]
          },
          "execution_count": 1,
          "metadata": {
            "tags": []
          },
          "output_type": "execute_result"
        }
      ],
      "source": [
        "import pandas as pd\n",
        "import numpy as np\n",
        "\n",
        "frutos_df = pd.read_csv('https://vincentarelbundock.github.io/Rdatasets/csv/datasets/PlantGrowth.csv')\n",
        "print(frutos_df.shape)\n",
        "frutos_df.head(30)"
      ]
    },
    {
      "cell_type": "code",
      "execution_count": null,
      "metadata": {
        "colab": {
          "base_uri": "https://localhost:8080/"
        },
        "id": "nfRNXrhrltze",
        "outputId": "573c6f55-e2a0-4bb9-9a02-cfa568cffd26"
      },
      "outputs": [
        {
          "data": {
            "text/plain": [
              "array(['ctrl', 'trt1', 'trt2'], dtype=object)"
            ]
          },
          "execution_count": 3,
          "metadata": {
            "tags": []
          },
          "output_type": "execute_result"
        }
      ],
      "source": [
        "frutos_df.group.unique()"
      ]
    },
    {
      "cell_type": "code",
      "execution_count": null,
      "metadata": {
        "colab": {
          "base_uri": "https://localhost:8080/"
        },
        "id": "uaWddRlDmUr3",
        "outputId": "f21d36c8-d150-4a09-ab83-b8cefaa1572b"
      },
      "outputs": [
        {
          "name": "stdout",
          "output_type": "stream",
          "text": [
            "<class 'pandas.core.frame.DataFrame'>\n",
            "RangeIndex: 30 entries, 0 to 29\n",
            "Data columns (total 3 columns):\n",
            " #   Column      Non-Null Count  Dtype  \n",
            "---  ------      --------------  -----  \n",
            " 0   Unnamed: 0  30 non-null     int64  \n",
            " 1   weight      30 non-null     float64\n",
            " 2   group       30 non-null     object \n",
            "dtypes: float64(1), int64(1), object(1)\n",
            "memory usage: 848.0+ bytes\n"
          ]
        }
      ],
      "source": [
        "frutos_df.info()"
      ]
    },
    {
      "cell_type": "markdown",
      "metadata": {
        "id": "zwhYIpasdQpo"
      },
      "source": [
        "\n",
        "Antes da aplicação do ANOVA, devemos verificar se as condições de aplicabilidade se verificam.\n",
        "\n",
        "A primeira condição de aplicabilidade que vamos verificar diz respeito a igualdade das variâncias das amostras. Há vários teste que podem ser aplicados para realizar essa verificação. Um deles é denominado [teste de Levene](https://en.wikipedia.org/wiki/Levene%27s_test). Esse teste serve para verificar a hipótese nula de que as variâncias de duas ou mais populações são iguais (essa propriedade é conhecida como *homocedasticidade*). Se o valor $p$ resultante do teste de Levene for menor do que algum nível de significância (normalmente 0,05), é improvável que as diferenças obtidas nas variâncias das amostras tenham ocorrido com base na amostragem aleatória de uma população com variâncias iguais. Se esse for o caso, a hipótese nula (que alega que as variâncias são iguais) é rejeitada e conclui-se que existe uma diferença entre as variâncias na população.\n",
        "\n",
        "A célula de código a seguir aplica o [teste de Levene](https://en.wikipedia.org/wiki/Levene%27s_test) para verificar se cada uma das três amostras é aproximadamente normalmente distribuída."
      ]
    },
    {
      "cell_type": "code",
      "execution_count": null,
      "metadata": {
        "colab": {
          "base_uri": "https://localhost:8080/"
        },
        "id": "FfQ0K85ccgHU",
        "outputId": "05df9b48-bd9f-4544-fe13-4547489903be"
      },
      "outputs": [
        {
          "name": "stdout",
          "output_type": "stream",
          "text": [
            "1.236962954469784\n",
            "0.30619492299144735\n"
          ]
        }
      ],
      "source": [
        "import numpy as np\n",
        "from scipy.stats import levene\n",
        "\n",
        "trt1 = frutos_df['weight'][frutos_df.group == 'trt1']\n",
        "trt2 = frutos_df['weight'][frutos_df.group == 'trt2']\n",
        "ctrl = frutos_df['weight'][frutos_df.group == 'ctrl']\n",
        "\n",
        "stat, p = levene(trt1, trt2, ctrl, center = 'mean')\n",
        "\n",
        "print(stat)\n",
        "print(p)"
      ]
    },
    {
      "cell_type": "markdown",
      "metadata": {
        "id": "XD42eqpkeSS9"
      },
      "source": [
        "Pelo valor obtido para $p$ (aproximadamente $0.30$), podemos concluir, no nível de significância de 5% que devemos aceitar a hipótese nula: não há diferença significativa entre as variâncias das três populações.\n",
        "\n",
        "De fato, as variâncias das amostras, apresentadas a seguir, estão na mesma ordem de grandeza."
      ]
    },
    {
      "cell_type": "code",
      "execution_count": null,
      "metadata": {
        "colab": {
          "base_uri": "https://localhost:8080/"
        },
        "id": "MmPLKNjzmcPT",
        "outputId": "c6986014-6ced-43e2-c35b-dae7da1334a1"
      },
      "outputs": [
        {
          "data": {
            "text/plain": [
              "[0.6299211111111114, 0.19587111111111105, 0.3399955555555556]"
            ]
          },
          "execution_count": 6,
          "metadata": {
            "tags": []
          },
          "output_type": "execute_result"
        }
      ],
      "source": [
        "[np.var(x, ddof=1) for x in [trt1, trt2, ctrl]]"
      ]
    },
    {
      "cell_type": "markdown",
      "metadata": {
        "id": "0zHXn1VFfEt2"
      },
      "source": [
        "Outra condição de aplicabilidade a ser verificada diz respeito à **normalidade**. Mais especificamente, devemos verificar se as amostras usadas são provenientes de populações aproximadamente normais. Para isso, aplicamos a função [scipy.stats.normtest](https://docs.scipy.org/doc/scipy/reference/generated/scipy.stats.normaltest.html). Veja a célula de código abaixo."
      ]
    },
    {
      "cell_type": "code",
      "execution_count": null,
      "metadata": {
        "colab": {
          "base_uri": "https://localhost:8080/"
        },
        "id": "PiJ7hfkBjmyy",
        "outputId": "2900cd69-290f-44af-bac3-598b9c332639"
      },
      "outputs": [
        {
          "name": "stdout",
          "output_type": "stream",
          "text": [
            "p = 0.616393\n",
            "A hipótese nula pode NÃO ser rejeitada\n",
            "p = 0.602548\n",
            "A hipótese nula pode NÃO ser rejeitada\n",
            "p = 0.88981\n",
            "A hipótese nula pode NÃO ser rejeitada\n"
          ]
        },
        {
          "name": "stderr",
          "output_type": "stream",
          "text": [
            "/usr/local/lib/python3.6/dist-packages/scipy/stats/stats.py:1535: UserWarning: kurtosistest only valid for n>=20 ... continuing anyway, n=10\n",
            "  \"anyway, n=%i\" % int(n))\n"
          ]
        },
        {
          "data": {
            "text/plain": [
              "[None, None, None]"
            ]
          },
          "execution_count": 7,
          "metadata": {
            "tags": []
          },
          "output_type": "execute_result"
        }
      ],
      "source": [
        "from scipy import stats\n",
        "\n",
        "np.random.seed(28041990)\n",
        "\n",
        "def apply_normaltest(x):\n",
        "  k2, p = stats.normaltest(x)\n",
        "  alpha = .05\n",
        "  print(\"p = {:g}\".format(p))\n",
        "\n",
        "  if p < alpha:  # H_0: x é proveniente de uma distribuição normal\n",
        "    print(\"A hipótese nula pode ser rejeitada\")\n",
        "  else:\n",
        "    print(\"A hipótese nula pode NÃO ser rejeitada\")\n",
        "\n",
        "[apply_normaltest(x) for x in [trt1, trt2, ctrl]]"
      ]
    },
    {
      "cell_type": "markdown",
      "metadata": {
        "id": "_zgefqTnoj4m"
      },
      "source": [
        "Considerando no nível de significância $\\alpha=0.05$, os três valores obtidos para $p$ (todos maiores do que $\\alpha$) nos levam a concluir que a hipótese nula não pode ser rejeitada, i.e., há evidências para concluir que as amostras são provenientes de distribuições aproximadamente normais."
      ]
    },
    {
      "cell_type": "markdown",
      "metadata": {
        "id": "3JfCiEdwfWZk"
      },
      "source": [
        "Após a verificação das condições de aplicabilidade (normalidade das amostras e igualdade da variâncias), podemos finalmente aplicar o ANOVA. Para isso, vamos usar a função [scipy.stats.f_oneway](https://docs.scipy.org/doc/scipy/reference/generated/scipy.stats.f_oneway.html). Essa função encapsula parte do procedimento de aplicação do ANOVA. Para invocar essa função, basta passar cada grupo (amostra) como um array numpy. Essa função retorna o valor da estatística $F$ e o valor de $p$ correspondente."
      ]
    },
    {
      "cell_type": "code",
      "execution_count": null,
      "metadata": {
        "colab": {
          "base_uri": "https://localhost:8080/"
        },
        "id": "P8vGPrp0fSR0",
        "outputId": "4a89030c-8879-4aa7-f6b6-54debcdabae8"
      },
      "outputs": [
        {
          "data": {
            "text/plain": [
              "F_onewayResult(statistic=4.846087862380135, pvalue=0.01590995832562293)"
            ]
          },
          "execution_count": 8,
          "metadata": {
            "tags": []
          },
          "output_type": "execute_result"
        }
      ],
      "source": [
        "from scipy.stats import f_oneway\n",
        "\n",
        "f_oneway(trt1, trt2, ctrl)"
      ]
    },
    {
      "cell_type": "markdown",
      "metadata": {
        "id": "CPgm0bSgnbQR"
      },
      "source": [
        "O valor obtido para $p$ (aprodimadamente $0.016$) nos leva a concluir que devemos, no nível de significância de 5%, podemos rejeitar a hipótese nula (que alega que as médias dos três tratamentos são iguais)."
      ]
    },
    {
      "cell_type": "markdown",
      "metadata": {
        "id": "EsQdD6SJrsX0"
      },
      "source": [
        "## Exemplo 2"
      ]
    },
    {
      "cell_type": "code",
      "execution_count": null,
      "metadata": {
        "colab": {
          "base_uri": "https://localhost:8080/",
          "height": 206
        },
        "id": "P-ycUJMerjH_",
        "outputId": "e19f05fd-e017-4d57-ee99-f7a3d53a04ad"
      },
      "outputs": [
        {
          "data": {
            "text/html": [
              "\n",
              "  <div id=\"df-a7dbf28d-d83a-4b62-96ac-3423aa629293\" class=\"colab-df-container\">\n",
              "    <div>\n",
              "<style scoped>\n",
              "    .dataframe tbody tr th:only-of-type {\n",
              "        vertical-align: middle;\n",
              "    }\n",
              "\n",
              "    .dataframe tbody tr th {\n",
              "        vertical-align: top;\n",
              "    }\n",
              "\n",
              "    .dataframe thead th {\n",
              "        text-align: right;\n",
              "    }\n",
              "</style>\n",
              "<table border=\"1\" class=\"dataframe\">\n",
              "  <thead>\n",
              "    <tr style=\"text-align: right;\">\n",
              "      <th></th>\n",
              "      <th>rownames</th>\n",
              "      <th>Trial</th>\n",
              "      <th>Bread</th>\n",
              "      <th>Filling</th>\n",
              "      <th>Butter</th>\n",
              "      <th>Ants</th>\n",
              "    </tr>\n",
              "  </thead>\n",
              "  <tbody>\n",
              "    <tr>\n",
              "      <th>0</th>\n",
              "      <td>1</td>\n",
              "      <td>1</td>\n",
              "      <td>WholeWheat</td>\n",
              "      <td>HamPickles</td>\n",
              "      <td>no</td>\n",
              "      <td>34</td>\n",
              "    </tr>\n",
              "    <tr>\n",
              "      <th>1</th>\n",
              "      <td>2</td>\n",
              "      <td>2</td>\n",
              "      <td>MultiGrain</td>\n",
              "      <td>PeanutButter</td>\n",
              "      <td>yes</td>\n",
              "      <td>47</td>\n",
              "    </tr>\n",
              "    <tr>\n",
              "      <th>2</th>\n",
              "      <td>3</td>\n",
              "      <td>3</td>\n",
              "      <td>Rye</td>\n",
              "      <td>HamPickles</td>\n",
              "      <td>yes</td>\n",
              "      <td>67</td>\n",
              "    </tr>\n",
              "    <tr>\n",
              "      <th>3</th>\n",
              "      <td>4</td>\n",
              "      <td>4</td>\n",
              "      <td>MultiGrain</td>\n",
              "      <td>HamPickles</td>\n",
              "      <td>yes</td>\n",
              "      <td>63</td>\n",
              "    </tr>\n",
              "    <tr>\n",
              "      <th>4</th>\n",
              "      <td>5</td>\n",
              "      <td>5</td>\n",
              "      <td>WholeWheat</td>\n",
              "      <td>HamPickles</td>\n",
              "      <td>no</td>\n",
              "      <td>65</td>\n",
              "    </tr>\n",
              "  </tbody>\n",
              "</table>\n",
              "</div>\n",
              "    <div class=\"colab-df-buttons\">\n",
              "\n",
              "  <div class=\"colab-df-container\">\n",
              "    <button class=\"colab-df-convert\" onclick=\"convertToInteractive('df-a7dbf28d-d83a-4b62-96ac-3423aa629293')\"\n",
              "            title=\"Convert this dataframe to an interactive table.\"\n",
              "            style=\"display:none;\">\n",
              "\n",
              "  <svg xmlns=\"http://www.w3.org/2000/svg\" height=\"24px\" viewBox=\"0 -960 960 960\">\n",
              "    <path d=\"M120-120v-720h720v720H120Zm60-500h600v-160H180v160Zm220 220h160v-160H400v160Zm0 220h160v-160H400v160ZM180-400h160v-160H180v160Zm440 0h160v-160H620v160ZM180-180h160v-160H180v160Zm440 0h160v-160H620v160Z\"/>\n",
              "  </svg>\n",
              "    </button>\n",
              "\n",
              "  <style>\n",
              "    .colab-df-container {\n",
              "      display:flex;\n",
              "      gap: 12px;\n",
              "    }\n",
              "\n",
              "    .colab-df-convert {\n",
              "      background-color: #E8F0FE;\n",
              "      border: none;\n",
              "      border-radius: 50%;\n",
              "      cursor: pointer;\n",
              "      display: none;\n",
              "      fill: #1967D2;\n",
              "      height: 32px;\n",
              "      padding: 0 0 0 0;\n",
              "      width: 32px;\n",
              "    }\n",
              "\n",
              "    .colab-df-convert:hover {\n",
              "      background-color: #E2EBFA;\n",
              "      box-shadow: 0px 1px 2px rgba(60, 64, 67, 0.3), 0px 1px 3px 1px rgba(60, 64, 67, 0.15);\n",
              "      fill: #174EA6;\n",
              "    }\n",
              "\n",
              "    .colab-df-buttons div {\n",
              "      margin-bottom: 4px;\n",
              "    }\n",
              "\n",
              "    [theme=dark] .colab-df-convert {\n",
              "      background-color: #3B4455;\n",
              "      fill: #D2E3FC;\n",
              "    }\n",
              "\n",
              "    [theme=dark] .colab-df-convert:hover {\n",
              "      background-color: #434B5C;\n",
              "      box-shadow: 0px 1px 3px 1px rgba(0, 0, 0, 0.15);\n",
              "      filter: drop-shadow(0px 1px 2px rgba(0, 0, 0, 0.3));\n",
              "      fill: #FFFFFF;\n",
              "    }\n",
              "  </style>\n",
              "\n",
              "    <script>\n",
              "      const buttonEl =\n",
              "        document.querySelector('#df-a7dbf28d-d83a-4b62-96ac-3423aa629293 button.colab-df-convert');\n",
              "      buttonEl.style.display =\n",
              "        google.colab.kernel.accessAllowed ? 'block' : 'none';\n",
              "\n",
              "      async function convertToInteractive(key) {\n",
              "        const element = document.querySelector('#df-a7dbf28d-d83a-4b62-96ac-3423aa629293');\n",
              "        const dataTable =\n",
              "          await google.colab.kernel.invokeFunction('convertToInteractive',\n",
              "                                                    [key], {});\n",
              "        if (!dataTable) return;\n",
              "\n",
              "        const docLinkHtml = 'Like what you see? Visit the ' +\n",
              "          '<a target=\"_blank\" href=https://colab.research.google.com/notebooks/data_table.ipynb>data table notebook</a>'\n",
              "          + ' to learn more about interactive tables.';\n",
              "        element.innerHTML = '';\n",
              "        dataTable['output_type'] = 'display_data';\n",
              "        await google.colab.output.renderOutput(dataTable, element);\n",
              "        const docLink = document.createElement('div');\n",
              "        docLink.innerHTML = docLinkHtml;\n",
              "        element.appendChild(docLink);\n",
              "      }\n",
              "    </script>\n",
              "  </div>\n",
              "\n",
              "\n",
              "<div id=\"df-a0c02eed-d671-46ab-bff1-569207d486a8\">\n",
              "  <button class=\"colab-df-quickchart\" onclick=\"quickchart('df-a0c02eed-d671-46ab-bff1-569207d486a8')\"\n",
              "            title=\"Suggest charts.\"\n",
              "            style=\"display:none;\">\n",
              "\n",
              "<svg xmlns=\"http://www.w3.org/2000/svg\" height=\"24px\"viewBox=\"0 0 24 24\"\n",
              "     width=\"24px\">\n",
              "    <g>\n",
              "        <path d=\"M19 3H5c-1.1 0-2 .9-2 2v14c0 1.1.9 2 2 2h14c1.1 0 2-.9 2-2V5c0-1.1-.9-2-2-2zM9 17H7v-7h2v7zm4 0h-2V7h2v10zm4 0h-2v-4h2v4z\"/>\n",
              "    </g>\n",
              "</svg>\n",
              "  </button>\n",
              "\n",
              "<style>\n",
              "  .colab-df-quickchart {\n",
              "      --bg-color: #E8F0FE;\n",
              "      --fill-color: #1967D2;\n",
              "      --hover-bg-color: #E2EBFA;\n",
              "      --hover-fill-color: #174EA6;\n",
              "      --disabled-fill-color: #AAA;\n",
              "      --disabled-bg-color: #DDD;\n",
              "  }\n",
              "\n",
              "  [theme=dark] .colab-df-quickchart {\n",
              "      --bg-color: #3B4455;\n",
              "      --fill-color: #D2E3FC;\n",
              "      --hover-bg-color: #434B5C;\n",
              "      --hover-fill-color: #FFFFFF;\n",
              "      --disabled-bg-color: #3B4455;\n",
              "      --disabled-fill-color: #666;\n",
              "  }\n",
              "\n",
              "  .colab-df-quickchart {\n",
              "    background-color: var(--bg-color);\n",
              "    border: none;\n",
              "    border-radius: 50%;\n",
              "    cursor: pointer;\n",
              "    display: none;\n",
              "    fill: var(--fill-color);\n",
              "    height: 32px;\n",
              "    padding: 0;\n",
              "    width: 32px;\n",
              "  }\n",
              "\n",
              "  .colab-df-quickchart:hover {\n",
              "    background-color: var(--hover-bg-color);\n",
              "    box-shadow: 0 1px 2px rgba(60, 64, 67, 0.3), 0 1px 3px 1px rgba(60, 64, 67, 0.15);\n",
              "    fill: var(--button-hover-fill-color);\n",
              "  }\n",
              "\n",
              "  .colab-df-quickchart-complete:disabled,\n",
              "  .colab-df-quickchart-complete:disabled:hover {\n",
              "    background-color: var(--disabled-bg-color);\n",
              "    fill: var(--disabled-fill-color);\n",
              "    box-shadow: none;\n",
              "  }\n",
              "\n",
              "  .colab-df-spinner {\n",
              "    border: 2px solid var(--fill-color);\n",
              "    border-color: transparent;\n",
              "    border-bottom-color: var(--fill-color);\n",
              "    animation:\n",
              "      spin 1s steps(1) infinite;\n",
              "  }\n",
              "\n",
              "  @keyframes spin {\n",
              "    0% {\n",
              "      border-color: transparent;\n",
              "      border-bottom-color: var(--fill-color);\n",
              "      border-left-color: var(--fill-color);\n",
              "    }\n",
              "    20% {\n",
              "      border-color: transparent;\n",
              "      border-left-color: var(--fill-color);\n",
              "      border-top-color: var(--fill-color);\n",
              "    }\n",
              "    30% {\n",
              "      border-color: transparent;\n",
              "      border-left-color: var(--fill-color);\n",
              "      border-top-color: var(--fill-color);\n",
              "      border-right-color: var(--fill-color);\n",
              "    }\n",
              "    40% {\n",
              "      border-color: transparent;\n",
              "      border-right-color: var(--fill-color);\n",
              "      border-top-color: var(--fill-color);\n",
              "    }\n",
              "    60% {\n",
              "      border-color: transparent;\n",
              "      border-right-color: var(--fill-color);\n",
              "    }\n",
              "    80% {\n",
              "      border-color: transparent;\n",
              "      border-right-color: var(--fill-color);\n",
              "      border-bottom-color: var(--fill-color);\n",
              "    }\n",
              "    90% {\n",
              "      border-color: transparent;\n",
              "      border-bottom-color: var(--fill-color);\n",
              "    }\n",
              "  }\n",
              "</style>\n",
              "\n",
              "  <script>\n",
              "    async function quickchart(key) {\n",
              "      const quickchartButtonEl =\n",
              "        document.querySelector('#' + key + ' button');\n",
              "      quickchartButtonEl.disabled = true;  // To prevent multiple clicks.\n",
              "      quickchartButtonEl.classList.add('colab-df-spinner');\n",
              "      try {\n",
              "        const charts = await google.colab.kernel.invokeFunction(\n",
              "            'suggestCharts', [key], {});\n",
              "      } catch (error) {\n",
              "        console.error('Error during call to suggestCharts:', error);\n",
              "      }\n",
              "      quickchartButtonEl.classList.remove('colab-df-spinner');\n",
              "      quickchartButtonEl.classList.add('colab-df-quickchart-complete');\n",
              "    }\n",
              "    (() => {\n",
              "      let quickchartButtonEl =\n",
              "        document.querySelector('#df-a0c02eed-d671-46ab-bff1-569207d486a8 button');\n",
              "      quickchartButtonEl.style.display =\n",
              "        google.colab.kernel.accessAllowed ? 'block' : 'none';\n",
              "    })();\n",
              "  </script>\n",
              "</div>\n",
              "    </div>\n",
              "  </div>\n"
            ],
            "text/plain": [
              "   rownames  Trial       Bread       Filling Butter  Ants\n",
              "0         1      1  WholeWheat    HamPickles     no    34\n",
              "1         2      2  MultiGrain  PeanutButter    yes    47\n",
              "2         3      3         Rye    HamPickles    yes    67\n",
              "3         4      4  MultiGrain    HamPickles    yes    63\n",
              "4         5      5  WholeWheat    HamPickles     no    65"
            ]
          },
          "execution_count": 10,
          "metadata": {},
          "output_type": "execute_result"
        }
      ],
      "source": [
        "import pandas as pd\n",
        "import numpy as np\n",
        "\n",
        "# Read data source\n",
        "df_sandwichAnts = pd.read_csv('SandwichAnts.csv')\n",
        "df_sandwichAnts.head()"
      ]
    },
    {
      "cell_type": "code",
      "execution_count": null,
      "metadata": {
        "colab": {
          "base_uri": "https://localhost:8080/"
        },
        "id": "sOS8MNoIuCuk",
        "outputId": "02bdb824-6aa2-4259-d315-122c5c733404"
      },
      "outputs": [
        {
          "name": "stdout",
          "output_type": "stream",
          "text": [
            "Mean number of ants for each sandwich filling:\n",
            "Filling\n",
            "HamPickles      55.500\n",
            "PeanutButter    40.375\n",
            "Vegemite        34.625\n",
            "Name: Ants, dtype: float64\n",
            "\n",
            "Standard deviation of ants for each sandwich filling:\n",
            "Filling\n",
            "HamPickles      12.055428\n",
            "PeanutButter    14.183911\n",
            "Vegemite        11.158704\n",
            "Name: Ants, dtype: float64\n"
          ]
        }
      ],
      "source": [
        "# Calculate mean and standard deviation for each sandwich filling\n",
        "means = df_sandwichAnts.groupby('Filling')['Ants'].mean()\n",
        "std_devs = df_sandwichAnts.groupby('Filling')['Ants'].std()\n",
        "\n",
        "print(\"Mean number of ants for each sandwich filling:\")\n",
        "print(means)\n",
        "\n",
        "print(\"\\nStandard deviation of ants for each sandwich filling:\")\n",
        "print(std_devs)"
      ]
    },
    {
      "cell_type": "code",
      "execution_count": null,
      "metadata": {
        "id": "Ij9CqOn9tm9S"
      },
      "outputs": [],
      "source": [
        "df_HamPickles = df_sandwichAnts['Ants'][df_sandwichAnts.Filling == 'HamPickles']\n",
        "df_PeanutButter = df_sandwichAnts['Ants'][df_sandwichAnts.Filling == 'PeanutButter']\n",
        "df_Vegemite = df_sandwichAnts['Ants'][df_sandwichAnts.Filling == 'Vegemite']"
      ]
    },
    {
      "cell_type": "code",
      "execution_count": null,
      "metadata": {
        "colab": {
          "base_uri": "https://localhost:8080/"
        },
        "id": "Vd2p1o6Qw6y9",
        "outputId": "de58a024-54d3-42d1-9cfb-d1ecd12fa1a6"
      },
      "outputs": [
        {
          "name": "stdout",
          "output_type": "stream",
          "text": [
            "Sample sizes (HamPickles/PeanutButter/Vegemite): 16, 16, 16\n"
          ]
        }
      ],
      "source": [
        "print(f'Sample sizes (HamPickles/PeanutButter/Vegemite): {df_HamPickles.shape[0]}, {df_PeanutButter.shape[0]}, {df_Vegemite.shape[0]}')"
      ]
    },
    {
      "cell_type": "code",
      "execution_count": null,
      "metadata": {
        "colab": {
          "base_uri": "https://localhost:8080/"
        },
        "id": "lELde2UouSoM",
        "outputId": "b80358e7-9f8d-4314-ed82-e4f895fde19e"
      },
      "outputs": [
        {
          "data": {
            "text/plain": [
              "F_onewayResult(statistic=11.84788762295662, pvalue=7.351160543218634e-05)"
            ]
          },
          "execution_count": 16,
          "metadata": {},
          "output_type": "execute_result"
        }
      ],
      "source": [
        "from scipy.stats import f_oneway\n",
        "f_oneway(df_HamPickles, df_PeanutButter, df_Vegemite)"
      ]
    }
  ],
  "metadata": {
    "colab": {
      "provenance": []
    },
    "kernelspec": {
      "display_name": "gcc1625",
      "language": "python",
      "name": "python3"
    },
    "language_info": {
      "name": "python",
      "version": "3.12.7"
    }
  },
  "nbformat": 4,
  "nbformat_minor": 0
}
