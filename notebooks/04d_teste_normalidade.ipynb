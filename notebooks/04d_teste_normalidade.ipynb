{
  "nbformat": 4,
  "nbformat_minor": 0,
  "metadata": {
    "colab": {
      "provenance": [],
      "toc_visible": true
    },
    "kernelspec": {
      "name": "python3",
      "display_name": "Python 3"
    }
  },
  "cells": [
    {
      "cell_type": "markdown",
      "metadata": {
        "id": "4BXI98oC90HG"
      },
      "source": [
        "# Testes de normalidade\n",
        "\n",
        "Quando estudamos os procedimentos para realização de testes de hipóteses conhecidos como teste t e teste z, vimos que sua aplicabilidade é dependente de algumas condições. Em particular, dentre outras presuposições, esses testes requerem que ao menos uma das condições a seguir seja verdadeira:\n",
        "\n",
        "1. as amostras devem ser normalmente distribuídas\n",
        "\n",
        "2. as amostras devem ser grandes ($n>30$)\n",
        "\n",
        "Os chamados *testes de normalidade* são utilizados para verificar se a distribuição de probabilidade associada a um conjunto de dados pode ser aproximada pela distribuição normal.\n",
        "\n",
        "Existem diferentes abordagens, de uso não exlucisvo entre si, para realizar o teste de normalidade. Essas abordagens podem ser divididas em duas famílias, os *testes visuais* e os *testes estatísticos*. Nesse notebook, vamos estudar as seguintes abordagens para cada uma dessas famílias:\n",
        "\n",
        "- Testes visuais\n",
        " - Q-Q plot (quantile-quantile plot)\n",
        " - Histograma\n",
        " - Box Plot\n",
        "\n",
        "- Testes estatísticos\n",
        " - Teste de D'Agostino\n",
        " - Teste de Shapiro-Wilk"
      ]
    },
    {
      "cell_type": "markdown",
      "metadata": {
        "id": "UAd7HyLdA4El"
      },
      "source": [
        "## QQ-plot\n",
        "\n",
        "Considere uma variável aleatória $X\\sim N(\\mu_X,\\sigma^2_X)$. Sabemos que a variável$Z$ resultante da padronização a seguir também segue uma distribuição normal, desta vez com média $\\mu_Z=0$ e variância $\\sigma_Z^2=1$:\n",
        "\n",
        "$$\n",
        "Z=\\frac{X-\\mu_X}{\\sigma_X}\n",
        "$$\n",
        "\n",
        "Considere que $F(\\cdot)$ e $\\Phi(\\cdot)$ são as funções de distribuição acumuladas de $X$ e de $Z$, respectivamente. Sendo assim,\n",
        "\n",
        "$$\n",
        "F(x)=\\Pr[X \\leq x ]=\\Pr\\left[Z\\leq \\frac{x-\\mu_X}{\\sigma_X}\\right]=\\Phi\\left(\\frac{x-\\mu_X}{\\sigma_X}\\right).\n",
        "$$\n",
        "\n",
        "Ao aplicarmos a função inversa $\\Phi^{-1}$ a ambos os lados da equação acima, obtemos:\n",
        "\n",
        "$$\n",
        "\\Phi^{-1}(F(x))=\\frac{x-\\mu_X}{\\sigma_X}\n",
        "$$\n",
        "\n",
        "Por meio de uma manipulação algébrica simples na expressão acima, obtemos:\n",
        "\n",
        "$$\n",
        "x=\\sigma_X\\Phi^{-1}(F(x))+\\mu_X\n",
        "$$\n",
        "\n",
        "Repare que a expressão acima estabelece uma relação linear entre $x$ e $\\Phi^{-1}(F(x))$.\n",
        "\n",
        "Agora, considere uma amostra $x_1, x_2, \\ldots, x_n$ para a qual desejamos verificar se é proveniente de uma distribuição normal. Se isso for verdade, devemos esperar uma tendência aproximadamente linear quando produzirmos um gráfico dos pontos a seguir:\n",
        "\n",
        "$\\Phi^{-1}(F(x))$ | $x$\n",
        "--- | ---\n",
        "$\\Phi^{-1}(F(x_1))$ | $x_1$\n",
        "$\\Phi^{-1}(F(x_2))$ | $x_2$\n",
        "$\\Phi^{-1}(F(x_3))$ | $x_3$\n",
        "$\\cdots$   | $\\cdots$\n",
        "$\\Phi^{-1}(F(x_n))$ | $x_n$\n",
        "\n",
        "Podemos agora descreve uma sequência de passos para gerar um gráfico a ser usado no teste de normalidade. Esses passos são apresentados a seguir.\n",
        "\n",
        "1. Considere uma amostra $x_1,\\ldots,x_n$;\n",
        "\n",
        "2. Ordene os elementos da amostra, ou seja, $x(1) \\leq x(2) \\leq \\ldots \\leq x(n)$;\n",
        "\n",
        "3. Calcule $n$ valores $d_i=\\frac{i−a}{n+1−2⋅a}$, com $i=1,2,\\ldots,n$.\n",
        "\n",
        "4. Calcule os quantis da distribuição Normal padrão para cada um dos valores $d_i$ ($i=1,\\ldots,n$):\n",
        "$$  \n",
        "\\Phi^{−1}(d_i)\n",
        "$$\n",
        "\n",
        "5. Desenhe o gráfico\n",
        " - 5.1 (Caso Papel de Probabilidade) Faça um gráfico com os pontos (x(i),Φ−1(di)), $i=1,\\ldots,n$; ou\n",
        "    \n",
        " - 5.2. (Caso QQ-plot) Faça um gráfico com os pontos (Φ−1(di),x(i)), i=1,…,n; e\n",
        "\n",
        "No passo 3 do procedimento acima, $a=3/8$, se $n \\leq 10$, e $a=1/2$ em caso contrário. A correção é necessária para que não tenhamos $d_i=1$, pois neste caso, teríamos que $\\Phi^{−1}(1)=\\infty$. Estas constantes não são padrão, dependendo do autor (ou software de estatísticas) elas podem mudar.\n",
        "\n",
        "Após a construção do gráfico, a normalidade dos dados é verificada visualmente. Quanto \"mais linear\" for o gráfico, mais próxima da distribuição normal é a amostra.\n"
      ]
    },
    {
      "cell_type": "markdown",
      "metadata": {
        "id": "zWgYRBZOnrp2"
      },
      "source": [
        "A célula de código a seguir ilustra de que forma o procedimento descrito acima pode ser implementado. Considere que queiramos verificar se a amostra abaixo é proveniente de uma distribuição normal:\n",
        "\n",
        "``\n",
        "484.11, 459.49, 471.38, 512.01, 494.48, 528.63, 493.64,\n",
        "485.03, 473.88, 501.59, 502.85, 538.08, 465.68, 495.03,\n",
        "475.32, 529.41, 518.13, 464.32, 449.08, 489.27\n",
        "``\n",
        "\n",
        "Para isso, incialmente implementamos a função `phi_inversa`, que corresponde à aplicação da função $\\Phi^{-1}$ aos valores $d_i$ computados a partir da amostra (previamente ordenada)."
      ]
    },
    {
      "cell_type": "code",
      "metadata": {
        "id": "alc0zrQE6jIF"
      },
      "source": [
        "import numpy as np\n",
        "from scipy.stats import norm\n",
        "\n",
        "def phi_inversa(amostra, a):\n",
        "  n = amostra.shape[0]\n",
        "  i = np.arange(start=1, stop=n+1)\n",
        "  d_i = (i-a)/(n+1-2*a)\n",
        "  return norm.ppf(d_i)"
      ],
      "execution_count": null,
      "outputs": []
    },
    {
      "cell_type": "markdown",
      "metadata": {
        "id": "79mcvW-gphSn"
      },
      "source": [
        "A célula a seguir usa a função phi_inversa para produzir os pontos a serem exibidos no gráfico de probabilidades. Note que samos $a=0.5$ posto que a amostra possui mais do que 10 elementos."
      ]
    },
    {
      "cell_type": "code",
      "metadata": {
        "colab": {
          "base_uri": "https://localhost:8080/",
          "height": 327
        },
        "id": "y-ZQMvLhVC5Q",
        "outputId": "2790b361-014a-4c76-ff5b-93db7f57295d"
      },
      "source": [
        "%matplotlib inline\n",
        "import matplotlib.pyplot as plt\n",
        "from scipy import stats\n",
        "import numpy as np\n",
        "\n",
        "plt.style.use('seaborn-whitegrid')\n",
        "\n",
        "amostra = np.array([484.11, 459.49, 471.38, 512.01, 494.48, 528.63, 493.64,\n",
        "                    485.03, 473.88, 501.59, 502.85, 538.08, 465.68, 495.03,\n",
        "                    475.32, 529.41, 518.13, 464.32, 449.08, 489.27])\n",
        "\n",
        "amostra = np.sort(amostra)\n",
        "print(amostra)\n",
        "\n",
        "a = 0.5\n",
        "x = phi_inversa(amostra, a)\n",
        "y = amostra\n",
        "\n",
        "plt.xlabel('x', color='#1C2833')\n",
        "plt.ylabel('y', color='#1C2833')\n",
        "plt.plot(x, y, 'o', color='blue')\n",
        "\n",
        "# ajusta uma reta sobre os pontos da amostra para facilitar a inspeção visual.\n",
        "slope, intercept, r_value, p_value, std_err = stats.linregress(x,y)\n",
        "y = slope * x + intercept\n",
        "plt.plot(x, y, '-r', label='y=2x+1')"
      ],
      "execution_count": null,
      "outputs": [
        {
          "output_type": "stream",
          "text": [
            "[449.08 459.49 464.32 465.68 471.38 473.88 475.32 484.11 485.03 489.27\n",
            " 493.64 494.48 495.03 501.59 502.85 512.01 518.13 528.63 529.41 538.08]\n"
          ],
          "name": "stdout"
        },
        {
          "output_type": "execute_result",
          "data": {
            "text/plain": [
              "[<matplotlib.lines.Line2D at 0x7f40b9744da0>]"
            ]
          },
          "metadata": {
            "tags": []
          },
          "execution_count": 27
        },
        {
          "output_type": "display_data",
          "data": {
            "image/png": "[encoded data removed]",
            "text/plain": [
              "<Figure size 432x288 with 1 Axes>"
            ]
          },
          "metadata": {
            "tags": []
          }
        }
      ]
    },
    {
      "cell_type": "markdown",
      "metadata": {
        "id": "xfxzUAKbmadr"
      },
      "source": [
        "O código acima apresenta a implementação do gráfico de probabilidades. Entretanto, em situações práticas, você pode usar a função ``scipy.stats.statsprob``, conforme exemplo na célula de código a seguir."
      ]
    },
    {
      "cell_type": "code",
      "metadata": {
        "colab": {
          "base_uri": "https://localhost:8080/",
          "height": 427
        },
        "id": "jNFpk-Z6V2U-",
        "outputId": "58dffce2-51d2-484c-db49-6469e774703b"
      },
      "source": [
        "import scipy\n",
        "import matplotlib\n",
        "scipy.stats.probplot(amostra, dist=\"norm\", plot=matplotlib.pyplot)"
      ],
      "execution_count": null,
      "outputs": [
        {
          "output_type": "execute_result",
          "data": {
            "text/plain": [
              "((array([-1.8241636 , -1.38768012, -1.11829229, -0.91222575, -0.73908135,\n",
              "         -0.5857176 , -0.44506467, -0.31273668, -0.18568928, -0.06158146,\n",
              "          0.06158146,  0.18568928,  0.31273668,  0.44506467,  0.5857176 ,\n",
              "          0.73908135,  0.91222575,  1.11829229,  1.38768012,  1.8241636 ]),\n",
              "  array([449.08, 459.49, 464.32, 465.68, 471.38, 473.88, 475.32, 484.11,\n",
              "         485.03, 489.27, 493.64, 494.48, 495.03, 501.59, 502.85, 512.01,\n",
              "         518.13, 528.63, 529.41, 538.08])),\n",
              " (25.893592178083388, 491.5704999999999, 0.9913153109759704))"
            ]
          },
          "metadata": {
            "tags": []
          },
          "execution_count": 25
        },
        {
          "output_type": "display_data",
          "data": {
            "image/png": "[encoded data removed]",
            "text/plain": [
              "<Figure size 432x288 with 1 Axes>"
            ]
          },
          "metadata": {
            "tags": []
          }
        }
      ]
    },
    {
      "cell_type": "markdown",
      "metadata": {
        "id": "ZFEt9Pk6r6JJ"
      },
      "source": []
    },
    {
      "cell_type": "code",
      "metadata": {
        "colab": {
          "base_uri": "https://localhost:8080/",
          "height": 282
        },
        "id": "etWBxzf3UvbC",
        "outputId": "a16dad20-42da-490f-f7ae-d4483accdcd2"
      },
      "source": [
        "from scipy.stats import expon\n",
        "import numpy as np\n",
        "import matplotlib.pyplot as plt\n",
        "fig, ax = plt.subplots(1, 1)\n",
        "\n",
        "x = np.linspace(expon.ppf(0.01),\n",
        "                expon.ppf(0.99), 100)\n",
        "ax.plot(x, expon.pdf(x),\n",
        "       'r-', lw=5, alpha=0.6, label='expon pdf')"
      ],
      "execution_count": null,
      "outputs": [
        {
          "output_type": "execute_result",
          "data": {
            "text/plain": [
              "[<matplotlib.lines.Line2D at 0x7fd3093ff748>]"
            ]
          },
          "metadata": {
            "tags": []
          },
          "execution_count": 4
        },
        {
          "output_type": "display_data",
          "data": {
            "image/png": "[encoded data removed]",
            "text/plain": [
              "<Figure size 432x288 with 1 Axes>"
            ]
          },
          "metadata": {
            "tags": [],
            "needs_background": "light"
          }
        }
      ]
    },
    {
      "cell_type": "code",
      "metadata": {
        "colab": {
          "base_uri": "https://localhost:8080/",
          "height": 448
        },
        "id": "LFVqiSfqVS75",
        "outputId": "2883be22-9d58-4116-83db-9a8aacb1df9f"
      },
      "source": [
        "import scipy\n",
        "import matplotlib\n",
        "\n",
        "r = expon.rvs(size=20)\n",
        "scipy.stats.probplot(r, dist=\"norm\", plot=matplotlib.pyplot)"
      ],
      "execution_count": null,
      "outputs": [
        {
          "output_type": "execute_result",
          "data": {
            "text/plain": [
              "((array([-1.8241636 , -1.38768012, -1.11829229, -0.91222575, -0.73908135,\n",
              "         -0.5857176 , -0.44506467, -0.31273668, -0.18568928, -0.06158146,\n",
              "          0.06158146,  0.18568928,  0.31273668,  0.44506467,  0.5857176 ,\n",
              "          0.73908135,  0.91222575,  1.11829229,  1.38768012,  1.8241636 ]),\n",
              "  array([0.04263723, 0.20425082, 0.24788955, 0.42999153, 0.47901979,\n",
              "         0.53027765, 0.55962413, 0.61418307, 0.62721525, 0.81618066,\n",
              "         0.9574141 , 0.97934285, 0.99972836, 1.2094084 , 1.30725788,\n",
              "         1.35068991, 1.49753838, 1.5772179 , 2.82960418, 4.61911815])),\n",
              " (0.9366864970311555, 1.0939294895025653, 0.8546883657374608))"
            ]
          },
          "metadata": {
            "tags": []
          },
          "execution_count": 8
        },
        {
          "output_type": "display_data",
          "data": {
            "image/png": "[encoded data removed]",
            "text/plain": [
              "<Figure size 432x288 with 1 Axes>"
            ]
          },
          "metadata": {
            "tags": [],
            "needs_background": "light"
          }
        }
      ]
    },
    {
      "cell_type": "code",
      "metadata": {
        "colab": {
          "base_uri": "https://localhost:8080/",
          "height": 280
        },
        "id": "G5gVU92gbm20",
        "outputId": "35530f0f-916d-4add-c42b-6afa8b1297fd"
      },
      "source": [
        "import statsmodels.api as sm\n",
        "import pylab\n",
        "\n",
        "#test = np.random.normal(0,1, 200)\n",
        "test = expon.rvs(size=1000)\n",
        "\n",
        "sm.qqplot(test, line='45')\n",
        "pylab.show()"
      ],
      "execution_count": null,
      "outputs": [
        {
          "output_type": "display_data",
          "data": {
            "image/png": "[encoded data removed]",
            "text/plain": [
              "<Figure size 432x288 with 1 Axes>"
            ]
          },
          "metadata": {
            "tags": [],
            "needs_background": "light"
          }
        }
      ]
    },
    {
      "cell_type": "code",
      "metadata": {
        "colab": {
          "base_uri": "https://localhost:8080/",
          "height": 279
        },
        "id": "mDWpcRCob4yB",
        "outputId": "b7a05348-c320-4708-eab2-76875eb1978d"
      },
      "source": [
        "import statsmodels.api as sm\n",
        "import pylab\n",
        "\n",
        "test = np.random.normal(0,1, 1000)\n",
        "\n",
        "sm.qqplot(test, line='45')\n",
        "pylab.show()"
      ],
      "execution_count": null,
      "outputs": [
        {
          "output_type": "display_data",
          "data": {
            "image/png": "[encoded data removed]",
            "text/plain": [
              "<Figure size 432x288 with 1 Axes>"
            ]
          },
          "metadata": {
            "tags": [],
            "needs_background": "light"
          }
        }
      ]
    },
    {
      "cell_type": "markdown",
      "metadata": {
        "id": "TeceupZaXkEn"
      },
      "source": [
        "## Histograma\n",
        "\n",
        "Outra abordagem visual para testar a normalidade de uma amostra é gerar seu histograma e investigar se o gráfico de densidade correspondente se aproxima de uma curva normal.\n",
        "\n",
        "A biblioteca [Seaborn](https://seaborn.pydata.org) fornece a função [displot](https://seaborn.pydata.org/generated/seaborn.displot.html#seaborn.displot) que dá suporte ao uso dessa abordagem de inspeção visual, conforme o exemplo abaixo."
      ]
    },
    {
      "cell_type": "code",
      "metadata": {
        "colab": {
          "base_uri": "https://localhost:8080/",
          "height": 369
        },
        "id": "fczr4fCMkrKU",
        "outputId": "4902c8cc-1c2b-4785-a5fa-d88ebed2352c"
      },
      "source": [
        "import seaborn as sns\n",
        "from numpy.random import randn\n",
        "\n",
        "# gera uma amostra de tamanho 100 que segue a distribuição normal\n",
        "amostra_sintetica = 5 * randn(100) + 50\n",
        "\n",
        "ax = sns.displot(amostra_sintetica, kde=True)"
      ],
      "execution_count": null,
      "outputs": [
        {
          "output_type": "display_data",
          "data": {
            "image/png": "[encoded data removed]",
            "text/plain": [
              "<Figure size 360x360 with 1 Axes>"
            ]
          },
          "metadata": {
            "tags": [],
            "needs_background": "light"
          }
        }
      ]
    },
    {
      "cell_type": "code",
      "metadata": {
        "colab": {
          "base_uri": "https://localhost:8080/",
          "height": 369
        },
        "id": "2Zi6d-L3qzLO",
        "outputId": "b5af10f6-1b3c-45cc-b5f0-cd9c31d66f2e"
      },
      "source": [
        "import seaborn as sns\n",
        "from numpy.random import exponential\n",
        "\n",
        "# gera uma amostra de tamanho 100 que segue a distribuição exponencial\n",
        "amostra_sintetica = exponential(size=100)\n",
        "\n",
        "ax = sns.displot(amostra_sintetica, kde=True)"
      ],
      "execution_count": null,
      "outputs": [
        {
          "output_type": "display_data",
          "data": {
            "image/png": "[encoded data removed]",
            "text/plain": [
              "<Figure size 360x360 with 1 Axes>"
            ]
          },
          "metadata": {
            "tags": [],
            "needs_background": "light"
          }
        }
      ]
    },
    {
      "cell_type": "code",
      "metadata": {
        "colab": {
          "base_uri": "https://localhost:8080/",
          "height": 369
        },
        "id": "F_rwM7uBXuho",
        "outputId": "08398411-99f9-42d5-84d4-94b70576aff6"
      },
      "source": [
        "import numpy as np\n",
        "amostra   = np.array([18,19,22,22,19,16,21,21,21,20,17,18,18,17,19,19,18,21,23,19,22,20])\n",
        "ax = sns.displot(amostra, kde=True)"
      ],
      "execution_count": null,
      "outputs": [
        {
          "output_type": "display_data",
          "data": {
            "image/png": "[encoded data removed]",
            "text/plain": [
              "<Figure size 360x360 with 1 Axes>"
            ]
          },
          "metadata": {
            "tags": [],
            "needs_background": "light"
          }
        }
      ]
    },
    {
      "cell_type": "markdown",
      "metadata": {
        "id": "yiFbtqD3zDnR"
      },
      "source": [
        "## Box Plot\n",
        "\n",
        "Outra abordagem visual para verificar a normalidade de uma amostra é contruir um *box plot*. Se a amostra for proveniente de uma distribuição normal, não devemos esperar encontrar uma quantidade grande de valores extremos quanto visualizarmos o *box plot* dessa amostra. Além disso, a média e a mediana devem estar localizadas na parte central do gráfico se a amostra for realmente proveniente de uma distribuição normal.\n",
        "\n",
        "Veja os dois exemplos a seguir, mais uma vez usando amostras sintéticas que seguem a distribuição normal e exponencial, respectivamente."
      ]
    },
    {
      "cell_type": "code",
      "metadata": {
        "colab": {
          "base_uri": "https://localhost:8080/",
          "height": 265
        },
        "id": "f6dKHrQSzM9V",
        "outputId": "5fe9eafb-a071-4242-b6e3-1a529130aedd"
      },
      "source": [
        "import seaborn as sns\n",
        "import numpy as np\n",
        "\n",
        "# gera uma amostra de tamanho 100 que segue a distribuição normal\n",
        "amostra_sintetica = 5 * np.random.randn(100) + 50\n",
        "\n",
        "ax = sns.boxplot(x=amostra_sintetica)"
      ],
      "execution_count": null,
      "outputs": [
        {
          "output_type": "display_data",
          "data": {
            "image/png": "[encoded data removed]",
            "text/plain": [
              "<Figure size 432x288 with 1 Axes>"
            ]
          },
          "metadata": {
            "tags": [],
            "needs_background": "light"
          }
        }
      ]
    },
    {
      "cell_type": "code",
      "metadata": {
        "colab": {
          "base_uri": "https://localhost:8080/",
          "height": 265
        },
        "id": "sOx3j7EIzECe",
        "outputId": "b283ac6c-a267-4661-f651-f383884cee27"
      },
      "source": [
        "import seaborn as sns\n",
        "import numpy as np\n",
        "\n",
        "# gera uma amostra de tamanho 100 que segue a distribuição exponencial\n",
        "amostra_sintetica = np.random.exponential(size=100)\n",
        "\n",
        "ax = sns.boxplot(x=amostra_sintetica)"
      ],
      "execution_count": null,
      "outputs": [
        {
          "output_type": "display_data",
          "data": {
            "image/png": "[encoded data removed]",
            "text/plain": [
              "<Figure size 432x288 with 1 Axes>"
            ]
          },
          "metadata": {
            "tags": [],
            "needs_background": "light"
          }
        }
      ]
    },
    {
      "cell_type": "markdown",
      "metadata": {
        "id": "t68twi6mreCk"
      },
      "source": [
        "# Testes Estatísticos\n",
        "\n",
        "Os testes estatísticos para normalidade descritos aqui presumem como hipótese nula que a amostra é proveniente de uma distribuição normal. Sendo assim, para verificar a normalidade de uma amostra usando esses testes, devemos comparar o valor de $p$ com o nível de significância (normalmente o valor $\\alpha=0.05$ é utilizado). Se o valor de $p$ for menor do que $\\alpha$, então há evidência suficiente para rejeitar a hipótese nula e declarar que a amostra não é proveniente de uma distribuição normal."
      ]
    },
    {
      "cell_type": "markdown",
      "metadata": {
        "id": "I3k19z5a0EGn"
      },
      "source": [
        "## Teste  de D’Agostino\n",
        "\n",
        "O teste de D’Agostino combina dois sumários estatísticos (que são computados a partir dos dados da amostra) para determinar se a distribuição correspondente se afasta da distribuição normal. Esses sumários são os seguintes:\n",
        "\n",
        "- assimetria (*skew*) é uma medida da intensidade pela qual uma distribuição é \"empurrada\" para a esquerda ou direita.\n",
        "\n",
        "- curtose (*kurtosis*) é uma medida do quanto da distribuição está na(s) cauda(s).\n",
        "\n",
        "No scipy, a função [normaltest](https://docs.scipy.org/doc/scipy/reference/generated/scipy.stats.normaltest.html) implementa o teste de D’Agostino. Dada uma amostra $x$, a função normaltest retorna um par de valores numéricos. O primeiro é o valor da estatística de teste usada. O segundo é o valor $p$ associado. Dada a hipótese nula de que $x$ veio de uma distribuição normal, o valor $p$ representa a probabilidade de que um valor da estatística tão grande ou maior seja produzido por obra do acaso. Se $p$ for muito pequeno, significa que é improvável que os dados sejam originários de uma distribuição normal.\n",
        "\n",
        "O exemplo a seguir ilustra o uso dessa função."
      ]
    },
    {
      "cell_type": "code",
      "metadata": {
        "colab": {
          "base_uri": "https://localhost:8080/"
        },
        "id": "U6g5wpkr0GyK",
        "outputId": "45913266-e974-4ddd-d9da-3e40290a57b2"
      },
      "source": [
        "import numpy as np\n",
        "from scipy.stats import normaltest\n",
        "\n",
        "def apply_normaltest(x):\n",
        "  k2, p = normaltest(x)\n",
        "  alpha = .05\n",
        "  print(\"p = {:g}\".format(p))\n",
        "\n",
        "  if p < alpha:  # H_0: x é proveniente de uma distribuição normal\n",
        "    print(\"A hipótese nula pode ser rejeitada\")\n",
        "  else:\n",
        "    print(\"A hipótese nula pode NÃO ser rejeitada\")\n",
        "\n",
        "amostra   = np.array([18,19,22,22,19,16,21,21,21,20,17,18,18,17,19,19,18,21,23,19,22,20])\n",
        "\n",
        "apply_normaltest(amostra)"
      ],
      "execution_count": null,
      "outputs": [
        {
          "output_type": "stream",
          "text": [
            "p = 0.577089\n",
            "A hipótese nula pode NÃO ser rejeitada\n"
          ],
          "name": "stdout"
        }
      ]
    },
    {
      "cell_type": "markdown",
      "metadata": {
        "id": "ykpNI2PTV950"
      },
      "source": [
        "Repare que, ao invocarmos a função `apply_normatest` sobre uma amostra que sabemos não ser proveniente de uma distribuição normal, o valor $p$ produzido é pequeno, conforme esperado. Veja o exemplo a seguir."
      ]
    },
    {
      "cell_type": "code",
      "metadata": {
        "colab": {
          "base_uri": "https://localhost:8080/"
        },
        "id": "g9hIhwVpWTTY",
        "outputId": "c2f8891f-2725-4b53-9c29-a37936216184"
      },
      "source": [
        "# gerar uma amostra de tamamnho 100 que segue a distribuição uniforme\n",
        "amostra = stats.uniform.rvs(size = 100)\n",
        "apply_normaltest(amostra)"
      ],
      "execution_count": null,
      "outputs": [
        {
          "output_type": "stream",
          "text": [
            "p = 2.15485e-05\n",
            "A hipótese nula pode ser rejeitada\n"
          ],
          "name": "stdout"
        }
      ]
    },
    {
      "cell_type": "markdown",
      "metadata": {
        "id": "xF5x-Hpsates"
      },
      "source": [
        "## Teste de Shapiro-Wilk\n",
        "\n",
        "Outro teste estatístico de normalidade é o denominado *teste de [Shapiro-Wilk](https://en.wikipedia.org/wiki/Shapiro–Wilk_test)*. O scipy também fornece uma implementação desse teste."
      ]
    },
    {
      "cell_type": "code",
      "metadata": {
        "colab": {
          "base_uri": "https://localhost:8080/"
        },
        "id": "JA2Rsj2BbCMm",
        "outputId": "1ef6bf53-a685-495f-99d9-69c5a0dad280"
      },
      "source": [
        "import numpy as np\n",
        "from scipy.stats import shapiro\n",
        "\n",
        "def apply_normaltest(x):\n",
        "  k2, p = stats.shapiro(x)\n",
        "  alpha = .05\n",
        "  print(\"p = {:g}\".format(p))\n",
        "\n",
        "  if p < alpha:  # H_0: x é proveniente de uma distribuição normal\n",
        "    print(\"A hipótese nula pode ser rejeitada\")\n",
        "  else:\n",
        "    print(\"A hipótese nula pode NÃO ser rejeitada\")\n",
        "\n",
        "amostra   = np.array([18,19,22,22,19,16,21,21,21,20,17,18,18,17,19,19,18,21])\n",
        "\n",
        "apply_normaltest(amostra)"
      ],
      "execution_count": null,
      "outputs": [
        {
          "output_type": "stream",
          "text": [
            "p = 0.267871\n",
            "A hipótese nula pode NÃO ser rejeitada\n"
          ],
          "name": "stdout"
        }
      ]
    },
    {
      "cell_type": "markdown",
      "metadata": {
        "id": "Y2-Nxp5NsIX_"
      },
      "source": [
        "Da saída do exemplo acima, o valor de $p \\approx 0.2679$ é maior do que o nível de significância $\\alpha=0.05$. Isso implica em concluirmos que amostra é proveniente de uma distribuição populacional que não é significativamente diferente da distribuição normal. Em outras palavras, poderíamos presumir a normalidade da amostra neste caso."
      ]
    },
    {
      "cell_type": "markdown",
      "metadata": {
        "id": "0P_8mljvcZ4E"
      },
      "source": [
        "# Considerações Finais\n",
        "\n",
        "Há diversos outros teste de normalidade propostos. Aqui descrevemos apenas uma pequena fração deles. Como dica prática, procure aplicar mais de um teste de normalidade sobre as amostras disponíveis, com o propósito de acumular evidências sobre a normalidade dos dados.\n",
        "\n",
        "O artigo [Avaliação da normalidade dos dados em estudos clínicos e\n",
        "experimentais](https://www.scielo.br/pdf/jvb/v16n2/1677-5449-jvb-16-2-88.pdffornece) apresenta mais informações acerca des testes de normalidade e serve como complemento a este notebook."
      ]
    }
  ]
}