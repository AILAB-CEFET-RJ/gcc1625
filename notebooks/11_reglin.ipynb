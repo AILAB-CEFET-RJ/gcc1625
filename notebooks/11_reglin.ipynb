{
 "cells": [
  {
   "cell_type": "markdown",
   "metadata": {
    "id": "un1QhtoiTUlH"
   },
   "source": [
    "# Regressão Linear\n",
    "\n",
    "A regressão linear é uma técnica estatística usada para modelar a relação entre uma variável dependente (ou variável de resposta) e uma ou mais variáveis independentes (ou variáveis preditoras) por meio de uma equação linear. O objetivo da regressão linear é encontrar a melhor linha reta (ou plano, no caso de regressão linear múltipla) que representa a relação entre as variáveis, permitindo assim prever ou explicar a variável dependente com base nas variáveis independentes.\n",
    "\n",
    "A regressão é amplamente usada em várias áreas, incluindo ciências sociais, economia, engenharia, biologia e muitas outras disciplinas. Pode ser usada para previsão, modelagem e análise de relações entre duas variáveis.\n"
   ]
  },
  {
   "cell_type": "markdown",
   "metadata": {},
   "source": [
    "## Regressão Linear Simples\n",
    "\n",
    "A regressão simples é uma técnica estatística que envolve a análise da relação entre uma variável dependente (ou resposta) e uma única variável independente (ou preditora). Ela é uma das formas mais básicas e amplamente utilizadas de análise de regressão e é frequentemente empregada para entender como uma variável é afetada por outra variável única.\n",
    "\n",
    "O modelo de regressão simples é uma equação linear que descreve a relação entre Y e X. A regressão linear simples é representada matematicamente como:\n",
    "\n",
    "$$\n",
    "Y = \\beta_0 + \\beta_1X + ε\n",
    "$$\n",
    "\n",
    "Os termos no modelo são os seguintes:\n",
    "   - $Y$ representa a variável dependente que estamos tentando prever ou explicar.\n",
    "   - $X$ representa a variável independente.\n",
    "   - $\\beta_0$ é o intercepto, que representa o valor de $Y$ quando $X$ é igual a zero.\n",
    "   - $\\beta_1$ é o coeficiente da variável $X$, que mede a mudança em Y associada a uma unidade de mudança em $X$.\n",
    "   - $\\epsilon$ é o termo de erro, que representa a variação não explicada pelo modelo.\n",
    "\n",
    "O objetivo da regressão simples é encontrar os valores dos coeficientes ($\\beta_0$ e $\\beta_1$) que minimizam a soma dos quadrados dos resíduos (a diferença entre os valores observados de Y e os valores previstos pelo modelo). Isso permite ajustar a melhor linha reta aos dados.\n",
    "\n",
    "Principais aspectos da regressão simples:\n",
    "\n",
    "1. **Variáveis Dependente e Independente**: Na regressão simples, temos uma variável dependente e uma única variável independente.\n",
    "\n",
    "2. **Interpretação dos Coeficientes**: Os coeficientes β₀ e β₁ têm interpretações específicas:\n",
    "   - β₀ representa o valor esperado de Y quando X é igual a zero.\n",
    "   - β₁ representa a mudança média em Y associada a uma unidade de mudança em X.\n",
    "\n",
    "3. **Suposições da Regressão Simples**: A análise de regressão simples pressupõe que os resíduos do modelo (termos de erro) sejam independentes, tenham distribuição normal e variância constante. Além disso, a relação entre X e Y é assumida ser linear.\n",
    "\n",
    "A regressão simples é uma técnica fundamental e é frequentemente usada como ponto de partida para análises de regressão mais complexas, como a regressão múltipla, que lida com múltiplas variáveis independentes. Ela fornece uma maneira simples de avaliar a relação entre duas variáveis e é amplamente aplicável em análise estatística e pesquisa."
   ]
  },
  {
   "cell_type": "markdown",
   "metadata": {},
   "source": [
    "## Regressão Linear Múltipla\n",
    "\n",
    "Usada para analisar a relação entre uma variável dependente (ou resposta) e duas ou mais variáveis independentes (ou preditoras). Ela é uma extensão da regressão linear simples (que lida com apenas uma variável independente). A regressão múltipla permite explorar como várias variáveis independentes afetam a variável dependente e como elas interagem entre si. A linear regressão múltipla é representada matematicamente como:\n",
    "\n",
    "$$\n",
    "Y = \\beta_0 + \\beta_1X_1 + \\beta_2X_2 + \\ldots + \\beta_kX_k + \\epsilon\n",
    "$$\n",
    "\n",
    "   - $Y$ representa a variável dependente.\n",
    "   - $\\beta_0$ é o intercepto.\n",
    "   - $\\beta_1, \\beta_1, \\ldots, \\beta_k$ são os coeficientes associados às variáveis independentes $X_1, X_2, \\ldots, X_k$, respectivamente.\n",
    "   - $\\epsilon$ é o termo de erro, que representa a variação não explicada pelo modelo.\n",
    "\n",
    "> O objetivo da regressão múltipla é encontrar os valores dos coeficientes ($\\beta_1, \\beta_1, \\ldots, \\beta_k$) que minimizam a soma dos quadrados dos resíduos (i.e., a diferença entre os valores observados e os valores previstos) e, assim, ajustar o melhor modelo linear aos dados.\n",
    "\n",
    "Alguns pontos-chave sobre a regressão múltipla:\n",
    "\n",
    "1. **Variáveis Dependente e Independentes**: Na regressão múltipla, temos uma variável dependente (ou de resposta), e mais de uma variável independente (ou preditora), que são usadas para prever a variável dependente.\n",
    "\n",
    "2. **Interpretação dos Coeficientes**: Os coeficientes ($\\beta_i$) representam a mudança na variável dependente associada a uma unidade de mudança nas variáveis independentes, mantendo as outras variáveis constantes. Isso permite avaliar o impacto de cada variável independente na variável dependente.\n",
    "\n",
    "3. **Suposições da Regressão Múltipla**: A análise de regressão múltipla pressupõe que os resíduos do modelo (termos de erro) sejam independentes, tenham distribuição normal e variância constante. Além disso, assume que não há multicolinearidade significativa (correlações altas entre variáveis independentes) e que a relação entre as variáveis independentes e dependentes seja linear."
   ]
  },
  {
   "cell_type": "markdown",
   "metadata": {},
   "source": [
    "# Método OLS\n",
    "\n",
    "O **método dos Mínimos Quadrados Ordinários (OLS)** é uma técnica usada para estimar os coeficientes de um modelo de regressão linear.\n",
    "\n",
    "**Objetivo:** encontrar a reta (ou hiperplano) que **melhor se ajusta aos dados**, minimizando a **soma dos quadrados dos resíduos**, ou seja, das diferenças entre os valores observados e os valores previstos pelo modelo.\n",
    "\n",
    "Formalmente, ele resolve:\n",
    "\n",
    "$$\n",
    "\\hat{\\boldsymbol{\\beta}} = \\arg \\min_{\\boldsymbol{\\beta}} \\sum_{i=1}^{n} (y_i - \\hat{y}_i)^2\n",
    "$$\n",
    "\n",
    "onde $\\hat{y}_i = \\mathbf{x}_i^\\top \\boldsymbol{\\beta}$.\n",
    "\n",
    "O OLS é amplamente utilizado por sua simplicidade, interpretabilidade e base matemática sólida.\n"
   ]
  },
  {
   "cell_type": "markdown",
   "metadata": {},
   "source": [
    "## OLS - Caso Univariado\n",
    "\n",
    "Abaixo está a **dedução formal do estimador dos Mínimos Quadrados Ordinários (OLS)** para o caso da **regressão linear simples**.\n",
    "\n",
    "### Formulação do Problema (Regressão Linear Simples)\n",
    "\n",
    "Modelo:\n",
    "\n",
    "$$\n",
    "y_i = \\beta_0 + \\beta_1 x_i + \\varepsilon_i, \\quad i = 1, \\dots, n\n",
    "$$\n",
    "\n",
    "Nosso objetivo é encontrar os estimadores $\\hat{\\beta}_0$ e $\\hat{\\beta}_1$ que minimizam a soma dos erros ao quadrado:\n",
    "\n",
    "$$\n",
    "\\text{SSE}(\\beta_0, \\beta_1) = \\sum_{i=1}^{n} (y_i - \\beta_0 - \\beta_1 x_i)^2\n",
    "$$\n",
    "\n",
    "---\n",
    "\n",
    "### Dedução\n",
    "\n",
    "### Etapa 1: Definir a função de perda\n",
    "\n",
    "$$\n",
    "J(\\beta_0, \\beta_1) = \\sum_{i=1}^n (y_i - \\beta_0 - \\beta_1 x_i)^2\n",
    "$$\n",
    "\n",
    "Queremos minimizar $J$ em relação a $\\beta_0$ e $\\beta_1$.\n",
    "\n",
    "---\n",
    "\n",
    "#### Etapa 2: Derivar e igualar a zero\n",
    "\n",
    "##### Derivada parcial em relação a $\\beta_0$:\n",
    "\n",
    "$$\n",
    "\\frac{\\partial J}{\\partial \\beta_0} = -2 \\sum_{i=1}^n (y_i - \\beta_0 - \\beta_1 x_i) = 0\n",
    "$$\n",
    "\n",
    "$$\n",
    "\\Rightarrow \\sum y_i = n \\beta_0 + \\beta_1 \\sum x_i \\tag{1}\n",
    "$$\n",
    "\n",
    "##### Derivada parcial em relação a $\\beta_1$:\n",
    "\n",
    "$$\n",
    "\\frac{\\partial J}{\\partial \\beta_1} = -2 \\sum_{i=1}^n x_i (y_i - \\beta_0 - \\beta_1 x_i) = 0\n",
    "$$\n",
    "\n",
    "$$\n",
    "\\Rightarrow \\sum x_i y_i = \\beta_0 \\sum x_i + \\beta_1 \\sum x_i^2 \\tag{2}\n",
    "$$\n",
    "\n",
    "---\n",
    "\n",
    "#### Etapa 3: Resolver o sistema\n",
    "\n",
    "Seja $\\bar{x} = \\frac{1}{n} \\sum x_i$ e $\\bar{y} = \\frac{1}{n} \\sum y_i$.\n",
    "A partir da equação (1):\n",
    "\n",
    "$$\n",
    "\\beta_0 = \\bar{y} - \\beta_1 \\bar{x}\n",
    "$$\n",
    "\n",
    "Substituímos na equação (2):\n",
    "\n",
    "$$\n",
    "\\sum x_i y_i = (\\bar{y} - \\beta_1 \\bar{x}) \\sum x_i + \\beta_1 \\sum x_i^2\n",
    "$$\n",
    "\n",
    "Reorganizando os termos, chegamos a:\n",
    "\n",
    "$$\n",
    "\\hat{\\beta}_1 = \\frac{\\sum (x_i - \\bar{x})(y_i - \\bar{y})}{\\sum (x_i - \\bar{x})^2}\n",
    "$$\n",
    "\n",
    "$$\n",
    "\\hat{\\beta}_0 = \\bar{y} - \\hat{\\beta}_1 \\bar{x}\n",
    "$$\n",
    "\n",
    "---\n",
    "\n",
    "### Estimadores OLS — Regressão Linear Simples\n",
    "\n",
    "$$\n",
    "\\boxed{\n",
    "\\hat{\\beta}_1 = \\frac{\\sum (x_i - \\bar{x})(y_i - \\bar{y})}{\\sum (x_i - \\bar{x})^2}\n",
    "}\n",
    "\\quad \\text{e} \\quad\n",
    "\\boxed{\n",
    "\\hat{\\beta}_0 = \\bar{y} - \\hat{\\beta}_1 \\bar{x}\n",
    "}\n",
    "$$\n",
    "\n",
    "---\n",
    "\n",
    "### Observações\n",
    "\n",
    "* O coeficiente $\\hat{\\beta}_1$ mede a **inclinação da reta** ajustada, ou seja, a variação média de $y$ para cada unidade de aumento em $x$.\n",
    "* O intercepto $\\hat{\\beta}_0$ é o valor esperado de $y$ quando $x = 0$, desde que esse valor seja válido no domínio dos dados.\n",
    "* A soma dos quadrados dos resíduos $\\text{SSE} = \\sum (y_i - \\hat{y}_i)^2$ é minimizada por essa solução."
   ]
  },
  {
   "cell_type": "markdown",
   "metadata": {},
   "source": [
    "## OLS - Caso geral (multivariado)\n",
    "\n",
    "### Formulação do Problema\n",
    "\n",
    "Apresentamos uma dedução formal do método dos **Mínimos Quadrados Ordinários (OLS)** para regressão linear, assumindo um modelo linear simples. Vamos considerar o caso de **regressão linear múltipla**:\n",
    "\n",
    "Assumimos o seguinte **modelo linear**:\n",
    "\n",
    "$$\n",
    "\\mathbf{y} = \\mathbf{X}\\boldsymbol{\\beta} + \\boldsymbol{\\varepsilon}\n",
    "$$\n",
    "\n",
    "* $\\mathbf{y} \\in \\mathbb{R}^{n \\times 1}$: vetor de respostas\n",
    "* $\\mathbf{X} \\in \\mathbb{R}^{n \\times p}$: matriz de projeto (inclui o intercepto, se necessário)\n",
    "* $\\boldsymbol{\\beta} \\in \\mathbb{R}^{p \\times 1}$: vetor de coeficientes\n",
    "* $\\boldsymbol{\\varepsilon} \\in \\mathbb{R}^{n \\times 1}$: termo de erro (assumido com média zero e variância constante)\n",
    "\n",
    "Queremos encontrar $\\hat{\\boldsymbol{\\beta}}$ que **minimiza a soma dos resíduos ao quadrado**:\n",
    "\n",
    "$$\n",
    "\\hat{\\boldsymbol{\\beta}} = \\arg \\min_{\\boldsymbol{\\beta}} \\; (\\mathbf{y} - \\mathbf{X}\\boldsymbol{\\beta})^\\top (\\mathbf{y} - \\mathbf{X}\\boldsymbol{\\beta})\n",
    "$$\n",
    "\n",
    "---\n",
    "\n",
    "### Dedução (Equações Normais)\n",
    "\n",
    "#### Etapa 1: Definir a função de perda (soma dos quadrados dos resíduos)\n",
    "\n",
    "Seja:\n",
    "\n",
    "$$\n",
    "J(\\boldsymbol{\\beta}) = \\|\\mathbf{y} - \\mathbf{X}\\boldsymbol{\\beta}\\|^2 = (\\mathbf{y} - \\mathbf{X}\\boldsymbol{\\beta})^\\top (\\mathbf{y} - \\mathbf{X}\\boldsymbol{\\beta})\n",
    "$$\n",
    "\n",
    "#### Etapa 2: Expandir a forma quadrática\n",
    "\n",
    "$$\n",
    "\\begin{aligned}\n",
    "J(\\boldsymbol{\\beta}) &= \\mathbf{y}^\\top \\mathbf{y} - 2 \\boldsymbol{\\beta}^\\top \\mathbf{X}^\\top \\mathbf{y} + \\boldsymbol{\\beta}^\\top \\mathbf{X}^\\top \\mathbf{X} \\boldsymbol{\\beta}\n",
    "\\end{aligned}\n",
    "$$\n",
    "\n",
    "#### Etapa 3: Calcular o gradiente e igualar a zero\n",
    "\n",
    "Derivamos $J(\\boldsymbol{\\beta})$ em relação a $\\boldsymbol{\\beta}$:\n",
    "\n",
    "$$\n",
    "\\nabla_{\\boldsymbol{\\beta}} J(\\boldsymbol{\\beta}) = -2 \\mathbf{X}^\\top \\mathbf{y} + 2 \\mathbf{X}^\\top \\mathbf{X} \\boldsymbol{\\beta}\n",
    "$$\n",
    "\n",
    "Igualamos o gradiente a zero:\n",
    "\n",
    "$$\n",
    "-2 \\mathbf{X}^\\top \\mathbf{y} + 2 \\mathbf{X}^\\top \\mathbf{X} \\hat{\\boldsymbol{\\beta}} = 0\n",
    "$$\n",
    "\n",
    "$$\n",
    "\\Rightarrow \\mathbf{X}^\\top \\mathbf{X} \\hat{\\boldsymbol{\\beta}} = \\mathbf{X}^\\top \\mathbf{y}\n",
    "$$\n",
    "\n",
    "---\n",
    "\n",
    "### Estimador OLS\n",
    "\n",
    "Desde que $\\mathbf{X}^\\top \\mathbf{X}$ seja invertível, temos:\n",
    "\n",
    "$$\n",
    "\\hat{\\boldsymbol{\\beta}} = (\\mathbf{X}^\\top \\mathbf{X})^{-1} \\mathbf{X}^\\top \\mathbf{y}\n",
    "$$\n",
    "\n",
    "---\n",
    "\n",
    "### Observações\n",
    "\n",
    "* As **equações normais** $\\mathbf{X}^\\top \\mathbf{X} \\hat{\\boldsymbol{\\beta}} = \\mathbf{X}^\\top \\mathbf{y}$ caracterizam a solução.\n",
    "* Na prática, por motivos de estabilidade numérica, costuma-se usar **decomposição QR** ou **SVD** em vez de inverter diretamente $\\mathbf{X}^\\top \\mathbf{X}$.\n",
    "* Os resíduos são dados por $\\hat{\\boldsymbol{\\varepsilon}} = \\mathbf{y} - \\mathbf{X}\\hat{\\boldsymbol{\\beta}}$."
   ]
  },
  {
   "cell_type": "markdown",
   "metadata": {},
   "source": [
    "## Intuição Visual\n",
    "\n",
    "Aqui está uma explicação visual do método dos **Mínimos Quadrados Ordinários (OLS)** na **regressão linear simples**, passo a passo:\n",
    "\n",
    "### 1. Os Dados\n",
    "\n",
    "Considere o pequeno conjunto de dados abaixo com pontos $(x_i, y_i)$:"
   ]
  },
  {
   "cell_type": "code",
   "execution_count": 3,
   "metadata": {},
   "outputs": [
    {
     "data": {
      "image/png": "[encoded data removed]",
      "text/plain": [
       "<Figure size 640x480 with 1 Axes>"
      ]
     },
     "metadata": {},
     "output_type": "display_data"
    }
   ],
   "source": [
    "import numpy as np\n",
    "import matplotlib.pyplot as plt\n",
    "\n",
    "# Dados de exemplo\n",
    "x = np.array([1, 2, 3, 4, 5])\n",
    "y = np.array([1.2, 1.9, 3.0, 3.8, 5.1])\n",
    "\n",
    "plt.scatter(x, y, color='blue')\n",
    "plt.title(\"Pontos de Dados Observados\")\n",
    "plt.xlabel(\"x\")\n",
    "plt.ylabel(\"y\")\n",
    "plt.grid(True)\n",
    "plt.show()"
   ]
  },
  {
   "cell_type": "markdown",
   "metadata": {},
   "source": [
    "### 2. Uma Reta Candidata\n",
    "\n",
    "Vamos tentar ajustar uma reta $y = \\beta_0 + \\beta_1 x$. Por exemplo, $\\beta_0 = 0.5$, $\\beta_1 = 0.9$:"
   ]
  },
  {
   "cell_type": "code",
   "execution_count": 4,
   "metadata": {},
   "outputs": [
    {
     "data": {
      "image/png": "[encoded data removed]",
      "text/plain": [
       "<Figure size 640x480 with 1 Axes>"
      ]
     },
     "metadata": {},
     "output_type": "display_data"
    }
   ],
   "source": [
    "b0, b1 = 0.5, 0.9\n",
    "y_pred = b0 + b1 * x\n",
    "\n",
    "plt.scatter(x, y, label=\"Dados\")\n",
    "plt.plot(x, y_pred, color=\"red\", label=\"Reta Candidata\")\n",
    "plt.title(\"Ajustando uma Reta aos Dados\")\n",
    "plt.xlabel(\"x\")\n",
    "plt.ylabel(\"y\")\n",
    "plt.legend()\n",
    "plt.grid(True)\n",
    "plt.show()"
   ]
  },
  {
   "cell_type": "markdown",
   "metadata": {},
   "source": [
    "### 3. Resíduos: Qual o Erro?\n",
    "\n",
    "Desenhamos as **linhas de resíduos** — diferenças verticais entre cada $y_i$ e o valor previsto $\\hat{y}_i$:"
   ]
  },
  {
   "cell_type": "code",
   "execution_count": 5,
   "metadata": {},
   "outputs": [
    {
     "data": {
      "image/png": "[encoded data removed]",
      "text/plain": [
       "<Figure size 640x480 with 1 Axes>"
      ]
     },
     "metadata": {},
     "output_type": "display_data"
    }
   ],
   "source": [
    "for i in range(len(x)):\n",
    "    plt.plot([x[i], x[i]], [y[i], y_pred[i]], 'k--')  # linhas de resíduo\n",
    "\n",
    "plt.scatter(x, y, label=\"Dados\")\n",
    "plt.plot(x, y_pred, color=\"red\", label=\"Previsão\")\n",
    "plt.title(\"Resíduos (Erros)\")\n",
    "plt.xlabel(\"x\")\n",
    "plt.ylabel(\"y\")\n",
    "plt.legend()\n",
    "plt.grid(True)\n",
    "plt.show()"
   ]
  },
  {
   "cell_type": "markdown",
   "metadata": {},
   "source": [
    "Cada linha tracejada representa um **erro** $y_i - \\hat{y}_i$. O OLS minimiza a **soma dos quadrados** desses erros.\n",
    "\n",
    "---\n",
    "\n",
    "### A Melhor Reta (Solução OLS)\n",
    "\n",
    "Agora, calculamos os **melhores** $\\hat{\\beta}_0, \\hat{\\beta}_1$ que minimizam o erro quadrático total:"
   ]
  },
  {
   "cell_type": "code",
   "execution_count": 6,
   "metadata": {},
   "outputs": [
    {
     "data": {
      "image/png": "[encoded data removed]",
      "text/plain": [
       "<Figure size 640x480 with 1 Axes>"
      ]
     },
     "metadata": {},
     "output_type": "display_data"
    }
   ],
   "source": [
    "# Estimativas por mínimos quadrados\n",
    "x_mean, y_mean = np.mean(x), np.mean(y)\n",
    "b1_hat = np.sum((x - x_mean) * (y - y_mean)) / np.sum((x - x_mean)**2)\n",
    "b0_hat = y_mean - b1_hat * x_mean\n",
    "y_fit = b0_hat + b1_hat * x\n",
    "\n",
    "plt.scatter(x, y, label=\"Dados\")\n",
    "plt.plot(x, y_fit, color=\"green\", label=f\"Melhor Ajuste: y = {b0_hat:.2f} + {b1_hat:.2f}x\")\n",
    "plt.title(\"Reta de Melhor Ajuste (OLS)\")\n",
    "plt.xlabel(\"x\")\n",
    "plt.ylabel(\"y\")\n",
    "plt.legend()\n",
    "plt.grid(True)\n",
    "plt.show()"
   ]
  },
  {
   "cell_type": "markdown",
   "metadata": {},
   "source": [
    "### Intuição\n",
    "\n",
    "* A reta OLS é aquela que **minimiza a distância vertical ao quadrado** entre os pontos observados e a reta.\n",
    "* É como ajustar a reta vermelha acima até que as linhas de erro tracejadas fiquem o mais curtas possível no total.\n",
    "\n",
    "---"
   ]
  },
  {
   "cell_type": "markdown",
   "metadata": {
    "id": "Lja9LaE8SpAh"
   },
   "source": [
    "# Implementação"
   ]
  },
  {
   "cell_type": "markdown",
   "metadata": {
    "id": "X1N3MtcN0fp2"
   },
   "source": [
    "Para uso nos exemplos a seguir, considere a tabela abaixo, que apresenta dados de idade (Age, em anos) e pressão arterial sistólica (BP) de 20 adultos.\n",
    "\n",
    "\n",
    "|   Age |   BP |\n",
    "|------:|-----:|\n",
    "|    20 |  120 |\n",
    "|    43 |  128 |\n",
    "|    63 |  141 |\n",
    "|    26 |  126 |\n",
    "|    53 |  134 |\n",
    "|    31 |  128 |\n",
    "|    58 |  136 |\n",
    "|    46 |  132 |\n",
    "|    58 |  140 |\n",
    "|    70 |  144 |\n",
    "|    46 |  128 |\n",
    "|    53 |  136 |\n",
    "|    60 |  146 |\n",
    "|    20 |  124 |\n",
    "|    63 |  143 |\n",
    "|    43 |  130 |\n",
    "|    26 |  124 |\n",
    "|    19 |  121 |\n",
    "|    31 |  126 |\n",
    "|    23 |  123 |\n",
    "\n"
   ]
  },
  {
   "cell_type": "code",
   "execution_count": null,
   "metadata": {
    "id": "9_euZvmriyeD"
   },
   "outputs": [],
   "source": []
  },
  {
   "cell_type": "code",
   "execution_count": 1,
   "metadata": {
    "colab": {
     "base_uri": "https://localhost:8080/",
     "height": 676
    },
    "executionInfo": {
     "elapsed": 99,
     "status": "ok",
     "timestamp": 1698435536783,
     "user": {
      "displayName": "Eduardo Bezerra",
      "userId": "15338717559428153474"
     },
     "user_tz": 180
    },
    "id": "VuDize9rn2ZR",
    "outputId": "65149b8a-dbf5-4a75-bbd9-6bcb11f189c5"
   },
   "outputs": [
    {
     "data": {
      "text/html": [
       "<div>\n",
       "<style scoped>\n",
       "    .dataframe tbody tr th:only-of-type {\n",
       "        vertical-align: middle;\n",
       "    }\n",
       "\n",
       "    .dataframe tbody tr th {\n",
       "        vertical-align: top;\n",
       "    }\n",
       "\n",
       "    .dataframe thead th {\n",
       "        text-align: right;\n",
       "    }\n",
       "</style>\n",
       "<table border=\"1\" class=\"dataframe\">\n",
       "  <thead>\n",
       "    <tr style=\"text-align: right;\">\n",
       "      <th></th>\n",
       "      <th>Age</th>\n",
       "      <th>BP</th>\n",
       "    </tr>\n",
       "  </thead>\n",
       "  <tbody>\n",
       "    <tr>\n",
       "      <th>0</th>\n",
       "      <td>20</td>\n",
       "      <td>120</td>\n",
       "    </tr>\n",
       "    <tr>\n",
       "      <th>1</th>\n",
       "      <td>43</td>\n",
       "      <td>128</td>\n",
       "    </tr>\n",
       "    <tr>\n",
       "      <th>2</th>\n",
       "      <td>63</td>\n",
       "      <td>141</td>\n",
       "    </tr>\n",
       "    <tr>\n",
       "      <th>3</th>\n",
       "      <td>26</td>\n",
       "      <td>126</td>\n",
       "    </tr>\n",
       "    <tr>\n",
       "      <th>4</th>\n",
       "      <td>53</td>\n",
       "      <td>134</td>\n",
       "    </tr>\n",
       "    <tr>\n",
       "      <th>5</th>\n",
       "      <td>31</td>\n",
       "      <td>128</td>\n",
       "    </tr>\n",
       "    <tr>\n",
       "      <th>6</th>\n",
       "      <td>58</td>\n",
       "      <td>136</td>\n",
       "    </tr>\n",
       "    <tr>\n",
       "      <th>7</th>\n",
       "      <td>46</td>\n",
       "      <td>132</td>\n",
       "    </tr>\n",
       "    <tr>\n",
       "      <th>8</th>\n",
       "      <td>58</td>\n",
       "      <td>140</td>\n",
       "    </tr>\n",
       "    <tr>\n",
       "      <th>9</th>\n",
       "      <td>70</td>\n",
       "      <td>144</td>\n",
       "    </tr>\n",
       "    <tr>\n",
       "      <th>10</th>\n",
       "      <td>46</td>\n",
       "      <td>128</td>\n",
       "    </tr>\n",
       "    <tr>\n",
       "      <th>11</th>\n",
       "      <td>53</td>\n",
       "      <td>136</td>\n",
       "    </tr>\n",
       "    <tr>\n",
       "      <th>12</th>\n",
       "      <td>60</td>\n",
       "      <td>146</td>\n",
       "    </tr>\n",
       "    <tr>\n",
       "      <th>13</th>\n",
       "      <td>20</td>\n",
       "      <td>124</td>\n",
       "    </tr>\n",
       "    <tr>\n",
       "      <th>14</th>\n",
       "      <td>63</td>\n",
       "      <td>143</td>\n",
       "    </tr>\n",
       "    <tr>\n",
       "      <th>15</th>\n",
       "      <td>43</td>\n",
       "      <td>130</td>\n",
       "    </tr>\n",
       "    <tr>\n",
       "      <th>16</th>\n",
       "      <td>26</td>\n",
       "      <td>124</td>\n",
       "    </tr>\n",
       "    <tr>\n",
       "      <th>17</th>\n",
       "      <td>19</td>\n",
       "      <td>121</td>\n",
       "    </tr>\n",
       "    <tr>\n",
       "      <th>18</th>\n",
       "      <td>31</td>\n",
       "      <td>126</td>\n",
       "    </tr>\n",
       "    <tr>\n",
       "      <th>19</th>\n",
       "      <td>23</td>\n",
       "      <td>123</td>\n",
       "    </tr>\n",
       "  </tbody>\n",
       "</table>\n",
       "</div>"
      ],
      "text/plain": [
       "    Age   BP\n",
       "0    20  120\n",
       "1    43  128\n",
       "2    63  141\n",
       "3    26  126\n",
       "4    53  134\n",
       "5    31  128\n",
       "6    58  136\n",
       "7    46  132\n",
       "8    58  140\n",
       "9    70  144\n",
       "10   46  128\n",
       "11   53  136\n",
       "12   60  146\n",
       "13   20  124\n",
       "14   63  143\n",
       "15   43  130\n",
       "16   26  124\n",
       "17   19  121\n",
       "18   31  126\n",
       "19   23  123"
      ]
     },
     "execution_count": 1,
     "metadata": {},
     "output_type": "execute_result"
    }
   ],
   "source": [
    "import numpy as np\n",
    "import pandas as pd\n",
    "\n",
    "data = {\n",
    " 'Age': [20, 43, 63, 26, 53, 31, 58, 46, 58, 70, 46, 53, 60, 20, 63, 43, 26, 19, 31, 23],\n",
    " 'BP': [120, 128, 141, 126, 134, 128, 136, 132, 140, 144, 128, 136, 146, 124, 143, 130, 124, 121, 126, 123]\n",
    "}\n",
    "\n",
    "df = pd.DataFrame(data)\n",
    "\n",
    "df.head(20)"
   ]
  },
  {
   "cell_type": "code",
   "execution_count": 2,
   "metadata": {
    "colab": {
     "base_uri": "https://localhost:8080/"
    },
    "executionInfo": {
     "elapsed": 86,
     "status": "ok",
     "timestamp": 1698435536783,
     "user": {
      "displayName": "Eduardo Bezerra",
      "userId": "15338717559428153474"
     },
     "user_tz": 180
    },
    "id": "gJ_g9GCjD4wb",
    "outputId": "fd0a38b6-21eb-43f6-c6fa-28bcf8ad1feb"
   },
   "outputs": [
    {
     "data": {
      "text/plain": [
       "Age     42.6\n",
       "BP     131.5\n",
       "dtype: float64"
      ]
     },
     "execution_count": 2,
     "metadata": {},
     "output_type": "execute_result"
    }
   ],
   "source": [
    "df.mean()"
   ]
  },
  {
   "cell_type": "code",
   "execution_count": 3,
   "metadata": {
    "colab": {
     "base_uri": "https://localhost:8080/",
     "height": 300
    },
    "executionInfo": {
     "elapsed": 84,
     "status": "ok",
     "timestamp": 1698435536784,
     "user": {
      "displayName": "Eduardo Bezerra",
      "userId": "15338717559428153474"
     },
     "user_tz": 180
    },
    "id": "93ErfLASoiI0",
    "outputId": "292c127e-0691-483c-d202-c25af5a0136c"
   },
   "outputs": [
    {
     "data": {
      "text/html": [
       "<div>\n",
       "<style scoped>\n",
       "    .dataframe tbody tr th:only-of-type {\n",
       "        vertical-align: middle;\n",
       "    }\n",
       "\n",
       "    .dataframe tbody tr th {\n",
       "        vertical-align: top;\n",
       "    }\n",
       "\n",
       "    .dataframe thead th {\n",
       "        text-align: right;\n",
       "    }\n",
       "</style>\n",
       "<table border=\"1\" class=\"dataframe\">\n",
       "  <thead>\n",
       "    <tr style=\"text-align: right;\">\n",
       "      <th></th>\n",
       "      <th>Age</th>\n",
       "      <th>BP</th>\n",
       "    </tr>\n",
       "  </thead>\n",
       "  <tbody>\n",
       "    <tr>\n",
       "      <th>count</th>\n",
       "      <td>20.000000</td>\n",
       "      <td>20.000000</td>\n",
       "    </tr>\n",
       "    <tr>\n",
       "      <th>mean</th>\n",
       "      <td>42.600000</td>\n",
       "      <td>131.500000</td>\n",
       "    </tr>\n",
       "    <tr>\n",
       "      <th>std</th>\n",
       "      <td>16.831674</td>\n",
       "      <td>8.062258</td>\n",
       "    </tr>\n",
       "    <tr>\n",
       "      <th>min</th>\n",
       "      <td>19.000000</td>\n",
       "      <td>120.000000</td>\n",
       "    </tr>\n",
       "    <tr>\n",
       "      <th>25%</th>\n",
       "      <td>26.000000</td>\n",
       "      <td>125.500000</td>\n",
       "    </tr>\n",
       "    <tr>\n",
       "      <th>50%</th>\n",
       "      <td>44.500000</td>\n",
       "      <td>129.000000</td>\n",
       "    </tr>\n",
       "    <tr>\n",
       "      <th>75%</th>\n",
       "      <td>58.000000</td>\n",
       "      <td>137.000000</td>\n",
       "    </tr>\n",
       "    <tr>\n",
       "      <th>max</th>\n",
       "      <td>70.000000</td>\n",
       "      <td>146.000000</td>\n",
       "    </tr>\n",
       "  </tbody>\n",
       "</table>\n",
       "</div>"
      ],
      "text/plain": [
       "             Age          BP\n",
       "count  20.000000   20.000000\n",
       "mean   42.600000  131.500000\n",
       "std    16.831674    8.062258\n",
       "min    19.000000  120.000000\n",
       "25%    26.000000  125.500000\n",
       "50%    44.500000  129.000000\n",
       "75%    58.000000  137.000000\n",
       "max    70.000000  146.000000"
      ]
     },
     "execution_count": 3,
     "metadata": {},
     "output_type": "execute_result"
    }
   ],
   "source": [
    "df.describe()"
   ]
  },
  {
   "cell_type": "code",
   "execution_count": 4,
   "metadata": {
    "colab": {
     "base_uri": "https://localhost:8080/"
    },
    "executionInfo": {
     "elapsed": 82,
     "status": "ok",
     "timestamp": 1698435536784,
     "user": {
      "displayName": "Eduardo Bezerra",
      "userId": "15338717559428153474"
     },
     "user_tz": 180
    },
    "id": "Kg_Blfc0ophq",
    "outputId": "0112a7cf-8426-403c-d37b-e75d70867fc9"
   },
   "outputs": [
    {
     "name": "stdout",
     "output_type": "stream",
     "text": [
      "<class 'pandas.core.frame.DataFrame'>\n",
      "RangeIndex: 20 entries, 0 to 19\n",
      "Data columns (total 2 columns):\n",
      " #   Column  Non-Null Count  Dtype\n",
      "---  ------  --------------  -----\n",
      " 0   Age     20 non-null     int64\n",
      " 1   BP      20 non-null     int64\n",
      "dtypes: int64(2)\n",
      "memory usage: 452.0 bytes\n"
     ]
    }
   ],
   "source": [
    "df.info()"
   ]
  },
  {
   "cell_type": "code",
   "execution_count": 5,
   "metadata": {
    "colab": {
     "base_uri": "https://localhost:8080/",
     "height": 467
    },
    "executionInfo": {
     "elapsed": 917,
     "status": "ok",
     "timestamp": 1698435537622,
     "user": {
      "displayName": "Eduardo Bezerra",
      "userId": "15338717559428153474"
     },
     "user_tz": 180
    },
    "id": "aNfrtL5ZAz2x",
    "outputId": "21a5cc61-7922-423f-e691-c46c616bb79a"
   },
   "outputs": [
    {
     "data": {
      "text/plain": [
       "<Axes: xlabel='Age', ylabel='BP'>"
      ]
     },
     "execution_count": 5,
     "metadata": {},
     "output_type": "execute_result"
    },
    {
     "data": {
      "image/png": "[encoded data removed]",
      "text/plain": [
       "<Figure size 640x480 with 1 Axes>"
      ]
     },
     "metadata": {},
     "output_type": "display_data"
    }
   ],
   "source": [
    "df.plot.scatter(x='Age', y='BP')"
   ]
  },
  {
   "cell_type": "code",
   "execution_count": 6,
   "metadata": {
    "colab": {
     "base_uri": "https://localhost:8080/",
     "height": 112
    },
    "executionInfo": {
     "elapsed": 43,
     "status": "ok",
     "timestamp": 1698435537623,
     "user": {
      "displayName": "Eduardo Bezerra",
      "userId": "15338717559428153474"
     },
     "user_tz": 180
    },
    "id": "k5CfaibRo3eA",
    "outputId": "7a52c6e3-c9cf-4204-da0c-85c7186811d8"
   },
   "outputs": [
    {
     "data": {
      "text/html": [
       "<div>\n",
       "<style scoped>\n",
       "    .dataframe tbody tr th:only-of-type {\n",
       "        vertical-align: middle;\n",
       "    }\n",
       "\n",
       "    .dataframe tbody tr th {\n",
       "        vertical-align: top;\n",
       "    }\n",
       "\n",
       "    .dataframe thead th {\n",
       "        text-align: right;\n",
       "    }\n",
       "</style>\n",
       "<table border=\"1\" class=\"dataframe\">\n",
       "  <thead>\n",
       "    <tr style=\"text-align: right;\">\n",
       "      <th></th>\n",
       "      <th>Age</th>\n",
       "      <th>BP</th>\n",
       "    </tr>\n",
       "  </thead>\n",
       "  <tbody>\n",
       "    <tr>\n",
       "      <th>Age</th>\n",
       "      <td>283.305263</td>\n",
       "      <td>128.842105</td>\n",
       "    </tr>\n",
       "    <tr>\n",
       "      <th>BP</th>\n",
       "      <td>128.842105</td>\n",
       "      <td>65.000000</td>\n",
       "    </tr>\n",
       "  </tbody>\n",
       "</table>\n",
       "</div>"
      ],
      "text/plain": [
       "            Age          BP\n",
       "Age  283.305263  128.842105\n",
       "BP   128.842105   65.000000"
      ]
     },
     "execution_count": 6,
     "metadata": {},
     "output_type": "execute_result"
    }
   ],
   "source": [
    "df.cov()"
   ]
  },
  {
   "cell_type": "code",
   "execution_count": 7,
   "metadata": {
    "colab": {
     "base_uri": "https://localhost:8080/",
     "height": 112
    },
    "executionInfo": {
     "elapsed": 42,
     "status": "ok",
     "timestamp": 1698435537624,
     "user": {
      "displayName": "Eduardo Bezerra",
      "userId": "15338717559428153474"
     },
     "user_tz": 180
    },
    "id": "EObQV5mqo07s",
    "outputId": "96bbf666-f121-4dc7-d5e9-e0d0d73fb6bc"
   },
   "outputs": [
    {
     "data": {
      "text/html": [
       "<div>\n",
       "<style scoped>\n",
       "    .dataframe tbody tr th:only-of-type {\n",
       "        vertical-align: middle;\n",
       "    }\n",
       "\n",
       "    .dataframe tbody tr th {\n",
       "        vertical-align: top;\n",
       "    }\n",
       "\n",
       "    .dataframe thead th {\n",
       "        text-align: right;\n",
       "    }\n",
       "</style>\n",
       "<table border=\"1\" class=\"dataframe\">\n",
       "  <thead>\n",
       "    <tr style=\"text-align: right;\">\n",
       "      <th></th>\n",
       "      <th>Age</th>\n",
       "      <th>BP</th>\n",
       "    </tr>\n",
       "  </thead>\n",
       "  <tbody>\n",
       "    <tr>\n",
       "      <th>Age</th>\n",
       "      <td>1.000000</td>\n",
       "      <td>0.949454</td>\n",
       "    </tr>\n",
       "    <tr>\n",
       "      <th>BP</th>\n",
       "      <td>0.949454</td>\n",
       "      <td>1.000000</td>\n",
       "    </tr>\n",
       "  </tbody>\n",
       "</table>\n",
       "</div>"
      ],
      "text/plain": [
       "          Age        BP\n",
       "Age  1.000000  0.949454\n",
       "BP   0.949454  1.000000"
      ]
     },
     "execution_count": 7,
     "metadata": {},
     "output_type": "execute_result"
    }
   ],
   "source": [
    "df.corr()"
   ]
  },
  {
   "cell_type": "code",
   "execution_count": 8,
   "metadata": {
    "colab": {
     "base_uri": "https://localhost:8080/",
     "height": 435
    },
    "executionInfo": {
     "elapsed": 613,
     "status": "ok",
     "timestamp": 1698435538197,
     "user": {
      "displayName": "Eduardo Bezerra",
      "userId": "15338717559428153474"
     },
     "user_tz": 180
    },
    "id": "hBj_1ESHI5SQ",
    "outputId": "43436422-0b28-4d64-9f8d-9a925f1eb235"
   },
   "outputs": [
    {
     "data": {
      "image/png": "[encoded data removed]",
      "text/plain": [
       "<Figure size 640x480 with 2 Axes>"
      ]
     },
     "metadata": {},
     "output_type": "display_data"
    }
   ],
   "source": [
    "import seaborn as sb\n",
    "\n",
    "# plotting correlation heatmap\n",
    "dataplot = sb.heatmap(df.corr(), cmap=\"YlGnBu\", annot=True)"
   ]
  },
  {
   "cell_type": "markdown",
   "metadata": {
    "id": "XW189EXEJ-r-"
   },
   "source": [
    "## Regressão Linear Simples com scipy\n",
    "\n",
    "A função stats.linregress(x, y) é usada para realizar a regressão linear. Ela calcula os seguintes valores:\n",
    "- slope: O coeficiente de inclinação da linha de regressão ($\\beta_0$).\n",
    "- intercept: O coeficiente de intercepção da linha de regressão ($\\beta_1$).\n",
    "- r_value: O coeficiente de correlação ($\\rho$) entre as duas variáveis.\n",
    "- p_value: O valor p associado ao teste de hipótese nula (hipótese de que não há relação linear entre as variáveis).\n",
    "- std_err: O erro padrão da estimativa do coeficiente de inclinação."
   ]
  },
  {
   "cell_type": "markdown",
   "metadata": {
    "id": "FtZDe-xQmO7S"
   },
   "source": [
    "Considere novamente o conjunto de dados com idade e pressão arterial de 20 indivíduos.\n",
    "\n",
    "1. Encontre a correlação entre idade e pressão arterial.\n",
    "2. Encontre a equação de regressão.\n",
    "3. Qual é a pressão arterial prevista para um adulto com 25 anos?\n",
    "4. Gere um gráfico da equação de regressão."
   ]
  },
  {
   "cell_type": "markdown",
   "metadata": {
    "id": "yB3nwD5tmSI_"
   },
   "source": [
    "**1. Encontre a correlação entre idade e pressão arterial.**\n",
    "\n",
    "**Solução**. Para encontrar a correlação entre idade e pressão arterial usando os coeficientes de correlação simples (Pearson) e de Spearman, você pode usar as funções corr() e corr(method='spearman') do pandas. O código abaixo ilustra como fazer isso."
   ]
  },
  {
   "cell_type": "code",
   "execution_count": 9,
   "metadata": {
    "colab": {
     "base_uri": "https://localhost:8080/"
    },
    "executionInfo": {
     "elapsed": 11,
     "status": "ok",
     "timestamp": 1698435538198,
     "user": {
      "displayName": "Eduardo Bezerra",
      "userId": "15338717559428153474"
     },
     "user_tz": 180
    },
    "id": "TMmkKtF14Oac",
    "outputId": "412d6988-b70e-45f0-ebd9-a52adf53b142"
   },
   "outputs": [
    {
     "name": "stdout",
     "output_type": "stream",
     "text": [
      "Correlação de Pearson: 0.9494537470860623\n",
      "Correlação de Spearman: 0.971644681918998\n"
     ]
    }
   ],
   "source": [
    "import pandas as pd\n",
    "\n",
    "correlation_pearson = df['Age'].corr(df['BP'], method='pearson')\n",
    "correlation_spearman = df['Age'].corr(df['BP'], method='spearman')\n",
    "\n",
    "print(f\"Correlação de Pearson: {correlation_pearson}\")\n",
    "print(f\"Correlação de Spearman: {correlation_spearman}\")"
   ]
  },
  {
   "cell_type": "markdown",
   "metadata": {
    "id": "C8WIC-7jm_0I"
   },
   "source": [
    "**2. Encontre a equação de regressão.**\n",
    "\n",
    "**Solução**. Para encontrar a equação de regressão que descreve a relação entre a idade (variável independente) e a pressão arterial (variável dependente), você pode usar a biblioteca `scipy` em Python. A regressão linear é um método comum para encontrar a equação que melhor ajusta os dados.\n"
   ]
  },
  {
   "cell_type": "code",
   "execution_count": 10,
   "metadata": {
    "colab": {
     "base_uri": "https://localhost:8080/"
    },
    "executionInfo": {
     "elapsed": 340,
     "status": "ok",
     "timestamp": 1698435560006,
     "user": {
      "displayName": "Eduardo Bezerra",
      "userId": "15338717559428153474"
     },
     "user_tz": 180
    },
    "id": "kaldtW8E4g38",
    "outputId": "cec87b2a-b5cc-4a06-ab3d-3652313ee5a2"
   },
   "outputs": [
    {
     "name": "stdout",
     "output_type": "stream",
     "text": [
      "Coeficiente de inclinação (slope): 0.4547818978970053\n",
      "Coeficiente de intercepção (intercept): 112.12629114958757\n",
      "r: 0.9494537470860622\n",
      "p: 1.7016608398853174e-10\n",
      "Erro padrão: 0.03544002790594262\n"
     ]
    }
   ],
   "source": [
    "import pandas as pd\n",
    "from scipy import stats\n",
    "\n",
    "x = df.Age\n",
    "y = df.BP\n",
    "\n",
    "# Realiza a regressão linear usando scipy.stats.linregress\n",
    "slope, intercept, r_value, p_value, std_err = stats.linregress(x, y)\n",
    "\n",
    "# Imprime os coeficientes\n",
    "print('Coeficiente de inclinação (slope):', slope)\n",
    "print('Coeficiente de intercepção (intercept):', intercept)\n",
    "\n",
    "# Imprime outras informações\n",
    "print('r:', r_value)\n",
    "print('p:', p_value)\n",
    "print('Erro padrão:', std_err)"
   ]
  },
  {
   "cell_type": "markdown",
   "metadata": {
    "id": "pOoXQy0JnsLv"
   },
   "source": [
    "**3. Qual é a pressão arterial prevista para um adulto com 25 anos?**"
   ]
  },
  {
   "cell_type": "markdown",
   "metadata": {
    "id": "geJsYnnh5FLt"
   },
   "source": [
    "Para prever a pressão arterial para um adulto com 25 anos usando a equação de regressão linear que encontramos anteriormente, você pode simplesmente substituir o valor da idade (25 anos) na equação. A equação de regressão linear é:\n",
    "\n",
    "```\n",
    "BP = intercept + slope * Age\n",
    "```\n",
    "\n",
    "Aqui, `intercept` representa o valor da pressão arterial quando a idade é zero, e `slope` representa a mudança na pressão arterial para cada unidade de mudança na idade. Portanto, para um adulto com 25 anos:\n",
    "\n",
    "```\n",
    "BP = intercept + slope * 25\n",
    "```\n",
    "\n",
    "Você pode calcular o valor previsto da pressão arterial substituindo `intercept` e `slope` pelos valores que você obteve anteriormente na análise da regressão.\n",
    "\n",
    "Assim, basta calcular:\n",
    "\n",
    "```\n",
    "BP = intercept + slope * 25\n",
    "```\n",
    "\n",
    "O valor resultante será a pressão arterial prevista para um adulto de 25 anos com base na equação de regressão."
   ]
  },
  {
   "cell_type": "markdown",
   "metadata": {
    "id": "rq1M2PGGnbIN"
   },
   "source": [
    "**4. Gere um gráfico da equação de regressão.**\n",
    "\n",
    "**Solução**. Para gerar um gráfico da equação de regressão linear que descreve a relação entre a idade (variável independente) e a pressão arterial (variável dependente), você pode usar a biblioteca `matplotlib` em Python. Primeiro, você precisa calcular os valores previstos da pressão arterial com base na equação de regressão e, em seguida, traçar esses valores juntamente com os pontos de dados reais."
   ]
  },
  {
   "cell_type": "code",
   "execution_count": 11,
   "metadata": {
    "colab": {
     "base_uri": "https://localhost:8080/",
     "height": 449
    },
    "executionInfo": {
     "elapsed": 924,
     "status": "ok",
     "timestamp": 1698435567677,
     "user": {
      "displayName": "Eduardo Bezerra",
      "userId": "15338717559428153474"
     },
     "user_tz": 180
    },
    "id": "xXeplrslEDZZ",
    "outputId": "fe3911ec-1022-4761-d82e-6d6f39b50c42"
   },
   "outputs": [
    {
     "data": {
      "image/png": "[encoded data removed]",
      "text/plain": [
       "<Figure size 640x480 with 1 Axes>"
      ]
     },
     "metadata": {},
     "output_type": "display_data"
    }
   ],
   "source": [
    "import matplotlib.pyplot as plt\n",
    "from scipy import stats\n",
    "\n",
    "x = df.Age\n",
    "y = df.BP\n",
    "\n",
    "res = stats.linregress(x, y)\n",
    "plt.plot(x, y, 'o', label='original data')\n",
    "plt.plot(x, res.intercept + res.slope*x, 'r', label='fitted line')\n",
    "plt.xlabel(\"Age\")\n",
    "plt.ylabel(\"BP\")\n",
    "plt.legend()\n",
    "plt.show()"
   ]
  },
  {
   "cell_type": "markdown",
   "metadata": {
    "id": "gFm1a7n074tt"
   },
   "source": [
    "## Regressão Linear com statsmodels\n",
    "\n",
    "A biblioteca statsmodels é um módulo Python que fornece classes e funções para estimar e interpretar modelos estatísticos. Para instalar essa biblioteca, use o comando abaixo."
   ]
  },
  {
   "cell_type": "code",
   "execution_count": 12,
   "metadata": {
    "colab": {
     "base_uri": "https://localhost:8080/"
    },
    "executionInfo": {
     "elapsed": 6357,
     "status": "ok",
     "timestamp": 1698422127064,
     "user": {
      "displayName": "Eduardo Bezerra",
      "userId": "15338717559428153474"
     },
     "user_tz": 180
    },
    "id": "bJHdYIHe-ctd",
    "outputId": "d041cf41-3eb6-4343-e6d8-3e1f0168b3d8"
   },
   "outputs": [
    {
     "name": "stdout",
     "output_type": "stream",
     "text": [
      "Requirement already satisfied: statsmodels in /home/ebezerra/anaconda3/envs/gcc1625/lib/python3.12/site-packages (0.14.0)\n",
      "Requirement already satisfied: numpy>=1.18 in /home/ebezerra/anaconda3/envs/gcc1625/lib/python3.12/site-packages (from statsmodels) (1.26.0)\n",
      "Requirement already satisfied: scipy!=1.9.2,>=1.4 in /home/ebezerra/anaconda3/envs/gcc1625/lib/python3.12/site-packages (from statsmodels) (1.11.3)\n",
      "Requirement already satisfied: pandas>=1.0 in /home/ebezerra/anaconda3/envs/gcc1625/lib/python3.12/site-packages (from statsmodels) (2.1.2)\n",
      "Requirement already satisfied: patsy>=0.5.2 in /home/ebezerra/anaconda3/envs/gcc1625/lib/python3.12/site-packages (from statsmodels) (0.5.3)\n",
      "Requirement already satisfied: packaging>=21.3 in /home/ebezerra/anaconda3/envs/gcc1625/lib/python3.12/site-packages (from statsmodels) (23.2)\n",
      "Requirement already satisfied: python-dateutil>=2.8.2 in /home/ebezerra/anaconda3/envs/gcc1625/lib/python3.12/site-packages (from pandas>=1.0->statsmodels) (2.8.2)\n",
      "Requirement already satisfied: pytz>=2020.1 in /home/ebezerra/anaconda3/envs/gcc1625/lib/python3.12/site-packages (from pandas>=1.0->statsmodels) (2023.3.post1)\n",
      "Requirement already satisfied: tzdata>=2022.1 in /home/ebezerra/anaconda3/envs/gcc1625/lib/python3.12/site-packages (from pandas>=1.0->statsmodels) (2023.3)\n",
      "Requirement already satisfied: six in /home/ebezerra/anaconda3/envs/gcc1625/lib/python3.12/site-packages (from patsy>=0.5.2->statsmodels) (1.16.0)\n"
     ]
    }
   ],
   "source": [
    "!python -m pip install statsmodels"
   ]
  },
  {
   "cell_type": "markdown",
   "metadata": {},
   "source": [
    "# Exemplos"
   ]
  },
  {
   "cell_type": "markdown",
   "metadata": {},
   "source": [
    "## Exemplo 1 - Regressão Simples\n",
    "\n",
    "Vamos aqui construir um **exemplo numérico simples**, visualizar os dados, ajustar o modelo de regressão linear simples com `statsmodels` e mostrar a **reta ajustada** sobre os pontos.\n",
    "\n",
    "Vamos prever $y$ (por exemplo, **gasto mensal**) em função de $x$ (por exemplo, **idade**), com base nos seguintes dados:\n",
    "\n",
    "| idade ($x$) | gasto ($y$) |\n",
    "| ----------- | ----------- |\n",
    "| 20          | 120         |\n",
    "| 25          | 135         |\n",
    "| 30          | 150         |\n",
    "| 35          | 155         |\n",
    "| 40          | 180         |"
   ]
  },
  {
   "cell_type": "code",
   "execution_count": 1,
   "metadata": {},
   "outputs": [
    {
     "name": "stdout",
     "output_type": "stream",
     "text": [
      "                            OLS Regression Results                            \n",
      "==============================================================================\n",
      "Dep. Variable:                  gasto   R-squared:                       0.966\n",
      "Model:                            OLS   Adj. R-squared:                  0.954\n",
      "Method:                 Least Squares   F-statistic:                     84.00\n",
      "Date:                Tue, 03 Jun 2025   Prob (F-statistic):            0.00275\n",
      "Time:                        14:01:03   Log-Likelihood:                -13.692\n",
      "No. Observations:                   5   AIC:                             31.38\n",
      "Df Residuals:                       3   BIC:                             30.60\n",
      "Df Model:                           1                                         \n",
      "Covariance Type:            nonrobust                                         \n",
      "==============================================================================\n",
      "                 coef    std err          t      P>|t|      [0.025      0.975]\n",
      "------------------------------------------------------------------------------\n",
      "const         64.0000      9.416      6.797      0.007      34.033      93.967\n",
      "idade          2.8000      0.306      9.165      0.003       1.828       3.772\n",
      "==============================================================================\n",
      "Omnibus:                          nan   Durbin-Watson:                   2.914\n",
      "Prob(Omnibus):                    nan   Jarque-Bera (JB):                0.901\n",
      "Skew:                          -1.031   Prob(JB):                        0.637\n",
      "Kurtosis:                       2.729   Cond. No.                         134.\n",
      "==============================================================================\n",
      "\n",
      "Notes:\n",
      "[1] Standard Errors assume that the covariance matrix of the errors is correctly specified.\n"
     ]
    },
    {
     "name": "stderr",
     "output_type": "stream",
     "text": [
      "/home/ebezerra/anaconda3/envs/gcc1625/lib/python3.13/site-packages/statsmodels/stats/stattools.py:74: ValueWarning: omni_normtest is not valid with less than 8 observations; 5 samples were given.\n",
      "  warn(\"omni_normtest is not valid with less than 8 observations; %i \"\n"
     ]
    },
    {
     "data": {
      "image/png": "[encoded data removed]",
      "text/plain": [
       "<Figure size 800x500 with 1 Axes>"
      ]
     },
     "metadata": {},
     "output_type": "display_data"
    }
   ],
   "source": [
    "import numpy as np\n",
    "import pandas as pd\n",
    "import matplotlib.pyplot as plt\n",
    "import statsmodels.api as sm\n",
    "\n",
    "# 1. Dados\n",
    "x = np.array([20, 25, 30, 35, 40])\n",
    "y = np.array([120, 135, 150, 155, 180])\n",
    "\n",
    "# 2. Criar DataFrame\n",
    "df = pd.DataFrame({'idade': x, 'gasto': y})\n",
    "\n",
    "# 3. Ajustar modelo OLS com statsmodels\n",
    "X = sm.add_constant(df['idade'])  # inclui intercepto\n",
    "modelo = sm.OLS(df['gasto'], X)\n",
    "resultado = modelo.fit()\n",
    "\n",
    "# 4. Resultados\n",
    "print(resultado.summary())\n",
    "\n",
    "# 5. Previsões\n",
    "df['gasto_previsto'] = resultado.predict(X)\n",
    "\n",
    "# 6. Visualização\n",
    "plt.figure(figsize=(8, 5))\n",
    "plt.scatter(df['idade'], df['gasto'], color='blue', label='Dados observados')\n",
    "plt.plot(df['idade'], df['gasto_previsto'], color='red', label='Reta ajustada (OLS)')\n",
    "plt.xlabel('Idade')\n",
    "plt.ylabel('Gasto mensal')\n",
    "plt.title('Regressão Linear Simples: Gasto vs. Idade')\n",
    "plt.legend()\n",
    "plt.grid(True)\n",
    "plt.show()"
   ]
  },
  {
   "cell_type": "markdown",
   "metadata": {},
   "source": [
    "A seguir está uma explicação detalhada de cada parte da saída produzida:\n",
    "\n",
    "### **Informações Gerais do Modelo**\n",
    "\n",
    "| Campo                | Valor         | Interpretação                                                                                        |\n",
    "| -------------------- | ------------- | ---------------------------------------------------------------------------------------------------- |\n",
    "| **Dep. Variable**    | `gasto`       | Variável resposta (dependente) do modelo.                                                            |\n",
    "| **Model**            | OLS           | Método de estimação: Mínimos Quadrados Ordinários.                                                   |\n",
    "| **Method**           | Least Squares | Confirma o uso de mínimos quadrados.                                                                 |\n",
    "| **No. Observations** | 5             | Tamanho da amostra (muito pequeno!).                                                                 |\n",
    "| **Df Model**         | 1             | Número de preditores (apenas `idade`).                                                               |\n",
    "| **Df Residuals**     | 3             | Graus de liberdade dos resíduos: $5 - 2 = 3$ (modelo tem 2 parâmetros: intercepto e coef. de idade). |\n",
    "| **Covariance Type**  | nonrobust     | Tipo padrão de covariância, sem robustez contra heterocedasticidade.                                 |\n",
    "\n",
    "---\n",
    "\n",
    "### **Qualidade do Ajuste**\n",
    "\n",
    "| Métrica                | Valor         | Interpretação                                                                                                                |\n",
    "| ---------------------- | ------------- | ---------------------------------------------------------------------------------------------------------------------------- |\n",
    "| **R-squared**          | 0.966         | O modelo explica 96,6% da variância de `gasto`. Muito alto, mas cuidado: pode estar inflado pelo tamanho pequeno da amostra. |\n",
    "| **Adj. R-squared**     | 0.954         | R² ajustado para o número de preditores. Também alto.                                                                        |\n",
    "| **F-statistic**        | 84.00         | Estatística F que testa se `idade` contribui significativamente para explicar `gasto`.                                       |\n",
    "| **Prob (F-statistic)** | 0.00275       | p-valor muito baixo → rejeita-se H₀ de que o modelo não tem poder explicativo.                                               |\n",
    "| **AIC / BIC**          | 31.38 / 30.60 | Critérios de informação (usados para comparação entre modelos). Menores valores indicam melhor ajuste relativo.              |\n",
    "\n",
    "---\n",
    "\n",
    "### **Coeficientes do Modelo**\n",
    "\n",
    "| Parâmetro | Estimativa (`coef`) | Erro Padrão (`std err`) | t | p-valor (`P>|t|`) | Intervalo de 95% |\n",
    "|----------|----------------------|--------------------------|---|-------------------|------------------|\n",
    "| **const** | 64.000               | 9.416                    | 6.797 | 0.007           | [34.033, 93.967] |\n",
    "| **idade** | 2.800                | 0.306                    | 9.165 | 0.003           | [1.828, 3.772] |\n",
    "\n",
    "**Interpretação**:\n",
    "\n",
    "* O intercepto ($\\beta_0 = 64$) indica o gasto estimado quando `idade = 0`.\n",
    "* O coeficiente de `idade` ($\\beta_1 = 2.8$) indica que, para cada aumento de 1 unidade na idade, espera-se um aumento médio de 2.8 unidades no gasto.\n",
    "* Ambos os coeficientes são estatisticamente significativos (p-valor < 0.05).\n",
    "\n",
    "---\n",
    "\n",
    "### **Diagnósticos Residuais**\n",
    "\n",
    "| Métrica                            | Valor                                                                                | Interpretação                                                                               |\n",
    "| ---------------------------------- | ------------------------------------------------------------------------------------ | ------------------------------------------------------------------------------------------- |\n",
    "| **Durbin-Watson**                  | 2.914                                                                                | Próximo de 2 → indica ausência de autocorrelação nos resíduos.                              |\n",
    "| **Omnibus / JB / Skew / Kurtosis** | Valores não confiáveis devido ao tamanho da amostra (Omnibus = nan, JB = 0.901 etc.) | Normalidade dos resíduos não pode ser avaliada de forma confiável com apenas 5 observações. |\n",
    "\n",
    "---\n",
    "\n",
    "### **Observações Finais**\n",
    "\n",
    "* O modelo se ajusta muito bem aos dados, **mas** o número de observações é extremamente pequeno (apenas 5), o que **limita a confiabilidade estatística** das inferências.\n",
    "* A alta explicação (R²) e significância podem ser inflacionadas pelo baixo n.\n",
    "* Recomenda-se **avaliar com uma amostra maior** para obter resultados robustos."
   ]
  },
  {
   "cell_type": "markdown",
   "metadata": {},
   "source": [
    "**Interpretação**\n",
    "\n",
    "A saída deve mostrar algo como:\n",
    "\n",
    "```\n",
    "coeficiente da idade ≈ 2.8\n",
    "intercepto ≈ 65.0\n",
    "```\n",
    "\n",
    "Portanto, a equação da reta ajustada será algo como:\n",
    "\n",
    "$$\n",
    "\\hat{gasto} = 65.0 + 2.8 \\cdot \\text{idade}\n",
    "$$\n",
    "\n",
    "**Interpretação dos coeficientes**:\n",
    "\n",
    "* **Intercepto (65.0)**: Gasto estimado para alguém com idade 0 (não é interpretable literalmente neste contexto, mas é parte da reta).\n",
    "* **Coef. da idade (2.8)**: A cada ano adicional de idade, o gasto mensal esperado aumenta em **R\\$ 2,80**, em média.\n",
    "\n",
    "---"
   ]
  },
  {
   "cell_type": "markdown",
   "metadata": {
    "id": "86ychXfSRuRv"
   },
   "source": [
    "## Exemplo 2 - Regressão Simples"
   ]
  },
  {
   "cell_type": "code",
   "execution_count": 14,
   "metadata": {
    "colab": {
     "base_uri": "https://localhost:8080/"
    },
    "executionInfo": {
     "elapsed": 557,
     "status": "ok",
     "timestamp": 1698439779903,
     "user": {
      "displayName": "Eduardo Bezerra",
      "userId": "15338717559428153474"
     },
     "user_tz": 180
    },
    "id": "oVKlcErT8Svm",
    "outputId": "3019304f-3392-409e-f62e-fb68af65628c"
   },
   "outputs": [
    {
     "name": "stdout",
     "output_type": "stream",
     "text": [
      "                            OLS Regression Results                            \n",
      "==============================================================================\n",
      "Dep. Variable:                     BP   R-squared:                       0.901\n",
      "Model:                            OLS   Adj. R-squared:                  0.896\n",
      "Method:                 Least Squares   F-statistic:                     164.7\n",
      "Date:                Mon, 10 Feb 2025   Prob (F-statistic):           1.70e-10\n",
      "Time:                        19:35:13   Log-Likelihood:                -46.437\n",
      "No. Observations:                  20   AIC:                             96.87\n",
      "Df Residuals:                      18   BIC:                             98.86\n",
      "Df Model:                           1                                         \n",
      "Covariance Type:            nonrobust                                         \n",
      "==============================================================================\n",
      "                 coef    std err          t      P>|t|      [0.025      0.975]\n",
      "------------------------------------------------------------------------------\n",
      "const        112.1263      1.618     69.307      0.000     108.727     115.525\n",
      "Age            0.4548      0.035     12.832      0.000       0.380       0.529\n",
      "==============================================================================\n",
      "Omnibus:                        3.045   Durbin-Watson:                   1.785\n",
      "Prob(Omnibus):                  0.218   Jarque-Bera (JB):                1.272\n",
      "Skew:                           0.409   Prob(JB):                        0.529\n",
      "Kurtosis:                       3.925   Cond. No.                         127.\n",
      "==============================================================================\n",
      "\n",
      "Notes:\n",
      "[1] Standard Errors assume that the covariance matrix of the errors is correctly specified.\n"
     ]
    }
   ],
   "source": [
    "import pandas as pd\n",
    "import statsmodels.api as sm\n",
    "\n",
    "X = df['Age']\n",
    "X = sm.add_constant(X)\n",
    "Y = df['BP']\n",
    "\n",
    "model = sm.OLS(Y, X).fit()\n",
    "print(model.summary())"
   ]
  },
  {
   "cell_type": "markdown",
   "metadata": {
    "id": "Vw8vO9Vz1tc3"
   },
   "source": [
    "## Exemplo 3 - Regressão Múltipla"
   ]
  },
  {
   "cell_type": "code",
   "execution_count": 2,
   "metadata": {
    "colab": {
     "base_uri": "https://localhost:8080/"
    },
    "executionInfo": {
     "elapsed": 325,
     "status": "ok",
     "timestamp": 1698440434934,
     "user": {
      "displayName": "Eduardo Bezerra",
      "userId": "15338717559428153474"
     },
     "user_tz": 180
    },
    "id": "p__BEEPx2DPg",
    "outputId": "994e0591-7155-4880-a1ea-97739d6ade20"
   },
   "outputs": [
    {
     "name": "stdout",
     "output_type": "stream",
     "text": [
      "                            OLS Regression Results                            \n",
      "==============================================================================\n",
      "Dep. Variable:                    mpg   R-squared:                       0.827\n",
      "Model:                            OLS   Adj. R-squared:                  0.815\n",
      "Method:                 Least Squares   F-statistic:                     69.21\n",
      "Date:                Tue, 03 Jun 2025   Prob (F-statistic):           9.11e-12\n",
      "Time:                        14:05:05   Log-Likelihood:                -74.326\n",
      "No. Observations:                  32   AIC:                             154.7\n",
      "Df Residuals:                      29   BIC:                             159.0\n",
      "Df Model:                           2                                         \n",
      "Covariance Type:            nonrobust                                         \n",
      "==============================================================================\n",
      "                 coef    std err          t      P>|t|      [0.025      0.975]\n",
      "------------------------------------------------------------------------------\n",
      "const         37.2273      1.599     23.285      0.000      33.957      40.497\n",
      "hp            -0.0318      0.009     -3.519      0.001      -0.050      -0.013\n",
      "wt            -3.8778      0.633     -6.129      0.000      -5.172      -2.584\n",
      "==============================================================================\n",
      "Omnibus:                        5.303   Durbin-Watson:                   1.362\n",
      "Prob(Omnibus):                  0.071   Jarque-Bera (JB):                4.046\n",
      "Skew:                           0.855   Prob(JB):                        0.132\n",
      "Kurtosis:                       3.332   Cond. No.                         588.\n",
      "==============================================================================\n",
      "\n",
      "Notes:\n",
      "[1] Standard Errors assume that the covariance matrix of the errors is correctly specified.\n"
     ]
    }
   ],
   "source": [
    "import pandas as pd\n",
    "import statsmodels.api as sm\n",
    "\n",
    "# Carregue o conjunto de dados mtcars\n",
    "mtcars = pd.read_csv(\"../data/mtcars.csv\")\n",
    "\n",
    "# Defina as variáveis independentes (X) e a variável dependente (Y)\n",
    "X = mtcars[['hp', 'wt']]\n",
    "Y = mtcars['mpg']\n",
    "\n",
    "# Adicione uma constante ao modelo (intercepto)\n",
    "X = sm.add_constant(X)\n",
    "\n",
    "# Crie o modelo de regressão linear múltipla\n",
    "modelo = sm.OLS(Y, X).fit()\n",
    "\n",
    "# Obtenha os resultados da regressão\n",
    "resultados = modelo.summary()\n",
    "\n",
    "# Imprima os resultados\n",
    "print(resultados)"
   ]
  },
  {
   "cell_type": "code",
   "execution_count": 22,
   "metadata": {
    "colab": {
     "base_uri": "https://localhost:8080/",
     "height": 451
    },
    "executionInfo": {
     "elapsed": 385,
     "status": "ok",
     "timestamp": 1698440447460,
     "user": {
      "displayName": "Eduardo Bezerra",
      "userId": "15338717559428153474"
     },
     "user_tz": 180
    },
    "id": "qfW3titP8Dyx",
    "outputId": "0eb0ffd2-b1c7-4704-f105-9c77762be457"
   },
   "outputs": [
    {
     "data": {
      "text/html": [
       "<div>\n",
       "<style scoped>\n",
       "    .dataframe tbody tr th:only-of-type {\n",
       "        vertical-align: middle;\n",
       "    }\n",
       "\n",
       "    .dataframe tbody tr th {\n",
       "        vertical-align: top;\n",
       "    }\n",
       "\n",
       "    .dataframe thead th {\n",
       "        text-align: right;\n",
       "    }\n",
       "</style>\n",
       "<table border=\"1\" class=\"dataframe\">\n",
       "  <thead>\n",
       "    <tr style=\"text-align: right;\">\n",
       "      <th></th>\n",
       "      <th>const</th>\n",
       "      <th>hp</th>\n",
       "      <th>wt</th>\n",
       "    </tr>\n",
       "  </thead>\n",
       "  <tbody>\n",
       "    <tr>\n",
       "      <th>const</th>\n",
       "      <td>0.0</td>\n",
       "      <td>0.000000</td>\n",
       "      <td>0.000000</td>\n",
       "    </tr>\n",
       "    <tr>\n",
       "      <th>hp</th>\n",
       "      <td>0.0</td>\n",
       "      <td>4700.866935</td>\n",
       "      <td>44.192661</td>\n",
       "    </tr>\n",
       "    <tr>\n",
       "      <th>wt</th>\n",
       "      <td>0.0</td>\n",
       "      <td>44.192661</td>\n",
       "      <td>0.957379</td>\n",
       "    </tr>\n",
       "  </tbody>\n",
       "</table>\n",
       "</div>"
      ],
      "text/plain": [
       "       const           hp         wt\n",
       "const    0.0     0.000000   0.000000\n",
       "hp       0.0  4700.866935  44.192661\n",
       "wt       0.0    44.192661   0.957379"
      ]
     },
     "execution_count": 22,
     "metadata": {},
     "output_type": "execute_result"
    }
   ],
   "source": [
    "X.cov()"
   ]
  },
  {
   "cell_type": "code",
   "execution_count": 23,
   "metadata": {
    "colab": {
     "base_uri": "https://localhost:8080/",
     "height": 451
    },
    "executionInfo": {
     "elapsed": 284,
     "status": "ok",
     "timestamp": 1698440457239,
     "user": {
      "displayName": "Eduardo Bezerra",
      "userId": "15338717559428153474"
     },
     "user_tz": 180
    },
    "id": "r0lMJ3ec8JTb",
    "outputId": "7733d24c-c779-443f-ddb8-26bd03a4387c"
   },
   "outputs": [
    {
     "data": {
      "text/html": [
       "<div>\n",
       "<style scoped>\n",
       "    .dataframe tbody tr th:only-of-type {\n",
       "        vertical-align: middle;\n",
       "    }\n",
       "\n",
       "    .dataframe tbody tr th {\n",
       "        vertical-align: top;\n",
       "    }\n",
       "\n",
       "    .dataframe thead th {\n",
       "        text-align: right;\n",
       "    }\n",
       "</style>\n",
       "<table border=\"1\" class=\"dataframe\">\n",
       "  <thead>\n",
       "    <tr style=\"text-align: right;\">\n",
       "      <th></th>\n",
       "      <th>const</th>\n",
       "      <th>hp</th>\n",
       "      <th>wt</th>\n",
       "    </tr>\n",
       "  </thead>\n",
       "  <tbody>\n",
       "    <tr>\n",
       "      <th>const</th>\n",
       "      <td>NaN</td>\n",
       "      <td>NaN</td>\n",
       "      <td>NaN</td>\n",
       "    </tr>\n",
       "    <tr>\n",
       "      <th>hp</th>\n",
       "      <td>NaN</td>\n",
       "      <td>1.000000</td>\n",
       "      <td>0.658748</td>\n",
       "    </tr>\n",
       "    <tr>\n",
       "      <th>wt</th>\n",
       "      <td>NaN</td>\n",
       "      <td>0.658748</td>\n",
       "      <td>1.000000</td>\n",
       "    </tr>\n",
       "  </tbody>\n",
       "</table>\n",
       "</div>"
      ],
      "text/plain": [
       "       const        hp        wt\n",
       "const    NaN       NaN       NaN\n",
       "hp       NaN  1.000000  0.658748\n",
       "wt       NaN  0.658748  1.000000"
      ]
     },
     "execution_count": 23,
     "metadata": {},
     "output_type": "execute_result"
    }
   ],
   "source": [
    "X.corr()"
   ]
  },
  {
   "cell_type": "code",
   "execution_count": 24,
   "metadata": {
    "colab": {
     "base_uri": "https://localhost:8080/",
     "height": 510
    },
    "executionInfo": {
     "elapsed": 1413,
     "status": "ok",
     "timestamp": 1698440490329,
     "user": {
      "displayName": "Eduardo Bezerra",
      "userId": "15338717559428153474"
     },
     "user_tz": 180
    },
    "id": "9nZLJvEq8Ljb",
    "outputId": "829ee29a-d359-4ee9-eeba-f25415935f5f"
   },
   "outputs": [
    {
     "data": {
      "text/plain": [
       "<Axes: >"
      ]
     },
     "execution_count": 24,
     "metadata": {},
     "output_type": "execute_result"
    },
    {
     "data": {
      "image/png": "[encoded data removed]",
      "text/plain": [
       "<Figure size 640x480 with 2 Axes>"
      ]
     },
     "metadata": {},
     "output_type": "display_data"
    }
   ],
   "source": [
    "import seaborn as sns\n",
    "sns.heatmap(X.corr())"
   ]
  }
 ],
 "metadata": {
  "accelerator": "GPU",
  "colab": {
   "authorship_tag": "ABX9TyPidCJwn8xhIMktsfevCj4Q",
   "gpuType": "T4",
   "provenance": []
  },
  "kernelspec": {
   "display_name": "gcc1625",
   "language": "python",
   "name": "python3"
  },
  "language_info": {
   "codemirror_mode": {
    "name": "ipython",
    "version": 3
   },
   "file_extension": ".py",
   "mimetype": "text/x-python",
   "name": "python",
   "nbconvert_exporter": "python",
   "pygments_lexer": "ipython3",
   "version": "3.13.2"
  }
 },
 "nbformat": 4,
 "nbformat_minor": 0
}
