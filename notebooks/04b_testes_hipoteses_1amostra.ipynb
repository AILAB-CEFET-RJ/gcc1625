{
  "cells": [
    {
      "cell_type": "markdown",
      "metadata": {
        "id": "uAe_yl9F6iVq"
      },
      "source": [
        "# Testes de hipóteses para uma amostra\n",
        "\n",
        "Neste notebook, estudamos dois procedimentos de testes de hipóteses para uma amostra:\n",
        "- $z$-teste\n",
        "- $t$-teste"
      ]
    },
    {
      "cell_type": "markdown",
      "metadata": {
        "id": "Mqj0QnZVEQWe"
      },
      "source": [
        "## z-teste\n",
        "\n",
        "### Definição\n",
        "\n",
        "O teste estatístico conhecido como $z$-teste serve para testar afirmações acerca da **média** de uma população. Esse teste utiliza a estatística denominada $Z$, também chamada de $z$-escore. Essa estatística é definida conforme a equação a seguir.\n",
        "\n",
        "$$\n",
        "Z = \\frac{\\overline{x\n",
        "}-\\mu_0}{\\sigma/\\sqrt{n}}\n",
        "$$\n",
        "\n",
        "Na expressão acima:\n",
        "\n",
        "- $\\mu_0$ corresponde ao valor da média populacional, considerando que a hipótese nula seja verdadeira;\n",
        "\n",
        "- $\\sigma$ é o desvio padrão populacional;\n",
        "\n",
        "- $n$ é o tamamnho da amostra\n",
        "\n",
        "- $\\overline{x}$ é a média amostral\n",
        "\n",
        "Lembre-se de que **erro padrão** (*standard error*) de uma estatística é o desvio padrão de sua distribuição amostral ou uma estimativa desse desvio padrão. O $z$-score indica quantos erros padrão existem entre a média da amostra $\\overline{x}$ e a suposta média da população ($\\mu_0$). Quanto maior o valor do $z$-score, menos provável é a amostra, presumindo que a hipótese nula seja verdadeira.\n",
        "\n",
        "### Passos para aplicação\n",
        "\n",
        "Os passos para aplicar o $z$-teste são os descritos a seguir:\n",
        "\n",
        "1. Declarar as hipóteses\n",
        " - $H_0$: $\\mu = \\mu_0$\n",
        " - $H_a$: $\\mu \\neq \\mu_0$ ou $\\mu > \\mu_0$ ou $\\mu < \\mu_0$;\n",
        "2. Computar estatística de teste ($z$-escore) a partir da amostra;\n",
        "3. Encontrar o $p$-value associado ao $z$-escore;\n",
        "4. Interpretar o resultado (i.e., aceitar ou rejeitar a hipótese nula, comparando os valores do $p$-value e do nível de significância $\\alpha$.).\n",
        "\n",
        "Com relação ao passo 3 acima, dado um $z$-escore, é possível encontrar o $p$-valor correspondente. Há três casos a considerar, dependendo de como a hipótese alternativa foi definida:\n",
        "- Para $H_a: \\mu > \\mu_0$ $\\rightarrow$ $p = \\Pr(Z > z)$. Área da cauda à direita de $z$ (*right-sided $p$-value*).\n",
        "- Para $H_a: \\mu < \\mu_0$ $\\rightarrow$ $p = \\Pr(Z < z)$. Área da cauda à esquerda de $-z$ (*left-sided p-value*).\n",
        "- Para $H_a: \\mu \\neq \\mu_0$ $\\rightarrow$ $p = 2 \\times \\Pr(Z < -z) = 2 \\times \\Pr(Z > z)$. Soma das áreas de ambas as caudas (*two-sided $p$-value*).\n",
        "\n",
        "Com relação ao passo 4, a decisão por rejeitar $H_0$ ou não é feita comparando os valores de $\\alpha$ e do $p$-value. Se o $p$-value for menor do que $\\alpha$, dizemos que há evidência forte o suficiente para rejeitar $H_0$. Veja o esquema da figura a seguir ([fonte](https://towardsdatascience.com/what-is-p-value-370056b8244d))\n",
        "\n",
        "<center>\n",
        "<img src=\"https://miro.medium.com/max/1400/1*_LKvLWt0fMOJdfOWkwPXTA.png\" width=\"700px\"/>\n",
        "</center>\n"
      ]
    },
    {
      "cell_type": "markdown",
      "metadata": {
        "id": "gHtdKG8IqMeU"
      },
      "source": [
        "### Exemplos"
      ]
    },
    {
      "cell_type": "markdown",
      "metadata": {
        "id": "dhehVhP-sBLU"
      },
      "source": [
        "#### Exemplo 1\n",
        "\n",
        "Exemplo 1 (Fonte: Morettin & Bussab, Estatística Básica 5a edição, pág 334.) A associação das indústrias metalúrgicas está preocupada com o tempo perdido com acidentes de trabalho, cuja média nos últimos tempos tem sido 60 horas/homem por ano e desvio padrão de 20 horas/homem. Tentou-se um programa de prevenção de acidentes, após o qual foi tomada uma amostra de nove indústrias e medido o número de horas/homens perdidos por acidentes, que foi de 50 horas.\n",
        "Você diria, no nível de 5%, que há evidência de melhoria?\n",
        "\n",
        "**Solução**\n",
        "\n",
        "1. Formular $H_0$ e $H_a$\n",
        "- $H_0: \\mu = 60$\n",
        "- $H_a: \\mu < 60$\n",
        "\n",
        "2. Computar $z$-escore\n",
        "$$\n",
        "Z = \\frac{\\overline{x} - \\mu_0}{\\sigma/\\sqrt{n}} = \\frac{50 - 60}{20/\\sqrt{9}} = -1.5\n",
        "$$\n",
        "\n",
        "3. Encontrar o p-value\n",
        "\n",
        "$$\n",
        "p = \\Pr(Z < -1.5) \\approx 0.067\n",
        "$$\n",
        "\n",
        "4. Interpretar o resultado\n",
        "\n",
        "$$\n",
        "\\alpha = 0.05\n",
        "$$\n",
        "\n",
        "$$\n",
        "p > \\alpha\n",
        "$$\n",
        "\n",
        "Conclusão: não é possível rejeitar a hipótese nula. Em outras palavras, não há evidência para afirmar que o programa de prevenção de acidentes tenha causado uma diminuição na quantidade de tempo perdido."
      ]
    },
    {
      "cell_type": "code",
      "execution_count": null,
      "metadata": {
        "colab": {
          "base_uri": "https://localhost:8080/"
        },
        "id": "B-F7YnwknYnI",
        "outputId": "4c4779ad-07e8-406f-84fe-5f44342c0a65"
      },
      "outputs": [
        {
          "data": {
            "text/plain": [
              "-1.5"
            ]
          },
          "execution_count": 2,
          "metadata": {
            "tags": []
          },
          "output_type": "execute_result"
        }
      ],
      "source": [
        "import numpy as np\n",
        "(50-60)/(20/np.sqrt(9))"
      ]
    },
    {
      "cell_type": "code",
      "execution_count": null,
      "metadata": {
        "colab": {
          "base_uri": "https://localhost:8080/"
        },
        "id": "Lob7r13roIcC",
        "outputId": "9d703d6a-668b-4df8-e21f-e97bc6c93052"
      },
      "outputs": [
        {
          "data": {
            "text/plain": [
              "0.06680720126885807"
            ]
          },
          "execution_count": 2,
          "metadata": {},
          "output_type": "execute_result"
        }
      ],
      "source": [
        "from scipy.stats import norm\n",
        "\n",
        "norm.cdf(-1.5)"
      ]
    },
    {
      "cell_type": "code",
      "execution_count": null,
      "metadata": {
        "colab": {
          "base_uri": "https://localhost:8080/"
        },
        "id": "vkVd7EOFZzmP",
        "outputId": "4e892576-630d-4978-978f-0ea1e4e6e24a"
      },
      "outputs": [
        {
          "data": {
            "text/plain": [
              "0.06680720126885807"
            ]
          },
          "execution_count": 4,
          "metadata": {},
          "output_type": "execute_result"
        }
      ],
      "source": [
        "from scipy.stats import norm\n",
        "\n",
        "norm.cdf(-1.5)"
      ]
    },
    {
      "cell_type": "markdown",
      "metadata": {
        "id": "CSUHK_i4kvVy"
      },
      "source": [
        "#### Exemplo 2\n",
        "\n",
        "(Fonte: Morettin & Bussab, Estatística Básica 5a edição, pág 334.). Uma companhia de cigarros anuncia que o índice médio de nicotina dos cigarros que fabrica está abaixo de 23 mg por cigarro.\n",
        "Um laboratório realiza seis análises desse índice, obtendo: 27, 24, 21, 25, 26, 22.\n",
        "Sabe-se que o índice de nicotina se distribui normalmente, com variância igual a 4,86 mg2.\n",
        "Pode-se aceitar, no nível de 10%, a afirmação do fabricante?\n",
        "\n",
        "**Solução**\n",
        "\n",
        "1. Formular das hipóteses\n",
        " - $H_0: \\mu \\leq 23$\n",
        " - $H_a: \\mu > 23$\n",
        "\n",
        "2. Calcular da estatística do teste\n",
        "$$\n",
        "Z = \\frac{\\overline{x}-\\mu_0}{\\sigma/\\sqrt{n}} = \\frac{24.17-23}{2.20 / 2.45} \\approx 1.302\n",
        "$$\n",
        "\n",
        "3. Computar o $p$-value: $p = \\Pr(Z > 1.302) \\approx 0.096$\n",
        "\n",
        "4. Interpretar o resultado ($\\alpha = 0.1$)\n",
        "\n",
        "$$\n",
        "(p < \\alpha) \\rightarrow \\text{rejeitar } H_0\n",
        "$$\n",
        "\n",
        "Conclusão: há evidência para rejeitar a hipótese nula. Em outras palavras, devemos refutar a alegação do fabricante."
      ]
    },
    {
      "cell_type": "code",
      "execution_count": null,
      "metadata": {
        "colab": {
          "base_uri": "https://localhost:8080/"
        },
        "id": "YpXGsWAUZz0e",
        "outputId": "b405178b-da69-415e-fa6a-8bf6778ddd03"
      },
      "outputs": [
        {
          "name": "stdout",
          "output_type": "stream",
          "text": [
            "2.449489742783178\n",
            "2.2045407685048604\n"
          ]
        }
      ],
      "source": [
        "import numpy as np\n",
        "print(np.sqrt(6))\n",
        "print(np.sqrt(4.86))"
      ]
    },
    {
      "cell_type": "code",
      "execution_count": null,
      "metadata": {
        "colab": {
          "base_uri": "https://localhost:8080/"
        },
        "id": "dZHIo8Icssu1",
        "outputId": "ba11a162-a501-41dd-be99-6fb5e703e187"
      },
      "outputs": [
        {
          "data": {
            "text/plain": [
              "1.3029545454545473"
            ]
          },
          "execution_count": 3,
          "metadata": {
            "tags": []
          },
          "output_type": "execute_result"
        }
      ],
      "source": [
        "(24.17-23)/(2.20/2.45)"
      ]
    },
    {
      "cell_type": "code",
      "execution_count": null,
      "metadata": {
        "colab": {
          "base_uri": "https://localhost:8080/"
        },
        "id": "zqGHeeOnsIPs",
        "outputId": "e5f344d1-e4df-4f61-c7be-7c64916d5449"
      },
      "outputs": [
        {
          "data": {
            "text/plain": [
              "24.166666666666668"
            ]
          },
          "execution_count": 4,
          "metadata": {
            "tags": []
          },
          "output_type": "execute_result"
        }
      ],
      "source": [
        "import numpy as np\n",
        "amostra = [27, 24, 21, 25, 26, 22]\n",
        "np.mean(amostra)"
      ]
    },
    {
      "cell_type": "code",
      "execution_count": null,
      "metadata": {
        "colab": {
          "base_uri": "https://localhost:8080/"
        },
        "id": "C5n3CwYBsb1A",
        "outputId": "69981920-1749-4232-9ee8-f05187e46cd4"
      },
      "outputs": [
        {
          "data": {
            "text/plain": [
              "2.2045407685048604"
            ]
          },
          "execution_count": 5,
          "metadata": {
            "tags": []
          },
          "output_type": "execute_result"
        }
      ],
      "source": [
        "np.sqrt(4.86)"
      ]
    },
    {
      "cell_type": "code",
      "execution_count": null,
      "metadata": {
        "colab": {
          "base_uri": "https://localhost:8080/"
        },
        "id": "S6s6k0Htsme2",
        "outputId": "55e08ea1-edf7-46d9-c7a2-1e64d1b4144c"
      },
      "outputs": [
        {
          "data": {
            "text/plain": [
              "2.449489742783178"
            ]
          },
          "execution_count": 6,
          "metadata": {
            "tags": []
          },
          "output_type": "execute_result"
        }
      ],
      "source": [
        "np.sqrt(6)"
      ]
    },
    {
      "cell_type": "code",
      "execution_count": null,
      "metadata": {
        "colab": {
          "base_uri": "https://localhost:8080/"
        },
        "id": "x4GokzG5tEs5",
        "outputId": "71359afb-7400-45f1-93bd-0eed8ea958b3"
      },
      "outputs": [
        {
          "name": "stdout",
          "output_type": "stream",
          "text": [
            "0.09645819280200052\n"
          ]
        }
      ],
      "source": [
        "from scipy.stats import norm\n",
        "print(1-norm.cdf(1.302))"
      ]
    },
    {
      "cell_type": "markdown",
      "metadata": {
        "id": "ERxAGOk7rCA-"
      },
      "source": [
        "#### Exemplo 3\n",
        "\n",
        "(Fonte: Morettin & Bussab, Estatística Básica 5a edição, pág 334.)\n",
        "Operários de uma empresa são treinados a operarem uma máquina, cujo tempo X (em horas) de aprendizado é anotado.\n",
        "Observou-se que X segue de perto a distribuição N(25, 100).\n",
        "Uma nova técnica de ensino, que supostamente melhora o tempo de aprendizado, foi testada em 16 novos empregados, cujo tempo médio de aprendizado foi de 20,5 horas.\n",
        "Você diria, no nível significância de 5%, que a nova técnica é melhor que a anterior?"
      ]
    },
    {
      "cell_type": "markdown",
      "metadata": {
        "id": "pK_t8MhyimvJ"
      },
      "source": [
        "1. Formulação das hipóteses nula e alternativa\n",
        "- $H_0$: $\\mu = 25$\n",
        "- $H_a$: $\\mu < 25$\n",
        "\n",
        "2. Computar a estatística de teste ($z$-score)\n",
        "\n",
        "$$\n",
        "Z = \\frac{\\overline{x} - \\mu_0}{\\sigma/\\sqrt{n}} = \\frac{20.5 - 25}{10/4} = -1.8\n",
        "$$\n",
        "\n",
        "3. Computar o $p$-valor\n",
        "\n",
        "$$\n",
        "p = \\Pr(Z < -1.8) = 0.04\n",
        "$$\n",
        "\n",
        "4. Interpretação de resultado.\n",
        "\n",
        "$$\n",
        "\\alpha = 0.05\n",
        "$$\n",
        "\n",
        "Conclusão: há evidência para rejeitar a hipótese nula. Há evidência para afirmar que o treinamento foi efetivo."
      ]
    },
    {
      "cell_type": "code",
      "execution_count": null,
      "metadata": {
        "colab": {
          "base_uri": "https://localhost:8080/"
        },
        "id": "M_Eh0yExjlV7",
        "outputId": "f6b8c15e-8af8-43d6-e1a9-3fb91691cd20"
      },
      "outputs": [
        {
          "name": "stdout",
          "output_type": "stream",
          "text": [
            "-1.8\n"
          ]
        }
      ],
      "source": [
        "z = (20.5 - 25)/(10/4)\n",
        "print(z)"
      ]
    },
    {
      "cell_type": "code",
      "execution_count": null,
      "metadata": {
        "colab": {
          "base_uri": "https://localhost:8080/"
        },
        "id": "hzVMQBUcj7sn",
        "outputId": "1ccc7962-662e-40cf-91b1-b47e57faf02f"
      },
      "outputs": [
        {
          "name": "stdout",
          "output_type": "stream",
          "text": [
            "0.03593031911292579\n"
          ]
        }
      ],
      "source": [
        "from scipy.stats import norm\n",
        "print(norm.cdf(-1.8))"
      ]
    },
    {
      "cell_type": "markdown",
      "metadata": {
        "id": "JZXaeKTxB64c"
      },
      "source": [
        "#### Exemplo 4\n",
        "\n",
        "(Fonte: http://www.r-tutor.com/elementary-statistics/hypothesis-testing/two-tailed-test-population-mean-known-variance)\n",
        "\n",
        "O peso médio dos pinguins-rei encontrados em uma dada região da Antártica no ano passado foi 15,4 kg.\n",
        "Em uma amostra de 35 pinguins coletada no mesmo período deste ano e na mesma região, o peso médio é 14,6 kg.\n",
        "Suponha que o desvio padrão populacional seja 2,5 kg.\n",
        "No nível de significância de 0,05, podemos rejeitar a hipótese nula de que o peso médio do pinguim não difere do ano passado?"
      ]
    },
    {
      "cell_type": "code",
      "execution_count": null,
      "metadata": {
        "colab": {
          "base_uri": "https://localhost:8080/"
        },
        "id": "ZjTbeOveX-lr",
        "outputId": "f32ef232-9528-434a-cae2-2e8500729e4d"
      },
      "outputs": [
        {
          "name": "stdout",
          "output_type": "stream",
          "text": [
            "-1.8931455305918787\n",
            "0.058338518686896344\n"
          ]
        }
      ],
      "source": [
        "import numpy as np\n",
        "x_bar = 14.6\n",
        "n = 35\n",
        "sigma = 2.5\n",
        "mu_zero = 15.4\n",
        "z_score = (x_bar - mu_zero)/ (sigma/np.sqrt(n))\n",
        "print(z_score)\n",
        "\n",
        "p_valor = 2 * norm.cdf(z_score)\n",
        "print(p_valor)"
      ]
    },
    {
      "cell_type": "markdown",
      "metadata": {
        "id": "Sc3SQFC5UTXQ"
      },
      "source": [
        "### Condições de aplicabilidade\n",
        "\n",
        "A seguir, as condições que devem ser verificadas para que o z-teste possa ser aplicado:\n",
        "\n",
        "- Valor de $\\sigma$ é conhecido (em vez de calculado a partir dos dados da amostra),\n",
        "- População é aproximadamente normal ou amostra grande (n>30). No primeiro caso, devemos aplicar algum **teste de normalidade**.\n",
        "- Amostra aleatória simples da população,\n",
        "- Dados são válidos (i.e., amostra é IID - independente e identicamente distribuída).\n"
      ]
    },
    {
      "cell_type": "markdown",
      "metadata": {
        "id": "vq0AF-bho_Ua"
      },
      "source": [
        "## t-teste\n",
        "\n",
        "No z-teste, consideramos que o valor de $\\sigma$ (desvio padrão populacional) é conhecido na computação do z-escore. Em situações nas quais esse parâmetro não é conhecido, poderíamos pensar (erroneamente) que podemos computar o desvio padrão $s$ da amostra e usá-lo no lugar de $\\sigma$ para computar o erro padrão:\n",
        "\n",
        "Entretanto, o uso de $s$ em vez de $\\sigma$ adicionaria ainda mais incerteza às inferências realizadas. Nesse caso (em que $\\sigma$ é desconhecido), não podemos usar o z-escore como estatística. Em vez disso, devemos usar o t-escore, em um procedimento conhecido como **t-teste**.\n",
        "\n",
        "> O *t-teste para uma amostra* é um teste de hipótese para verificar uma afirmação acerca de média de uma população. No t-teste, a estatística segue a distribuição t de Student sob a hipótese nula. Esse teste deve ser aplicado quando o erro padrão (por conta de $\\sigma$ ser desconhecido) é substituído por uma estimativa computada a partir dos dados da amostra.\n",
        "\n",
        "Assim como no z-teste, o objetivo do t-teste é verificar uma alegação feita acerca da média de uma população. Sendo assim, o contexto de uso to t-teste é aquele em que devemos realizar uma comparação entre uma média amostral e um valor dado (valor esse correspondente à média populacional, considerando que a hipóteses nula seja verdadeira), quando a variância da população é desconhecida.\n",
        "\n",
        "Os passos para aplicar o t-teste são os descritos a seguir:\n",
        "\n",
        "1. Declarar as hipóteses\n",
        " - $H_0$: $\\mu = \\mu_0$\n",
        " - $H_a$: $\\mu \\neq \\mu_0$ ou $\\mu > \\mu_0$ ou $\\mu < \\mu_0$;\n",
        "2. Computar estatística de teste (t-escore)\n",
        "\n",
        "a partir da amostra;\n",
        "3. Encontrar o $p$-value associado ao $t$-escore;\n",
        "4. Interpretar o resultado, i.e., aceitar ou rejeitar a hipótese nula.\n",
        "\n",
        "Compare o procedimento acima com o fornecido anteriormente relativo ao z-teste. Você deve concluir que a única diferença está no passo 2: em vez de usarmos o z-escore, usamos o t-escore, que é a estatístca usada no t-teste. O t-escore segue a distribuição $t$ de Student. A definição dessa estatística é dada a seguir.\n",
        "\n",
        "$$\n",
        "t = \\frac{\\overline{x} - \\mu_0}{s/\\sqrt{n}}\n",
        "$$\n",
        "\n",
        "Na expressão acima, temos que:\n",
        "\n",
        "- $n$ é a quantidade de elementos da amostra;\n",
        "\n",
        "- $\\overline{x}$ é o valor da média computado na amostra disponível;\n",
        "\n",
        "- $s$ é o valor do desvio padrão computado na amostra disponível;\n",
        "\n",
        "- $\\mu_0$ é o valor da média populacional, considerando que $H_0$ seja verdadeira.\n",
        "\n",
        "A estatística t segue a disctribuição t de Student com parâmetro $\\nu$, em que $\\nu = n-1$.\n"
      ]
    },
    {
      "cell_type": "code",
      "execution_count": null,
      "metadata": {
        "colab": {
          "base_uri": "https://localhost:8080/"
        },
        "id": "r0eW59fjTd08",
        "outputId": "9431e814-dbae-441e-d9ff-a3acfe6faf49"
      },
      "outputs": [
        {
          "name": "stdout",
          "output_type": "stream",
          "text": [
            "2890.5\n",
            "719.8034068024716\n"
          ]
        }
      ],
      "source": [
        "import numpy as np\n",
        "amostra = [2998, 3740, 2031, 2804, 2454, 2780, 2203, 3803, 3948, 2144]\n",
        "mu_0 = np.mean(amostra)\n",
        "print(mu_0)\n",
        "\n",
        "erro_amostral = np.std(amostra, ddof=1)\n",
        "print(erro_amostral)"
      ]
    },
    {
      "cell_type": "markdown",
      "metadata": {
        "id": "XwYnSIZjrhjq"
      },
      "source": [
        "### Exemplo\n",
        "\n",
        "Considere que os números a seguir correspondem a uma amostra aleatória simples de tamanho 10 de pesos de recém-nascidos, medidos em gramas.\n",
        "\n",
        "``\n",
        "2998, 3740, 2031, 2804, 2454, 2780, 2203, 3803, 3948, 2144\n",
        "``\n",
        "\n",
        "Seja testar, no nível de significância de 10%, a seguinte alegação usando essa amostra:\n",
        "\n",
        "> Bebês com [Sudden Infant Death Syndrome](https://en.wikipedia.org/wiki/Sudden_infant_death_syndrome) (SIDS) possuem peso de nascimento médio diferente daquele encontrado na população de bebês em geral, que é $\\mu_0$ = 3300 gramas.\n",
        "\n",
        "Sendo assim, as hipóteses nula e alternativa podem ser declaradas da seguinte forma:\n",
        "\n",
        "##### (1) Formulação das hipóteses\n",
        "\n",
        "- $H_0: \\mu = 3300$\n",
        "- $H_a: \\mu \\neq 3300$ (two-sided)\n",
        "\n",
        "#####  (2) Computação do $t$-score:\n",
        "\n",
        "A partir da amostra aleatória simples (n = 10) de pesos (medidos em gramas) no nascimento de bebês com SIDS, calculamos:\n",
        "\n",
        "- $\\overline{x} = 2890.5$ gramas\n",
        "- $s = 720$ gramas\n",
        "\n",
        "A seguir, computamos a estatística t (i.e., o t-escore):\n",
        "\n",
        "$$\n",
        "t = \\frac{\\overline{x} - \\mu_0}{s/\\sqrt{n}} = \\frac{2890.5 - 3300}{720/\\sqrt{10}} = -1.80\n",
        "$$\n",
        "\n",
        "Essa estatística segue a distribuição t de Student com parâmetro $\\nu = 10 - 1 = 9$ (graus de liberdade).\n",
        "\n",
        "Note que estamos testando a validade da hipótese $H_0: \\mu_0 = 3300$ gramas. No teste bicaudal (*two-sided test*) com nível de significância 10%, encontramos p-value = 0.1054. Esse valor é maior do que 0.10. Sendo assim, a conclusão é que não podemos rejeitar $H_0$, dado que a evidência contra ela é fraca: a média amostral (2890.5 gramas) não é significativamente diferente de 3300 gramas. Portanto, não há evidência suficiente para dar suporte à alegação feita acima.\n"
      ]
    },
    {
      "cell_type": "markdown",
      "metadata": {
        "id": "M3loNEI6tudg"
      },
      "source": [
        "A célula de código a seguir ilustra de que forma o valores usados nos cálculos do exemplo acima poderiam ser calculados."
      ]
    },
    {
      "cell_type": "code",
      "execution_count": null,
      "metadata": {
        "colab": {
          "base_uri": "https://localhost:8080/"
        },
        "id": "sivlafqFtxbH",
        "outputId": "4afddde9-6ae5-4550-fe78-951eb525c1bd"
      },
      "outputs": [
        {
          "name": "stdout",
          "output_type": "stream",
          "text": [
            "Média da amostra de bebês: 2890.5000\n",
            "Desvio padrão da amostra de bebês: 719.8034\n",
            "Desvio padrão não corrigido: 682.8655\n",
            "t-escore: -1.8964\n",
            "p-valor: 0.0904\n"
          ]
        }
      ],
      "source": [
        "import numpy as np\n",
        "from scipy.stats import t\n",
        "\n",
        "amostra = np.array([2998, 3740, 2031, 2804, 2454, 2780, 2203, 3803, 3948, 2144])\n",
        "\n",
        "# tamanho da amostra\n",
        "n = 10\n",
        "\n",
        "mu_0 = 3300\n",
        "nu = n-1\n",
        "\n",
        "x_bar = np.mean(amostra)\n",
        "print(\"Média da amostra de bebês: %.4f\" % x_bar)\n",
        "\n",
        "s = np.std(amostra, ddof=1)\n",
        "print(\"Desvio padrão da amostra de bebês: %.4f\" % s)\n",
        "\n",
        "t_score = (x_bar - mu_0)/(s/np.sqrt(n))\n",
        "print(\"t-escore: %.4f\" % t_score)\n",
        "\n",
        "# repare que é um teste bicaudal\n",
        "pvalue = 2 * t.cdf(t_score, df=nu)\n",
        "print(\"p-valor: %.4f\" % pvalue)"
      ]
    },
    {
      "cell_type": "markdown",
      "metadata": {
        "id": "kRyyIJTDu8Et"
      },
      "source": [
        "Na célula de código acima, repare o uso do argumento ddof. Da documentação do numpy:\n",
        "\n",
        ">``ddof: int``, optional\n",
        "Means Delta Degrees of Freedom. The divisor used in calculations is N - ddof, where N represents the number of elements. By default ddof is zero.\n",
        "\n"
      ]
    },
    {
      "cell_type": "markdown",
      "metadata": {
        "id": "X6GeAruS5kVw"
      },
      "source": [
        "### Condições de aplicabilidade\n",
        "\n",
        "Para podermos aplicar o t-teste para uma amotra, devemos nos assegurar de que as condições a seguir são satisfeitas.\n",
        "\n",
        "1. Amostra foi obtida por meio de amostragem aleatória simples;\n",
        "\n",
        "2. A população é normalmente distribuída ou a amostra é grande."
      ]
    }
  ],
  "metadata": {
    "colab": {
      "provenance": [],
      "toc_visible": true
    },
    "kernelspec": {
      "display_name": "Python 3",
      "name": "python3"
    }
  },
  "nbformat": 4,
  "nbformat_minor": 0
}
