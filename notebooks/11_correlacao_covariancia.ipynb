{
 "cells": [
  {
   "cell_type": "markdown",
   "id": "7e4b1006",
   "metadata": {},
   "source": [
    "# Covariance and Correlation\n",
    "\n",
    "Este notebook descreve dois conceitos fundamentais da estatística:\n",
    "\n",
    "- **Covariância**\n",
    "- **Correlação**\n",
    "\n",
    "Eles são usados para entender relações entre variáveis quantitativas."
   ]
  },
  {
   "cell_type": "markdown",
   "id": "350da0c1",
   "metadata": {},
   "source": [
    "## 1. Covariância\n",
    "\n",
    "A covariância mede a **tendência conjunta** de variação de duas variáveis.\n",
    "\n",
    "### Fórmula populacional:\n",
    "$$\n",
    "\\text{Cov}(X, Y) = \\frac{1}{n} \\sum_{i=1}^{n} (x_i - \\mu_X)(y_i - \\mu_Y)\n",
    "$$\n",
    "\n",
    "### Fórmula amostral:\n",
    "$$\n",
    "\\text{Cov}(X, Y) = \\frac{1}{n-1} \\sum_{i=1}^{n} (x_i - \\bar{x})(y_i - \\bar{y})\n",
    "$$\n",
    "\n",
    "🔹 Valores positivos indicam que as variáveis tendem a crescer juntas.  \n",
    "🔹 Valores negativos indicam que uma tende a crescer quando a outra diminui."
   ]
  },
  {
   "cell_type": "code",
   "execution_count": null,
   "id": "4332a158",
   "metadata": {},
   "outputs": [],
   "source": [
    "import numpy as np\n",
    "import pandas as pd\n",
    "import matplotlib.pyplot as plt\n",
    "\n",
    "# Exemplo simples\n",
    "x = np.array([1, 2, 3, 4, 5])\n",
    "y = np.array([2, 4, 6, 8, 10])\n",
    "\n",
    "cov = np.cov(x, y, ddof=1)[0, 1]\n",
    "print(f\"Covariância entre x e y: {cov:.2f}\")"
   ]
  },
  {
   "cell_type": "code",
   "execution_count": null,
   "id": "24a750ab",
   "metadata": {},
   "outputs": [],
   "source": [
    "# Visualizando a relação entre x e y\n",
    "plt.scatter(x, y)\n",
    "plt.title(\"Relação linear entre x e y\")\n",
    "plt.xlabel(\"x\")\n",
    "plt.ylabel(\"y\")\n",
    "plt.grid(True)\n",
    "plt.show()"
   ]
  },
  {
   "cell_type": "markdown",
   "id": "b5a0bb14",
   "metadata": {},
   "source": [
    "## 2. Correlação\n",
    "\n",
    "A **correlação de Pearson** é uma padronização da covariância, limitada ao intervalo de -1 a 1.\n",
    "\n",
    "### Fórmula:\n",
    "$$\n",
    "r_{XY} = \\frac{\\text{Cov}(X, Y)}{\\sigma_X \\cdot \\sigma_Y}\n",
    "$$\n",
    "\n",
    "- $r \\approx 1$: correlação positiva forte  \n",
    "- $r \\approx -1$: correlação negativa forte  \n",
    "- $r \\approx 0$: sem correlação linear"
   ]
  },
  {
   "cell_type": "code",
   "execution_count": null,
   "id": "7b8db21d",
   "metadata": {},
   "outputs": [],
   "source": [
    "# Correlação de Pearson\n",
    "corr = np.corrcoef(x, y)[0, 1]\n",
    "print(f\"Correlação entre x e y: {corr:.2f}\")"
   ]
  },
  {
   "cell_type": "markdown",
   "id": "727bb7ed",
   "metadata": {},
   "source": [
    "## 3. Exercício com Dados Reais\n",
    "Vamos usar um dataset fictício de estudantes:"
   ]
  },
  {
   "cell_type": "code",
   "execution_count": null,
   "id": "41428007",
   "metadata": {},
   "outputs": [],
   "source": [
    "data = {\n",
    "    \"Horas de Estudo\": [1, 2, 3, 4, 5, 6, 7, 8],\n",
    "    \"Nota na Prova\":   [52, 55, 60, 63, 68, 71, 75, 80]\n",
    "}\n",
    "df = pd.DataFrame(data)\n",
    "df"
   ]
  },
  {
   "cell_type": "code",
   "execution_count": null,
   "id": "0899e35d",
   "metadata": {},
   "outputs": [],
   "source": [
    "# Calculando covariância e correlação\n",
    "cov = np.cov(df[\"Horas de Estudo\"], df[\"Nota na Prova\"], ddof=1)[0, 1]\n",
    "corr = np.corrcoef(df[\"Horas de Estudo\"], df[\"Nota na Prova\"])[0, 1]\n",
    "\n",
    "print(f\"Covariância: {cov:.2f}\")\n",
    "print(f\"Correlação: {corr:.2f}\")"
   ]
  },
  {
   "cell_type": "code",
   "execution_count": null,
   "id": "9e6a2f1b",
   "metadata": {},
   "outputs": [],
   "source": [
    "# Gráfico de dispersão\n",
    "plt.scatter(df[\"Horas de Estudo\"], df[\"Nota na Prova\"])\n",
    "plt.title(\"Nota vs Horas de Estudo\")\n",
    "plt.xlabel(\"Horas de Estudo\")\n",
    "plt.ylabel(\"Nota na Prova\")\n",
    "plt.grid(True)\n",
    "plt.show()"
   ]
  },
  {
   "cell_type": "markdown",
   "id": "c4b8c5db",
   "metadata": {},
   "source": [
    "## 4. Interpretação\n",
    "\n",
    "- A covariância indica direção da relação, mas **não** sua força padronizada.\n",
    "- A correlação indica **força e direção** da relação **linear**.\n",
    "- Correlação não implica causalidade!"
   ]
  },
  {
   "cell_type": "markdown",
   "id": "0055f6d8",
   "metadata": {},
   "source": [
    "## 5. Exercício Proposto\n",
    "\n",
    "Utilize os dados abaixo:\n",
    "\n",
    "```python\n",
    "altura = [1.60, 1.65, 1.70, 1.75, 1.80]\n",
    "peso =   [55,   60,   66,   72,   77]\n",
    "```\n",
    "\n",
    "1. Calcule a covariância entre altura e peso.  \n",
    "2. Calcule a correlação entre altura e peso.  \n",
    "3. Faça um gráfico de dispersão e interprete os resultados."
   ]
  },
  {
   "cell_type": "code",
   "execution_count": null,
   "id": "14d3c1c0",
   "metadata": {},
   "outputs": [],
   "source": [
    "# Espaço reservado para a resposta do aluno"
   ]
  }
 ],
 "metadata": {
  "language_info": {
   "name": "python"
  }
 },
 "nbformat": 4,
 "nbformat_minor": 5
}
