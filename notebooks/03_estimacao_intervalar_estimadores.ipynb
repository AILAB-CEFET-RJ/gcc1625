{
 "cells": [
  {
   "cell_type": "markdown",
   "metadata": {
    "id": "jp4avexSVNab"
   },
   "source": [
    "## Estimador\n",
    "\n",
    "> Um *estimador* $\\widehat{\\theta}$ é uma estatística (i.e. função da amostra) cujas realizações são estimativas pontuais para algum parâmetro da população.\n",
    "\n",
    "**Exemplo 1** Na pesquisa sobre o bandejão, precisamos de um estimados para $p$, a proporção de indivíduos favoráveis à construção do bandejão. considere que $x_1, x_2, \\ldots, x_{500}$ seja a amostra colhida, em que\n",
    "<!-- $$\n",
    "\t\t\tx_i = \\left\\{ \n",
    "\t\t\t\t\\begin{array}{rl} \\nonumber\n",
    "\t\t\t\t \t1\t& \\mbox{ se a i-ésima pessoa na amostra responder SIM}  \\\\\n",
    "\t\t\t\t  0 & \\mbox{ se a i-ésima pessoa na amostra responder NÃO}\n",
    "\t\t\t\t\\end{array} \\right.\n",
    "$$ -->\n",
    "\n",
    "Se $Y_n = \\sum_{i=1}^{n}x_i$, então $Y_n$ tem [distribuição binomial](https://pt.wikipedia.org/wiki/Distribuição_binomial) com parâmetros $n$ e $p$, e o problema consiste em estimar $p$. \n",
    "\n",
    "Um possível *estimador* de $p$ é a estatística $\\widehat{p}$, definida como:\n",
    "\n",
    "<!-- $$\n",
    "\t\t\\widehat{p} = \\frac{Y_n}{n} = \\frac{\\sum_{i=1}^{n}X_i}{n} = \\frac{\\mbox{quantidade de SIM}}{\\mbox{quantidade de pessoas da amostra}}\n",
    "$$ -->\n",
    "\n",
    "Voltando ao exemplo do bandejão, a estimativa pontual obtida para o parâmetro $p$ na pesquisa sobre o bandejão foi de 60\\%. Esse valor corresponde a uma realização do estimador $\\widehat{p}$.\n",
    "\n",
    "**Exemplo 2**. A estatística $\\overline{x}$, denominada *média amostral* e definida por\n",
    "$$\n",
    "\\overline{x}\\,={\\frac {1}{n}}\\sum _{i=1}^{n}x_{i}\n",
    "$$\n",
    "é um estimador para $\\mu$, a média populacional."
   ]
  },
  {
   "cell_type": "markdown",
   "metadata": {
    "id": "f4hWIACW4yo3"
   },
   "source": [
    "### Precisão de um estimador\n",
    "\n",
    "> A **precisão** de um estimador $\\widehat{\\theta}$ é medida pela variância e indica o quão próximo em torno de $\\theta$ os valores de $\\widehat{\\theta}$ irão se distribuir, considerando todas as amostras possíveis:\n",
    "$$\n",
    "\\operatorname{Var}(\\widehat{\\theta}) = E[\\widehat{\\theta} - E(\\widehat{\\theta})]^2\n",
    "$$"
   ]
  },
  {
   "cell_type": "markdown",
   "metadata": {
    "id": "yERVOHZ02eTp"
   },
   "source": [
    "### Viés de um estimador\n",
    "\n",
    "> O viés de um estimador (*estimator bias*) é definido como a diferença entre o valor esperado desse estimador e o valor do parâmetro populacional correspondente.\n",
    "$$\n",
    "\\operatorname{Bias(\\hat{\\theta})} = E[\\hat{\\theta}] - \\theta\n",
    "$$\n",
    "\n",
    "##### Estimador não enviesado\n",
    "> Se $\\theta$ é um parâmetro populacional, e $\\widehat{\\theta}$ é um de seus estimadores, dizemos que $\\widehat{\\theta}$ é um estimador não enviesado (*unbiased estimator*) de ${\\theta}$ se o valor esperado de $\\widehat{\\theta}$ for igual a $\\theta$: $\\operatorname{E}(\\widehat{\\theta}) = \\theta.\t$\n",
    "\n",
    "Alguns sinônimos para a expressão *estimador não enviesado*: *estimador não-viesado*, *estimador não viciado*, *estimador não tendencioso*.\n",
    "\n",
    "Para exemplificar o conceito de estimador, considere uma população com média $\\mu$ e variância $\\sigma^2$. Para uma população de $N$ elementos, sabemos que:\n",
    "\n",
    "\\begin{equation}\n",
    "\\begin{aligned}\n",
    "    \\mu = \\frac{1}{N} \\sum_{i=1}^{N} Y_i \\quad\n",
    "    \\sigma^2 = \\frac{1}{N} \\sum_{i=1}^{N} (Y_i - \\mu)^2 \\\\\n",
    "\\end{aligned}\n",
    "\\end{equation}\n",
    "\n",
    "Repare que as expressões acima supõem que se conhece o valor $Y_i$ da característica de cada indivíduo da população. Entretanto, em um contexto prático, esse é raramente o caso e, como consequência, $\\mu$ e $\\sigma^2$ são frequentemente valores desconhecidos.\n",
    "\n",
    "Considere também uma amostra de tamanho $n$ dessa população: $x_1, x_2, \\ldots, x_{n}$.\n",
    "\n",
    "1. Já vimos que $\\overline{x}$ tem distribuição normal, i.e.,\n",
    "$$\n",
    "\t\t\t\\overline{x} \\sim \\mathcal{N}\\left(\\mu, \\frac{\\sigma^2}{n}\\right)\n",
    "$$\n",
    "Repare que \n",
    "$$\n",
    "\\operatorname{E}\\left[\\overline{x}\\right] = \\mu.\n",
    "$$\n",
    "Então, $\\overline{x}$ é um estimador não-tendencioso de $\\mu$ (i.e., a **média amostral** é um estimador não tendencioso da média populacional).\n",
    "\n",
    "2. A estatística $\\widehat{p}$ é um estimador não enviesado para $p$. Já vimos que, dada uma amostra ($X_1, X_2, \\ldots, X_{n}$) de uma população, a **proporção amostral** é uma v.a. que segue uma distribuição normal, i.e.,\n",
    "$$\n",
    "\\widehat{p} \\sim \\mathcal{N}\\left(p, \\frac{p(1-p)}{n}\\right)\n",
    "$$\n",
    "Repare que \n",
    "$$\n",
    "\\operatorname{E}\\left[\\widehat{p}\\right] = p.\n",
    "$$\n",
    "Então, $\\widehat{p}$ é um estimador não enviesado de $p$, a proporção de elementos da população que têm uma certa característica em comum.\n",
    "\n",
    "3. A estatística $S^2$, definida por\n",
    "$$\n",
    "S^{2}={\\frac {1}{n}}\\sum _{i=1}^{n}{\\big (}X_{i}-{\\overline {X}}\\,{\\big )}^{2}\\qquad\n",
    "$$\n",
    "é um estimador enviesado para $\\sigma^2$. É possível mostrar que o valor esperado da *variância amostral* (*sample variance*) é dado pela expressão\n",
    "$$\n",
    "\t\\operatorname{E}\\left[S^2\\right] = \\frac{n-1}{n} \\sigma^2\n",
    "$$\n",
    "Repare que \n",
    "$$\n",
    "\\operatorname{E}\\left[S^2\\right] \\neq \\sigma^2.\n",
    "$$\n",
    "Portanto, $S^2$ é um estimador enviesado de $\\sigma^2$, posto que $\\operatorname{E}(S^2) \\neq \\sigma^2$.\n",
    "\n",
    "Por conta de $S^2$ ser um estimador enviesado, normalmente é usada a denominada [correção de Bessel](https://en.wikipedia.org/wiki/Bessel%27s_correction) para obter um estimador que não apresente viés. Dessa forma, quando aplicada a correção de Bessel, a expressão para $S^2$ é a seguinte:\n",
    "$$\n",
    "S^{2}={\\frac {1}{n-1}}\\sum _{i=1}^{n}{\\big (}X_{i}-{\\overline{X}}\\,{\\big )}^{2}\n",
    "$$\n",
    "\n"
   ]
  },
  {
   "cell_type": "markdown",
   "metadata": {
    "id": "chhYpVa3da3F"
   },
   "source": [
    "### Precisão versus Viés\n",
    "\n",
    "A figura a seguir ([fonte](https://www.kdnuggets.com)) ilustra a relação entre os conceitos de precisão de viés.\n",
    "\n",
    "<p align=\"center\">\n",
    "  <img src=\"https://www.kdnuggets.com/wp-content/uploads/bias-and-variance.jpg\" />\n",
    "</p>\n",
    "\n",
    "Em estudos estatísticos, estimadores não enviesados ​​devem ser preferidos aos estimadores enviesados ​​e estimadores precisos aos imprecisos.\n",
    "\n",
    "\n"
   ]
  },
  {
   "cell_type": "markdown",
   "metadata": {
    "id": "F0qXH76Ph4Db"
   },
   "source": [
    "### Simulação\n",
    "\n",
    "A simulação implementada nas células de código a seguir ilustra o conceito de viés de um estimador. São apresentados dois cenários:\n",
    "\n",
    "1. um para a **média amostral** $\\overline{x}$ (que é um estimador não-enviesado da média populacional $\\mu$) \n",
    "2. e outro para a **variância amostral** não corrigida $S^2$ (que é um estimador enviesado da variância populacional $\\sigma^2$). "
   ]
  },
  {
   "cell_type": "code",
   "execution_count": 2,
   "metadata": {
    "id": "ubGl7OEqpbcN"
   },
   "outputs": [],
   "source": [
    "%matplotlib inline\n",
    "import matplotlib.pyplot as plt\n",
    "from IPython.core.pylabtools import figsize\n",
    "figsize(15, 5)\n",
    "import pandas as pd\n",
    "import numpy as np\n",
    "np.random.seed(42)\n",
    "N = 100000  # size of population\n",
    "population = pd.Series(np.random.randint(1, 11, N))"
   ]
  },
  {
   "cell_type": "code",
   "execution_count": 1,
   "metadata": {
    "colab": {
     "base_uri": "https://localhost:8080/"
    },
    "executionInfo": {
     "elapsed": 1324,
     "status": "ok",
     "timestamp": 1615580885877,
     "user": {
      "displayName": "Eduardo Bezerra",
      "photoUrl": "https://lh3.googleusercontent.com/a-/AOh14GgtLlrVPd1NAOukzvdhFbWNfJNyiPGoaltpqHbN_A=s64",
      "userId": "15338717559428153474"
     },
     "user_tz": 180
    },
    "id": "mqjhqeg_HwsG",
    "outputId": "a3c0757d-f86d-4598-8cf5-66e698f1e13f"
   },
   "outputs": [],
   "source": [
    "#print(population)"
   ]
  },
  {
   "cell_type": "markdown",
   "metadata": {
    "id": "70ppaYsMHPcd"
   },
   "source": [
    "Computando a média populacional"
   ]
  },
  {
   "cell_type": "code",
   "execution_count": 2,
   "metadata": {
    "colab": {
     "base_uri": "https://localhost:8080/"
    },
    "executionInfo": {
     "elapsed": 1258,
     "status": "ok",
     "timestamp": 1615582250409,
     "user": {
      "displayName": "Eduardo Bezerra",
      "photoUrl": "https://lh3.googleusercontent.com/a-/AOh14GgtLlrVPd1NAOukzvdhFbWNfJNyiPGoaltpqHbN_A=s64",
      "userId": "15338717559428153474"
     },
     "user_tz": 180
    },
    "id": "w1BwW9ILphFU",
    "outputId": "9ced66af-58e3-433d-ee19-a167a7027920"
   },
   "outputs": [],
   "source": [
    "#population.mean()"
   ]
  },
  {
   "cell_type": "markdown",
   "metadata": {
    "id": "GzGnN0nhSRhA"
   },
   "source": [
    "$$\n",
    "\\mu \\approx 5.515\n",
    "$$"
   ]
  },
  {
   "cell_type": "markdown",
   "metadata": {
    "id": "XLbKNbPwJsfH"
   },
   "source": [
    "Computando a variância populacional\n",
    "\n",
    "\\begin{equation}\n",
    "    \\sigma^2 = \\frac{1}{N} \\sum_{i=1}^{N} (Y_i - \\mu)^2 \\\\\n",
    "\\end{equation}\n",
    "\n"
   ]
  },
  {
   "cell_type": "code",
   "execution_count": 5,
   "metadata": {
    "colab": {
     "base_uri": "https://localhost:8080/"
    },
    "executionInfo": {
     "elapsed": 844,
     "status": "ok",
     "timestamp": 1615581416095,
     "user": {
      "displayName": "Eduardo Bezerra",
      "photoUrl": "https://lh3.googleusercontent.com/a-/AOh14GgtLlrVPd1NAOukzvdhFbWNfJNyiPGoaltpqHbN_A=s64",
      "userId": "15338717559428153474"
     },
     "user_tz": 180
    },
    "id": "FkheTG2OJNdf",
    "outputId": "8a72f746-4426-431c-e905-561016f22509"
   },
   "outputs": [
    {
     "name": "stdout",
     "output_type": "stream",
     "text": [
      "8.2592178864\n"
     ]
    }
   ],
   "source": [
    "variancia_populacional = ((population - population.mean()) ** 2).sum() / N\n",
    "print(variancia_populacional)"
   ]
  },
  {
   "cell_type": "markdown",
   "metadata": {},
   "source": [
    "$$\n",
    "\\sigma^2 \\approx 8.259\n",
    "$$"
   ]
  },
  {
   "cell_type": "markdown",
   "metadata": {
    "id": "ysKOiknYKDHo"
   },
   "source": [
    "Fazendo um *sanity check*"
   ]
  },
  {
   "cell_type": "code",
   "execution_count": 6,
   "metadata": {
    "colab": {
     "base_uri": "https://localhost:8080/"
    },
    "executionInfo": {
     "elapsed": 858,
     "status": "ok",
     "timestamp": 1605271709868,
     "user": {
      "displayName": "Eduardo Bezerra",
      "photoUrl": "https://lh3.googleusercontent.com/a-/AOh14GgtLlrVPd1NAOukzvdhFbWNfJNyiPGoaltpqHbN_A=s64",
      "userId": "15338717559428153474"
     },
     "user_tz": 180
    },
    "id": "Bsv8XDptpl6z",
    "outputId": "15aa8154-a651-40be-9748-b8fefb63c580"
   },
   "outputs": [
    {
     "data": {
      "text/plain": [
       "8.2592178864"
      ]
     },
     "execution_count": 6,
     "metadata": {},
     "output_type": "execute_result"
    }
   ],
   "source": [
    "((population - population.mean()) ** 2).sum() / N"
   ]
  },
  {
   "cell_type": "code",
   "execution_count": 7,
   "metadata": {
    "colab": {
     "base_uri": "https://localhost:8080/"
    },
    "executionInfo": {
     "elapsed": 983,
     "status": "ok",
     "timestamp": 1615581783342,
     "user": {
      "displayName": "Eduardo Bezerra",
      "photoUrl": "https://lh3.googleusercontent.com/a-/AOh14GgtLlrVPd1NAOukzvdhFbWNfJNyiPGoaltpqHbN_A=s64",
      "userId": "15338717559428153474"
     },
     "user_tz": 180
    },
    "id": "4o61n9CCpsb_",
    "outputId": "0a290bd0-a855-4405-f155-3e0ffd9aaced"
   },
   "outputs": [
    {
     "data": {
      "text/plain": [
       "8.259300479404795"
      ]
     },
     "execution_count": 7,
     "metadata": {},
     "output_type": "execute_result"
    }
   ],
   "source": [
    "population.var(ddof=1)"
   ]
  },
  {
   "cell_type": "code",
   "execution_count": 8,
   "metadata": {
    "colab": {
     "base_uri": "https://localhost:8080/"
    },
    "executionInfo": {
     "elapsed": 1564,
     "status": "ok",
     "timestamp": 1615581811512,
     "user": {
      "displayName": "Eduardo Bezerra",
      "photoUrl": "https://lh3.googleusercontent.com/a-/AOh14GgtLlrVPd1NAOukzvdhFbWNfJNyiPGoaltpqHbN_A=s64",
      "userId": "15338717559428153474"
     },
     "user_tz": 180
    },
    "id": "RaPoBGOxLdmM",
    "outputId": "acfd148e-7def-4c8a-ce1b-1c692f53f5aa"
   },
   "outputs": [
    {
     "data": {
      "text/plain": [
       "8.2592178864"
      ]
     },
     "execution_count": 8,
     "metadata": {},
     "output_type": "execute_result"
    }
   ],
   "source": [
    "population.var(ddof=0)"
   ]
  },
  {
   "cell_type": "code",
   "execution_count": 9,
   "metadata": {
    "id": "Hx6xpiJLpw_5"
   },
   "outputs": [],
   "source": [
    "samples = {}\n",
    "n = 30  # size of each sample\n",
    "num_samples = 1000  # we are drawing 1000 samples, each with size n\n",
    "for i in range(num_samples):\n",
    "    samples[i] = population.sample(n).reset_index(drop=True)"
   ]
  },
  {
   "cell_type": "code",
   "execution_count": 10,
   "metadata": {
    "colab": {
     "base_uri": "https://localhost:8080/",
     "height": 204
    },
    "executionInfo": {
     "elapsed": 951,
     "status": "ok",
     "timestamp": 1615582024436,
     "user": {
      "displayName": "Eduardo Bezerra",
      "photoUrl": "https://lh3.googleusercontent.com/a-/AOh14GgtLlrVPd1NAOukzvdhFbWNfJNyiPGoaltpqHbN_A=s64",
      "userId": "15338717559428153474"
     },
     "user_tz": 180
    },
    "id": "fEGkpCfbp0ry",
    "outputId": "811953c7-e109-4a97-9144-8366eb66f706"
   },
   "outputs": [
    {
     "data": {
      "text/html": [
       "<div>\n",
       "<style scoped>\n",
       "    .dataframe tbody tr th:only-of-type {\n",
       "        vertical-align: middle;\n",
       "    }\n",
       "\n",
       "    .dataframe tbody tr th {\n",
       "        vertical-align: top;\n",
       "    }\n",
       "\n",
       "    .dataframe thead th {\n",
       "        text-align: right;\n",
       "    }\n",
       "</style>\n",
       "<table border=\"1\" class=\"dataframe\">\n",
       "  <thead>\n",
       "    <tr style=\"text-align: right;\">\n",
       "      <th></th>\n",
       "      <th>0</th>\n",
       "      <th>1</th>\n",
       "      <th>2</th>\n",
       "      <th>3</th>\n",
       "      <th>4</th>\n",
       "      <th>5</th>\n",
       "      <th>6</th>\n",
       "      <th>7</th>\n",
       "      <th>8</th>\n",
       "      <th>9</th>\n",
       "      <th>...</th>\n",
       "      <th>20</th>\n",
       "      <th>21</th>\n",
       "      <th>22</th>\n",
       "      <th>23</th>\n",
       "      <th>24</th>\n",
       "      <th>25</th>\n",
       "      <th>26</th>\n",
       "      <th>27</th>\n",
       "      <th>28</th>\n",
       "      <th>29</th>\n",
       "    </tr>\n",
       "  </thead>\n",
       "  <tbody>\n",
       "    <tr>\n",
       "      <th>995</th>\n",
       "      <td>3</td>\n",
       "      <td>3</td>\n",
       "      <td>6</td>\n",
       "      <td>3</td>\n",
       "      <td>1</td>\n",
       "      <td>10</td>\n",
       "      <td>8</td>\n",
       "      <td>1</td>\n",
       "      <td>4</td>\n",
       "      <td>10</td>\n",
       "      <td>...</td>\n",
       "      <td>1</td>\n",
       "      <td>8</td>\n",
       "      <td>7</td>\n",
       "      <td>6</td>\n",
       "      <td>9</td>\n",
       "      <td>3</td>\n",
       "      <td>7</td>\n",
       "      <td>9</td>\n",
       "      <td>8</td>\n",
       "      <td>8</td>\n",
       "    </tr>\n",
       "    <tr>\n",
       "      <th>996</th>\n",
       "      <td>4</td>\n",
       "      <td>8</td>\n",
       "      <td>7</td>\n",
       "      <td>4</td>\n",
       "      <td>2</td>\n",
       "      <td>4</td>\n",
       "      <td>6</td>\n",
       "      <td>5</td>\n",
       "      <td>4</td>\n",
       "      <td>5</td>\n",
       "      <td>...</td>\n",
       "      <td>5</td>\n",
       "      <td>1</td>\n",
       "      <td>3</td>\n",
       "      <td>3</td>\n",
       "      <td>6</td>\n",
       "      <td>8</td>\n",
       "      <td>3</td>\n",
       "      <td>3</td>\n",
       "      <td>8</td>\n",
       "      <td>1</td>\n",
       "    </tr>\n",
       "    <tr>\n",
       "      <th>997</th>\n",
       "      <td>3</td>\n",
       "      <td>8</td>\n",
       "      <td>7</td>\n",
       "      <td>6</td>\n",
       "      <td>2</td>\n",
       "      <td>9</td>\n",
       "      <td>3</td>\n",
       "      <td>10</td>\n",
       "      <td>8</td>\n",
       "      <td>3</td>\n",
       "      <td>...</td>\n",
       "      <td>1</td>\n",
       "      <td>10</td>\n",
       "      <td>5</td>\n",
       "      <td>3</td>\n",
       "      <td>5</td>\n",
       "      <td>2</td>\n",
       "      <td>8</td>\n",
       "      <td>6</td>\n",
       "      <td>8</td>\n",
       "      <td>1</td>\n",
       "    </tr>\n",
       "    <tr>\n",
       "      <th>998</th>\n",
       "      <td>10</td>\n",
       "      <td>5</td>\n",
       "      <td>1</td>\n",
       "      <td>2</td>\n",
       "      <td>2</td>\n",
       "      <td>3</td>\n",
       "      <td>6</td>\n",
       "      <td>7</td>\n",
       "      <td>8</td>\n",
       "      <td>2</td>\n",
       "      <td>...</td>\n",
       "      <td>6</td>\n",
       "      <td>9</td>\n",
       "      <td>10</td>\n",
       "      <td>2</td>\n",
       "      <td>10</td>\n",
       "      <td>8</td>\n",
       "      <td>3</td>\n",
       "      <td>10</td>\n",
       "      <td>2</td>\n",
       "      <td>2</td>\n",
       "    </tr>\n",
       "    <tr>\n",
       "      <th>999</th>\n",
       "      <td>2</td>\n",
       "      <td>10</td>\n",
       "      <td>1</td>\n",
       "      <td>10</td>\n",
       "      <td>8</td>\n",
       "      <td>8</td>\n",
       "      <td>2</td>\n",
       "      <td>4</td>\n",
       "      <td>8</td>\n",
       "      <td>5</td>\n",
       "      <td>...</td>\n",
       "      <td>5</td>\n",
       "      <td>7</td>\n",
       "      <td>4</td>\n",
       "      <td>10</td>\n",
       "      <td>10</td>\n",
       "      <td>1</td>\n",
       "      <td>1</td>\n",
       "      <td>4</td>\n",
       "      <td>4</td>\n",
       "      <td>6</td>\n",
       "    </tr>\n",
       "  </tbody>\n",
       "</table>\n",
       "<p>5 rows × 30 columns</p>\n",
       "</div>"
      ],
      "text/plain": [
       "     0   1   2   3   4   5   6   7   8   9   ...  20  21  22  23  24  25  26  \\\n",
       "995   3   3   6   3   1  10   8   1   4  10  ...   1   8   7   6   9   3   7   \n",
       "996   4   8   7   4   2   4   6   5   4   5  ...   5   1   3   3   6   8   3   \n",
       "997   3   8   7   6   2   9   3  10   8   3  ...   1  10   5   3   5   2   8   \n",
       "998  10   5   1   2   2   3   6   7   8   2  ...   6   9  10   2  10   8   3   \n",
       "999   2  10   1  10   8   8   2   4   8   5  ...   5   7   4  10  10   1   1   \n",
       "\n",
       "     27  28  29  \n",
       "995   9   8   8  \n",
       "996   3   8   1  \n",
       "997   6   8   1  \n",
       "998  10   2   2  \n",
       "999   4   4   6  \n",
       "\n",
       "[5 rows x 30 columns]"
      ]
     },
     "execution_count": 10,
     "metadata": {},
     "output_type": "execute_result"
    }
   ],
   "source": [
    "samples = pd.DataFrame(samples)\n",
    "samples.T.tail()"
   ]
  },
  {
   "cell_type": "code",
   "execution_count": 11,
   "metadata": {
    "colab": {
     "base_uri": "https://localhost:8080/"
    },
    "executionInfo": {
     "elapsed": 896,
     "status": "ok",
     "timestamp": 1605300714572,
     "user": {
      "displayName": "Eduardo Bezerra",
      "photoUrl": "https://lh3.googleusercontent.com/a-/AOh14GgtLlrVPd1NAOukzvdhFbWNfJNyiPGoaltpqHbN_A=s64",
      "userId": "15338717559428153474"
     },
     "user_tz": 180
    },
    "id": "O2QRxu4mzMLc",
    "outputId": "21917945-e99c-43eb-c37b-40e1bc468900"
   },
   "outputs": [
    {
     "data": {
      "text/plain": [
       "(30, 1000)"
      ]
     },
     "execution_count": 11,
     "metadata": {},
     "output_type": "execute_result"
    }
   ],
   "source": [
    "samples.shape"
   ]
  },
  {
   "cell_type": "markdown",
   "metadata": {
    "id": "9ZOGvXKBM-Lv"
   },
   "source": [
    "Computando a média das médias"
   ]
  },
  {
   "cell_type": "code",
   "execution_count": 12,
   "metadata": {
    "colab": {
     "base_uri": "https://localhost:8080/"
    },
    "executionInfo": {
     "elapsed": 1373,
     "status": "ok",
     "timestamp": 1605300919936,
     "user": {
      "displayName": "Eduardo Bezerra",
      "photoUrl": "https://lh3.googleusercontent.com/a-/AOh14GgtLlrVPd1NAOukzvdhFbWNfJNyiPGoaltpqHbN_A=s64",
      "userId": "15338717559428153474"
     },
     "user_tz": 180
    },
    "id": "AjScm_n30rov",
    "outputId": "07c4f0fe-338c-49c6-d562-6e79441487d7"
   },
   "outputs": [
    {
     "data": {
      "text/plain": [
       "0      5.966667\n",
       "1      5.250000\n",
       "2      4.955556\n",
       "3      5.141667\n",
       "4      5.073333\n",
       "         ...   \n",
       "995    5.490261\n",
       "996    5.489468\n",
       "997    5.489345\n",
       "998    5.488989\n",
       "999    5.489167\n",
       "Length: 1000, dtype: float64"
      ]
     },
     "execution_count": 12,
     "metadata": {},
     "output_type": "execute_result"
    }
   ],
   "source": [
    "samples.mean().expanding().mean()"
   ]
  },
  {
   "cell_type": "code",
   "execution_count": 13,
   "metadata": {
    "colab": {
     "base_uri": "https://localhost:8080/",
     "height": 331
    },
    "executionInfo": {
     "elapsed": 904,
     "status": "ok",
     "timestamp": 1605276450478,
     "user": {
      "displayName": "Eduardo Bezerra",
      "photoUrl": "https://lh3.googleusercontent.com/a-/AOh14GgtLlrVPd1NAOukzvdhFbWNfJNyiPGoaltpqHbN_A=s64",
      "userId": "15338717559428153474"
     },
     "user_tz": 180
    },
    "id": "aq2-Xremp-3I",
    "outputId": "10ba19b9-9b62-4cef-e55f-1b989b9a1406"
   },
   "outputs": [
    {
     "data": {
      "text/plain": [
       "<Axes: >"
      ]
     },
     "execution_count": 13,
     "metadata": {},
     "output_type": "execute_result"
    },
    {
     "data": {
      "image/png": "[encoded data removed]",
      "text/plain": [
       "<Figure size 1500x500 with 1 Axes>"
      ]
     },
     "metadata": {},
     "output_type": "display_data"
    }
   ],
   "source": [
    "df = pd.DataFrame({'estimated mean': samples.mean().expanding().mean(),\n",
    "                   'actual population mean': pd.Series(population.mean(), index=samples.columns)})\n",
    "df.plot(ylim=(4.5, 6.5))"
   ]
  },
  {
   "cell_type": "code",
   "execution_count": 14,
   "metadata": {
    "colab": {
     "base_uri": "https://localhost:8080/",
     "height": 331
    },
    "executionInfo": {
     "elapsed": 1264,
     "status": "ok",
     "timestamp": 1605276459422,
     "user": {
      "displayName": "Eduardo Bezerra",
      "photoUrl": "https://lh3.googleusercontent.com/a-/AOh14GgtLlrVPd1NAOukzvdhFbWNfJNyiPGoaltpqHbN_A=s64",
      "userId": "15338717559428153474"
     },
     "user_tz": 180
    },
    "id": "3WVlPRQb2LNe",
    "outputId": "401a752d-bbfe-4779-8c11-f127edd56ec0"
   },
   "outputs": [
    {
     "data": {
      "text/plain": [
       "<Axes: >"
      ]
     },
     "execution_count": 14,
     "metadata": {},
     "output_type": "execute_result"
    },
    {
     "data": {
      "image/png": "[encoded data removed]",
      "text/plain": [
       "<Figure size 1500x500 with 1 Axes>"
      ]
     },
     "metadata": {},
     "output_type": "display_data"
    }
   ],
   "source": [
    "df = pd.DataFrame({'biased var estimate (divide by n)': samples.var(ddof=0).expanding().mean(),\n",
    "                   'unbiased var estimate (divide by n - 1)': samples.var(ddof=1).expanding().mean(),\n",
    "                   'actual population var': pd.Series(population.var(ddof=0), index=samples.columns)})\n",
    "df.plot(ylim=(6.5, 10.5))"
   ]
  }
 ],
 "metadata": {
  "colab": {
   "authorship_tag": "ABX9TyPynIfU/GG3quP3217MacBa",
   "collapsed_sections": [
    "95IJipNcKGi0",
    "SltNV4E_C1R_",
    "u9Qh_DkZ62rV",
    "k7P7j0167oO5",
    "PsN27GB9fcUW",
    "wWJK2q6EELXC",
    "G9RvCIWuQyXg",
    "ccT0JdOyHTXk",
    "nRqg66q0t_pf",
    "9e39hyfTuIlG",
    "OxxeKIonuQYF",
    "YgrpVkUlyUFL",
    "qDecT08JEtpy",
    "wXVcOxojyST-",
    "7xS3BcKGzkQG",
    "yP8jhXPMgYtv",
    "tK7vTaLfgeud"
   ],
   "name": "ie02-ic-intro.ipynb",
   "provenance": [
    {
     "file_id": "1TCcZou8JCtCbVL9zf8Hsadmfc2sn1DGu",
     "timestamp": 1628866274551
    }
   ]
  },
  "kernelspec": {
   "display_name": "gcc1625",
   "language": "python",
   "name": "python3"
  },
  "language_info": {
   "codemirror_mode": {
    "name": "ipython",
    "version": 3
   },
   "file_extension": ".py",
   "mimetype": "text/x-python",
   "name": "python",
   "nbconvert_exporter": "python",
   "pygments_lexer": "ipython3",
   "version": "3.12.0"
  }
 },
 "nbformat": 4,
 "nbformat_minor": 0
}
