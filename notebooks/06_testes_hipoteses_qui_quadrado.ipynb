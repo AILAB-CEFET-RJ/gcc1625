{
  "cells": [
    {
      "cell_type": "markdown",
      "metadata": {},
      "source": [
        "<center><h1>Teste de Hipóteses Qui-Quadrado (Chi-Squared Test)</h1></center>"
      ]
    },
    {
      "cell_type": "markdown",
      "metadata": {
        "id": "aupvBazpcdUX"
      },
      "source": [
        "# Introdução\n",
        "\n",
        "O teste $\\chi^2$ (lê-se *qui-quadrado*) é um procedimento projetado para testar a existência de relações significativas **entre duas variáveis discretas**."
      ]
    },
    {
      "cell_type": "markdown",
      "metadata": {
        "id": "SP8l-FWKVztS"
      },
      "source": [
        "## Tabela de contingência\n",
        "\n",
        "Para aplicação do teste $\\chi^2$, as informações coletadas (a partir da amostra) acerca das variáveis devem estar ​​organizadas em uma *tabela de contingência*.\n",
        "\n",
        "Uma tabela de contingência (também conhecida como tabulação cruzada ou tabela de referência cruzada) é um tipo de tabela em um formato de matriz que exibe a distribuição de frequência das diversas combinações de valores das variáveis. Tabelas de contingência são muito utilizados em pesquisa de opinião, inteligência de negócios, engenharia e pesquisa científica. Elas fornecem uma imagem básica da inter-relação entre duas variáveis ​​e podem ajudar a encontrar interações entre elas.\n",
        "\n",
        "Como exemplo, considere duas variáveis, ambas discretas: \n",
        "\n",
        "* `sexo` (com valores **Masculino** ou **Feminino**) \n",
        "* `animal de estimação` (com valores **Cachorro** ou **Gato**). \n",
        "\n",
        "Suponha que 100 indivíduos sejam amostrados aleatoriamente em uma população muito grande como parte de um estudo de diferenças de sexo e preferência por animal de estimação. Uma tabela de contingência pode ser criada para exibir as diversas quantidades de indivíduos na amostra: quantos são homens e preferem gatos, quantos homens preferem gatos, quantas mulheres preferem cachorros e quantas mulheres preferem gatos. Essa tabela de contingência é exibida abaixo ([fonte](https://math.stackexchange.com/questions/1233587/checking-dependency-of-variables-in-a-contingency-table)).\n",
        "\n",
        "<center>\n",
        "\n",
        "|               | Cachorro       | Gato       | Total |\n",
        "| ---------     | -------------- | ---------- | ----- |\n",
        "| **Masculino** | 42             | 10         | 52    |\n",
        "| **Feminino**  | 9              | 39         | 48    |\n",
        "| **Total**     | 51             | 49         | 100   |\n",
        "\n",
        "</center>\n",
        "\n",
        "Ainda com relação ao exemplo acima, repare que\n",
        "\n",
        "- a coluna mais à direita apresenta os totais por linha,\n",
        "- a linha mais abaixo exibe os totais por coluna,\n",
        "- a célula inferior direita o total geral de indivíduos da amostra.\n",
        "\n",
        "As informações dos totais por linha e por coluna são opcionais na representação de uma tabela de contingência. Além disso, tabelas de contingência não precisam envolver apenas variáveis binárias. Contanto que as variáveis sejam discretas (e com uma quantidade de valores dentro do aceitável), uma tabela de contingência pode ser usada. No exemplo a seguir ([fonte](http://www.sthda.com/sthda/RDoc/data/housetasks.txt)), as variáveis apresentam quatro e treze valores, respectivamente. Note também que não são fornecidos os totais nas margens da tabela.\n",
        "\n",
        "<center>\n",
        "\n",
        "| Task        | Wife | Alternating | Husband | Jointly |\n",
        "|-------------|------|-------------|---------|---------|\n",
        "| Laundry     | 156  | 14          | 2       | 4       |\n",
        "| Main_meal   | 124  | 20          | 5       | 4       |\n",
        "| Dinner      | 77   | 11          | 7       | 13      |\n",
        "| Breakfast   | 82   | 36          | 15      | 7       |\n",
        "| Tidying     | 53   | 11          | 1       | 57      |\n",
        "| Dishes      | 32   | 24          | 4       | 53      |\n",
        "| Shopping    | 33   | 23          | 9       | 55      |\n",
        "| Official    | 12   | 46          | 23      | 15      |\n",
        "| Driving     | 10   | 51          | 75      | 3       |\n",
        "| Finances    | 13   | 13          | 21      | 66      |\n",
        "| Insurance   | 8    | 1           | 53      | 77      |\n",
        "| Repairs     | 0    | 3           | 160     | 2       |\n",
        "| Holidays    | 0    | 1           | 6       | 153     |\n",
        "\n",
        "</center>\n"
      ]
    },
    {
      "cell_type": "markdown",
      "metadata": {
        "id": "DgFXaL1UccRw"
      },
      "source": [
        "## Independência estatística\n",
        "\n",
        "A independência estatística é um conceito importante na Teoria das Probabilidades. Considere dois eventos $A$ e $B$. Se o conhecimento da ocorrência do evento $A$ não muda a probabilidade de ocorrência do evento $B$, então escrevemos:\n",
        "\n",
        "$$\n",
        "\\Pr(B|A) = \\Pr(B)\n",
        "$$\n",
        "\n",
        "Sob a condição acima, a probabilidade conjunta dos eventos $A$ e $B$ é igual ao produto das probabilidades dos eventos $A$ e $B$: $\\Pr(A,B) = \\Pr(A) \\times \\Pr(B)$. Esses eventos são então considerados **estatisticamente independentes**.\n",
        "\n",
        "A independência estatística não deve ser confundida com outra propriedade que pode existir entre eventos, a exclusividade mútua. Se a probabilidade conjunta de dois eventos $A$ e $B$ for zero, esses eventos são ditos mutuamente exclusivos ou disjuntos. O seguinte destaca as condições sob as quais dois eventos são estatisticamente independentes e mutuamente exclusivos:\n",
        "\n",
        "- $\\Pr(A,B) = \\Pr(A) \\times \\Pr(B) \\iff \\text{eventos independentes}$\n",
        "- $\\Pr(A,B) = 0 \\iff \\text{eventos mutuamente exclusivos}$\n",
        "\n",
        "No contexto da Inferência Estatística, o conceito de **evento** está relacionado aos valores que uma variável aleatória assume. Além disso, o conceito de independência estatística entre duas variáveis aleatórias pode ser usado como um indicador de presença ou ausência de dependência entre elas. Em particular, se duas variáveis são independentes, as distribuições percentuais na tabela de contingência são idênticas.\n",
        "\n",
        "> Se há dependências entre duas variáveis, dizemos que essas variáveis estão **associadas**.\n",
        "\n",
        "Como exemplo, considere novamente a tabela de contingência usada em exemplo anterior e reapresentada abaixo. \n",
        "\n",
        "<center>\n",
        "\n",
        "|               | Cachorro       | Gato       | Total |\n",
        "| ---------     | -------------- | ---------- | ----- |\n",
        "| **Masculino** | 42             | 10         | 52    |\n",
        "| **Feminino**  | 9              | 39         | 48    |\n",
        "| **Total**     | 51             | 49         | 100   |\n",
        "\n",
        "</center>\n",
        "\n",
        "Nesse contexto, há duas variáveis aleatórias binárias: \n",
        "* **Sexo** \n",
        "* **Preferência** (por animal de estimação preferido)\n",
        "\n",
        "Os dados nessa tabela parecem indicar que as variáveis **não** são estatisticamente independentes, i.e., que há associação entre elas. Para ententer porque, repare que a maioria das mulheres prefere gatos (39 contra 9), enquanto que a maioria dos homens prefere cachorros (42 contra 10). Se essas variáveis fossem efetivamente independentes, deveríamos esperar encontrar preferências aproximadamente iguais por gatos e cachorros, tanto no grupo de mulheres quanto no de homens.\n",
        "\n",
        "Visto que os dados apresentados na tabela acima são correspondentes a uma amostra da população, surge a seguinte questão:\n",
        "\n",
        "> O enviesamento observado é obra do acaso (e portanto não reflete a distribuição da população), ou é consequência de as variáveis serem estatisticamente dependentes?\n",
        "\n",
        "A questão acima pode ser investigada por meio do teste $\\chi^2$."
      ]
    },
    {
      "cell_type": "markdown",
      "metadata": {},
      "source": [
        "## Distribuição Qui-Quadrado\n",
        "\n",
        "A estatística usada no teste $\\chi^2$ segue a distribuição homônima, a [distribuição $\\chi^2$](https://en.wikipedia.org/wiki/Chi-squared_distribution). A distribuição qui-quadrado (𝜒²) é uma distribuição contínua assimétrica. A variável aleatória $X \\sim \\chi^2_k$ com $k$ graus de liberdade é a soma dos quadrados de $k$ variáveis normais padrão independentes:\n",
        "\n",
        "$$\n",
        "X = \\sum_{i=1}^{k} Z_i^2, \\quad Z_i \\sim N(0,1)\n",
        "$$\n",
        "\n",
        "A figura a seguir ([fonte](https://en.wikipedia.org/wiki/Chi-squared_distribution)) apresenta os gráficos de diversas funções de densidade que seguem a distribuição $\\chi^2$. Essa distribuição possui um parâmetro, $k$, a quantidade de graus de liberdade.\n",
        "\n",
        "<p align=\"center\">\n",
        "  <img src=\"https://upload.wikimedia.org/wikipedia/commons/thumb/3/35/Chi-square_pdf.svg/1024px-Chi-square_pdf.svg.png\" width=\"600\"/>\n",
        "</p>"
      ]
    },
    {
      "cell_type": "markdown",
      "metadata": {},
      "source": [
        "A biblioteca scipy disponibiliza o pacote de funções [chi2](https://docs.scipy.org/doc/scipy/reference/generated/scipy.stats.chi2.html), que permite manipular variáveis aleatórias que seguem a distribuição chi-quadrado.\n",
        "\n",
        "Como exemplo, suponha uma variável aleatória que siga a distribuição qui-quadrado com 9 graus de liberdade. Se quisermos saber que valor dessa variável delimita 95% da distribuição, podemos usar a função `ppf`, conforme o bloco de código abaixo."
      ]
    },
    {
      "cell_type": "code",
      "execution_count": 1,
      "metadata": {},
      "outputs": [
        {
          "name": "stdout",
          "output_type": "stream",
          "text": [
            "5.991464547107979\n",
            "0.9499983862962607\n"
          ]
        }
      ],
      "source": [
        "from scipy.stats import chi2\n",
        "\n",
        "print(chi2.ppf(.95, df=2))\n",
        "print(chi2.cdf(5.9914, df=2))\n"
      ]
    },
    {
      "cell_type": "markdown",
      "metadata": {},
      "source": [
        "## Tipos de Testes Qui-Quadrado\n",
        "\n",
        "### 1. Teste de Aderência (Goodness-of-fit)\n",
        "\n",
        "Verifica se uma distribuição observada se ajusta a uma distribuição teórica esperada. Neste tipo de teste, testamos se uma determinada amostra é proveniente de uma suposta distribuição de probabilidade;\n",
        "\n",
        "**Declaração das hipóteses:**\n",
        "* $H_0$: A distribuição observada segue a distribuição teórica.\n",
        "* $H_a$: A distribuição observada não segue a distribuição teórica.\n",
        "\n",
        "### 2. Teste de Independência\n",
        "\n",
        "Verifica se há associação (i.e., dependência estatística) entre duas variáveis categóricas. Neste teste, temos interesse em verificar se as variáveis com distribuições nas marginais são independentes ou não.\n",
        "\n",
        "\n",
        "**Declaração das hipóteses:**\n",
        "* $H_0$: As variáveis são independentes.\n",
        "* $H_a$: As variáveis são associadas.\n",
        "\n",
        "\n",
        "Neste tipo de teste $\\chi^2$, as hipóteses devem ser declaradas da seguinte forma:\n",
        "- A hipótese nula ($H_0$) deve afirmar que não existe associação entre as duas variáveis.\n",
        "- A hipótese de pesquisa ($H_a$) declara que as duas variáveis ​estão associadas na população.\n",
        "\n",
        "### 3. Teste de Homogeneidade\n",
        "\n",
        "Verifica se **duas ou mais populações** seguem a **mesma distribuição** de uma variável categórica. Em outras palavras, testamos se uma determinada variável se distribui da mesma forma em várias populações de interesse.\n",
        "\n",
        "- $H_0$: Todas as probabilidades numa mesma colunas são iguais ($p_{1j} = \\ldots = p_{rj} = p_j$, para todo $j$).\n",
        "- $H_a$: Pelo menos uma das probabilidades é diferente de $p_{ij}$ é diferente de $p_j$, para algum $j$\n",
        "\n",
        "---"
      ]
    },
    {
      "cell_type": "markdown",
      "metadata": {
        "id": "5Bgw9UOzik1Q"
      },
      "source": [
        "# Estatística qui-quadrado\n",
        "\n",
        "A estatística qui-quadrado mede o desvio entre o que foi observado nos dados e o que seria esperado caso não houvesse relação entre as variáveis (sob $H_0$). Essa estatística é calculada por meio da consulta aos valores contidos em uma tabela de contingência.\n",
        "\n",
        "$$\n",
        "\\chi^2 = \\sum_{i,j} \\frac{(O_{ij} - E_{ij})^2}{E_{ij}}\n",
        "$$\n",
        "\n",
        "* $O_{ij}$: **Frequência observada**. Frequências observadas (*observed frequencies*) são valores efetivamente observados na tabela de contingência (ou derivados dela).\n",
        "* $E_{ij}$: **Frequência esperada sob $H_0$**. Frequências esperadas (*expected frequencies*) são valores que seriam esperados se as duas variáveis fossem estatisticamente independentes. Calculamos uma frequência observada para cada par de valores das variáveis.\n",
        "\n",
        "> A estatística qui-quadrado é uma soma de desvios normalizados: se o observado é muito diferente do esperado, o numerador é grande, e a estatística assume valores grandes. \n",
        "\n",
        "Para computar a estatística $\\chi^2$, é necessário computar as frequências esperadas para cada célula $(i,j)$ da tabela de contingência. Para isso, basta multiplicar os totais de linha e de coluna para essa célula e dividir o produto resultante pelo número total de casos na tabela (representado por $N$ na equação abaixo).\n",
        "\n",
        "$$\n",
        "E_{ij} = \\frac{{\\text{total da linha $i$} \\times \\text{total da coluna $j$}}}{N}\n",
        "$$\n",
        "\n",
        "Como exemplo, retornemos à tabela de contingência usada em exemplo anterior e reapresentada abaixo.\n",
        "\n",
        "<center>\n",
        "\n",
        "|               | Cachorro       | Gato       | Total |\n",
        "| ---------     | -------------- | ---------- | ----- |\n",
        "| **Masculino** | 42             | 10         | 52    |\n",
        "| **Feminino**  | 9              | 39         | 48    |\n",
        "| **Total**     | 51             | 49         | 100   |\n",
        "\n",
        "</center>\n",
        "\n",
        "Se não houver associação entre as variáveis **Sexo** e **Preferência**, as frequências esperadas são calculadas como:\n",
        "\n",
        "- $E_{11} = f_e$(Masculino, Cachorro) = $\\frac{51 \\times 52}{100} = 26.52$\n",
        "\n",
        "- $E_{12} = f_e$(Masculino, Gato) = $\\frac{49 \\times 52}{100} = 25.48$\n",
        "\n",
        "- $E_{21} = f_e$(Feminino, Cachorro) = $\\frac{51 \\times 48}{100} = 24.48$\n",
        "\n",
        "- $E_{22} = f_e$(Feminino, Gato) = $\\frac{49 \\times 48}{100} = 23.52$\n",
        "\n",
        "Podemos organizar essas frequências esperadas em outra tabela de contingência:\n",
        "<center>\n",
        "\n",
        "| Sexo      | Cachorro | Gato  |\n",
        "| --------- | ---------| ------|\n",
        "| Masculino | 26.52    | 25.48 |\n",
        "| Feminino  | 24.48    | 23.52 |\n",
        "\n",
        "</center>\n",
        "\n",
        "De posse das frequências esperadas e observadas, é possível computar o valor da estatística:\n",
        "\n",
        "$$\n",
        "\\chi^2 = \\frac{(26.52-42)^2}{26.52} + \\frac{(25.48-10)^2}{25.48} + \\frac{(24.48-9)^2}{24.48} + \\frac{(23.52-39)^2}{23.52} \\approx 38.41\n",
        "$$"
      ]
    },
    {
      "cell_type": "markdown",
      "metadata": {},
      "source": [
        "A célula de código abaixo realiza o mesmo cálculo, para fins de conferência."
      ]
    },
    {
      "cell_type": "code",
      "execution_count": 2,
      "metadata": {
        "colab": {
          "base_uri": "https://localhost:8080/"
        },
        "id": "_cvpGg1I3HbN",
        "outputId": "66e3b9a2-e9e7-49a0-890f-f85e884d106f"
      },
      "outputs": [
        {
          "name": "stdout",
          "output_type": "stream",
          "text": [
            "26.52\n",
            "25.48\n",
            "24.48\n",
            "23.52\n",
            "38.41767476221258\n"
          ]
        }
      ],
      "source": [
        "import numpy as np\n",
        "\n",
        "exp_11 = 51*52/100\n",
        "exp_12 = 49*52/100\n",
        "exp_21 = 51*48/100\n",
        "exp_22 = 49*48/100\n",
        "print(exp_11)\n",
        "print(exp_12)\n",
        "print(exp_21)\n",
        "print(exp_22)\n",
        "\n",
        "qui_square = np.square(exp_11 - 42)/exp_11 + np.square(exp_12 - 10)/exp_12 + np.square(exp_21 - 9)/exp_21 + np.square(exp_22 - 39)/exp_22\n",
        "print(qui_square)"
      ]
    },
    {
      "cell_type": "markdown",
      "metadata": {},
      "source": [
        "# Passos do procedimento\n",
        "\n",
        "1. Declarar as hipóteses nula e alternativa\n",
        "2. Montar a tabela de contingência\n",
        "3. Computar a estatística de teste\n",
        "4. Calcular o valor $p$ correspondente\n",
        "5. Tomar uma decisão e interpretar o resultado"
      ]
    },
    {
      "cell_type": "markdown",
      "metadata": {
        "id": "v2nOp1fhF7x1"
      },
      "source": [
        "# Aplicação do teste\n",
        "\n",
        "No contexto do teste $\\chi^2$, a distribuição $\\chi^2$\n",
        "indica a probabilidade de obter um determinado valor, presumindo que não existe relação (na população) entre as duas variáveis. Ainda no contexto desse teste, o valor do parâmetro $k$ é calculado por meio da expressão\n",
        "\n",
        "$$\n",
        "k = (r – 1) \\times (c – 1)\n",
        "$$\n",
        "\n",
        "onde\n",
        "- $r$ = quantidade de linhas da tabela, e\n",
        "- $c$ = quantidade de colunas da tabela.\n",
        "\n",
        "Seguindo com o exemplo anterior, o parâmetro $k$ pode ser calcular conforme a seguir:\n",
        "\n",
        "$$\n",
        "k = (2-1)(2-1) = 1\n",
        "$$\n",
        "\n",
        "De posse dos valores da estatística ($\\chi^2 = 38.41$) e do parâmetro ($k=1$), podemos computar o valor corresponde de $p$.\n",
        "\n",
        "Considere que foi definido um nível de significância igual a 5% para o estudo estatístico. Usando a função [scipy.stats.chi2.ppf](https://docs.scipy.org/doc/scipy/reference/generated/scipy.stats.chi2.html#scipy.stats.chi2), concluímos que o valor $3.84$, conhecido como valor crítico, é o que separa 5% da área da curva à direita. Por outro lado, o valor $\\chi^2 = 38.41$ é muito maior do que $3.84$. De fato, o valor obtido para a estatística está relacionado um valor $p$ virtualmente igual a $0$. Então parece muito claro que as variáveis ​​categóricas são **dependentes** na população da qual a amostra de 100 observações foi escolhida aleatoriamente."
      ]
    },
    {
      "cell_type": "code",
      "execution_count": 3,
      "metadata": {
        "colab": {
          "base_uri": "https://localhost:8080/"
        },
        "id": "iA97clMTT7uc",
        "outputId": "ff3d9d9f-151e-4b94-f856-32c89fce3690"
      },
      "outputs": [
        {
          "name": "stdout",
          "output_type": "stream",
          "text": [
            "valor crítico: 3.84\n",
            "p: 0.000000\n"
          ]
        }
      ],
      "source": [
        "from scipy.stats import chi2\n",
        "x = 38.41\n",
        "k = 1\n",
        "print('valor crítico: %.2f' % chi2.ppf(.95, k))\n",
        "print('p: %f' % (1 - chi2.cdf(x,k)))"
      ]
    },
    {
      "cell_type": "markdown",
      "metadata": {},
      "source": [
        "Uma forma mais direta de aplicar o teste qui-quadrado é usar a função [`scipy.stats.chisquare`](https://docs.scipy.org/doc/scipy/reference/generated/scipy.stats.chisquare.html). \n",
        "\n",
        "> `chisquare(f_obs, f_exp=None, ddof=0, axis=0, *, sum_check=True)`\n",
        "\n",
        "Veja o exemplo abaixo."
      ]
    },
    {
      "cell_type": "code",
      "execution_count": 4,
      "metadata": {
        "colab": {
          "base_uri": "https://localhost:8080/"
        },
        "id": "ftek2XEWea3A",
        "outputId": "d7ac5f6f-1384-4eb7-b034-87a666ea7b90"
      },
      "outputs": [
        {
          "data": {
            "text/plain": [
              "Power_divergenceResult(statistic=np.float64(38.41767476221258), pvalue=np.float64(4.54682167469138e-09))"
            ]
          },
          "execution_count": 4,
          "metadata": {},
          "output_type": "execute_result"
        }
      ],
      "source": [
        "from scipy.stats import chisquare\n",
        "chisquare(f_obs = [42, 10, 9, 39],\n",
        "          f_exp = [26.52, 25.48, 24.48, 23.52], \n",
        "          ddof = 1)"
      ]
    },
    {
      "cell_type": "markdown",
      "metadata": {
        "id": "dnCnqFkxiuL3"
      },
      "source": [
        "# Condições de aplicabilidade\n",
        "\n",
        "Diferente dos testes estudados até aqui ($z$-teste, $t$-teste, ANOVA), o teste $\\chi^2$ não requer suposições sobre a distribuição da população da qual a amostra é retirada. Ou seja, o $\\chi^2$ é um teste estatístico não-paramétrico.\n",
        "\n",
        "No entanto, assim como outras técnicas inferenciais, esse teste possui algumas consições de aplicabilidade:\n",
        "\n",
        "* As variáveis do estudo devem ser categóricas.\n",
        "\n",
        "* As observações devem ser independentes (i.e., presume que foi realizada amostragem aleatória.). Cada resposta deve vir de uma unidade estatística **independente** das demais.\n",
        "\n",
        "* A frequência esperada de cada célula da tabela de contingência deve ser razoavelmente grande. Como regra prática, costuma-se usar o seguinte:\n",
        "  * Nenhuma célula com frequência esperada < 1.\n",
        "  * No máximo 20% das células com frequência esperada < 5.\n",
        "\n",
        "Avaliar as **condições de aplicabilidade** é essencial antes de confiar nos resultados do teste qui-quadrado.\n",
        "\n"
      ]
    },
    {
      "cell_type": "markdown",
      "metadata": {
        "id": "JDauTLISixMv"
      },
      "source": [
        "# Exemplos\n",
        "\n",
        "Nos exemplos a seguir, considere $\\alpha = 0.05$."
      ]
    },
    {
      "cell_type": "markdown",
      "metadata": {},
      "source": [
        "## Exemplo 1: Teste de Independência\n",
        "\n",
        "Vamos aplicar o teste aos dados dos casais, com suas tarefas domésticas e definição do(s) executor(es).\n",
        "<center>\n",
        "\n",
        "| Task        | Wife | Alternating | Husband | Jointly |\n",
        "|-------------|------|-------------|---------|---------|\n",
        "| Laundry     | 156  | 14          | 2       | 4       |\n",
        "| Main_meal   | 124  | 20          | 5       | 4       |\n",
        "| Dinner      | 77   | 11          | 7       | 13      |\n",
        "| Breakfast   | 82   | 36          | 15      | 7       |\n",
        "| Tidying     | 53   | 11          | 1       | 57      |\n",
        "| Dishes      | 32   | 24          | 4       | 53      |\n",
        "| Shopping    | 33   | 23          | 9       | 55      |\n",
        "| Official    | 12   | 46          | 23      | 15      |\n",
        "| Driving     | 10   | 51          | 75      | 3       |\n",
        "| Finances    | 13   | 13          | 21      | 66      |\n",
        "| Insurance   | 8    | 1           | 53      | 77      |\n",
        "| Repairs     | 0    | 3           | 160     | 2       |\n",
        "| Holidays    | 0    | 1           | 6       | 153     |\n",
        "\n",
        "</center>\n",
        "\n",
        "✅**Solução**\n",
        "\n",
        "No caso do conjunto **\"house tasks\"**, a hipóteses que estamos considerando com o **teste qui-quadrado de independência** são as seguintes:\n",
        "\n",
        "> $H_0$: A **distribuição de quem executa a tarefa doméstica** é **independente** do **tipo de tarefa**.\n",
        "\n",
        "Em outras palavras, $H_0$ declara que **o tipo de tarefa e a pessoa responsável por ela são variáveis independentes**.\n",
        "\n",
        "> $H_a$: Existe uma **associação** entre o tipo de tarefa e quem a realiza.\n",
        "\n",
        "Ou seja, $H_a$ declara que a responsabilidade pela tarefa **depende** do tipo de tarefa — alguns tipos tendem a ser realizados por certas pessoas mais do que outras.\n",
        "\n",
        "**Interpretação prática:**\n",
        "\n",
        "* Se **aceitarmos $H_0$**, isso sugere que **todas as pessoas (wife, husband, alternating, jointly)** compartilham **igualmente** as responsabilidades, independentemente da tarefa.\n",
        "* Se **rejeitarmos $H_0$** (como no nosso caso, com valor-p ≈ 0), isso indica que **há padrões sistemáticos** — por exemplo, tarefas como \"Laundry\" ou \"Repairs\" são **fortemente associadas a uma pessoa específica**.\n",
        "\n",
        "O trecho de código abaixo realiza a aplicação do teste."
      ]
    },
    {
      "cell_type": "code",
      "execution_count": 5,
      "metadata": {},
      "outputs": [
        {
          "data": {
            "text/plain": [
              "(np.float64(1944.4561959955277),\n",
              " np.float64(0.0),\n",
              " 36,\n",
              "                 Wife  Alternating    Husband    Jointly\n",
              " Laundry    60.550459    25.633028  38.449541  51.366972\n",
              " Main_meal  52.637615    22.283257  33.424885  44.654243\n",
              " Dinner     37.155963    15.729358  23.594037  31.520642\n",
              " Breakfast  48.165138    20.389908  30.584862  40.860092\n",
              " Tidying    41.972477    17.768349  26.652523  35.606651\n",
              " Dishes     38.876147    16.457569  24.686353  32.979931\n",
              " Shopping   41.284404    17.477064  26.215596  35.022936\n",
              " Official   33.027523    13.981651  20.972477  28.018349\n",
              " Driving    47.821101    20.244266  30.366399  40.568234\n",
              " Finances   38.876147    16.457569  24.686353  32.979931\n",
              " Insurance  47.821101    20.244266  30.366399  40.568234\n",
              " Repairs    56.766055    24.030963  36.046445  48.156537\n",
              " Holidays   55.045872    23.302752  34.954128  46.697248)"
            ]
          },
          "execution_count": 5,
          "metadata": {},
          "output_type": "execute_result"
        }
      ],
      "source": [
        "import pandas as pd\n",
        "from scipy.stats import chi2_contingency\n",
        "\n",
        "# Criar o DataFrame com os dados da tabela\n",
        "data = {\n",
        "    \"Wife\": [156, 124, 77, 82, 53, 32, 33, 12, 10, 13, 8, 0, 0],\n",
        "    \"Alternating\": [14, 20, 11, 36, 11, 24, 23, 46, 51, 13, 1, 3, 1],\n",
        "    \"Husband\": [2, 5, 7, 15, 1, 4, 9, 23, 75, 21, 53, 160, 6],\n",
        "    \"Jointly\": [4, 4, 13, 7, 57, 53, 55, 15, 3, 66, 77, 2, 153]\n",
        "}\n",
        "\n",
        "tasks = [\n",
        "    \"Laundry\", \"Main_meal\", \"Dinner\", \"Breakfast\", \"Tidying\", \"Dishes\", \"Shopping\",\n",
        "    \"Official\", \"Driving\", \"Finances\", \"Insurance\", \"Repairs\", \"Holidays\"\n",
        "]\n",
        "\n",
        "df = pd.DataFrame(data, index=tasks)\n",
        "\n",
        "# Aplicar o teste qui-quadrado\n",
        "chi2_stat, p_val, dof, expected = chi2_contingency(df)\n",
        "\n",
        "chi2_stat, p_val, dof, pd.DataFrame(expected, index=tasks, columns=df.columns)"
      ]
    },
    {
      "cell_type": "markdown",
      "metadata": {},
      "source": [
        "**Resultado do Teste**\n",
        "\n",
        "- Estatística $\\chi^2$: 1944.46\n",
        "\n",
        "- Valor-p: ~ 0.0 (menor que qualquer nível de significância usual)\n",
        "\n",
        "- Graus de liberdade (GL): 36\n",
        "\n",
        "**Conclusão**: Rejeitamos fortemente a hipótese nula. Há evidência estatística de que a distribuição de quem realiza a tarefa depende do tipo de tarefa — ou seja, há associação entre tarefa e executor."
      ]
    },
    {
      "cell_type": "markdown",
      "metadata": {},
      "source": [
        "Para inspecionar de forma mais detalhada esse resultado, vamos construir uma visualização que destaque quais células mais violam a hipótese de independência — ou seja, as principais fontes da associação. Essa visualização ajuda a responder o seguinte:\n",
        "\n",
        "> Quais pares (tipo de tarefa × executor) mais violam a hipótese de independência?"
      ]
    },
    {
      "cell_type": "code",
      "execution_count": 6,
      "metadata": {},
      "outputs": [
        {
          "name": "stderr",
          "output_type": "stream",
          "text": [
            "<>:31: SyntaxWarning: invalid escape sequence '\\c'\n",
            "<>:31: SyntaxWarning: invalid escape sequence '\\c'\n",
            "/tmp/ipykernel_27511/3032037151.py:31: SyntaxWarning: invalid escape sequence '\\c'\n",
            "  plt.title(\"Contribuição de cada célula para a estatística $\\chi^2$\")\n"
          ]
        },
        {
          "data": {
            "image/png": "[encoded data removed]",
            "text/plain": [
              "<Figure size 1000x800 with 2 Axes>"
            ]
          },
          "metadata": {},
          "output_type": "display_data"
        }
      ],
      "source": [
        "# Recarregar bibliotecas e dados após reset do estado\n",
        "import numpy as np\n",
        "import pandas as pd\n",
        "import matplotlib.pyplot as plt\n",
        "import seaborn as sns\n",
        "from scipy.stats import chi2_contingency\n",
        "\n",
        "# Dados\n",
        "data = {\n",
        "    \"Wife\": [156, 124, 77, 82, 53, 32, 33, 12, 10, 13, 8, 0, 0],\n",
        "    \"Alternating\": [14, 20, 11, 36, 11, 24, 23, 46, 51, 13, 1, 3, 1],\n",
        "    \"Husband\": [2, 5, 7, 15, 1, 4, 9, 23, 75, 21, 53, 160, 6],\n",
        "    \"Jointly\": [4, 4, 13, 7, 57, 53, 55, 15, 3, 66, 77, 2, 153]\n",
        "}\n",
        "\n",
        "tasks = [\n",
        "    \"Laundry\", \"Main_meal\", \"Dinner\", \"Breakfast\", \"Tidying\", \"Dishes\", \"Shopping\",\n",
        "    \"Official\", \"Driving\", \"Finances\", \"Insurance\", \"Repairs\", \"Holidays\"\n",
        "]\n",
        "\n",
        "df = pd.DataFrame(data, index=tasks)\n",
        "\n",
        "# Frequências esperadas e contribuições\n",
        "chi2_stat, p_val, dof, expected = chi2_contingency(df)\n",
        "expected_df = pd.DataFrame(expected, index=tasks, columns=df.columns)\n",
        "contrib = (df - expected_df) ** 2 / expected_df\n",
        "\n",
        "# Heatmap das contribuições\n",
        "plt.figure(figsize=(10, 8))\n",
        "sns.heatmap(contrib, annot=True, fmt=\".1f\", cmap=\"Reds\", linewidths=0.5)\n",
        "plt.title(\"Contribuição de cada célula para a estatística $\\chi^2$\")\n",
        "plt.xlabel(\"Executor da Tarefa\")\n",
        "plt.ylabel(\"Tipo de Tarefa\")\n",
        "plt.tight_layout()\n",
        "plt.show()\n"
      ]
    },
    {
      "cell_type": "markdown",
      "metadata": {},
      "source": [
        "**Interpretação do Gráfico:**\n",
        "\n",
        "* **Células com cores mais escuras** (e valores mais altos) indicam **forte discrepância entre observado e esperado**.\n",
        "* Entre os **principais contribuintes** para o $\\chi^2$, destacam-se:\n",
        "\n",
        "  * `Laundry` × `Wife` (150.5): muito acima do esperado → tarefa fortemente associada à esposa.\n",
        "  * `Repairs` × `Husband` (426.2): disparado maior valor → reparos são quase exclusivamente atribuídos ao marido.\n",
        "  * `Holidays` × `Jointly` (242.0): férias são planejadas em conjunto bem mais do que o esperado.\n",
        "  * `Main_meal` × `Wife` (96.7): principal refeição também associada à esposa.\n",
        "  * `Official` × `Alternating` (73.3): tarefas administrativas feitas alternadamente mais que o esperado.\n",
        "\n",
        "A visualização acima é especialmente útil para entender que **a rejeição da hipótese nula não significa que todas as células são discrepantes**, mas sim que **algumas associações específicas são responsáveis por essa diferença**."
      ]
    },
    {
      "cell_type": "markdown",
      "metadata": {},
      "source": [
        "---"
      ]
    },
    {
      "cell_type": "markdown",
      "metadata": {},
      "source": [
        "## Exemplo 2: Condições de Aplicabilidade\n",
        "\n",
        "Neste exemplo, em vez de aplicar o teste, vamos verificar as **condições de aplicabilidade** para os dados dos casais com suas tarefas domésticas e atribuições.\n",
        "\n",
        "#### 1. **Variáveis categóricas?**\n",
        "\n",
        "✅ **Verifica?** → **Sim**\n",
        "\n",
        "Neste caso, temos duas variáveis categóricas:\n",
        "- `Tarefa` (com valores `Laundry`, `Main_meail`, ..., `Holydays`)\n",
        "- `Atribuição` (com valores `Wife`, `Alternating`, `Husband`, `Jointly`)\n",
        "\n",
        "#### 2. **Independência das observações**\n",
        "\n",
        "✅ **Verifica?** → **Sim**, presumivelmente cada linha corresponde a tarefas distintas e cada contagem é independente.\n",
        "\n",
        "**Suposição razoável** se os dados foram coletados por pessoa/tarefa.\n",
        "\n",
        "#### 3. **Frequências esperadas razoavelmente grandes**\n",
        "\n",
        "Vamos verificar isso diretamente por meu de um código em Python:"
      ]
    },
    {
      "cell_type": "code",
      "execution_count": 7,
      "metadata": {},
      "outputs": [
        {
          "data": {
            "text/plain": [
              "(np.int64(0), np.int64(0), np.float64(0.0))"
            ]
          },
          "execution_count": 7,
          "metadata": {},
          "output_type": "execute_result"
        }
      ],
      "source": [
        "import numpy as np\n",
        "\n",
        "# Flatten a matriz de frequências esperadas\n",
        "flat_expected = expected.flatten()\n",
        "less_than_5 = np.sum(flat_expected < 5)\n",
        "less_than_1 = np.sum(flat_expected < 1)\n",
        "total_cells = flat_expected.size\n",
        "\n",
        "percent_below_5 = 100 * less_than_5 / total_cells\n",
        "less_than_1, less_than_5, percent_below_5"
      ]
    },
    {
      "cell_type": "markdown",
      "metadata": {},
      "source": [
        "Verificação das Condições Numéricas:\n",
        "\n",
        "* **Células com frequência esperada < 1**: `0`\n",
        "* **Células com frequência esperada < 5**: `0`\n",
        "* **Percentual de células com frequência esperada < 5**: `0.0%`\n",
        "\n",
        "✅ **Verifica?** → **Sim**\n",
        "\n",
        "### Conclusão:\n",
        "\n",
        "As **condições de aplicabilidade estão plenamente satisfeitas**:\n",
        "\n",
        "* As observações são presumivelmente independentes.\n",
        "* As frequências esperadas são todas suficientemente grandes.\n",
        "\n",
        "Portanto, **o uso do teste qui-quadrado é válido e apropriado** para este conjunto de dados.\n",
        "\n",
        "---"
      ]
    },
    {
      "cell_type": "markdown",
      "metadata": {},
      "source": [
        "## Exemplo 3: Teste de Independência\n",
        "\n",
        "O conjunto de dados survey contém dados sobre hábitos de fumo e de atividades físicas de estudantes, dentre outras informações.\n",
        "\n",
        "- hábitos de tabagismo (`Smoke`)\n",
        "- nível de prática de exercícios físicos (`Exer`)\n",
        "\n",
        "Seja usar o teste $\\chi^2$ para verificar se as variáveis são independentes.\n",
        "\n",
        "✅**Solução**"
      ]
    },
    {
      "cell_type": "code",
      "execution_count": 8,
      "metadata": {
        "colab": {
          "base_uri": "https://localhost:8080/",
          "height": 204
        },
        "id": "okdAfJKEOSFH",
        "outputId": "6a450a04-594c-4bf7-9fcd-d090e4200221"
      },
      "outputs": [
        {
          "data": {
            "text/html": [
              "<div>\n",
              "<style scoped>\n",
              "    .dataframe tbody tr th:only-of-type {\n",
              "        vertical-align: middle;\n",
              "    }\n",
              "\n",
              "    .dataframe tbody tr th {\n",
              "        vertical-align: top;\n",
              "    }\n",
              "\n",
              "    .dataframe thead th {\n",
              "        text-align: right;\n",
              "    }\n",
              "</style>\n",
              "<table border=\"1\" class=\"dataframe\">\n",
              "  <thead>\n",
              "    <tr style=\"text-align: right;\">\n",
              "      <th></th>\n",
              "      <th>Smoke</th>\n",
              "      <th>Exer</th>\n",
              "    </tr>\n",
              "  </thead>\n",
              "  <tbody>\n",
              "    <tr>\n",
              "      <th>0</th>\n",
              "      <td>Never</td>\n",
              "      <td>Some</td>\n",
              "    </tr>\n",
              "    <tr>\n",
              "      <th>1</th>\n",
              "      <td>Regul</td>\n",
              "      <td>NaN</td>\n",
              "    </tr>\n",
              "    <tr>\n",
              "      <th>2</th>\n",
              "      <td>Occas</td>\n",
              "      <td>NaN</td>\n",
              "    </tr>\n",
              "    <tr>\n",
              "      <th>3</th>\n",
              "      <td>Never</td>\n",
              "      <td>NaN</td>\n",
              "    </tr>\n",
              "    <tr>\n",
              "      <th>4</th>\n",
              "      <td>Never</td>\n",
              "      <td>Some</td>\n",
              "    </tr>\n",
              "  </tbody>\n",
              "</table>\n",
              "</div>"
            ],
            "text/plain": [
              "   Smoke  Exer\n",
              "0  Never  Some\n",
              "1  Regul   NaN\n",
              "2  Occas   NaN\n",
              "3  Never   NaN\n",
              "4  Never  Some"
            ]
          },
          "execution_count": 8,
          "metadata": {},
          "output_type": "execute_result"
        }
      ],
      "source": [
        "import pandas as pd\n",
        "df_survey = pd.read_csv('../data/survey.csv')\n",
        "df_survey[['Smoke', 'Exer']].head()"
      ]
    },
    {
      "cell_type": "markdown",
      "metadata": {
        "id": "Y4aU6sVxg6LE"
      },
      "source": [
        "O pacote Pandas fornece a função [crosstab](https://pandas.pydata.org/docs/reference/api/pandas.crosstab.html), usada para montar a tabela de contingência para a aplicação posterior do teste $\\chi^2$. Veja a célula de código a seguir."
      ]
    },
    {
      "cell_type": "code",
      "execution_count": 9,
      "metadata": {
        "colab": {
          "base_uri": "https://localhost:8080/",
          "height": 204
        },
        "id": "AAcI6JWxe-ox",
        "outputId": "b7a2eeb9-5136-4b06-a2dc-096a828e0a65"
      },
      "outputs": [
        {
          "data": {
            "text/html": [
              "<div>\n",
              "<style scoped>\n",
              "    .dataframe tbody tr th:only-of-type {\n",
              "        vertical-align: middle;\n",
              "    }\n",
              "\n",
              "    .dataframe tbody tr th {\n",
              "        vertical-align: top;\n",
              "    }\n",
              "\n",
              "    .dataframe thead th {\n",
              "        text-align: right;\n",
              "    }\n",
              "</style>\n",
              "<table border=\"1\" class=\"dataframe\">\n",
              "  <thead>\n",
              "    <tr style=\"text-align: right;\">\n",
              "      <th>Exer</th>\n",
              "      <th>Freq</th>\n",
              "      <th>Some</th>\n",
              "    </tr>\n",
              "    <tr>\n",
              "      <th>Smoke</th>\n",
              "      <th></th>\n",
              "      <th></th>\n",
              "    </tr>\n",
              "  </thead>\n",
              "  <tbody>\n",
              "    <tr>\n",
              "      <th>Heavy</th>\n",
              "      <td>7</td>\n",
              "      <td>3</td>\n",
              "    </tr>\n",
              "    <tr>\n",
              "      <th>Never</th>\n",
              "      <td>87</td>\n",
              "      <td>84</td>\n",
              "    </tr>\n",
              "    <tr>\n",
              "      <th>Occas</th>\n",
              "      <td>12</td>\n",
              "      <td>4</td>\n",
              "    </tr>\n",
              "    <tr>\n",
              "      <th>Regul</th>\n",
              "      <td>9</td>\n",
              "      <td>7</td>\n",
              "    </tr>\n",
              "  </tbody>\n",
              "</table>\n",
              "</div>"
            ],
            "text/plain": [
              "Exer   Freq  Some\n",
              "Smoke            \n",
              "Heavy     7     3\n",
              "Never    87    84\n",
              "Occas    12     4\n",
              "Regul     9     7"
            ]
          },
          "execution_count": 9,
          "metadata": {},
          "output_type": "execute_result"
        }
      ],
      "source": [
        "tbl = pd.crosstab(df_survey.Smoke, df_survey.Exer)\n",
        "tbl"
      ]
    },
    {
      "cell_type": "markdown",
      "metadata": {
        "id": "koZsQX5ghK9o"
      },
      "source": [
        "Por inspeção da tabela acima, percebemos que a variável `Exer` contém três valores, e a variável `Smoke` contém quatro valores.\n",
        "\n",
        "De posse da tabela de contingência, podemos usar a função [scipy.stats.chi2_contingency](scipy.stats.chi2_contingency) para aplicar diretamente o teste $\\chi^2$."
      ]
    },
    {
      "cell_type": "code",
      "execution_count": 10,
      "metadata": {
        "colab": {
          "base_uri": "https://localhost:8080/"
        },
        "id": "GHIC3kyod85h",
        "outputId": "1ec821ee-9f01-46d9-9f32-b52f811fe796"
      },
      "outputs": [
        {
          "data": {
            "text/plain": [
              "Chi2ContingencyResult(statistic=np.float64(4.574966550693501), pvalue=np.float64(0.20570012488442274), dof=3, expected_freq=array([[ 5.39906103,  4.60093897],\n",
              "       [92.32394366, 78.67605634],\n",
              "       [ 8.63849765,  7.36150235],\n",
              "       [ 8.63849765,  7.36150235]]))"
            ]
          },
          "execution_count": 10,
          "metadata": {},
          "output_type": "execute_result"
        }
      ],
      "source": [
        "from scipy.stats import chi2_contingency\n",
        "chi2_contingency(tbl)"
      ]
    },
    {
      "cell_type": "markdown",
      "metadata": {
        "id": "NFCUVe9Hc-_K"
      },
      "source": [
        "Ao ser invocada, a função chi2_contingency retorna uma tupla de componentes conforme descrição abaixo:\n",
        "\n",
        "1. o valor da estatística qui-quadrado ($4.57$) ;\n",
        "2. o $p$-valor ($0.2057$);\n",
        "3. a quantidade de graus de liberdade (3);\n",
        "4. as frequências esperadas, na forma de uma matriz.\n",
        "\n",
        "Porque o valor de $p = 0.2057$ é maior do que o nível de significância de $\\alpha=0.05$, não temos evidência para rejeitar a hipótese nula de que o hábito de fumar seja independente do nível de exercício dos alunos.\n",
        "\n",
        "---"
      ]
    },
    {
      "cell_type": "markdown",
      "metadata": {},
      "source": [
        "## Exemplo 4: Teste de Independência\n",
        "\n",
        "São coletados dados de prefêrencia por um novo produto, conforme a tabela a seguir.\n",
        "\n",
        "<center>\n",
        "\n",
        "|           | Gosta | Não gosta |\n",
        "| --------- | ----- | --------- |\n",
        "| Masculino | 30    | 20        |\n",
        "| Feminino  | 20    | 30        |\n",
        "\n",
        "</center>\n",
        "\n",
        "Será que **gênero** está associado ao **gosto pelo novo produto**?\n",
        "\n",
        "✅**Solução**\n",
        "\n",
        "Esse é um **teste de independência** entre as variáveis `gênero` e `opinião sobre o produto`. As hipóteses são formuladas da seguinte forma:\n",
        "\n",
        "> $H_0$: Gênero e opinião sobre o novo produto são variáveis independentes.\n",
        "\n",
        "Ou seja, a hipótese nula declara que a distribuição de preferências (gostar ou não) é a mesma entre homens e mulheres.\n",
        "\n",
        "> $H_a$: Gênero e opinião sobre o novo produto são variáveis associadas.\n",
        "\n",
        "Ou seja, a hipótese alternativa declara que o gênero influencia a opinião sobre o produto — as distribuições são diferentes."
      ]
    },
    {
      "cell_type": "code",
      "execution_count": 11,
      "metadata": {},
      "outputs": [
        {
          "name": "stdout",
          "output_type": "stream",
          "text": [
            "Estatística qui-quadrado: 3.2400\n",
            "Valor-p: 0.0719\n",
            "GL: 1\n",
            "Frequências esperadas sob H0:\n",
            "[[25. 25.]\n",
            " [25. 25.]]\n"
          ]
        }
      ],
      "source": [
        "import numpy as np\n",
        "from scipy.stats import chi2_contingency\n",
        "\n",
        "# Criar a tabela\n",
        "table = np.array([[30, 20],\n",
        "                  [20, 30]])\n",
        "\n",
        "chi2_stat, p_val, dof, expected = chi2_contingency(table)\n",
        "\n",
        "print(f'Estatística qui-quadrado: {chi2_stat:.4f}')\n",
        "print(f'Valor-p: {p_val:.4f}')\n",
        "print(f'GL: {dof}')\n",
        "print('Frequências esperadas sob H0:')\n",
        "print(expected)"
      ]
    },
    {
      "cell_type": "markdown",
      "metadata": {},
      "source": [
        "O valor-p não é menor do que $\\alpha = 0.05$. Sendo assim, falhamos em rejeitar $H_0$: não há evidência de associação entre gênero e preferência.\n",
        "\n",
        "---"
      ]
    },
    {
      "cell_type": "markdown",
      "metadata": {},
      "source": [
        "## Exemplo 5: Teste de Aderência\n",
        "\n",
        "Suponha que uma empresa afirma que 25% dos seus produtos são A, 25% B, 25% C e 25% D. Observamos a seguinte distribuição após uma amostra:\n",
        "\n",
        "<center>\n",
        "\n",
        "| Categoria | Frequência Observada |\n",
        "| --------- | -------------------- |\n",
        "| A         | 20                   |\n",
        "| B         | 18                   |\n",
        "| C         | 22                   |\n",
        "| D         | 40                   |\n",
        "\n",
        "</center>\n",
        "\n",
        "Com esses dados, queremos verificar a alegação da empresa de que produz uniformemente produtos dos quatro tipos.\n",
        "\n",
        "✅**Solução**\n",
        "\n",
        "Esse é um caso clássico de teste de aderência (*goodness-of-fit*), onde comparamos uma distribuição observada com uma distribuição teórica esperada (uniforme, neste caso).\n",
        "\n",
        "Hipóteses do teste:\n",
        "\n",
        "> $H_0$: A distribuição dos produtos segue uma distribuição **uniforme** nas quatro categorias (A, B, C, D).\n",
        "> Ou seja, **cada tipo representa 25% da produção** da empresa.\n",
        "\n",
        "$$\n",
        "H_0: P_A = P_B = P_C = P_D = 0{,}25\n",
        "$$\n",
        "\n",
        "> $H_a$: A distribuição dos produtos **não segue uma distribuição uniforme**.\n",
        "> Pelo menos uma das proporções é diferente de 25%.\n",
        "\n",
        "$$\n",
        "H_1: \\text{Pelo menos uma } P_i \\ne 0{,}25\n",
        "$$\n",
        "\n",
        "Essa hipótese será testada com um **teste qui-quadrado de aderência**, usando as frequências esperadas baseadas na distribuição uniforme (número total de itens × 25%)."
      ]
    },
    {
      "cell_type": "code",
      "execution_count": 12,
      "metadata": {},
      "outputs": [
        {
          "name": "stdout",
          "output_type": "stream",
          "text": [
            "Estatística qui-quadrado: 12.3200\n",
            "Valor-p: 0.0064\n"
          ]
        }
      ],
      "source": [
        "from scipy.stats import chisquare\n",
        "\n",
        "observed = [20, 18, 22, 40]\n",
        "expected = [25, 25, 25, 25]  # frequências esperadas uniformes\n",
        "\n",
        "chi2_stat, p_val = chisquare(f_obs=observed, f_exp=expected)\n",
        "\n",
        "print(f'Estatística qui-quadrado: {chi2_stat:.4f}')\n",
        "print(f'Valor-p: {p_val:.4f}')"
      ]
    },
    {
      "cell_type": "markdown",
      "metadata": {},
      "source": [
        "O valor-p é menor do que $\\alpha = 0.05$. Sendo assim, rejeitamos $H_0$: os dados **não seguem** uma distribuição uniforme.\n",
        "\n",
        "---"
      ]
    },
    {
      "cell_type": "markdown",
      "metadata": {},
      "source": [
        "## Exemplo 6: Teste de Homogeneidade \n",
        "\n",
        "Uma rede de supermercados deseja saber se **o padrão de preferência por tipos de pagamento** (dinheiro, cartão, PIX) é o **mesmo em três lojas diferentes**.\n",
        "\n",
        "São coletados dados de clientes dessas três lojas. Dados observados:\n",
        "\n",
        "<center>\n",
        "\n",
        "| Forma de Pagamento | Loja A | Loja B | Loja C |\n",
        "| ------------------ | ------ | ------ | ------ |\n",
        "| Dinheiro           | 30     | 25     | 20     |\n",
        "| Cartão             | 45     | 40     | 35     |\n",
        "| PIX                | 25     | 35     | 45     |\n",
        "\n",
        "</center>\n",
        "\n",
        "✅**Solução**\n",
        "\n",
        "Hipóteses do Teste:\n",
        "\n",
        "* **$H_0$**: As distribuições de forma de pagamento são iguais nas três lojas (homogeneidade).\n",
        "* **$H_1$**: Pelo menos uma loja tem uma distribuição diferente (não homogênea)."
      ]
    },
    {
      "cell_type": "code",
      "execution_count": 13,
      "metadata": {},
      "outputs": [
        {
          "name": "stdout",
          "output_type": "stream",
          "text": [
            "Estatística qui-quadrado: 8.9643\n",
            "Valor-p: 0.0620\n",
            "Graus de liberdade: 4\n",
            "Frequências esperadas sob H0:\n",
            "[[25. 25. 25.]\n",
            " [40. 40. 40.]\n",
            " [35. 35. 35.]]\n"
          ]
        }
      ],
      "source": [
        "import numpy as np\n",
        "from scipy.stats import chi2_contingency\n",
        "\n",
        "# Tabela de frequências observadas\n",
        "table = np.array([\n",
        "    [30, 25, 20],  # Dinheiro\n",
        "    [45, 40, 35],  # Cartão\n",
        "    [25, 35, 45]   # PIX\n",
        "])\n",
        "\n",
        "# Aplicar o teste qui-quadrado\n",
        "chi2_stat, p_val, dof, expected = chi2_contingency(table)\n",
        "\n",
        "print(f'Estatística qui-quadrado: {chi2_stat:.4f}')\n",
        "print(f'Valor-p: {p_val:.4f}')\n",
        "print(f'Graus de liberdade: {dof}')\n",
        "print('Frequências esperadas sob H0:')\n",
        "print(expected)"
      ]
    },
    {
      "cell_type": "markdown",
      "metadata": {},
      "source": [
        "Interpretação\n",
        "\n",
        "* **Se o valor-p < 0.05**, rejeitamos $H_0$: há **evidência de que as distribuições diferem entre as lojas**.\n",
        "* **Se o valor-p ≥ 0.05**, não rejeitamos $H_0$: não há evidência suficiente para afirmar que as lojas têm distribuições diferentes.\n",
        "\n",
        "Repare que o teste de homogeneidade é estruturalmente idêntico ao teste de independência (mesma estatística), mas a **interpretação muda**:\n",
        "\n",
        "* **Teste de independência**: duas variáveis em uma única amostra.\n",
        "* **Teste de homogeneidade**: uma única variável categórica observada em **grupos diferentes**.\n",
        "\n",
        "---"
      ]
    },
    {
      "cell_type": "markdown",
      "metadata": {},
      "source": [
        "## Exercício Proposto\n",
        "\n",
        "Considere os dados:\n",
        "\n",
        "<center>\n",
        "\n",
        "| Cor do Carro | Acidente | Sem Acidente |\n",
        "| ------------ | -------- | ------------ |\n",
        "| Vermelho     | 15       | 35           |\n",
        "| Preto        | 30       | 45           |\n",
        "| Branco       | 25       | 50           |\n",
        "\n",
        "</center>\n",
        "\n",
        "1. Formule as hipóteses para testar se a cor do carro está associada à ocorrência de acidentes.\n",
        "2. Aplique o teste de independência em Python.\n",
        "3. Interprete os resultados."
      ]
    },
    {
      "cell_type": "markdown",
      "metadata": {},
      "source": [
        "# Variáveis discretas x qui-quadrado?"
      ]
    },
    {
      "cell_type": "markdown",
      "metadata": {},
      "source": [
        "Há uma **intuição estatística profunda e elegante** por trás do surgimento da distribuição qui-quadrado ($\\chi^2$) na análise de dados categóricos, especialmente em **tabelas de contingência** de duas variáveis discretas.\n",
        "\n",
        "Vamos construir essa intuição em 3 camadas:\n",
        "\n",
        "## 1. O núcleo do teste: distância entre observado e esperado\n",
        "\n",
        "O teste qui-quadrado mede **o desvio entre o que foi observado nos dados e o que seria esperado caso não houvesse relação entre as variáveis** (sob $H_0$):\n",
        "\n",
        "$$\n",
        "\\chi^2 = \\sum_{i,j} \\frac{(O_{ij} - E_{ij})^2}{E_{ij}}\n",
        "$$\n",
        "\n",
        "Isso é uma **soma de desvios normalizados**: se o observado é muito diferente do esperado, o numerador é grande. Se a frequência esperada for pequena, isso amplifica o efeito.\n",
        "\n",
        "## 2. Por que essa soma de quadrados tem distribuição qui-quadrado?\n",
        "\n",
        "Aqui está o ponto chave:\n",
        "➡️ Sob a hipótese nula $H_0$, **os desvios $(O_{ij} - E_{ij})$ são devidos apenas ao acaso** (flutuações amostrais).\n",
        "\n",
        "Agora pense no seguinte:\n",
        "\n",
        "* Cada $O_{ij}$ pode ser aproximado por uma variável aleatória **normal** (via Teorema Central do Limite), principalmente se as contagens forem grandes.\n",
        "* A estatística $\\frac{(O_{ij} - E_{ij})^2}{E_{ij}}$ então **se comporta como o quadrado de uma normal padrão**.\n",
        "\n",
        "$$\n",
        "Z_{ij} = \\frac{O_{ij} - E_{ij}}{\\sqrt{E_{ij}}} \\approx N(0,1)\n",
        "\\Rightarrow \\left( \\frac{O_{ij} - E_{ij}}{\\sqrt{E_{ij}}} \\right)^2 \\sim \\chi^2_1\n",
        "$$\n",
        "\n",
        "* A soma de vários termos assim leva a uma variável $\\chi^2$ com graus de liberdade correspondentes ao número de termos **independentes**.\n",
        "\n",
        "## 3. Geometria da hipótese nula\n",
        "\n",
        "Há também uma **interpretação geométrica**:\n",
        "\n",
        "* Imagine o **espaço das tabelas de contingência possíveis**, fixando os totais marginais.\n",
        "* Cada tabela é um ponto nesse espaço.\n",
        "* Sob $H_0$, o ponto esperado (sem associação) está em uma \"subvariedade\" (superfície plana).\n",
        "* O teste $\\chi^2$ mede a **distância (ao quadrado) entre o ponto observado e o ponto mais próximo no modelo nulo**.\n",
        "\n",
        "Esse tipo de \"distância quadrática entre pontos e modelos\" aparece naturalmente em modelos estatísticos e leva à distribuição qui-quadrado.\n",
        "\n",
        "## Resumo\n",
        "\n",
        "<center>\n",
        "\n",
        "| Conceito                    | Intuição                                                             |\n",
        "| --------------------------- | -------------------------------------------------------------------- |\n",
        "| Diferença $O_{ij} - E_{ij}$ | Flutuação aleatória sob $H_0$                                        |\n",
        "| Normalização por $E_{ij}$   | Ajuste pela variabilidade esperada (variância)                       |\n",
        "| Soma de quadrados           | Combinação de múltiplos desvios independentes                        |\n",
        "| Distribuição qui-quadrado   | Soma de quadrados de variáveis normais padrão                        |\n",
        "| Teste qui-quadrado          | Mede o **quanto o padrão observado se afasta do esperado** por acaso |\n",
        "\n",
        "</center>"
      ]
    },
    {
      "cell_type": "markdown",
      "metadata": {},
      "source": [
        "---\n",
        "\n",
        "Vamos ilustrar as ideias acima com uma simulação em Python mostrando como as frequências geradas aleatoriamente sob $H_0$ produzem estatísticas que seguem a $\\chi^2$. \n",
        "Concretamente, o código constrói o **gráfico da distribuição da estatística $\\chi^2$** sob a hipótese nula, construído a partir de **10.000 simulações** de tabelas $2 \\times 2$ sem associação (isto é, com independência entre as variáveis)."
      ]
    },
    {
      "cell_type": "code",
      "execution_count": 14,
      "metadata": {},
      "outputs": [
        {
          "name": "stderr",
          "output_type": "stream",
          "text": [
            "<>:32: SyntaxWarning: invalid escape sequence '\\c'\n",
            "<>:34: SyntaxWarning: invalid escape sequence '\\c'\n",
            "<>:35: SyntaxWarning: invalid escape sequence '\\c'\n",
            "<>:32: SyntaxWarning: invalid escape sequence '\\c'\n",
            "<>:34: SyntaxWarning: invalid escape sequence '\\c'\n",
            "<>:35: SyntaxWarning: invalid escape sequence '\\c'\n",
            "/tmp/ipykernel_27511/1893535009.py:32: SyntaxWarning: invalid escape sequence '\\c'\n",
            "  plt.plot(x, chi2.pdf(x, df=1), 'r--', label=\"Distribuição teórica $\\chi^2_1$\")\n",
            "/tmp/ipykernel_27511/1893535009.py:34: SyntaxWarning: invalid escape sequence '\\c'\n",
            "  plt.title(\"Distribuição da Estatística $\\chi^2$ sob H₀ (Simulação)\")\n",
            "/tmp/ipykernel_27511/1893535009.py:35: SyntaxWarning: invalid escape sequence '\\c'\n",
            "  plt.xlabel(\"Valor da Estatística $\\chi^2$\")\n"
          ]
        },
        {
          "data": {
            "image/png": "[encoded data removed]",
            "text/plain": [
              "<Figure size 1000x600 with 1 Axes>"
            ]
          },
          "metadata": {},
          "output_type": "display_data"
        }
      ],
      "source": [
        "import numpy as np\n",
        "import matplotlib.pyplot as plt\n",
        "import seaborn as sns\n",
        "from scipy.stats import chi2_contingency, chi2\n",
        "\n",
        "# Simulação: gerar tabelas 2x2 sob H0 (sem associação)\n",
        "np.random.seed(42)\n",
        "\n",
        "# Totais fixos (como no exemplo anterior)\n",
        "row_totals = [52, 48]  # Masculino, Feminino\n",
        "col_totals = [51, 49]  # Dog, Cat\n",
        "grand_total = 100\n",
        "\n",
        "# Número de simulações\n",
        "n_sim = 10000\n",
        "chi2_stats = []\n",
        "\n",
        "for _ in range(n_sim):\n",
        "    # Simula uma tabela 2x2 com distribuição multinomial condicionada aos totais marginais\n",
        "    # Usamos proporções marginais para gerar frequências esperadas\n",
        "    expected = np.outer(row_totals, col_totals) / grand_total\n",
        "    simulated = np.random.multinomial(grand_total, expected.flatten()/grand_total).reshape(2, 2)\n",
        "\n",
        "    # Aplica o teste qui-quadrado\n",
        "    chi2_stat, _, _, _ = chi2_contingency(simulated, correction=False)\n",
        "    chi2_stats.append(chi2_stat)\n",
        "\n",
        "# Plotar a distribuição simulada\n",
        "plt.figure(figsize=(10, 6))\n",
        "sns.histplot(chi2_stats, bins=50, kde=True, stat=\"density\", label=\"Simulado (H0)\")\n",
        "x = np.linspace(0, 20, 500)\n",
        "plt.plot(x, chi2.pdf(x, df=1), 'r--', label=\"Distribuição teórica $\\chi^2_1$\")\n",
        "plt.axvline(x=38.25, color='black', linestyle='--', label='Exemplo real')\n",
        "plt.title(\"Distribuição da Estatística $\\chi^2$ sob H₀ (Simulação)\")\n",
        "plt.xlabel(\"Valor da Estatística $\\chi^2$\")\n",
        "plt.ylabel(\"Densidade\")\n",
        "plt.legend()\n",
        "plt.tight_layout()\n",
        "plt.show()\n"
      ]
    },
    {
      "cell_type": "markdown",
      "metadata": {},
      "source": [
        "### Interpretação:\n",
        "\n",
        "* 🔵 **Histograma**: valores da estatística $\\chi^2$ simulados a partir de dados que **seguem $H_0$** (isto é, não há associação entre as variáveis).\n",
        "* 🔴 **Linha tracejada vermelha**: densidade da distribuição teórica $\\chi^2_1$.\n",
        "* ⚫ **Linha preta tracejada**: valor observado de $\\chi^2 \\approx 38.25$ do exemplo real.\n",
        "\n",
        "### Intuição:\n",
        "\n",
        "* A maior parte das estatísticas simuladas cai **perto de 0** — isso é esperado, pois a maioria dos desvios $O - E$ são pequenos quando $H_0$ é verdadeiro.\n",
        "* O valor de 38.25 está **extremamente na cauda direita** da distribuição: isso indica que a tabela observada seria **muito improvável** se $H_0$ fosse verdadeira.\n",
        "* Isso justifica a rejeição de $H_0$ com um **valor-p extremamente pequeno**."
      ]
    },
    {
      "cell_type": "markdown",
      "metadata": {},
      "source": [
        "# Teste qui-quadrado é unilateral\n",
        "\n",
        "> O teste qui-quadrado é **sempre um teste unilateral à direita**.\n",
        "\n",
        "Para entender a afirmação acima, considere novamente a estatística do teste qui-quadrado:\n",
        "\n",
        "$$\n",
        "\\chi^2 = \\sum \\frac{(O_i - E_i)^2}{E_i}\n",
        "$$\n",
        "\n",
        "* Ela é **sempre não-negativa** (soma de quadrados).\n",
        "* Valores **próximos de zero** indicam **boa concordância** com a hipótese nula.\n",
        "* Valores **grandes** indicam **desvios expressivos** entre observado e esperado.\n",
        "\n",
        "> Por que unilateral à direita?\n",
        "* A **cauda direita da distribuição qui-quadrado** representa situações com **grande discrepância** entre os dados observados e o que seria esperado sob $H_0$.\n",
        "* Assim, o **valor-p** é sempre calculado como:\n",
        "\n",
        "$$\n",
        "\\text{valor-p} = P(\\chi^2 \\geq \\text{estatística observada} \\mid H_0)\n",
        "$$\n",
        "\n",
        "Repare que, ao contrário de testes como o t de Student (que podem ser unilaterais ou bilaterais), o teste qui-quadrado **sempre rejeita $H_0$** quando a estatística está **muito alta**, nunca quando está muito baixa.\n",
        "\n",
        "**Resumo:**\n",
        "\n",
        "| Aspecto              | Qui-quadrado                                            |\n",
        "| -------------------- | ------------------------------------------------------- |\n",
        "| Tipo de teste        | **Unilateral à direita**                                |\n",
        "| Rejeita $H_0$ quando | Estatística $\\chi^2$ é **grande**                       |\n",
        "| Valor-p              | Área sob a curva à **direita** da estatística observada |"
      ]
    },
    {
      "cell_type": "markdown",
      "metadata": {},
      "source": [
        "Abaixo está um gráfico da distribuição qui-quadrado com:\n",
        "\n",
        "* 📘 **Curva azul**: a densidade da distribuição $\\chi^2_3$ (com 3 graus de liberdade).\n",
        "* ⚫ **Linha tracejada preta**: valor da **estatística observada** (neste exemplo, $\\chi^2 = 11$).\n",
        "* 🔴 **Área vermelha**: a **cauda à direita**, que representa o **valor-p**."
      ]
    },
    {
      "cell_type": "code",
      "execution_count": 15,
      "metadata": {},
      "outputs": [
        {
          "name": "stderr",
          "output_type": "stream",
          "text": [
            "<>:18: SyntaxWarning: invalid escape sequence '\\c'\n",
            "<>:27: SyntaxWarning: invalid escape sequence '\\c'\n",
            "<>:18: SyntaxWarning: invalid escape sequence '\\c'\n",
            "<>:27: SyntaxWarning: invalid escape sequence '\\c'\n",
            "/tmp/ipykernel_27511/2106165620.py:18: SyntaxWarning: invalid escape sequence '\\c'\n",
            "  plt.plot(x, y_curve, label=f'Distribuição $\\chi^2_{{{df}}}$', color='blue')\n",
            "/tmp/ipykernel_27511/2106165620.py:27: SyntaxWarning: invalid escape sequence '\\c'\n",
            "  plt.xlabel('Valor da estatística $\\chi^2$')\n"
          ]
        },
        {
          "data": {
            "image/png": "[encoded data removed]",
            "text/plain": [
              "<Figure size 1000x600 with 1 Axes>"
            ]
          },
          "metadata": {},
          "output_type": "display_data"
        }
      ],
      "source": [
        "# Replotando com ajuste explícito da base do eixo y para incluir zero\n",
        "import numpy as np\n",
        "import matplotlib.pyplot as plt\n",
        "from scipy.stats import chi2\n",
        "\n",
        "# Parâmetros\n",
        "df = 3  # graus de liberdade\n",
        "x = np.linspace(0, 20, 500)\n",
        "chi2_stat_observado = 11\n",
        "\n",
        "# Densidades\n",
        "y_curve = chi2.pdf(x, df)\n",
        "x_fill = np.linspace(chi2_stat_observado, 20, 200)\n",
        "y_fill = chi2.pdf(x_fill, df)\n",
        "\n",
        "# Gráfico\n",
        "plt.figure(figsize=(10, 6))\n",
        "plt.plot(x, y_curve, label=f'Distribuição $\\chi^2_{{{df}}}$', color='blue')\n",
        "plt.fill_between(x_fill, y_fill, y2=0, color='red', alpha=0.5, label='Valor-p (cauda à direita)')\n",
        "plt.axvline(chi2_stat_observado, color='black', linestyle='--', label='Estatística observada')\n",
        "\n",
        "# Forçar eixo y a iniciar no zero\n",
        "plt.ylim(bottom=0)\n",
        "\n",
        "# Rótulos e legenda\n",
        "plt.title('Teste Qui-Quadrado: Rejeição na Cauda Direita')\n",
        "plt.xlabel('Valor da estatística $\\chi^2$')\n",
        "plt.ylabel('Densidade de probabilidade')\n",
        "plt.legend()\n",
        "plt.tight_layout()\n",
        "plt.show()"
      ]
    },
    {
      "cell_type": "markdown",
      "metadata": {},
      "source": [
        "✅ Interpretação:\n",
        "\n",
        "* O **teste qui-quadrado é sempre unilateral à direita** porque estamos interessados em saber se o valor observado da estatística é **grande o suficiente** para indicar discrepância entre observado e esperado.\n",
        "* Quanto **maior a área vermelha (valor-p)**, menor a evidência contra $H_0$.\n",
        "* Se essa área for **pequena (menor que 0.05, por exemplo)**, rejeitamos $H_0$.\n"
      ]
    }
  ],
  "metadata": {
    "colab": {
      "provenance": []
    },
    "kernelspec": {
      "display_name": "gcc1625",
      "language": "python",
      "name": "python3"
    },
    "language_info": {
      "codemirror_mode": {
        "name": "ipython",
        "version": 3
      },
      "file_extension": ".py",
      "mimetype": "text/x-python",
      "name": "python",
      "nbconvert_exporter": "python",
      "pygments_lexer": "ipython3",
      "version": "3.13.2"
    }
  },
  "nbformat": 4,
  "nbformat_minor": 0
}
