{
  "cells": [
    {
      "cell_type": "markdown",
      "metadata": {},
      "source": [
        "<center><h1>Teste de Hipóteses Qui-Quadrado (Chi-Squared Test)</h1></center>"
      ]
    },
    {
      "cell_type": "markdown",
      "metadata": {
        "id": "aupvBazpcdUX"
      },
      "source": [
        "# Introdução\n",
        "\n",
        "O teste $\\chi^2$ (lê-se *qui-quadrado*) é um procedimento projetado para testar a existência de relações significativas **entre duas variáveis discretas**."
      ]
    },
    {
      "cell_type": "markdown",
      "metadata": {
        "id": "SP8l-FWKVztS"
      },
      "source": [
        "## Tabela de contingência\n",
        "\n",
        "Para aplicação do teste $\\chi^2$, as informações coletadas (a partir da amostra) acerca das variáveis devem estar ​​organizadas em uma *tabela de contingência*.\n",
        "\n",
        "Uma tabela de contingência (também conhecida como tabulação cruzada ou tabela de referência cruzada) é um tipo de tabela em um formato de matriz que exibe a distribuição de frequência das diversas combinações de valores das variáveis. Tabelas de contingência são muito utilizados em pesquisa de opinião, inteligência de negócios, engenharia e pesquisa científica. Elas fornecem uma imagem básica da inter-relação entre duas variáveis ​​e podem ajudar a encontrar interações entre elas.\n",
        "\n",
        "Como exemplo, considere duas variáveis, ambas discretas: \n",
        "\n",
        "* `sexo` (com valores em **Masculino** ou **Feminino**) \n",
        "* `animal de estimação` (com valores em **Cachorro** ou **Gato**). \n",
        "\n",
        "Suponha que 100 indivíduos sejam amostrados aleatoriamente em uma população muito grande como parte de um estudo de diferenças de sexo e preferência por animal de estimação. Uma tabela de contingência pode ser criada para exibir as diversas quantidades de indivíduos na amostra: quantos são homens e preferem gatos, quantos homens preferem gatos, quantas mulheres preferem cachorros e quantas mulheres preferem gatos. Essa tabela de contingência é exibida abaixo ([fonte](https://math.stackexchange.com/questions/1233587/checking-dependency-of-variables-in-a-contingency-table)).\n",
        "\n",
        "<center>\n",
        "\n",
        "|               | Cachorro       | Gato       | Total |\n",
        "| ---------     | -------------- | ---------- | ----- |\n",
        "| **Masculino** | 42             | 10         | 52    |\n",
        "| **Feminino**  | 9              | 39         | 48    |\n",
        "| **Total**     | 51             | 49         | 100   |\n",
        "\n",
        "</center>\n",
        "\n",
        "Ainda com relação ao exemplo acima, repare que\n",
        "\n",
        "- a coluna mais à direita apresenta os totais por linha,\n",
        "- a linha mais abaixo exibe os totais por coluna,\n",
        "- a célula inferior direita o total geral de indivíduos da amostra.\n",
        "\n",
        "As informações dos totais por linha e por coluna são opcionais na representação de uma tabela de contingência. Além disso, tabelas de contingência não precisam envolver apenas variáveis binárias. Contanto que as variáveis sejam discretas (e com uma quantidade de valores dentro do aceitável), uma tabela de contingência pode ser usada para exibir sumários acerca delas, independentemente da *aridade* (i.e., da quantidade de valores) dessas variáveis. No exemplo a seguir ([fonte](http://www.sthda.com/sthda/RDoc/data/housetasks.txt\n",
        ")), as variáveis apresentam quatro e treze valores, respectivamente. Note também que não são fornecidos os totais nas margens da tabela.\n",
        "\n",
        "<center>\n",
        "\n",
        "| Task        | Wife | Alternating | Husband | Jointly |\n",
        "|-------------|------|-------------|---------|---------|\n",
        "| Laundry     | 156  | 14          | 2       | 4       |\n",
        "| Main_meal   | 124  | 20          | 5       | 4       |\n",
        "| Dinner      | 77   | 11          | 7       | 13      |\n",
        "| Breakfast   | 82   | 36          | 15      | 7       |\n",
        "| Tidying     | 53   | 11          | 1       | 57      |\n",
        "| Dishes      | 32   | 24          | 4       | 53      |\n",
        "| Shopping    | 33   | 23          | 9       | 55      |\n",
        "| Official    | 12   | 46          | 23      | 15      |\n",
        "| Driving     | 10   | 51          | 75      | 3       |\n",
        "| Finances    | 13   | 13          | 21      | 66      |\n",
        "| Insurance   | 8    | 1           | 53      | 77      |\n",
        "| Repairs     | 0    | 3           | 160     | 2       |\n",
        "| Holidays    | 0    | 1           | 6       | 153     |\n",
        "\n",
        "</center>\n"
      ]
    },
    {
      "cell_type": "markdown",
      "metadata": {
        "id": "DgFXaL1UccRw"
      },
      "source": [
        "## Independência estatística\n",
        "\n",
        "A independência estatística é um conceito importante na Teoria das Probabilidades. Considere dois eventos $A$ e $B$. Se o conhecimento da ocorrência do evento $A$ não muda a probabilidade de ocorrência do evento $B$, então escrevemos:\n",
        "\n",
        "$$\n",
        "\\Pr(B|A) = \\Pr(B)\n",
        "$$\n",
        "\n",
        "Sob a condição acima, a probabilidade conjunta dos eventos $A$ e $B$ é igual ao produto das probabilidades dos eventos $A$ e $B$: $\\Pr(A,B) = \\Pr(A) \\times \\Pr(B)$. Esses eventos são então considerados **estatisticamente independentes**.\n",
        "\n",
        "A independência estatística não deve ser confundida com outra propriedade que pode existir entre eventos, a exclusividade mútua. Se a probabilidade conjunta de dois eventos $A$ e $B$ for zero, esses eventos são ditos mutuamente exclusivos ou disjuntos. O seguinte destaca as condições sob as quais dois eventos são estatisticamente independentes e mutuamente exclusivos:\n",
        "\n",
        "- $\\Pr(A,B) = \\Pr(A) \\times \\Pr(B) \\iff \\text{eventos independentes}$\n",
        "- $\\Pr(A,B) = 0 \\iff \\text{eventos mutuamente exclusivos}$\n",
        "\n",
        "No contexto da Inferência Estatística, o conceito de **evento** está relacionado aos valores que uma variável aleatória assume. Além disso, o conceito de independência estatística entre duas variáveis aleatórias pode ser usado como um indicador de presença ou ausência de dependência entre elas. Em particular, se duas variáveis são independentes, as distribuições percentuais na tabela de contingência são idênticas.\n",
        "\n",
        "> Se há dependências entre duas variáveis, dizemos que essas variáveis estão **associadas**.\n",
        "\n",
        "Como exemplo, considere novamente a tabela de contingência usada em exemplo anterior e reapresentada abaixo. \n",
        "\n",
        "<center>\n",
        "\n",
        "|               | Cachorro       | Gato       | Total |\n",
        "| ---------     | -------------- | ---------- | ----- |\n",
        "| **Masculino** | 42             | 10         | 52    |\n",
        "| **Feminino**  | 9              | 39         | 48    |\n",
        "| **Total**     | 51             | 49         | 100   |\n",
        "\n",
        "</center>\n",
        "\n",
        "Nesse contexto, há duas variáveis aleatórias binárias: \n",
        "* **Sexo** \n",
        "* **Preferência** (por animal de estimação preferido)\n",
        "\n",
        "Os dados nessa tabela parecem indicar que as variáveis **não** são estatisticamente independentes, i.e., que há associação entre elas. Para ententer porque, repare que a maioria das mulheres prefere gatos (39 contra 9), enquanto que a maioria dos homens prefere cachorros (42 contra 10). Se essas variáveis fossem efetivamente independentes, deveríamos esperar encontrar preferências aproximadamente iguais por gatos e cachorros, tanto no grupo de mulheres quanto no de homens.\n",
        "\n",
        "Visto que os dados apresentados na tabela acima são correspondentes a uma amostra da população, surge a seguinte questão:\n",
        "\n",
        "> O enviesamento observado é obra do acaso (e portanto não reflete a distribuição da população), ou é consequência de as variáveis serem estatisticamente dependentes?\n",
        "\n",
        "A questão acima pode ser investigada por meio do teste $\\chi^2$."
      ]
    },
    {
      "cell_type": "markdown",
      "metadata": {},
      "source": [
        "## Distribuição Qui-Quadrado\n",
        "\n",
        "A estatística usada no teste $\\chi^2$ segue a distribuição homônima, a [distribuição $\\chi^2$](https://en.wikipedia.org/wiki/Chi-squared_distribution). A distribuição qui-quadrado (𝜒²) é uma distribuição contínua assimétrica. A variável aleatória $X \\sim \\chi^2_k$ com $k$ graus de liberdade é a soma dos quadrados de $k$ variáveis normais padrão independentes:\n",
        "\n",
        "$$\n",
        "X = \\sum_{i=1}^{k} Z_i^2, \\quad Z_i \\sim N(0,1)\n",
        "$$\n",
        "\n",
        "A figura a seguir ([fonte](https://en.wikipedia.org/wiki/Chi-squared_distribution)) apresenta os gráficos de diversas funções de densidade que seguem a distribuição $\\chi^2$. Essa distribuição possui um parâmetro, $k$, a quantidade de graus de liberdade.\n",
        "\n",
        "<p align=\"center\">\n",
        "  <img src=\"https://upload.wikimedia.org/wikipedia/commons/thumb/3/35/Chi-square_pdf.svg/1024px-Chi-square_pdf.svg.png\" width=\"600\"/>\n",
        "</p>"
      ]
    },
    {
      "cell_type": "markdown",
      "metadata": {},
      "source": [
        "## Tipos de Testes Qui-Quadrado\n",
        "\n",
        "### 1. Teste de Aderência (Goodness-of-fit)\n",
        "\n",
        "Verifica se uma distribuição observada se ajusta a uma distribuição teórica esperada.\n",
        "\n",
        "**Declaração das hipóteses:**\n",
        "* $H_0$: A distribuição observada segue a distribuição teórica.\n",
        "* $H_1$: A distribuição observada não segue a distribuição teórica.\n",
        "\n",
        "### 2. Teste de Independência\n",
        "\n",
        "Verifica se há associação (i.e., dependência estatística) entre duas variáveis categóricas.\n",
        "\n",
        "**Declaração das hipóteses:**\n",
        "* $H_0$: As variáveis são independentes.\n",
        "* $H_1$: As variáveis são associadas.\n",
        "\n",
        "\n",
        "Neste tipo de teste $\\chi^2$, as hipóteses devem ser declaradas da seguinte forma:\n",
        "- A hipótese nula ($H_0$) deve afirmar que não existe associação entre as duas variáveis.\n",
        "- A hipótese de pesquisa ($H_a$) declara que as duas variáveis ​estão associadas na população.\n",
        "\n",
        "### 3. Teste de Homogeneidade\n",
        "\n",
        "Verifica se **duas ou mais populações** seguem a **mesma distribuição** de uma variável categórica.\n",
        "\n",
        "---"
      ]
    },
    {
      "cell_type": "markdown",
      "metadata": {},
      "source": [
        "## Passos do procedimento\n",
        "\n",
        "1. Declarar as hipóteses nula e alternativa\n",
        "2. Montar a tabela de contingência\n",
        "3. Computar a estatística de teste\n",
        "4. Calcular o valor $p$ correspondente\n",
        "5. Tomar uma decisão e interpretar o resultado"
      ]
    },
    {
      "cell_type": "markdown",
      "metadata": {
        "id": "5Bgw9UOzik1Q"
      },
      "source": [
        "# Estatística qui-quadrado\n",
        "\n",
        "A estatística qui-quadrado mede o desvio entre o que foi observado nos dados e o que seria esperado caso não houvesse relação entre as variáveis (sob $H_0$). Essa estatística é calculada por meio da consulta aos valores contidos em uma tabela de contingência.\n",
        "\n",
        "$$\n",
        "\\chi^2 = \\sum_{i,j} \\frac{(O_{ij} - E_{ij})^2}{E_{ij}}\n",
        "$$\n",
        "\n",
        "* $O_{ij}$: **Frequência observada**. Frequências observadas (*observed frequencies*) são valores efetivamente observados na tabela de contingência (ou derivados dela).\n",
        "* $E_{ij}$: **Frequência esperada sob $H_0$**. Frequências esperadas (*expected frequencies*) são valores que seriam esperados se as duas variáveis fossem estatisticamente independentes. Calculamos uma frequência observada para cada par de valores das variáveis.\n",
        "\n",
        "> A estatística qui-quadrado é uma soma de desvios normalizados: se o observado é muito diferente do esperado, o numerador é grande, e a estatística assume valores grandes. \n",
        "\n",
        "Para computar a estatística $\\chi^2$, é necessário computar as frequências esperadas para cada célula $(i,j)$ da tabela de contingência. Para isso, basta multiplicar os totais de linha e de coluna para essa célula e dividir o produto resultante pelo número total de casos na tabela (representado por $N$ na equação abaixo).\n",
        "\n",
        "$$\n",
        "E_{ij} = \\frac{{\\text{total da linha $i$} \\times \\text{total da coluna $j$}}}{N}\n",
        "$$\n",
        "\n",
        "Como exemplo, retornemos à tabela de contingência usada em exemplo anterior e reapresentada abaixo.\n",
        "\n",
        "<center>\n",
        "\n",
        "|               | Cachorro       | Gato       | Total |\n",
        "| ---------     | -------------- | ---------- | ----- |\n",
        "| **Masculino** | 42             | 10         | 52    |\n",
        "| **Feminino**  | 9              | 39         | 48    |\n",
        "| **Total**     | 51             | 49         | 100   |\n",
        "\n",
        "</center>\n",
        "\n",
        "Se não houver associação entre as variáveis **Sexo** e **Preferência**, as frequências esperadas são calculadas como:\n",
        "\n",
        "- $E_{11} = f_e$(Masculino, Cachorro) = $\\frac{51 \\times 52}{100} = 26.52$\n",
        "\n",
        "- $E_{12} = f_e$(Masculino, Gato) = $\\frac{49 \\times 52}{100} = 25.48$\n",
        "\n",
        "- $E_{21} = f_e$(Feminino, Cachorro) = $\\frac{51 \\times 48}{100} = 24.48$\n",
        "\n",
        "- $E_{22} = f_e$(Feminino, Gato) = $\\frac{49 \\times 48}{100} = 23.52$\n",
        "\n",
        "Podemos organizar essas frequências esperadas em uma tabela de contingência:\n",
        "<center>\n",
        "\n",
        "| Sexo      | Cachorro | Gato  |\n",
        "| --------- | ---------| ------|\n",
        "| Masculino | 26.52    | 25.48 |\n",
        "| Feminino  | 24.48    | 23.52 |\n",
        "\n",
        "</center>\n",
        "\n",
        "De posse das frequências esperadas e observadas, é possível computar o valor da estatística:\n",
        "\n",
        "$$\n",
        "\\chi^2 = \\frac{26.52-42}{26.52} + \\frac{25.48-10}{25.48} + \\frac{24.48-9}{24.48} + \\frac{23.52-39}{23.52} \\approx 38.41\n",
        "$$"
      ]
    },
    {
      "cell_type": "code",
      "execution_count": null,
      "metadata": {
        "colab": {
          "base_uri": "https://localhost:8080/"
        },
        "id": "_cvpGg1I3HbN",
        "outputId": "66e3b9a2-e9e7-49a0-890f-f85e884d106f"
      },
      "outputs": [
        {
          "name": "stdout",
          "output_type": "stream",
          "text": [
            "26.52\n",
            "25.48\n",
            "24.48\n",
            "23.52\n",
            "9.0358371040724\n",
            "38.41767476221258\n"
          ]
        }
      ],
      "source": [
        "import numpy as np\n",
        "\n",
        "f_11 = 51*52/100\n",
        "f_12 = 49*52/100\n",
        "f_21 = 51*48/100\n",
        "f_22 = 49*48/100\n",
        "print(f_11)\n",
        "print(f_12)\n",
        "print(f_21)\n",
        "print(f_22)\n",
        "\n",
        "print(np.square(f_11 - 42)/f_11)\n",
        "\n",
        "qui_square = np.square(f_11 - 42)/f_11 + np.square(f_12 - 10)/f_12 + np.square(f_21 - 9)/f_21 + np.square(f_22 - 39)/f_22\n",
        "print(qui_square)"
      ]
    },
    {
      "cell_type": "markdown",
      "metadata": {
        "id": "WrQq-ahwMJZd"
      },
      "source": [
        "A biblioteca scipy disponibiliza o pacote de funções [chi2](https://docs.scipy.org/doc/scipy/reference/generated/scipy.stats.chi2.html), que permite manipular variáveis aleatórias que seguem a distribuição chi-quadrado.\n",
        "\n",
        "Como exemplo, suponha uma variável aleatória que siga a distribuição qui-quadrado com 9 graus de liberdade. Se quisermos saber que valor dessa variável delimita 95% da distribuição, podemos usar a função `ppf`, conforme o bloco de código abaixo."
      ]
    },
    {
      "cell_type": "code",
      "execution_count": null,
      "metadata": {
        "colab": {
          "base_uri": "https://localhost:8080/"
        },
        "id": "q5fGJQGGFxfb",
        "outputId": "67c8a9d8-3f8c-4a50-d850-7533f4b51699"
      },
      "outputs": [
        {
          "data": {
            "text/plain": [
              "inf"
            ]
          },
          "execution_count": 1,
          "metadata": {},
          "output_type": "execute_result"
        }
      ],
      "source": [
        "from scipy.stats import chi2\n",
        "chi2.ppf(.95, df=9)"
      ]
    },
    {
      "cell_type": "markdown",
      "metadata": {
        "id": "v2nOp1fhF7x1"
      },
      "source": [
        "# Aplicação do teste\n",
        "\n",
        "No contexto do teste $\\chi^2$, a distribuição $\\chi^2$\n",
        "indica a probabilidade de obter um determinado valor, presumindo que não existe relação (na população) entre as duas variáveis. Ainda no contexto desse teste, o valor do parâmetro $k$ é calculado por meio da expressão\n",
        "\n",
        "$$\n",
        "k = (r – 1) \\times (c – 1)\n",
        "$$\n",
        "\n",
        "onde\n",
        "- $r$ = quantidade de linhas da tabela, e\n",
        "- $c$ = quantidade de colunas da tabela.\n",
        "\n",
        "Seguindo com o exemplo anterior, o parâmetro $k$ pode ser calcular conforme a seguir:\n",
        "\n",
        "$$\n",
        "k = (2-1)(2-1) = 1\n",
        "$$\n",
        "\n",
        "De posse dos valores da estatística ($\\chi^2 = 38.41$) e do parâmetro ($k=1$), podemos computar o valor corresponde de $p$.\n",
        "\n",
        "Considere que foi definido um nível de significância igual a 5% para o estudo estatístico. Usando a função [scipy.stats.chi2.ppf](https://docs.scipy.org/doc/scipy/reference/generated/scipy.stats.chi2.html#scipy.stats.chi2), concluímos que o valor $3.84$, conhecido como valor crítico, é o que separa 5% da área da curva à direita. Por outro lado, o valor $\\chi^2 = 38.41$ é muito maior do que $3.84$. De fato, o valor obtido para a estatística está relacionado um valor $p$ virtualmente igual a $0$. Então parece muito claro que as variáveis ​​categóricas são **dependentes** na população da qual a amostra de 100 observações foi escolhida aleatoriamente."
      ]
    },
    {
      "cell_type": "code",
      "execution_count": null,
      "metadata": {
        "colab": {
          "base_uri": "https://localhost:8080/"
        },
        "id": "iA97clMTT7uc",
        "outputId": "ff3d9d9f-151e-4b94-f856-32c89fce3690"
      },
      "outputs": [
        {
          "name": "stdout",
          "output_type": "stream",
          "text": [
            "valor crítico: 3.84\n",
            "p: 0.000000\n"
          ]
        }
      ],
      "source": [
        "from scipy.stats import chi2\n",
        "x = 38.41\n",
        "k=1\n",
        "print('valor crítico: %.2f' % chi2.ppf(.95,k))\n",
        "print('p: %f' % (1 - chi2.cdf(x,k)))"
      ]
    },
    {
      "cell_type": "code",
      "execution_count": null,
      "metadata": {
        "colab": {
          "base_uri": "https://localhost:8080/"
        },
        "id": "ftek2XEWea3A",
        "outputId": "d7ac5f6f-1384-4eb7-b034-87a666ea7b90"
      },
      "outputs": [
        {
          "data": {
            "text/plain": [
              "Power_divergenceResult(statistic=38.41767476221258, pvalue=2.3057195936791932e-08)"
            ]
          },
          "execution_count": 30,
          "metadata": {
            "tags": []
          },
          "output_type": "execute_result"
        }
      ],
      "source": [
        "from scipy.stats import chisquare\n",
        "chisquare([42, 10, 9, 39],[26.52, 25.48, 24.48, 23.52])"
      ]
    },
    {
      "cell_type": "code",
      "execution_count": null,
      "metadata": {
        "colab": {
          "base_uri": "https://localhost:8080/"
        },
        "id": "rQM31LuRrRI-",
        "outputId": "2a564ff8-874f-424f-f607-60d2158093a4"
      },
      "outputs": [
        {
          "data": {
            "text/plain": [
              "Power_divergenceResult(statistic=0.20033654487436, pvalue=0.9775349496246623)"
            ]
          },
          "execution_count": 2,
          "metadata": {},
          "output_type": "execute_result"
        }
      ],
      "source": [
        "from scipy.stats import chisquare\n",
        "chisquare([25, 25, 25, 25],[26.52, 25.48, 24.48, 23.52])"
      ]
    },
    {
      "cell_type": "markdown",
      "metadata": {
        "id": "dnCnqFkxiuL3"
      },
      "source": [
        "# Condições de aplicabilidade\n",
        "\n",
        "Diferente dos testes estudados até aqui ($z$-teste, $t$-teste, ANOVA), o teste $\\chi^2$ não requer suposições sobre a distribuição da população da qual a amostra é retirada. Ou seja, o $\\chi^2$ é um teste estatístico não-paramétrico.\n",
        "\n",
        "No entanto, assim como outras técnicas inferenciais, esse teste possui algumas consições de aplicabilidade:\n",
        "\n",
        "* A frequência esperada de cada célula da tabela de contingência deve ser razoavelmente grande. Como regra prática, costuma-se usa:\n",
        "  * Nenhuma célula com frequência esperada < 1.\n",
        "  * No máximo 20% das células com frequência esperada < 5.\n",
        "* As observações devem ser independentes (i.e., presume que foi realizada amostragem aleatória.).\n",
        "* As variáveis do estudo devem ser categóricos.\n",
        "\n"
      ]
    },
    {
      "cell_type": "markdown",
      "metadata": {
        "id": "JDauTLISixMv"
      },
      "source": [
        "# Exemplos\n",
        "\n",
        "## Exemplo 1\n",
        "\n",
        "O conjunto de dados survey contém dados sobre hábitos de fumo e de atividades físicas de estudantes, dentre outras informações.\n",
        "\n",
        "- hábitos de tabagismo (`Smoke`)\n",
        "- nível de prática de exercícios físicos (`Exer`)\n",
        "\n",
        "Seja usar o teste $\\chi^2$ para verificar, nível de significância de 5%, se as variáveis são independentes."
      ]
    },
    {
      "cell_type": "code",
      "execution_count": null,
      "metadata": {
        "colab": {
          "base_uri": "https://localhost:8080/",
          "height": 204
        },
        "id": "okdAfJKEOSFH",
        "outputId": "6a450a04-594c-4bf7-9fcd-d090e4200221"
      },
      "outputs": [
        {
          "data": {
            "text/html": [
              "<div>\n",
              "<style scoped>\n",
              "    .dataframe tbody tr th:only-of-type {\n",
              "        vertical-align: middle;\n",
              "    }\n",
              "\n",
              "    .dataframe tbody tr th {\n",
              "        vertical-align: top;\n",
              "    }\n",
              "\n",
              "    .dataframe thead th {\n",
              "        text-align: right;\n",
              "    }\n",
              "</style>\n",
              "<table border=\"1\" class=\"dataframe\">\n",
              "  <thead>\n",
              "    <tr style=\"text-align: right;\">\n",
              "      <th></th>\n",
              "      <th>Smoke</th>\n",
              "      <th>Exer</th>\n",
              "    </tr>\n",
              "  </thead>\n",
              "  <tbody>\n",
              "    <tr>\n",
              "      <th>0</th>\n",
              "      <td>Never</td>\n",
              "      <td>Some</td>\n",
              "    </tr>\n",
              "    <tr>\n",
              "      <th>1</th>\n",
              "      <td>Regul</td>\n",
              "      <td>None</td>\n",
              "    </tr>\n",
              "    <tr>\n",
              "      <th>2</th>\n",
              "      <td>Occas</td>\n",
              "      <td>None</td>\n",
              "    </tr>\n",
              "    <tr>\n",
              "      <th>3</th>\n",
              "      <td>Never</td>\n",
              "      <td>None</td>\n",
              "    </tr>\n",
              "    <tr>\n",
              "      <th>4</th>\n",
              "      <td>Never</td>\n",
              "      <td>Some</td>\n",
              "    </tr>\n",
              "  </tbody>\n",
              "</table>\n",
              "</div>"
            ],
            "text/plain": [
              "   Smoke  Exer\n",
              "0  Never  Some\n",
              "1  Regul  None\n",
              "2  Occas  None\n",
              "3  Never  None\n",
              "4  Never  Some"
            ]
          },
          "execution_count": 45,
          "metadata": {
            "tags": []
          },
          "output_type": "execute_result"
        }
      ],
      "source": [
        "import pandas as pd\n",
        "df_survey = pd.read_csv('survey.csv')\n",
        "df_survey[['Smoke', 'Exer']].head()"
      ]
    },
    {
      "cell_type": "markdown",
      "metadata": {
        "id": "Y4aU6sVxg6LE"
      },
      "source": [
        "O pacote Pandas fornece a função crosstab que pode ser usada para montar a tabela de contingência para a apilcação do teste $\\chi^2$. Veja a célula de código a seguir."
      ]
    },
    {
      "cell_type": "code",
      "execution_count": null,
      "metadata": {
        "colab": {
          "base_uri": "https://localhost:8080/",
          "height": 204
        },
        "id": "AAcI6JWxe-ox",
        "outputId": "b7a2eeb9-5136-4b06-a2dc-096a828e0a65"
      },
      "outputs": [
        {
          "data": {
            "text/html": [
              "<div>\n",
              "<style scoped>\n",
              "    .dataframe tbody tr th:only-of-type {\n",
              "        vertical-align: middle;\n",
              "    }\n",
              "\n",
              "    .dataframe tbody tr th {\n",
              "        vertical-align: top;\n",
              "    }\n",
              "\n",
              "    .dataframe thead th {\n",
              "        text-align: right;\n",
              "    }\n",
              "</style>\n",
              "<table border=\"1\" class=\"dataframe\">\n",
              "  <thead>\n",
              "    <tr style=\"text-align: right;\">\n",
              "      <th>Exer</th>\n",
              "      <th>Freq</th>\n",
              "      <th>None</th>\n",
              "      <th>Some</th>\n",
              "    </tr>\n",
              "    <tr>\n",
              "      <th>Smoke</th>\n",
              "      <th></th>\n",
              "      <th></th>\n",
              "      <th></th>\n",
              "    </tr>\n",
              "  </thead>\n",
              "  <tbody>\n",
              "    <tr>\n",
              "      <th>Heavy</th>\n",
              "      <td>7</td>\n",
              "      <td>1</td>\n",
              "      <td>3</td>\n",
              "    </tr>\n",
              "    <tr>\n",
              "      <th>Never</th>\n",
              "      <td>87</td>\n",
              "      <td>18</td>\n",
              "      <td>84</td>\n",
              "    </tr>\n",
              "    <tr>\n",
              "      <th>Occas</th>\n",
              "      <td>12</td>\n",
              "      <td>3</td>\n",
              "      <td>4</td>\n",
              "    </tr>\n",
              "    <tr>\n",
              "      <th>Regul</th>\n",
              "      <td>9</td>\n",
              "      <td>1</td>\n",
              "      <td>7</td>\n",
              "    </tr>\n",
              "  </tbody>\n",
              "</table>\n",
              "</div>"
            ],
            "text/plain": [
              "Exer   Freq  None  Some\n",
              "Smoke                  \n",
              "Heavy     7     1     3\n",
              "Never    87    18    84\n",
              "Occas    12     3     4\n",
              "Regul     9     1     7"
            ]
          },
          "execution_count": 46,
          "metadata": {
            "tags": []
          },
          "output_type": "execute_result"
        }
      ],
      "source": [
        "tbl = pd.crosstab(df_survey.Smoke, df_survey.Exer)\n",
        "tbl"
      ]
    },
    {
      "cell_type": "markdown",
      "metadata": {
        "id": "koZsQX5ghK9o"
      },
      "source": [
        "Por inspeção na tabela de contingência acima, percebemos que a variável `Exer` contém três valores, e a variável `Smoke` contém quatro valores.\n",
        "\n",
        "De posse da tabela de contingência, podemos usar a função scipy.stats.chi2_contingency para aplicar diretamente o teste $\\chi^2$."
      ]
    },
    {
      "cell_type": "code",
      "execution_count": null,
      "metadata": {
        "colab": {
          "base_uri": "https://localhost:8080/"
        },
        "id": "GHIC3kyod85h",
        "outputId": "1ec821ee-9f01-46d9-9f32-b52f811fe796"
      },
      "outputs": [
        {
          "data": {
            "text/plain": [
              "(5.488545890584232,\n",
              " 0.48284216946545633,\n",
              " 6,\n",
              " array([[ 5.36016949,  1.0720339 ,  4.56779661],\n",
              "        [92.09745763, 18.41949153, 78.48305085],\n",
              "        [ 9.25847458,  1.85169492,  7.88983051],\n",
              "        [ 8.28389831,  1.65677966,  7.05932203]]))"
            ]
          },
          "execution_count": 47,
          "metadata": {
            "tags": []
          },
          "output_type": "execute_result"
        }
      ],
      "source": [
        "from scipy.stats import chi2_contingency\n",
        "chi2_contingency(tbl)"
      ]
    },
    {
      "cell_type": "markdown",
      "metadata": {
        "id": "NFCUVe9Hc-_K"
      },
      "source": [
        "Ao ser invocada, a função chi2_contingency retorna uma tupla de componentes conforme descrição abaixo:\n",
        "\n",
        "- o primeiro componente é o valor Qui-quadrado ($5.49$) ;\n",
        "- o segundo componente corresponde a $p$ ($0.4828$);\n",
        "- o terceiro componente é a quantidade de graus de liberdade (3);\n",
        "- o quarto componente corresponde às frequências esperadas, na forma de uma matriz.\n",
        "\n",
        "Porque o valor de $p = 0.4828$ é maior do que o nível de significância de $\\alpha=0.05$, não temos evidência para rejeitar a hipótese nula de que o hábito de fumar seja independente do nível de exercício dos alunos."
      ]
    },
    {
      "cell_type": "markdown",
      "metadata": {
        "id": "r5wHQvTilxn_"
      },
      "source": [
        "No resultado acima, repare que nem todas as frequências esperadas são maiores que 5. Em geral, os resultados do teste $\\chi^2$ são confiáveis apenas quando todas as frequências esperadas são maiores ou iguais a 5. Para contornar esse problema, podemos combinar os valores 'None' e 'Some' da variável `Exer` em um único valor, conforme a célula de código abaixo."
      ]
    },
    {
      "cell_type": "code",
      "execution_count": null,
      "metadata": {
        "colab": {
          "base_uri": "https://localhost:8080/",
          "height": 204
        },
        "id": "XlNY2gGikHRf",
        "outputId": "2b491a5b-f576-4a07-ed70-2af89b9ffcef"
      },
      "outputs": [
        {
          "data": {
            "text/html": [
              "<div>\n",
              "<style scoped>\n",
              "    .dataframe tbody tr th:only-of-type {\n",
              "        vertical-align: middle;\n",
              "    }\n",
              "\n",
              "    .dataframe tbody tr th {\n",
              "        vertical-align: top;\n",
              "    }\n",
              "\n",
              "    .dataframe thead th {\n",
              "        text-align: right;\n",
              "    }\n",
              "</style>\n",
              "<table border=\"1\" class=\"dataframe\">\n",
              "  <thead>\n",
              "    <tr style=\"text-align: right;\">\n",
              "      <th></th>\n",
              "      <th>Smoke</th>\n",
              "      <th>Exer</th>\n",
              "    </tr>\n",
              "  </thead>\n",
              "  <tbody>\n",
              "    <tr>\n",
              "      <th>0</th>\n",
              "      <td>Never</td>\n",
              "      <td>None_or_Some</td>\n",
              "    </tr>\n",
              "    <tr>\n",
              "      <th>1</th>\n",
              "      <td>Regul</td>\n",
              "      <td>None_or_Some</td>\n",
              "    </tr>\n",
              "    <tr>\n",
              "      <th>2</th>\n",
              "      <td>Occas</td>\n",
              "      <td>None_or_Some</td>\n",
              "    </tr>\n",
              "    <tr>\n",
              "      <th>3</th>\n",
              "      <td>Never</td>\n",
              "      <td>None_or_Some</td>\n",
              "    </tr>\n",
              "    <tr>\n",
              "      <th>4</th>\n",
              "      <td>Never</td>\n",
              "      <td>None_or_Some</td>\n",
              "    </tr>\n",
              "  </tbody>\n",
              "</table>\n",
              "</div>"
            ],
            "text/plain": [
              "   Smoke          Exer\n",
              "0  Never  None_or_Some\n",
              "1  Regul  None_or_Some\n",
              "2  Occas  None_or_Some\n",
              "3  Never  None_or_Some\n",
              "4  Never  None_or_Some"
            ]
          },
          "execution_count": 49,
          "metadata": {
            "tags": []
          },
          "output_type": "execute_result"
        }
      ],
      "source": [
        "df_survey.replace({'Exer': {'None': 'None_or_Some', 'Some': 'None_or_Some'}}, inplace=True)\n",
        "df_survey[['Smoke', 'Exer']].head()"
      ]
    },
    {
      "cell_type": "code",
      "execution_count": null,
      "metadata": {
        "colab": {
          "base_uri": "https://localhost:8080/",
          "height": 204
        },
        "id": "Ks_4pDY8knE_",
        "outputId": "4a5e51ef-22ad-441a-e7a7-d43698eb3e28"
      },
      "outputs": [
        {
          "data": {
            "text/html": [
              "<div>\n",
              "<style scoped>\n",
              "    .dataframe tbody tr th:only-of-type {\n",
              "        vertical-align: middle;\n",
              "    }\n",
              "\n",
              "    .dataframe tbody tr th {\n",
              "        vertical-align: top;\n",
              "    }\n",
              "\n",
              "    .dataframe thead th {\n",
              "        text-align: right;\n",
              "    }\n",
              "</style>\n",
              "<table border=\"1\" class=\"dataframe\">\n",
              "  <thead>\n",
              "    <tr style=\"text-align: right;\">\n",
              "      <th>Exer</th>\n",
              "      <th>Freq</th>\n",
              "      <th>None_or_Some</th>\n",
              "    </tr>\n",
              "    <tr>\n",
              "      <th>Smoke</th>\n",
              "      <th></th>\n",
              "      <th></th>\n",
              "    </tr>\n",
              "  </thead>\n",
              "  <tbody>\n",
              "    <tr>\n",
              "      <th>Heavy</th>\n",
              "      <td>7</td>\n",
              "      <td>4</td>\n",
              "    </tr>\n",
              "    <tr>\n",
              "      <th>Never</th>\n",
              "      <td>87</td>\n",
              "      <td>102</td>\n",
              "    </tr>\n",
              "    <tr>\n",
              "      <th>Occas</th>\n",
              "      <td>12</td>\n",
              "      <td>7</td>\n",
              "    </tr>\n",
              "    <tr>\n",
              "      <th>Regul</th>\n",
              "      <td>9</td>\n",
              "      <td>8</td>\n",
              "    </tr>\n",
              "  </tbody>\n",
              "</table>\n",
              "</div>"
            ],
            "text/plain": [
              "Exer   Freq  None_or_Some\n",
              "Smoke                    \n",
              "Heavy     7             4\n",
              "Never    87           102\n",
              "Occas    12             7\n",
              "Regul     9             8"
            ]
          },
          "execution_count": 50,
          "metadata": {
            "tags": []
          },
          "output_type": "execute_result"
        }
      ],
      "source": [
        "tbl = pd.crosstab(df_survey.Smoke, df_survey.Exer)\n",
        "tbl"
      ]
    },
    {
      "cell_type": "code",
      "execution_count": null,
      "metadata": {
        "colab": {
          "base_uri": "https://localhost:8080/"
        },
        "id": "_6VvE6U_ksxW",
        "outputId": "12a92c9e-5bd0-4b70-f27b-b35e3d5b647f"
      },
      "outputs": [
        {
          "data": {
            "text/plain": [
              "(3.2328182226131843, 0.35710308004083174, 3, array([[ 5.36016949,  5.63983051],\n",
              "        [92.09745763, 96.90254237],\n",
              "        [ 9.25847458,  9.74152542],\n",
              "        [ 8.28389831,  8.71610169]]))"
            ]
          },
          "execution_count": 51,
          "metadata": {
            "tags": []
          },
          "output_type": "execute_result"
        }
      ],
      "source": [
        "from scipy.stats import chi2_contingency\n",
        "chi2_contingency(tbl)"
      ]
    },
    {
      "cell_type": "markdown",
      "metadata": {
        "id": "34NoTiGBmGL8"
      },
      "source": [
        "Perceba que agora todos os valores das frequências esperadas estão acima de 5, fazendo com que o resultado de aplicação do $\\chi^2$ dessa vez seja confiável."
      ]
    },
    {
      "cell_type": "markdown",
      "metadata": {},
      "source": [
        "## Exemplo 2: Teste de Aderência com Python\n",
        "\n",
        "Suponha que uma empresa afirma que 25% dos seus produtos são A, 25% B, 25% C e 25% D. Observamos a seguinte distribuição após uma amostra:\n",
        "\n",
        "<center>\n",
        "\n",
        "| Categoria | Frequência Observada |\n",
        "| --------- | -------------------- |\n",
        "| A         | 20                   |\n",
        "| B         | 18                   |\n",
        "| C         | 22                   |\n",
        "| D         | 40                   |\n",
        "\n",
        "</center>\n",
        "\n",
        "Com esses dados, queremos verificar a alegação da empresa de que produz uniformemente produtos dos quatro tipos."
      ]
    },
    {
      "cell_type": "code",
      "execution_count": 2,
      "metadata": {},
      "outputs": [
        {
          "name": "stdout",
          "output_type": "stream",
          "text": [
            "Estatística qui-quadrado: 12.3200\n",
            "Valor-p: 0.0064\n"
          ]
        }
      ],
      "source": [
        "from scipy.stats import chisquare\n",
        "\n",
        "observed = [20, 18, 22, 40]\n",
        "expected = [25, 25, 25, 25]  # frequências esperadas uniformes\n",
        "\n",
        "chi2_stat, p_val = chisquare(f_obs=observed, f_exp=expected)\n",
        "\n",
        "print(f'Estatística qui-quadrado: {chi2_stat:.4f}')\n",
        "print(f'Valor-p: {p_val:.4f}')"
      ]
    },
    {
      "cell_type": "markdown",
      "metadata": {},
      "source": [
        "O valor-p é menor do que $\\alpha = 0.05$. Sendo assim, rejeitamos $H_0$: os dados **não seguem** uma distribuição uniforme.\n",
        "\n",
        "---"
      ]
    },
    {
      "cell_type": "markdown",
      "metadata": {},
      "source": [
        "## Exemplo 3: Teste de Independência com Tabela de Contingência\n",
        "\n",
        "São coletados dados de prefêrencia por um novo produto, conforme a tabela a seguir.\n",
        "\n",
        "<center>\n",
        "\n",
        "|           | Gosta | Não gosta |\n",
        "| --------- | ----- | --------- |\n",
        "| Masculino | 30    | 20        |\n",
        "| Feminino  | 20    | 30        |\n",
        "\n",
        "</center>\n",
        "\n",
        "Será que **gênero** está associado ao **gosto pelo novo produto**?"
      ]
    },
    {
      "cell_type": "code",
      "execution_count": 3,
      "metadata": {},
      "outputs": [
        {
          "name": "stdout",
          "output_type": "stream",
          "text": [
            "Estatística qui-quadrado: 3.2400\n",
            "Valor-p: 0.0719\n",
            "GL: 1\n",
            "Frequências esperadas sob H0:\n",
            "[[25. 25.]\n",
            " [25. 25.]]\n"
          ]
        }
      ],
      "source": [
        "import numpy as np\n",
        "from scipy.stats import chi2_contingency\n",
        "\n",
        "# Criar a tabela\n",
        "table = np.array([[30, 20],\n",
        "                  [20, 30]])\n",
        "\n",
        "chi2_stat, p_val, dof, expected = chi2_contingency(table)\n",
        "\n",
        "print(f'Estatística qui-quadrado: {chi2_stat:.4f}')\n",
        "print(f'Valor-p: {p_val:.4f}')\n",
        "print(f'GL: {dof}')\n",
        "print('Frequências esperadas sob H0:')\n",
        "print(expected)"
      ]
    },
    {
      "cell_type": "markdown",
      "metadata": {},
      "source": [
        "O valor-p não é menor do que $\\alpha = 0.05$. Sendo assim, falhamos em rejeitar $H_0$: não há evidência de associação entre gênero e preferência.\n",
        "\n",
        "---"
      ]
    },
    {
      "cell_type": "markdown",
      "metadata": {},
      "source": [
        "## Exemplo 4: Teste de Homogeneidade \n",
        "\n",
        "Uma rede de supermercados deseja saber se **o padrão de preferência por tipos de pagamento** (dinheiro, cartão, PIX) é o **mesmo em três lojas diferentes**.\n",
        "\n",
        "São coletados dados de clientes dessas três lojas. Dados observados:\n",
        "\n",
        "<center>\n",
        "\n",
        "| Forma de Pagamento | Loja A | Loja B | Loja C |\n",
        "| ------------------ | ------ | ------ | ------ |\n",
        "| Dinheiro           | 30     | 25     | 20     |\n",
        "| Cartão             | 45     | 40     | 35     |\n",
        "| PIX                | 25     | 35     | 45     |\n",
        "\n",
        "</center>\n",
        "\n",
        "Hipóteses do Teste:\n",
        "\n",
        "* **$H_0$**: As distribuições de forma de pagamento são iguais nas três lojas (homogeneidade).\n",
        "* **$H_1$**: Pelo menos uma loja tem uma distribuição diferente (não homogênea)."
      ]
    },
    {
      "cell_type": "code",
      "execution_count": 4,
      "metadata": {},
      "outputs": [
        {
          "name": "stdout",
          "output_type": "stream",
          "text": [
            "Estatística qui-quadrado: 8.9643\n",
            "Valor-p: 0.0620\n",
            "Graus de liberdade: 4\n",
            "Frequências esperadas sob H0:\n",
            "[[25. 25. 25.]\n",
            " [40. 40. 40.]\n",
            " [35. 35. 35.]]\n"
          ]
        }
      ],
      "source": [
        "import numpy as np\n",
        "from scipy.stats import chi2_contingency\n",
        "\n",
        "# Tabela de frequências observadas\n",
        "table = np.array([\n",
        "    [30, 25, 20],  # Dinheiro\n",
        "    [45, 40, 35],  # Cartão\n",
        "    [25, 35, 45]   # PIX\n",
        "])\n",
        "\n",
        "# Aplicar o teste qui-quadrado\n",
        "chi2_stat, p_val, dof, expected = chi2_contingency(table)\n",
        "\n",
        "print(f'Estatística qui-quadrado: {chi2_stat:.4f}')\n",
        "print(f'Valor-p: {p_val:.4f}')\n",
        "print(f'Graus de liberdade: {dof}')\n",
        "print('Frequências esperadas sob H0:')\n",
        "print(expected)"
      ]
    },
    {
      "cell_type": "markdown",
      "metadata": {},
      "source": [
        "Interpretação\n",
        "\n",
        "* **Se o valor-p < 0.05**, rejeitamos $H_0$: há **evidência de que as distribuições diferem entre as lojas**.\n",
        "* **Se o valor-p ≥ 0.05**, não rejeitamos $H_0$: não há evidência suficiente para afirmar que as lojas têm distribuições diferentes.\n",
        "\n",
        "Repare que o teste de homogeneidade é estruturalmente idêntico ao teste de independência (mesma estatística), mas a **interpretação muda**:\n",
        "\n",
        "* **Teste de independência**: duas variáveis em uma única amostra.\n",
        "* **Teste de homogeneidade**: uma única variável categórica observada em **grupos diferentes**.\n",
        "\n",
        "---"
      ]
    },
    {
      "cell_type": "markdown",
      "metadata": {},
      "source": [
        "## Exercício Proposto\n",
        "\n",
        "Considere os dados:\n",
        "\n",
        "| Cor do Carro | Acidente | Sem Acidente |\n",
        "| ------------ | -------- | ------------ |\n",
        "| Vermelho     | 15       | 35           |\n",
        "| Preto        | 30       | 45           |\n",
        "| Branco       | 25       | 50           |\n",
        "\n",
        "1. Formule as hipóteses para testar se a cor do carro está associada à ocorrência de acidentes.\n",
        "2. Aplique o teste de independência em Python.\n",
        "3. Interprete os resultados."
      ]
    }
  ],
  "metadata": {
    "colab": {
      "provenance": []
    },
    "kernelspec": {
      "display_name": "gcc1625",
      "language": "python",
      "name": "python3"
    },
    "language_info": {
      "codemirror_mode": {
        "name": "ipython",
        "version": 3
      },
      "file_extension": ".py",
      "mimetype": "text/x-python",
      "name": "python",
      "nbconvert_exporter": "python",
      "pygments_lexer": "ipython3",
      "version": "3.13.2"
    }
  },
  "nbformat": 4,
  "nbformat_minor": 0
}
