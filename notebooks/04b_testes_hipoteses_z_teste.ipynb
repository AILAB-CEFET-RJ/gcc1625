{
  "cells": [
    {
      "cell_type": "markdown",
      "metadata": {
        "id": "Mqj0QnZVEQWe"
      },
      "source": [
        "# z-teste\n",
        "\n",
        "### Definição\n",
        "\n",
        "O teste estatístico conhecido como $z$-teste serve para testar afirmações acerca da **média** de uma população. Esse teste utiliza a estatística denominada $Z$, também chamada de $z$-escore. Essa estatística é definida conforme a equação a seguir.\n",
        "\n",
        "$$\n",
        "Z = \\frac{\\overline{x\n",
        "}-\\mu_0}{\\sigma/\\sqrt{n}}\n",
        "$$\n",
        "\n",
        "Na expressão acima:\n",
        "\n",
        "- $\\mu_0$ corresponde ao valor da média populacional, considerando que a hipótese nula seja verdadeira;\n",
        "\n",
        "- $\\sigma$ é o desvio padrão populacional;\n",
        "\n",
        "- $n$ é o tamamnho da amostra\n",
        "\n",
        "- $\\overline{x}$ é a média amostral\n",
        "\n",
        "Lembre-se de que **erro padrão** (*standard error*) de uma estatística é o desvio padrão de sua distribuição amostral ou uma estimativa desse desvio padrão. O $z$-score indica quantos erros padrão existem entre a média da amostra $\\overline{x}$ e a suposta média da população ($\\mu_0$). Quanto maior o valor do $z$-score, menos provável é a amostra, presumindo que a hipótese nula seja verdadeira.\n",
        "\n",
        "### Passos para aplicação\n",
        "\n",
        "Os passos para aplicar o $z$-teste são os descritos a seguir:\n",
        "\n",
        "1. Declarar as hipóteses\n",
        " - $H_0$: $\\mu = \\mu_0$\n",
        " - $H_a$: $\\mu \\neq \\mu_0$ ou $\\mu > \\mu_0$ ou $\\mu < \\mu_0$;\n",
        "2. Computar estatística de teste ($z$-escore) a partir da amostra;\n",
        "3. Encontrar o $p$-value associado ao $z$-escore;\n",
        "4. Interpretar o resultado (i.e., aceitar ou rejeitar a hipótese nula, comparando os valores do $p$-value e do nível de significância $\\alpha$.).\n",
        "\n",
        "Com relação ao passo 3 acima, dado um $z$-escore, é possível encontrar o $p$-valor correspondente. Há três casos a considerar, dependendo de como a hipótese alternativa foi definida:\n",
        "- Para $H_a: \\mu > \\mu_0$ $\\rightarrow$ $p = \\Pr(Z > z)$. Área da cauda à direita de $z$ (*right-sided $p$-value*).\n",
        "- Para $H_a: \\mu < \\mu_0$ $\\rightarrow$ $p = \\Pr(Z < z)$. Área da cauda à esquerda de $-z$ (*left-sided p-value*).\n",
        "- Para $H_a: \\mu \\neq \\mu_0$ $\\rightarrow$ $p = 2 \\times \\Pr(Z < -z) = 2 \\times \\Pr(Z > z)$. Soma das áreas de ambas as caudas (*two-sided $p$-value*).\n",
        "\n",
        "Com relação ao passo 4, a decisão por rejeitar $H_0$ ou não é feita comparando os valores de $\\alpha$ e do $p$-value. Se o $p$-value for menor do que $\\alpha$, dizemos que há evidência forte o suficiente para rejeitar $H_0$. Veja o esquema da figura a seguir ([fonte](https://towardsdatascience.com/what-is-p-value-370056b8244d))\n",
        "\n",
        "<center>\n",
        "<img src=\"https://miro.medium.com/max/1400/1*_LKvLWt0fMOJdfOWkwPXTA.png\" width=\"700px\"/>\n",
        "</center>\n"
      ]
    },
    {
      "cell_type": "markdown",
      "metadata": {
        "id": "gHtdKG8IqMeU"
      },
      "source": [
        "### Exemplos"
      ]
    },
    {
      "cell_type": "markdown",
      "metadata": {
        "id": "dhehVhP-sBLU"
      },
      "source": [
        "#### Exemplo 1\n",
        "\n",
        "Exemplo 1 (Fonte: Morettin & Bussab, Estatística Básica 5a edição, pág 334.) A associação das indústrias metalúrgicas está preocupada com o tempo perdido com acidentes de trabalho, cuja média nos últimos tempos tem sido 60 horas/homem por ano e desvio padrão de 20 horas/homem. Tentou-se um programa de prevenção de acidentes, após o qual foi tomada uma amostra de nove indústrias e medido o número de horas/homens perdidos por acidentes, que foi de 50 horas.\n",
        "Você diria, no nível de 5%, que há evidência de melhoria?\n",
        "\n",
        "**Solução**\n",
        "\n",
        "1. Formular $H_0$ e $H_a$\n",
        "- $H_0: \\mu = 60$\n",
        "- $H_a: \\mu < 60$\n",
        "\n",
        "2. Computar $z$-escore\n",
        "$$\n",
        "Z = \\frac{\\overline{x} - \\mu_0}{\\sigma/\\sqrt{n}} = \\frac{50 - 60}{20/\\sqrt{9}} = -1.5\n",
        "$$\n",
        "\n",
        "3. Encontrar o p-value\n",
        "\n",
        "$$\n",
        "p = \\Pr(Z < -1.5) \\approx 0.067\n",
        "$$\n",
        "\n",
        "4. Interpretar o resultado\n",
        "\n",
        "$$\n",
        "\\alpha = 0.05\n",
        "$$\n",
        "\n",
        "$$\n",
        "p > \\alpha\n",
        "$$\n",
        "\n",
        "Conclusão: não é possível rejeitar a hipótese nula. Em outras palavras, não há evidência para afirmar que o programa de prevenção de acidentes tenha causado uma diminuição na quantidade de tempo perdido."
      ]
    },
    {
      "cell_type": "code",
      "execution_count": null,
      "metadata": {
        "colab": {
          "base_uri": "https://localhost:8080/"
        },
        "id": "B-F7YnwknYnI",
        "outputId": "4c4779ad-07e8-406f-84fe-5f44342c0a65"
      },
      "outputs": [
        {
          "name": "stdout",
          "output_type": "stream",
          "text": [
            "O valor-p é:  0.06680720126885807\n",
            "Não há evidência para afirmar que o programa de prevenção de acidentes tenha causado uma diminuição na quantidade de tempo perdido\n"
          ]
        }
      ],
      "source": [
        "import numpy as np\n",
        "from scipy.stats import norm\n",
        "\n",
        "alpha = 0.05\n",
        "z_score = (50-60)/(20/np.sqrt(9))\n",
        "\n",
        "p_value = norm.cdf(-1.5)\n",
        "print(\"O valor-p é: \", p_value)\n",
        "\n",
        "if p_value < alpha:\n",
        "    print(\"Há evidência para afirmar que o programa de prevenção de acidentes \" \\\n",
        "    \"tenha causado uma diminuição na quantidade de tempo perdido\")\n",
        "else:\n",
        "    print(\"Não há evidência para afirmar que o programa de prevenção de acidentes \" \\\n",
        "    \"tenha causado uma diminuição na quantidade de tempo perdido\")"
      ]
    },
    {
      "cell_type": "markdown",
      "metadata": {},
      "source": [
        "**Observação**\n",
        "\n",
        "O p-valor está relativamente próximo de 5%, o que pode indicar tendência de melhoria, mas não forte o suficiente para afirmarmos isso com 95% de confiança."
      ]
    },
    {
      "cell_type": "markdown",
      "metadata": {
        "id": "CSUHK_i4kvVy"
      },
      "source": [
        "#### Exemplo 2\n",
        "\n",
        "(Fonte: Morettin & Bussab, Estatística Básica 5a edição, pág 334.). Uma companhia de cigarros anuncia que o índice médio de nicotina dos cigarros que fabrica está abaixo de 23 mg por cigarro.\n",
        "Um laboratório realiza seis análises desse índice, obtendo: 27, 24, 21, 25, 26, 22.\n",
        "Sabe-se que o índice de nicotina se distribui normalmente, com variância igual a 4,86 $\\text{mg}^2$.\n",
        "Pode-se aceitar, no nível de 10%, a afirmação do fabricante?\n",
        "\n",
        "**Solução**. Queremos testar a afirmação do fabricante de que o índice médio de nicotina por cigarro está abaixo de 23 mg.\n",
        "\n",
        "1. Formular das hipóteses\n",
        " - $H_0: \\mu = 23$\n",
        " - $H_a: \\mu < 23$\n",
        " \n",
        "2. Calcular da estatística do teste\n",
        "$$\n",
        "Z = \\frac{\\overline{x}-\\mu_0}{\\sigma/\\sqrt{n}} = \\frac{24.17-23}{2.20 / 2.45} \\approx 1.302\n",
        "$$\n",
        "\n",
        "3. Computar o $p$-value: $p = \\Pr(Z > 1.302) \\approx 0.096$\n",
        "\n",
        "4. Interpretar o resultado ($\\alpha = 0.1$)\n",
        "\n",
        "$$\n",
        "(p < \\alpha) \\rightarrow \\text{rejeitar } H_0\n",
        "$$"
      ]
    },
    {
      "cell_type": "code",
      "execution_count": 12,
      "metadata": {
        "colab": {
          "base_uri": "https://localhost:8080/"
        },
        "id": "YpXGsWAUZz0e",
        "outputId": "b405178b-da69-415e-fa6a-8bf6778ddd03"
      },
      "outputs": [
        {
          "name": "stdout",
          "output_type": "stream",
          "text": [
            "Média amostral: 24.17\n",
            "Estatística do teste (z): 1.2963\n",
            "p-valor: 0.9026\n",
            "Não há evidência para rejeitar a hipótese nula.\n"
          ]
        }
      ],
      "source": [
        "import numpy as np\n",
        "from scipy.stats import norm\n",
        "\n",
        "alpha = 0.1\n",
        "mu_0 = 23\n",
        "amostra = [27, 24, 21, 25, 26, 22]\n",
        "x_bar = np.mean(amostra)\n",
        "\n",
        "# Imprimir a média amostral\n",
        "print(f\"Média amostral: {x_bar:.2f}\")\n",
        "\n",
        "sigma = (np.sqrt(4.86))\n",
        "\n",
        "# Calcular a estatística do teste\n",
        "z_score = (x_bar-mu_0)/(sigma/np.sqrt(len(amostra)))\n",
        "print(f\"Estatística do teste (z): {z_score:.4f}\")\n",
        "\n",
        "# Computar o p-valor (teste unicaudal à esquerda)\n",
        "p_value = norm.cdf(z_score) # pois H_a: mu < 23 (à esquerda)\n",
        "\n",
        "# Imprimir o p-valor\n",
        "print(f\"p-valor: {p_value:.4f}\")\n",
        "\n",
        "# Interpretar o resultado\n",
        "if p_value < alpha:\n",
        "    print(\"Há evidência para rejeitar a hipótese nula.\")\n",
        "else:\n",
        "    print(\"Não há evidência para rejeitar a hipótese nula.\")"
      ]
    },
    {
      "cell_type": "markdown",
      "metadata": {},
      "source": [
        "**Conclusão**\n",
        "\n",
        "No nível de significância de 10%, não podemos aceitar a afirmação do fabricante de que o índice médio de nicotina está abaixo de 23 mg por cigarro, ao nível de significância de 10%. Na verdade, a evidência amostral sugere que o índice médio é maior que 23 mg, pois a média amostral (24,17 mg) é maior que o valor de referência."
      ]
    },
    {
      "cell_type": "markdown",
      "metadata": {
        "id": "ERxAGOk7rCA-"
      },
      "source": [
        "#### Exemplo 3\n",
        "\n",
        "(Fonte: Morettin & Bussab, Estatística Básica 5a edição, pág 334.)\n",
        "Operários de uma empresa são treinados a operarem uma máquina, cujo tempo X (em horas) de aprendizado é anotado.\n",
        "Observou-se que X segue de perto a distribuição N(25, 100).\n",
        "Uma nova técnica de ensino, que supostamente melhora o tempo de aprendizado, foi testada em 16 novos empregados, cujo tempo médio de aprendizado foi de 20,5 horas.\n",
        "Você diria, no nível significância de 5%, que a nova técnica é melhor que a anterior?"
      ]
    },
    {
      "cell_type": "markdown",
      "metadata": {
        "id": "pK_t8MhyimvJ"
      },
      "source": [
        "1. Formulação das hipóteses nula e alternativa\n",
        "- $H_0$: $\\mu = 25$\n",
        "- $H_a$: $\\mu < 25$\n",
        "\n",
        "2. Computar a estatística de teste ($z$-score)\n",
        "\n",
        "$$\n",
        "Z = \\frac{\\overline{x} - \\mu_0}{\\sigma/\\sqrt{n}} = \\frac{20.5 - 25}{10/4} = -1.8\n",
        "$$\n",
        "\n",
        "3. Computar o $p$-valor\n",
        "\n",
        "$$\n",
        "p = \\Pr(Z < -1.8) \\approx 0.035\n",
        "$$\n",
        "\n",
        "4. Interpretação de resultado.\n",
        "\n",
        "$$\n",
        "\\alpha = 0.05\n",
        "$$\n",
        "\n",
        "Conclusão: há evidência para rejeitar a hipótese nula. Há evidência para afirmar que o treinamento foi efetivo."
      ]
    },
    {
      "cell_type": "code",
      "execution_count": 13,
      "metadata": {
        "colab": {
          "base_uri": "https://localhost:8080/"
        },
        "id": "M_Eh0yExjlV7",
        "outputId": "f6b8c15e-8af8-43d6-e1a9-3fb91691cd20"
      },
      "outputs": [
        {
          "name": "stdout",
          "output_type": "stream",
          "text": [
            "estatística do teste: -1.8\n",
            "p-valor: 0.03593031911292579\n",
            "Há evidência para afirmar que o treinamento foi efetivo.\n"
          ]
        }
      ],
      "source": [
        "import numpy as np\n",
        "from scipy.stats import norm\n",
        "\n",
        "alpha = 0.05\n",
        "mu_0 = 25\n",
        "x_bar = 20.5\n",
        "n = 16\n",
        "\n",
        "sigma = np.sqrt(100)\n",
        "\n",
        "# Calcular a estatística do teste\n",
        "z_score = (x_bar-mu_0)/(sigma/np.sqrt(n))\n",
        "print(f'estatística do teste: {z_score}')\n",
        "\n",
        "# Computar o p-valor (teste unicaudal à esquerda)\n",
        "p_value = norm.cdf(z_score)\n",
        "print(f'p-valor: {p_value}')\n",
        "\n",
        "# Interpretar o resultado\n",
        "if p_value < alpha:\n",
        "    print(\"Há evidência para afirmar que o treinamento foi efetivo.\")\n",
        "else:\n",
        "    print(\"Não há evidência para afirmar que o treinamento foi efetivo.\")"
      ]
    },
    {
      "cell_type": "markdown",
      "metadata": {
        "id": "JZXaeKTxB64c"
      },
      "source": [
        "#### Exemplo 4\n",
        "\n",
        "(Fonte: http://www.r-tutor.com/elementary-statistics/hypothesis-testing/two-tailed-test-population-mean-known-variance)\n",
        "\n",
        "O peso médio dos pinguins-rei encontrados em uma dada região da Antártica no ano passado foi 15,4 kg.\n",
        "Em uma amostra de 35 pinguins coletada no mesmo período deste ano e na mesma região, o peso médio é 14,6 kg.\n",
        "Suponha que o desvio padrão populacional seja 2,5 kg.\n",
        "No nível de significância de 0,05, podemos rejeitar a hipótese nula de que o peso médio do pinguim não difere do ano passado?"
      ]
    },
    {
      "cell_type": "code",
      "execution_count": 14,
      "metadata": {
        "colab": {
          "base_uri": "https://localhost:8080/"
        },
        "id": "ZjTbeOveX-lr",
        "outputId": "f32ef232-9528-434a-cae2-2e8500729e4d"
      },
      "outputs": [
        {
          "name": "stdout",
          "output_type": "stream",
          "text": [
            "estatística do teste: -1.8931455305918787\n",
            "p-valor: 0.058338518686896344\n",
            "Não há evidência para rejeitar a hipótese nula.\n"
          ]
        }
      ],
      "source": [
        "import numpy as np\n",
        "\n",
        "alpha = 0.05\n",
        "x_bar = 14.6\n",
        "n = 35\n",
        "sigma = 2.5\n",
        "mu_zero = 15.4\n",
        "\n",
        "# Calcular a estatística do teste\n",
        "z_score = (x_bar - mu_zero)/ (sigma/np.sqrt(n))\n",
        "print(f'estatística do teste: {z_score}')\n",
        "\n",
        "# Computar o p-valor (teste bicaudal)\n",
        "p_value = 2 * norm.cdf(z_score)\n",
        "print(f'p-valor: {p_value}')\n",
        "\n",
        "# Interpretar o resultado\n",
        "if p_value < alpha:\n",
        "    print(\"Há evidência para rejeitar a hipótese nula.\")\n",
        "else:\n",
        "    print(\"Não há evidência para rejeitar a hipótese nula.\")"
      ]
    },
    {
      "cell_type": "markdown",
      "metadata": {
        "id": "Sc3SQFC5UTXQ"
      },
      "source": [
        "### Condições de aplicabilidade\n",
        "\n",
        "A seguir, as condições que devem ser verificadas para que o z-teste possa ser aplicado:\n",
        "\n",
        "- Valor de $\\sigma$ é conhecido (em vez de calculado a partir dos dados da amostra),\n",
        "- Ou a população é aproximadamente normal, ou amostra grande (n>30). No primeiro caso, devemos aplicar algum **teste de normalidade** para fazer a verificação.\n",
        "- Amostra aleatória simples da população,\n",
        "- Dados são válidos (i.e., amostra é IID - independente e identicamente distribuída).\n"
      ]
    }
  ],
  "metadata": {
    "colab": {
      "provenance": [],
      "toc_visible": true
    },
    "kernelspec": {
      "display_name": "gcc1625",
      "language": "python",
      "name": "python3"
    },
    "language_info": {
      "codemirror_mode": {
        "name": "ipython",
        "version": 3
      },
      "file_extension": ".py",
      "mimetype": "text/x-python",
      "name": "python",
      "nbconvert_exporter": "python",
      "pygments_lexer": "ipython3",
      "version": "3.13.2"
    }
  },
  "nbformat": 4,
  "nbformat_minor": 0
}
